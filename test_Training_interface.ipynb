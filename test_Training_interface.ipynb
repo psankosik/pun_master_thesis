{
 "cells": [
  {
   "cell_type": "code",
   "execution_count": 1,
   "metadata": {},
   "outputs": [],
   "source": [
    "from experiment.Experiment import Experiment\n",
    "from experiment.ExperimentSet import ExperimentSet\n",
    "from utils.read import read_UCR_dataset_name"
   ]
  },
  {
   "attachments": {},
   "cell_type": "markdown",
   "metadata": {},
   "source": [
    "### Experiment Class"
   ]
  },
  {
   "cell_type": "code",
   "execution_count": 5,
   "metadata": {},
   "outputs": [
    {
     "name": "stderr",
     "output_type": "stream",
     "text": [
      "OMP: Info #276: omp_set_nested routine deprecated, please use omp_set_max_active_levels instead.\n"
     ]
    }
   ],
   "source": [
    "from sktime.classification.kernel_based import RocketClassifier\n",
    "from time_series_augmentation.utils.augmentation import jitter"
   ]
  },
  {
   "cell_type": "code",
   "execution_count": 3,
   "metadata": {},
   "outputs": [
    {
     "name": "stdout",
     "output_type": "stream",
     "text": [
      "Active run_id: 280dbd41737b4ccfa518e2ef13b5975e\n"
     ]
    }
   ],
   "source": [
    "# BASELINE\n",
    "classifer = {'name':'rocket', 'function': RocketClassifier()}\n",
    "dataset = 'Adiac'\n",
    "training_one = Experiment(classifer, dataset)\n",
    "training_one.run_all()"
   ]
  },
  {
   "cell_type": "code",
   "execution_count": 4,
   "metadata": {},
   "outputs": [
    {
     "name": "stdout",
     "output_type": "stream",
     "text": [
      "Active run_id: 96190159941241e1a22e0166a523ce1c\n"
     ]
    }
   ],
   "source": [
    "# AUGMENTED\n",
    "classifer = {'name':'rocket', 'function': RocketClassifier()}\n",
    "dataset = 'Adiac'\n",
    "augment = {'name':'jitter', 'function': jitter, 'params': {'sigma': 0.05}}\n",
    "training_two = Experiment(classifer, dataset, augment)\n",
    "training_two.run_all()"
   ]
  },
  {
   "attachments": {},
   "cell_type": "markdown",
   "metadata": {},
   "source": [
    "### Experiment Set"
   ]
  },
  {
   "cell_type": "code",
   "execution_count": 6,
   "metadata": {},
   "outputs": [],
   "source": [
    "classifer = {'name':'rocket', 'function': RocketClassifier()}\n",
    "datasets = read_UCR_dataset_name()\n",
    "experiment_set = ExperimentSet(classifer, datasets)\n",
    "experiment_set.run_experiments()"
   ]
  },
  {
   "cell_type": "code",
   "execution_count": 7,
   "metadata": {},
   "outputs": [
    {
     "name": "stdout",
     "output_type": "stream",
     "text": [
      "Active run_id: bc87ecba5f574d37b65fe1b0fd97353c\n",
      "Active run_id: 9bafb70132c1481b85b1a54614f1a034\n",
      "Active run_id: 8ce9384e58664c4d8de372080ebcb731\n",
      "Active run_id: bbe35cf059ef46cd8d992fda3c29f87c\n",
      "Active run_id: f49b48e1b51748cc907dadab147f5691\n",
      "Active run_id: ef5c78452ae940caa62e7053c4e1d6e0\n",
      "Active run_id: 254cd23568ed4dafb6b019c05ccf0338\n",
      "Active run_id: 6d33dac1457f42f3a31072847ab3e054\n",
      "Active run_id: bb5822d32693433697595cd0ca880d9c\n",
      "Active run_id: 495b4e796177481595fa3e04be932457\n",
      "Active run_id: 38cd172b9ae34d65b0760da2492577b4\n",
      "Active run_id: a24ddf6d89054440a60483c4431d6447\n",
      "Active run_id: abfdbf9950cc469d97357037e4b59d12\n",
      "Active run_id: 9ff1c2536ee54d7d95939174d6ee1936\n",
      "Active run_id: d5a5d8888ea041dd9e304c7f5fae2241\n",
      "Active run_id: 83819ec54c024e419b9e6186dba06262\n",
      "Active run_id: 345a2ceebd3f4dbca95c23ae32f2fc2a\n",
      "Active run_id: f56e004ea9b9419b918d9656d93a3568\n",
      "Active run_id: 3526039081364f7588cf7bbd193281f9\n",
      "Active run_id: 7ab5e57fac7e4c97a79e136dbe42eefb\n",
      "Active run_id: d4245681251d463992884c93a5cc70f6\n",
      "Active run_id: 9fb38ccac75b40d19e81aead7b997cde\n",
      "Active run_id: 1d6fd4450d744fd0a5910ce0c986f900\n",
      "Active run_id: 3816e5f12bcf43d3ae30409c5307178b\n",
      "Active run_id: 95f89f8ad6164aceb97d872c09a3a217\n",
      "Active run_id: 327bd1a960c1486093b5b666b852760a\n"
     ]
    },
    {
     "name": "stderr",
     "output_type": "stream",
     "text": [
      "/Users/Pongpanod.Sa/miniconda3/envs/thesis3.10/lib/python3.10/site-packages/sklearn/metrics/_classification.py:1327: UndefinedMetricWarning: Precision and F-score are ill-defined and being set to 0.0 in labels with no predicted samples. Use `zero_division` parameter to control this behavior.\n",
      "  _warn_prf(average, modifier, msg_start, len(result))\n"
     ]
    },
    {
     "name": "stdout",
     "output_type": "stream",
     "text": [
      "Active run_id: 7bf2db107c92432a8ede52f5aec01634\n",
      "Active run_id: 2ea76ae650a6481aa1ecdcc48ab2b25d\n",
      "Active run_id: c66dbca7dad64eb782384b06c6b8129b\n",
      "Active run_id: 1de6b773c05d43c6aeb77b4a991a6167\n",
      "Active run_id: 61a33df5f5724c4193c5cf435376d101\n",
      "Active run_id: f2ab9ebd6d9d43d498ade02266d5880b\n",
      "Active run_id: 1b45f11a2cfd4201bb63dee202bdf9d4\n",
      "Active run_id: 5f4f795adb1c4f3ea78c18b87f54a6c1\n",
      "Active run_id: 23e42e4ee32643c7928893ef4066357a\n",
      "Active run_id: f668da86e3a04b378d69ef3848d14575\n",
      "Active run_id: 79eeff6f6cd24ad5a2a916951a05395d\n",
      "Active run_id: 65d14e11cfc8444abf6b3693bcd06248\n",
      "Active run_id: 8c3823451d8b4e5793a73f68c6300d0a\n",
      "Active run_id: 4e96316b610e4840ab611c1e75ccad55\n",
      "Active run_id: 096aa2ef19a242848dc88bf310f7bd1c\n",
      "Active run_id: 99bf88c4086042fa800439d684177a04\n",
      "Active run_id: 8ee26aff3f2d4f56b0b1cab36632de97\n",
      "Active run_id: d81dfcc3905d49bd918d875ddf02fabf\n",
      "Active run_id: 3bd67140b9624ebd85791b07e9cbc796\n",
      "Active run_id: 8c5200b1db834ef6845cfecb12376fcc\n",
      "Active run_id: a0e036ef55a9482494988d40c98f50e1\n",
      "Active run_id: d4578785cd5c4b138a0cc318fae85c88\n",
      "Active run_id: c777bc6c6210422ba8611a6d98071bbd\n",
      "Active run_id: 9269a82713b24b6283223bfbc95893bf\n",
      "Active run_id: e53e38a4bd8a4f88aea156c94db08b12\n",
      "Active run_id: 1c13f869e3284fdeb88a1373d9126548\n",
      "Active run_id: 8c967de1195947728789729bf5b34034\n"
     ]
    },
    {
     "name": "stderr",
     "output_type": "stream",
     "text": [
      "/Users/Pongpanod.Sa/miniconda3/envs/thesis3.10/lib/python3.10/site-packages/sklearn/metrics/_classification.py:1327: UndefinedMetricWarning: Precision and F-score are ill-defined and being set to 0.0 in labels with no predicted samples. Use `zero_division` parameter to control this behavior.\n",
      "  _warn_prf(average, modifier, msg_start, len(result))\n"
     ]
    },
    {
     "name": "stdout",
     "output_type": "stream",
     "text": [
      "Active run_id: 92af695628cc43228dfebf2787360784\n",
      "Active run_id: ff5d67c90e684224a0e4632ebb02aa50\n",
      "Active run_id: 74f7610382de49338d32e34de4c71ba4\n",
      "Active run_id: 8363a391848d43458d231b66bd255e69\n",
      "Active run_id: dafa4035364b43ba95c9fdd4d01c1a1d\n",
      "Active run_id: 39086630e0ad48a6b345adfe325bbeec\n",
      "Active run_id: e4237fdf248a4bba96d96fe30dd30450\n",
      "Active run_id: bb9767ac6a0545c89e61ffd466ed5cbb\n",
      "Active run_id: 8bab5f3951be44f581f3429902918de9\n",
      "Active run_id: 003544023efc454992acdc69330203d6\n",
      "Active run_id: b260f2df655d4982b15793ab153db7bd\n",
      "Active run_id: 3c6b7e4d4f2d4df88036ef55f1305c24\n",
      "Active run_id: 68026abbbfcc4d7091b84ad92e49a4cc\n",
      "Active run_id: c59a14249ccb4d418ccb57c99592294e\n",
      "Active run_id: 2dbc8122e5934733ba747a844fe136d9\n",
      "Active run_id: 4811149569e34a08bfd7906851012f73\n",
      "Active run_id: ff6cc41d8d3a4ec48abc59e5421c3054\n",
      "Active run_id: 5bd4fdf4161b43eca1abdc91ad994245\n",
      "Active run_id: 56a73936a59b4e16adc33311d256eb5d\n",
      "Active run_id: 229fe60bd9954aedbbfc3c4ef03d5fcb\n",
      "Active run_id: 4d4b74b9edfa43ab9a938128c498e24e\n",
      "Active run_id: a5fbe3fae10e479ebe4480cb3d950289\n",
      "Active run_id: 5cc8bbcec65749dd9da226b23bc3c1e2\n",
      "Active run_id: 067d53db14e04d28b3ae607ebd845af8\n",
      "Active run_id: 09d307fe275f43ea8f07945123363383\n",
      "Active run_id: 540810297b4c4136b032d1870a937c94\n",
      "Active run_id: 4dd7b1decd9b400d9426cc856cf38741\n",
      "Active run_id: 9a02195692464f7fa58e051d75a6a750\n"
     ]
    },
    {
     "name": "stderr",
     "output_type": "stream",
     "text": [
      "/Users/Pongpanod.Sa/miniconda3/envs/thesis3.10/lib/python3.10/site-packages/sklearn/metrics/_classification.py:1327: UndefinedMetricWarning: Precision and F-score are ill-defined and being set to 0.0 in labels with no predicted samples. Use `zero_division` parameter to control this behavior.\n",
      "  _warn_prf(average, modifier, msg_start, len(result))\n"
     ]
    },
    {
     "name": "stdout",
     "output_type": "stream",
     "text": [
      "Active run_id: 328836b54098415b9a458b44d4c625a7\n",
      "Active run_id: f67f3573304e4e979f3e898ab8d4ed7a\n",
      "Active run_id: 093fb762b768471aa5e20297d047fa9d\n",
      "Active run_id: e475a359b82a4d2a8c5f2e7397b00429\n",
      "Active run_id: ad71bece3e784de0a0c55568b51a8aa7\n"
     ]
    },
    {
     "name": "stderr",
     "output_type": "stream",
     "text": [
      "/Users/Pongpanod.Sa/miniconda3/envs/thesis3.10/lib/python3.10/site-packages/numpy/core/shape_base.py:65: VisibleDeprecationWarning: Creating an ndarray from ragged nested sequences (which is a list-or-tuple of lists-or-tuples-or ndarrays with different lengths or shapes) is deprecated. If you meant to do this, you must specify 'dtype=object' when creating the ndarray.\n",
      "  ary = asanyarray(ary)\n"
     ]
    },
    {
     "ename": "ValueError",
     "evalue": "Tabularization failed, it's possible that not all series were of equal length",
     "output_type": "error",
     "traceback": [
      "\u001b[0;31m---------------------------------------------------------------------------\u001b[0m",
      "\u001b[0;31mValueError\u001b[0m                                Traceback (most recent call last)",
      "\u001b[1;32m/Users/Pongpanod.Sa/Desktop/cu/thesis/coding/pun_master_thesis/test_Training_interface.ipynb Cell 8\u001b[0m in \u001b[0;36m<cell line: 1>\u001b[0;34m()\u001b[0m\n\u001b[0;32m----> <a href='vscode-notebook-cell:/Users/Pongpanod.Sa/Desktop/cu/thesis/coding/pun_master_thesis/test_Training_interface.ipynb#X20sZmlsZQ%3D%3D?line=0'>1</a>\u001b[0m experiment_set\u001b[39m.\u001b[39;49mrun_experiments()\n",
      "File \u001b[0;32m~/Desktop/cu/thesis/coding/pun_master_thesis/experiment/ExperimentSet.py:15\u001b[0m, in \u001b[0;36mExperimentSet.run_experiments\u001b[0;34m(self)\u001b[0m\n\u001b[1;32m     13\u001b[0m dataset \u001b[39m=\u001b[39m i\n\u001b[1;32m     14\u001b[0m experiments \u001b[39m=\u001b[39m Experiment(classifer, dataset)\n\u001b[0;32m---> 15\u001b[0m experiments\u001b[39m.\u001b[39;49mrun_all()\n",
      "File \u001b[0;32m~/Desktop/cu/thesis/coding/pun_master_thesis/experiment/Experiment.py:79\u001b[0m, in \u001b[0;36mExperiment.run_all\u001b[0;34m(self)\u001b[0m\n\u001b[1;32m     78\u001b[0m \u001b[39mdef\u001b[39;00m \u001b[39mrun_all\u001b[39m(\u001b[39mself\u001b[39m):\n\u001b[0;32m---> 79\u001b[0m     \u001b[39mself\u001b[39;49m\u001b[39m.\u001b[39;49mload_UCR_dataset()\n\u001b[1;32m     80\u001b[0m     \u001b[39mself\u001b[39m\u001b[39m.\u001b[39maugmentation()\n\u001b[1;32m     81\u001b[0m     \u001b[39mself\u001b[39m\u001b[39m.\u001b[39mtrain_classier()\n",
      "File \u001b[0;32m~/Desktop/cu/thesis/coding/pun_master_thesis/experiment/Experiment.py:22\u001b[0m, in \u001b[0;36mExperiment.load_UCR_dataset\u001b[0;34m(self, dataset)\u001b[0m\n\u001b[1;32m     20\u001b[0m \u001b[39mdef\u001b[39;00m \u001b[39mload_UCR_dataset\u001b[39m(\u001b[39mself\u001b[39m, dataset:\u001b[39mstr\u001b[39m\u001b[39m=\u001b[39m\u001b[39mNone\u001b[39;00m):\n\u001b[1;32m     21\u001b[0m     dataset_name \u001b[39m=\u001b[39m \u001b[39mself\u001b[39m\u001b[39m.\u001b[39mdataset \u001b[39mif\u001b[39;00m \u001b[39mself\u001b[39m\u001b[39m.\u001b[39mdataset \u001b[39melse\u001b[39;00m dataset\n\u001b[0;32m---> 22\u001b[0m     x_train, y_train \u001b[39m=\u001b[39m load_UCR_UEA_dataset(\n\u001b[1;32m     23\u001b[0m         dataset_name, split\u001b[39m=\u001b[39;49m\u001b[39m\"\u001b[39;49m\u001b[39mtrain\u001b[39;49m\u001b[39m\"\u001b[39;49m, return_X_y\u001b[39m=\u001b[39;49m\u001b[39mTrue\u001b[39;49;00m, return_type\u001b[39m=\u001b[39;49m\u001b[39m\"\u001b[39;49m\u001b[39mnumpy2D\u001b[39;49m\u001b[39m\"\u001b[39;49m\n\u001b[1;32m     24\u001b[0m     )\n\u001b[1;32m     25\u001b[0m     x_test, y_test \u001b[39m=\u001b[39m load_UCR_UEA_dataset(\n\u001b[1;32m     26\u001b[0m         dataset_name, split\u001b[39m=\u001b[39m\u001b[39m\"\u001b[39m\u001b[39mtest\u001b[39m\u001b[39m\"\u001b[39m, return_X_y\u001b[39m=\u001b[39m\u001b[39mTrue\u001b[39;00m, return_type\u001b[39m=\u001b[39m\u001b[39m\"\u001b[39m\u001b[39mnumpy2D\u001b[39m\u001b[39m\"\u001b[39m\n\u001b[1;32m     27\u001b[0m     )\n\u001b[1;32m     28\u001b[0m     \u001b[39m# TODO: Data Inconsistency with interface\u001b[39;00m\n",
      "File \u001b[0;32m~/miniconda3/envs/thesis3.10/lib/python3.10/site-packages/sktime/datasets/_single_problem_loaders.py:119\u001b[0m, in \u001b[0;36mload_UCR_UEA_dataset\u001b[0;34m(name, split, return_X_y, return_type, extract_path)\u001b[0m\n\u001b[1;32m     62\u001b[0m \u001b[39mdef\u001b[39;00m \u001b[39mload_UCR_UEA_dataset\u001b[39m(\n\u001b[1;32m     63\u001b[0m     name, split\u001b[39m=\u001b[39m\u001b[39mNone\u001b[39;00m, return_X_y\u001b[39m=\u001b[39m\u001b[39mTrue\u001b[39;00m, return_type\u001b[39m=\u001b[39m\u001b[39mNone\u001b[39;00m, extract_path\u001b[39m=\u001b[39m\u001b[39mNone\u001b[39;00m\n\u001b[1;32m     64\u001b[0m ):\n\u001b[1;32m     65\u001b[0m     \u001b[39m\"\"\"Load dataset from UCR UEA time series archive.\u001b[39;00m\n\u001b[1;32m     66\u001b[0m \n\u001b[1;32m     67\u001b[0m \u001b[39m    Downloads and extracts dataset if not already downloaded. Data is assumed to be\u001b[39;00m\n\u001b[0;32m   (...)\u001b[0m\n\u001b[1;32m    117\u001b[0m \u001b[39m    >>> X, y = load_UCR_UEA_dataset(name=\"ArrowHead\")\u001b[39;00m\n\u001b[1;32m    118\u001b[0m \u001b[39m    \"\"\"\u001b[39;00m\n\u001b[0;32m--> 119\u001b[0m     \u001b[39mreturn\u001b[39;00m _load_dataset(name, split, return_X_y, return_type, extract_path)\n",
      "File \u001b[0;32m~/miniconda3/envs/thesis3.10/lib/python3.10/site-packages/sktime/datasets/_data_io.py:213\u001b[0m, in \u001b[0;36m_load_dataset\u001b[0;34m(name, split, return_X_y, return_type, extract_path)\u001b[0m\n\u001b[1;32m    206\u001b[0m         \u001b[39mexcept\u001b[39;00m zipfile\u001b[39m.\u001b[39mBadZipFile \u001b[39mas\u001b[39;00m e:\n\u001b[1;32m    207\u001b[0m             \u001b[39mraise\u001b[39;00m \u001b[39mValueError\u001b[39;00m(\n\u001b[1;32m    208\u001b[0m                 \u001b[39mf\u001b[39m\u001b[39m\"\u001b[39m\u001b[39mInvalid dataset name =\u001b[39m\u001b[39m{\u001b[39;00mname\u001b[39m}\u001b[39;00m\u001b[39m is not available on extract path =\u001b[39m\u001b[39m\"\u001b[39m\n\u001b[1;32m    209\u001b[0m                 \u001b[39mf\u001b[39m\u001b[39m\"\u001b[39m\u001b[39m{\u001b[39;00mextract_path\u001b[39m}\u001b[39;00m\u001b[39m. Nor is it available on \u001b[39m\u001b[39m\"\u001b[39m\n\u001b[1;32m    210\u001b[0m                 \u001b[39mf\u001b[39m\u001b[39m\"\u001b[39m\u001b[39mhttps://timeseriesclassification.com/.\u001b[39m\u001b[39m\"\u001b[39m,\n\u001b[1;32m    211\u001b[0m             ) \u001b[39mfrom\u001b[39;00m \u001b[39me\u001b[39;00m\n\u001b[0;32m--> 213\u001b[0m \u001b[39mreturn\u001b[39;00m _load_provided_dataset(\n\u001b[1;32m    214\u001b[0m     name, split, return_X_y, return_type, local_module, local_dirname\n\u001b[1;32m    215\u001b[0m )\n",
      "File \u001b[0;32m~/miniconda3/envs/thesis3.10/lib/python3.10/site-packages/sktime/datasets/_data_io.py:287\u001b[0m, in \u001b[0;36m_load_provided_dataset\u001b[0;34m(name, split, return_X_y, return_type, local_module, local_dirname)\u001b[0m\n\u001b[1;32m    285\u001b[0m return_type \u001b[39m=\u001b[39m _alias_mtype_check(return_type)\n\u001b[1;32m    286\u001b[0m \u001b[39mif\u001b[39;00m return_X_y:\n\u001b[0;32m--> 287\u001b[0m     X \u001b[39m=\u001b[39m convert(X, from_type\u001b[39m=\u001b[39;49m\u001b[39m\"\u001b[39;49m\u001b[39mnested_univ\u001b[39;49m\u001b[39m\"\u001b[39;49m, to_type\u001b[39m=\u001b[39;49mreturn_type)\n\u001b[1;32m    288\u001b[0m     \u001b[39mreturn\u001b[39;00m X, y\n\u001b[1;32m    289\u001b[0m \u001b[39melse\u001b[39;00m:\n",
      "File \u001b[0;32m~/miniconda3/envs/thesis3.10/lib/python3.10/site-packages/sktime/datatypes/_convert.py:172\u001b[0m, in \u001b[0;36mconvert\u001b[0;34m(obj, from_type, to_type, as_scitype, store, store_behaviour)\u001b[0m\n\u001b[1;32m    167\u001b[0m \u001b[39melse\u001b[39;00m:\n\u001b[1;32m    168\u001b[0m     \u001b[39mraise\u001b[39;00m \u001b[39mRuntimeError\u001b[39;00m(\n\u001b[1;32m    169\u001b[0m         \u001b[39m\"\u001b[39m\u001b[39mbug: unrechable condition error, store_behaviour has unexpected value\u001b[39m\u001b[39m\"\u001b[39m\n\u001b[1;32m    170\u001b[0m     )\n\u001b[0;32m--> 172\u001b[0m converted_obj \u001b[39m=\u001b[39m convert_dict[key](obj, store\u001b[39m=\u001b[39;49mstore)\n\u001b[1;32m    174\u001b[0m \u001b[39mreturn\u001b[39;00m converted_obj\n",
      "File \u001b[0;32m~/miniconda3/envs/thesis3.10/lib/python3.10/site-packages/sktime/datatypes/_panel/_convert.py:270\u001b[0m, in \u001b[0;36mfrom_nested_to_2d_np_array\u001b[0;34m(obj, store)\u001b[0m\n\u001b[1;32m    268\u001b[0m \u001b[39mdef\u001b[39;00m \u001b[39mfrom_nested_to_2d_np_array\u001b[39m(obj, store\u001b[39m=\u001b[39m\u001b[39mNone\u001b[39;00m):\n\u001b[0;32m--> 270\u001b[0m     \u001b[39mreturn\u001b[39;00m from_nested_to_2d_array(X\u001b[39m=\u001b[39;49mobj, return_numpy\u001b[39m=\u001b[39;49m\u001b[39mTrue\u001b[39;49;00m)\n",
      "File \u001b[0;32m~/miniconda3/envs/thesis3.10/lib/python3.10/site-packages/sktime/datatypes/_panel/_convert.py:223\u001b[0m, in \u001b[0;36mfrom_nested_to_2d_array\u001b[0;34m(X, return_numpy)\u001b[0m\n\u001b[1;32m    220\u001b[0m             \u001b[39mraise\u001b[39;00m\n\u001b[1;32m    222\u001b[0m     \u001b[39mif\u001b[39;00m Xt\u001b[39m.\u001b[39mndim \u001b[39m!=\u001b[39m \u001b[39m2\u001b[39m:\n\u001b[0;32m--> 223\u001b[0m         \u001b[39mraise\u001b[39;00m \u001b[39mValueError\u001b[39;00m(\n\u001b[1;32m    224\u001b[0m             \u001b[39m\"\u001b[39m\u001b[39mTabularization failed, it\u001b[39m\u001b[39m'\u001b[39m\u001b[39ms possible that not \u001b[39m\u001b[39m\"\u001b[39m\n\u001b[1;32m    225\u001b[0m             \u001b[39m\"\u001b[39m\u001b[39mall series were of equal length\u001b[39m\u001b[39m\"\u001b[39m\n\u001b[1;32m    226\u001b[0m         )\n\u001b[1;32m    228\u001b[0m \u001b[39melse\u001b[39;00m:\n\u001b[1;32m    229\u001b[0m     \u001b[39mraise\u001b[39;00m \u001b[39mValueError\u001b[39;00m(\n\u001b[1;32m    230\u001b[0m         \u001b[39mf\u001b[39m\u001b[39m\"\u001b[39m\u001b[39mExpected input is pandas Series or pandas DataFrame, \u001b[39m\u001b[39m\"\u001b[39m\n\u001b[1;32m    231\u001b[0m         \u001b[39mf\u001b[39m\u001b[39m\"\u001b[39m\u001b[39mbut found: \u001b[39m\u001b[39m{\u001b[39;00m\u001b[39mtype\u001b[39m(X)\u001b[39m}\u001b[39;00m\u001b[39m\"\u001b[39m\n\u001b[1;32m    232\u001b[0m     )\n",
      "\u001b[0;31mValueError\u001b[0m: Tabularization failed, it's possible that not all series were of equal length"
     ]
    }
   ],
   "source": [
    "experiment_set.run_experiments()"
   ]
  },
  {
   "cell_type": "code",
   "execution_count": null,
   "metadata": {},
   "outputs": [],
   "source": []
  }
 ],
 "metadata": {
  "kernelspec": {
   "display_name": "thesis3.10",
   "language": "python",
   "name": "python3"
  },
  "language_info": {
   "codemirror_mode": {
    "name": "ipython",
    "version": 3
   },
   "file_extension": ".py",
   "mimetype": "text/x-python",
   "name": "python",
   "nbconvert_exporter": "python",
   "pygments_lexer": "ipython3",
   "version": "3.10.4"
  },
  "orig_nbformat": 4,
  "vscode": {
   "interpreter": {
    "hash": "ffd4f62c38baa1ece4ec6c2534f3f788090e745d10d9094b86edc39a20217e26"
   }
  }
 },
 "nbformat": 4,
 "nbformat_minor": 2
}
