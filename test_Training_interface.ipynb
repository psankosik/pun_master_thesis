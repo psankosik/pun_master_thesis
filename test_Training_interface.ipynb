{
 "cells": [
  {
   "attachments": {},
   "cell_type": "markdown",
   "metadata": {},
   "source": [
    "# Training Interface"
   ]
  },
  {
   "attachments": {},
   "cell_type": "markdown",
   "metadata": {},
   "source": [
    "## Example"
   ]
  },
  {
   "cell_type": "code",
   "execution_count": 20,
   "metadata": {},
   "outputs": [],
   "source": [
    "from experiment.Experiment import Experiment\n",
    "from experiment.ExperimentSet import ExperimentSet\n",
    "from utils.read import read_UCR_dataset_name\n",
    "\n",
    "from sktime.classification.kernel_based import RocketClassifier\n",
    "from time_series_augmentation.utils.augmentation import jitter, scaling"
   ]
  },
  {
   "attachments": {},
   "cell_type": "markdown",
   "metadata": {},
   "source": [
    "### Experiment Class"
   ]
  },
  {
   "cell_type": "code",
   "execution_count": null,
   "metadata": {},
   "outputs": [
    {
     "name": "stdout",
     "output_type": "stream",
     "text": [
      "Active run_id: 27f8b9624c0e49adba1e88c4de96fcea\n"
     ]
    }
   ],
   "source": [
    "# BASELINE\n",
    "variation = 'minirocket'\n",
    "classifer = {'name':variation, 'function': RocketClassifier(rocket_transform=variation)}\n",
    "dataset = 'Adiac'\n",
    "training_one = Experiment(classifer, dataset)\n",
    "training_one.run_all()"
   ]
  },
  {
   "cell_type": "code",
   "execution_count": 11,
   "metadata": {},
   "outputs": [
    {
     "name": "stdout",
     "output_type": "stream",
     "text": [
      "Active run_id: c062e3dea15e49c3b289a3abe4238bca\n"
     ]
    },
    {
     "name": "stderr",
     "output_type": "stream",
     "text": [
      "/Users/Pongpanod.Sa/miniconda3/envs/thesis3.10/lib/python3.10/site-packages/sklearn/metrics/_classification.py:1327: UndefinedMetricWarning: Precision and F-score are ill-defined and being set to 0.0 in labels with no predicted samples. Use `zero_division` parameter to control this behavior.\n",
      "  _warn_prf(average, modifier, msg_start, len(result))\n"
     ]
    }
   ],
   "source": [
    "# AUGMENTED\n",
    "variation = 'minirocket'\n",
    "classifer = {'name':variation, 'function': RocketClassifier(rocket_transform=variation)}\n",
    "dataset = 'Adiac'\n",
    "augment = {'name':'jitter', 'function': jitter, 'params': {'sigma': 0.05}}\n",
    "training_two = Experiment(classifer, dataset, augment)\n",
    "training_two.run_all()"
   ]
  },
  {
   "attachments": {},
   "cell_type": "markdown",
   "metadata": {},
   "source": [
    "### Experiment Set"
   ]
  },
  {
   "cell_type": "code",
   "execution_count": 2,
   "metadata": {},
   "outputs": [],
   "source": [
    "# BASELINE\n",
    "variation = 'minirocket'\n",
    "classifer = {'name':variation, 'function': RocketClassifier(rocket_transform=variation)}\n",
    "datasets = read_UCR_dataset_name()\n",
    "experiment_set = ExperimentSet(classifer, datasets)"
   ]
  },
  {
   "cell_type": "code",
   "execution_count": null,
   "metadata": {},
   "outputs": [],
   "source": [
    "experiment_set.run_all()"
   ]
  },
  {
   "cell_type": "code",
   "execution_count": 15,
   "metadata": {},
   "outputs": [],
   "source": [
    "# AUGMENTED\n",
    "variation = 'minirocket'\n",
    "classifer = {'name':variation, 'function': RocketClassifier(rocket_transform=variation)}\n",
    "datasets = read_UCR_dataset_name()\n",
    "augment = {'name':'jitter', 'function': jitter, 'params': {'sigma': 0.05}}\n",
    "experiment_set = ExperimentSet(classifer, dataset, augment)"
   ]
  },
  {
   "cell_type": "code",
   "execution_count": 17,
   "metadata": {},
   "outputs": [
    {
     "ename": "ValueError",
     "evalue": "Invalid dataset name =A is not available on extract path =None. Nor is it available on https://timeseriesclassification.com/.",
     "output_type": "error",
     "traceback": [
      "\u001b[0;31m---------------------------------------------------------------------------\u001b[0m",
      "\u001b[0;31mBadZipFile\u001b[0m                                Traceback (most recent call last)",
      "File \u001b[0;32m~/miniconda3/envs/thesis3.10/lib/python3.10/site-packages/sktime/datasets/_data_io.py:102\u001b[0m, in \u001b[0;36m_download_and_extract\u001b[0;34m(url, extract_path)\u001b[0m\n\u001b[1;32m    101\u001b[0m     os\u001b[39m.\u001b[39mmakedirs(extract_path)\n\u001b[0;32m--> 102\u001b[0m zipfile\u001b[39m.\u001b[39;49mZipFile(zip_file_name, \u001b[39m\"\u001b[39;49m\u001b[39mr\u001b[39;49m\u001b[39m\"\u001b[39;49m)\u001b[39m.\u001b[39mextractall(extract_path)\n\u001b[1;32m    103\u001b[0m shutil\u001b[39m.\u001b[39mrmtree(dl_dir)\n",
      "File \u001b[0;32m~/miniconda3/envs/thesis3.10/lib/python3.10/zipfile.py:1267\u001b[0m, in \u001b[0;36mZipFile.__init__\u001b[0;34m(self, file, mode, compression, allowZip64, compresslevel, strict_timestamps)\u001b[0m\n\u001b[1;32m   1266\u001b[0m \u001b[39mif\u001b[39;00m mode \u001b[39m==\u001b[39m \u001b[39m'\u001b[39m\u001b[39mr\u001b[39m\u001b[39m'\u001b[39m:\n\u001b[0;32m-> 1267\u001b[0m     \u001b[39mself\u001b[39;49m\u001b[39m.\u001b[39;49m_RealGetContents()\n\u001b[1;32m   1268\u001b[0m \u001b[39melif\u001b[39;00m mode \u001b[39min\u001b[39;00m (\u001b[39m'\u001b[39m\u001b[39mw\u001b[39m\u001b[39m'\u001b[39m, \u001b[39m'\u001b[39m\u001b[39mx\u001b[39m\u001b[39m'\u001b[39m):\n\u001b[1;32m   1269\u001b[0m     \u001b[39m# set the modified flag so central directory gets written\u001b[39;00m\n\u001b[1;32m   1270\u001b[0m     \u001b[39m# even if no files are added to the archive\u001b[39;00m\n",
      "File \u001b[0;32m~/miniconda3/envs/thesis3.10/lib/python3.10/zipfile.py:1334\u001b[0m, in \u001b[0;36mZipFile._RealGetContents\u001b[0;34m(self)\u001b[0m\n\u001b[1;32m   1333\u001b[0m \u001b[39mif\u001b[39;00m \u001b[39mnot\u001b[39;00m endrec:\n\u001b[0;32m-> 1334\u001b[0m     \u001b[39mraise\u001b[39;00m BadZipFile(\u001b[39m\"\u001b[39m\u001b[39mFile is not a zip file\u001b[39m\u001b[39m\"\u001b[39m)\n\u001b[1;32m   1335\u001b[0m \u001b[39mif\u001b[39;00m \u001b[39mself\u001b[39m\u001b[39m.\u001b[39mdebug \u001b[39m>\u001b[39m \u001b[39m1\u001b[39m:\n",
      "\u001b[0;31mBadZipFile\u001b[0m: File is not a zip file",
      "\nDuring handling of the above exception, another exception occurred:\n",
      "\u001b[0;31mBadZipFile\u001b[0m                                Traceback (most recent call last)",
      "File \u001b[0;32m~/miniconda3/envs/thesis3.10/lib/python3.10/site-packages/sktime/datasets/_data_io.py:202\u001b[0m, in \u001b[0;36m_load_dataset\u001b[0;34m(name, split, return_X_y, return_type, extract_path)\u001b[0m\n\u001b[1;32m    201\u001b[0m \u001b[39mtry\u001b[39;00m:\n\u001b[0;32m--> 202\u001b[0m     _download_and_extract(\n\u001b[1;32m    203\u001b[0m         url,\n\u001b[1;32m    204\u001b[0m         extract_path\u001b[39m=\u001b[39;49mextract_path,\n\u001b[1;32m    205\u001b[0m     )\n\u001b[1;32m    206\u001b[0m \u001b[39mexcept\u001b[39;00m zipfile\u001b[39m.\u001b[39mBadZipFile \u001b[39mas\u001b[39;00m e:\n",
      "File \u001b[0;32m~/miniconda3/envs/thesis3.10/lib/python3.10/site-packages/sktime/datasets/_data_io.py:109\u001b[0m, in \u001b[0;36m_download_and_extract\u001b[0;34m(url, extract_path)\u001b[0m\n\u001b[1;32m    108\u001b[0m     shutil\u001b[39m.\u001b[39mrmtree(extract_path)\n\u001b[0;32m--> 109\u001b[0m \u001b[39mraise\u001b[39;00m zipfile\u001b[39m.\u001b[39mBadZipFile(\n\u001b[1;32m    110\u001b[0m     \u001b[39m\"\u001b[39m\u001b[39mCould not unzip dataset. Please make sure the URL is valid.\u001b[39m\u001b[39m\"\u001b[39m\n\u001b[1;32m    111\u001b[0m )\n",
      "\u001b[0;31mBadZipFile\u001b[0m: Could not unzip dataset. Please make sure the URL is valid.",
      "\nThe above exception was the direct cause of the following exception:\n",
      "\u001b[0;31mValueError\u001b[0m                                Traceback (most recent call last)",
      "\u001b[1;32m/Users/Pongpanod.Sa/Desktop/cu/thesis/coding/pun_master_thesis/test_Training_interface.ipynb Cell 9\u001b[0m in \u001b[0;36m<cell line: 1>\u001b[0;34m()\u001b[0m\n\u001b[0;32m----> <a href='vscode-notebook-cell:/Users/Pongpanod.Sa/Desktop/cu/thesis/coding/pun_master_thesis/test_Training_interface.ipynb#X43sZmlsZQ%3D%3D?line=0'>1</a>\u001b[0m experiment_set\u001b[39m.\u001b[39;49mrun_all()\n",
      "File \u001b[0;32m~/Desktop/cu/thesis/coding/pun_master_thesis/experiment/ExperimentSet.py:15\u001b[0m, in \u001b[0;36mExperimentSet.run_all\u001b[0;34m(self)\u001b[0m\n\u001b[1;32m     13\u001b[0m dataset \u001b[39m=\u001b[39m i\n\u001b[1;32m     14\u001b[0m experiments \u001b[39m=\u001b[39m Experiment(classifer, dataset)\n\u001b[0;32m---> 15\u001b[0m experiments\u001b[39m.\u001b[39;49mrun_all()\n",
      "File \u001b[0;32m~/Desktop/cu/thesis/coding/pun_master_thesis/experiment/Experiment.py:79\u001b[0m, in \u001b[0;36mExperiment.run_all\u001b[0;34m(self)\u001b[0m\n\u001b[1;32m     78\u001b[0m \u001b[39mdef\u001b[39;00m \u001b[39mrun_all\u001b[39m(\u001b[39mself\u001b[39m):\n\u001b[0;32m---> 79\u001b[0m     \u001b[39mself\u001b[39;49m\u001b[39m.\u001b[39;49mload_UCR_dataset()\n\u001b[1;32m     80\u001b[0m     \u001b[39mself\u001b[39m\u001b[39m.\u001b[39maugmentation()\n\u001b[1;32m     81\u001b[0m     \u001b[39mself\u001b[39m\u001b[39m.\u001b[39mtrain_classier()\n",
      "File \u001b[0;32m~/Desktop/cu/thesis/coding/pun_master_thesis/experiment/Experiment.py:22\u001b[0m, in \u001b[0;36mExperiment.load_UCR_dataset\u001b[0;34m(self, dataset)\u001b[0m\n\u001b[1;32m     20\u001b[0m \u001b[39mdef\u001b[39;00m \u001b[39mload_UCR_dataset\u001b[39m(\u001b[39mself\u001b[39m, dataset:\u001b[39mstr\u001b[39m\u001b[39m=\u001b[39m\u001b[39mNone\u001b[39;00m):\n\u001b[1;32m     21\u001b[0m     dataset_name \u001b[39m=\u001b[39m \u001b[39mself\u001b[39m\u001b[39m.\u001b[39mdataset \u001b[39mif\u001b[39;00m \u001b[39mself\u001b[39m\u001b[39m.\u001b[39mdataset \u001b[39melse\u001b[39;00m dataset\n\u001b[0;32m---> 22\u001b[0m     x_train, y_train \u001b[39m=\u001b[39m load_UCR_UEA_dataset(\n\u001b[1;32m     23\u001b[0m         dataset_name, split\u001b[39m=\u001b[39;49m\u001b[39m\"\u001b[39;49m\u001b[39mtrain\u001b[39;49m\u001b[39m\"\u001b[39;49m, return_X_y\u001b[39m=\u001b[39;49m\u001b[39mTrue\u001b[39;49;00m, return_type\u001b[39m=\u001b[39;49m\u001b[39m\"\u001b[39;49m\u001b[39mnumpy2D\u001b[39;49m\u001b[39m\"\u001b[39;49m\n\u001b[1;32m     24\u001b[0m     )\n\u001b[1;32m     25\u001b[0m     x_test, y_test \u001b[39m=\u001b[39m load_UCR_UEA_dataset(\n\u001b[1;32m     26\u001b[0m         dataset_name, split\u001b[39m=\u001b[39m\u001b[39m\"\u001b[39m\u001b[39mtest\u001b[39m\u001b[39m\"\u001b[39m, return_X_y\u001b[39m=\u001b[39m\u001b[39mTrue\u001b[39;00m, return_type\u001b[39m=\u001b[39m\u001b[39m\"\u001b[39m\u001b[39mnumpy2D\u001b[39m\u001b[39m\"\u001b[39m\n\u001b[1;32m     27\u001b[0m     )\n\u001b[1;32m     28\u001b[0m     \u001b[39m# TODO: Data Inconsistency with interface\u001b[39;00m\n",
      "File \u001b[0;32m~/miniconda3/envs/thesis3.10/lib/python3.10/site-packages/sktime/datasets/_single_problem_loaders.py:119\u001b[0m, in \u001b[0;36mload_UCR_UEA_dataset\u001b[0;34m(name, split, return_X_y, return_type, extract_path)\u001b[0m\n\u001b[1;32m     62\u001b[0m \u001b[39mdef\u001b[39;00m \u001b[39mload_UCR_UEA_dataset\u001b[39m(\n\u001b[1;32m     63\u001b[0m     name, split\u001b[39m=\u001b[39m\u001b[39mNone\u001b[39;00m, return_X_y\u001b[39m=\u001b[39m\u001b[39mTrue\u001b[39;00m, return_type\u001b[39m=\u001b[39m\u001b[39mNone\u001b[39;00m, extract_path\u001b[39m=\u001b[39m\u001b[39mNone\u001b[39;00m\n\u001b[1;32m     64\u001b[0m ):\n\u001b[1;32m     65\u001b[0m     \u001b[39m\"\"\"Load dataset from UCR UEA time series archive.\u001b[39;00m\n\u001b[1;32m     66\u001b[0m \n\u001b[1;32m     67\u001b[0m \u001b[39m    Downloads and extracts dataset if not already downloaded. Data is assumed to be\u001b[39;00m\n\u001b[0;32m   (...)\u001b[0m\n\u001b[1;32m    117\u001b[0m \u001b[39m    >>> X, y = load_UCR_UEA_dataset(name=\"ArrowHead\")\u001b[39;00m\n\u001b[1;32m    118\u001b[0m \u001b[39m    \"\"\"\u001b[39;00m\n\u001b[0;32m--> 119\u001b[0m     \u001b[39mreturn\u001b[39;00m _load_dataset(name, split, return_X_y, return_type, extract_path)\n",
      "File \u001b[0;32m~/miniconda3/envs/thesis3.10/lib/python3.10/site-packages/sktime/datasets/_data_io.py:207\u001b[0m, in \u001b[0;36m_load_dataset\u001b[0;34m(name, split, return_X_y, return_type, extract_path)\u001b[0m\n\u001b[1;32m    202\u001b[0m             _download_and_extract(\n\u001b[1;32m    203\u001b[0m                 url,\n\u001b[1;32m    204\u001b[0m                 extract_path\u001b[39m=\u001b[39mextract_path,\n\u001b[1;32m    205\u001b[0m             )\n\u001b[1;32m    206\u001b[0m         \u001b[39mexcept\u001b[39;00m zipfile\u001b[39m.\u001b[39mBadZipFile \u001b[39mas\u001b[39;00m e:\n\u001b[0;32m--> 207\u001b[0m             \u001b[39mraise\u001b[39;00m \u001b[39mValueError\u001b[39;00m(\n\u001b[1;32m    208\u001b[0m                 \u001b[39mf\u001b[39m\u001b[39m\"\u001b[39m\u001b[39mInvalid dataset name =\u001b[39m\u001b[39m{\u001b[39;00mname\u001b[39m}\u001b[39;00m\u001b[39m is not available on extract path =\u001b[39m\u001b[39m\"\u001b[39m\n\u001b[1;32m    209\u001b[0m                 \u001b[39mf\u001b[39m\u001b[39m\"\u001b[39m\u001b[39m{\u001b[39;00mextract_path\u001b[39m}\u001b[39;00m\u001b[39m. Nor is it available on \u001b[39m\u001b[39m\"\u001b[39m\n\u001b[1;32m    210\u001b[0m                 \u001b[39mf\u001b[39m\u001b[39m\"\u001b[39m\u001b[39mhttps://timeseriesclassification.com/.\u001b[39m\u001b[39m\"\u001b[39m,\n\u001b[1;32m    211\u001b[0m             ) \u001b[39mfrom\u001b[39;00m \u001b[39me\u001b[39;00m\n\u001b[1;32m    213\u001b[0m \u001b[39mreturn\u001b[39;00m _load_provided_dataset(\n\u001b[1;32m    214\u001b[0m     name, split, return_X_y, return_type, local_module, local_dirname\n\u001b[1;32m    215\u001b[0m )\n",
      "\u001b[0;31mValueError\u001b[0m: Invalid dataset name =A is not available on extract path =None. Nor is it available on https://timeseriesclassification.com/."
     ]
    }
   ],
   "source": [
    "experiment_set.run_all()"
   ]
  },
  {
   "attachments": {},
   "cell_type": "markdown",
   "metadata": {},
   "source": [
    "## Experiment"
   ]
  },
  {
   "cell_type": "code",
   "execution_count": 1,
   "metadata": {},
   "outputs": [
    {
     "name": "stderr",
     "output_type": "stream",
     "text": [
      "OMP: Info #276: omp_set_nested routine deprecated, please use omp_set_max_active_levels instead.\n"
     ]
    }
   ],
   "source": [
    "import warnings\n",
    "warnings.filterwarnings(\"ignore\")\n",
    "\n",
    "from experiment.Experiment import Experiment\n",
    "from experiment.ExperimentSet import ExperimentSet\n",
    "from utils.read import read_UCR_dataset_name\n",
    "\n",
    "from sktime.classification.kernel_based import RocketClassifier\n",
    "from time_series_augmentation.utils.augmentation import jitter, scaling"
   ]
  },
  {
   "cell_type": "code",
   "execution_count": 2,
   "metadata": {},
   "outputs": [
    {
     "name": "stdout",
     "output_type": "stream",
     "text": [
      "Active run_id: 25ad37ce34d0433287f25226dca8db3b\n",
      "Active run_id: 6cebfc956b1e45048cde940fcf1de66a\n",
      "Active run_id: c8bea72d3f054737a51f480d3afe42e9\n",
      "Active run_id: c77b798bd786431bbaa0f7b5729fccf5\n",
      "Active run_id: 1ed73ce3f9b0425aa2e6c21c0699851c\n",
      "Active run_id: ba80d439b6bd4ab5bd9a47b74495ab1f\n",
      "Active run_id: 27cf045501f4491685d381dcab0daa8b\n",
      "Active run_id: 3568a947af8849b484227c6fab50f59a\n",
      "Active run_id: 5180a4a568f14537a2cb622ecdc83dca\n",
      "Active run_id: 726adfce958b4c329eb5cf0f5b99d890\n",
      "Active run_id: 94d8bc38fb8e4618b73460b6f2a49f2a\n",
      "Active run_id: ac67b8709e67406ea5db317ddd69f84b\n",
      "Active run_id: 327120db39e74405b7f0623316767d87\n",
      "Active run_id: 26a0ae071abd4974a45e841a37725618\n",
      "Active run_id: bfdaa1cf7a954c538526fefb35e8422e\n",
      "Active run_id: 060d6c8cd2b44a198415f0e4f5f67671\n",
      "Active run_id: 7d53696e36d64df58354019226c033d8\n",
      "Active run_id: 394b4d445f284a4eafc817ee65d5b81f\n",
      "Active run_id: c0870df473894c1daebef97edb0ea9a5\n",
      "Active run_id: 38dff8a0028e4a5294bc8a08c646d44a\n",
      "Active run_id: c40ce23e03804c0cb4da2987a48a12ff\n",
      "Active run_id: c97b41efc48d45ce87b5967fd5b1f36c\n",
      "Active run_id: 5f4a4d4da5da4a5cbdbc83ac4269b970\n",
      "Active run_id: a78f2dafd9794479aa4c12daf1843503\n",
      "Active run_id: 1e4cb14e0caf4a4e868c0b03dd288732\n",
      "Active run_id: b0db1d22e818410bbe312a173d639fee\n"
     ]
    },
    {
     "name": "stderr",
     "output_type": "stream",
     "text": [
      "/Users/Pongpanod.Sa/miniconda3/envs/thesis3.10/lib/python3.10/site-packages/sklearn/metrics/_classification.py:1327: UndefinedMetricWarning: Precision and F-score are ill-defined and being set to 0.0 in labels with no predicted samples. Use `zero_division` parameter to control this behavior.\n",
      "  _warn_prf(average, modifier, msg_start, len(result))\n"
     ]
    },
    {
     "name": "stdout",
     "output_type": "stream",
     "text": [
      "Active run_id: ca6495ecdaf044b88f7fcc73722684a2\n",
      "Active run_id: 7c8adc9a1aa542e58556fd69b180ca37\n",
      "Active run_id: b4e227bf96434b858aa08964d2d1bce9\n",
      "Active run_id: fb9b02e3c58c4050befceffed86d5f55\n",
      "Active run_id: dd2fa79bfce640308dbc860cd98a98a4\n",
      "Active run_id: 10159b98c6c04c578308f8cb7d6e5750\n",
      "Active run_id: 7cbf44d63d0742a89e385409794a502b\n",
      "Active run_id: 39e2b249556648088c78f0a061d507b7\n",
      "Active run_id: d3fe2e8812724f008e36ea48fa684a8d\n",
      "Active run_id: 575c417105244ab0b36b0d267a30bcce\n",
      "Active run_id: 26a8904588ce498b957a605465828bfc\n",
      "Active run_id: b683514291dc41c385188486735d7229\n",
      "Active run_id: f25ff1b0975f4fd88ec7fc8a31c7669a\n",
      "Active run_id: 22da95400ee944b8a6f2815301207d40\n",
      "Active run_id: b192986da7044b8899be60caca33af7a\n",
      "Active run_id: c29c60006c624586b2796c3497848306\n",
      "Active run_id: af32f517c86e4c85887036c73886c9cb\n",
      "Active run_id: 31f2812406224867aecca3f4e5a0f2dd\n",
      "Active run_id: 5fed4c7062a841278547d640d5b66e97\n",
      "Active run_id: 155ce17d8d1e4f6ab25d9a8767b77bc8\n",
      "Active run_id: e10c87f5cd9844989bc3abd18580d829\n",
      "Active run_id: 6ba942a301a245808330618c6d8b4a96\n",
      "Active run_id: 1f65e76957b44ae596724a84093d00ea\n",
      "Active run_id: 4f6f72f72cca4449bd1f05704045e32a\n",
      "Active run_id: c58a46565c7046609d26c8913f0203da\n",
      "Active run_id: f48f311ab7914b498991b48968322683\n",
      "Active run_id: d3d9f8809b7d4910bb31e918b2bc8aa3\n"
     ]
    },
    {
     "name": "stderr",
     "output_type": "stream",
     "text": [
      "/Users/Pongpanod.Sa/miniconda3/envs/thesis3.10/lib/python3.10/site-packages/sklearn/metrics/_classification.py:1327: UndefinedMetricWarning: Precision and F-score are ill-defined and being set to 0.0 in labels with no predicted samples. Use `zero_division` parameter to control this behavior.\n",
      "  _warn_prf(average, modifier, msg_start, len(result))\n"
     ]
    },
    {
     "name": "stdout",
     "output_type": "stream",
     "text": [
      "Active run_id: f8e9d5a9bf884c3eb891e0a930503e03\n",
      "Active run_id: 3f2c8ff29eaf4d80b83c4267af6f0d70\n",
      "Active run_id: 9a35d50489b74e529a74cffd210db319\n",
      "Active run_id: cbfdf87766d04358b555a37273749157\n",
      "Active run_id: 63a5aa20720f4d8f975581fedf5e3da0\n",
      "Active run_id: 753aff8a094246bd99f1bd80a3dbc559\n",
      "Active run_id: afb7255136904367a3f37f13b8ff5971\n",
      "Active run_id: 02bee6f7319e479c85fee067540acf3f\n",
      "Active run_id: 1bbbc00e65054cdd940d26672c4420c1\n",
      "Active run_id: a09a9dd904aa4c408ce856a51377c195\n",
      "Active run_id: c8d0ac6d752a4746b3c1bfa8abed2734\n",
      "Active run_id: 0cd6b822885d46b6993c173b84ade71a\n",
      "Active run_id: af22c8f4b90b489e9dbe16c24835328a\n",
      "Active run_id: ac64cc638ce04565a230e9ac535822db\n",
      "Active run_id: c6066549ee9a4c239e4e7f2e7e850ab2\n",
      "Active run_id: 85605f4f84a64d4483725c73a41d1d54\n",
      "Active run_id: b5aa7c220fcc48e19ff0d78af8e0ed0a\n",
      "Active run_id: 8c44fe4df9eb4b139618b7fb4aa13ffc\n",
      "Active run_id: 13d040e6496c482787482c160e40a650\n",
      "Active run_id: 4ec7c386cbd1461bb2596e309c8ce733\n",
      "Active run_id: 1f65a9b286864bce97b0ab48d2d1bfbc\n",
      "Active run_id: ea59bbd75bb14ef18869757a91b263d6\n",
      "Active run_id: 9972d4af2a4c484996e2d21ebedd31ef\n",
      "Active run_id: e59455323f40496c9626a8c4ae01c864\n",
      "Active run_id: 71e5d4c8690a409fbda629621a7ff05b\n",
      "Active run_id: 7eacbc7754a44f909fe61bc1d10ecb0a\n",
      "Active run_id: 8486d7ae125b4baead82f6b386911f06\n",
      "Active run_id: bebb43bcb0d44a809c2ed09229bff30f\n"
     ]
    },
    {
     "name": "stderr",
     "output_type": "stream",
     "text": [
      "/Users/Pongpanod.Sa/miniconda3/envs/thesis3.10/lib/python3.10/site-packages/sklearn/metrics/_classification.py:1327: UndefinedMetricWarning: Precision and F-score are ill-defined and being set to 0.0 in labels with no predicted samples. Use `zero_division` parameter to control this behavior.\n",
      "  _warn_prf(average, modifier, msg_start, len(result))\n"
     ]
    },
    {
     "name": "stdout",
     "output_type": "stream",
     "text": [
      "Active run_id: f1a7ec06ec4d446d9adc5509273ecf6c\n",
      "Active run_id: 2f9d7b9d7396400aaa95bd5e5e0d6ba0\n",
      "Active run_id: 099b463d0a63411ababf876a928e7fdb\n",
      "Active run_id: 81d7a80cc18a46799ab8b7fddb051704\n"
     ]
    }
   ],
   "source": [
    "# AUGMENTED Manual Loop\n",
    "variation = 'minirocket'\n",
    "classifer = {'name':variation, 'function': RocketClassifier(rocket_transform=variation)}\n",
    "dataset = read_UCR_dataset_name()\n",
    "augment = {'name':'scaling', 'function': scaling, 'params': {'sigma': 0.1}}\n",
    "for i in dataset:\n",
    "    training_two = Experiment(classifer, i, augment)\n",
    "    training_two.run_all()"
   ]
  },
  {
   "cell_type": "code",
   "execution_count": 2,
   "metadata": {},
   "outputs": [
    {
     "name": "stdout",
     "output_type": "stream",
     "text": [
      "minirocket, Adiac, (scaling, {'sigma': 0.5}) DONE\n",
      "minirocket, ArrowHead, (scaling, {'sigma': 0.5}) DONE\n",
      "minirocket, Beef, (scaling, {'sigma': 0.5}) DONE\n",
      "minirocket, BeetleFly, (scaling, {'sigma': 0.5}) DONE\n",
      "minirocket, Car, (scaling, {'sigma': 0.5}) DONE\n",
      "minirocket, ChlorineConcentration, (scaling, {'sigma': 0.5}) DONE\n",
      "minirocket, CinCECGTorso, (scaling, {'sigma': 0.5}) DONE\n",
      "minirocket, Computers, (scaling, {'sigma': 0.5}) DONE\n",
      "minirocket, DistalPhalanxOutlineAgeGroup, (scaling, {'sigma': 0.5}) DONE\n",
      "minirocket, DistalPhalanxOutlineCorrect, (scaling, {'sigma': 0.5}) DONE\n",
      "minirocket, DistalPhalanxTW, (scaling, {'sigma': 0.5}) DONE\n",
      "minirocket, Earthquakes, (scaling, {'sigma': 0.5}) DONE\n",
      "minirocket, ECG200, (scaling, {'sigma': 0.5}) DONE\n",
      "minirocket, ECG5000, (scaling, {'sigma': 0.5}) DONE\n",
      "minirocket, ElectricDevices, (scaling, {'sigma': 0.5}) DONE\n",
      "minirocket, FaceAll, (scaling, {'sigma': 0.5}) DONE\n"
     ]
    },
    {
     "name": "stderr",
     "output_type": "stream",
     "text": [
      "/Users/Pongpanod.Sa/miniconda3/envs/thesis3.10/lib/python3.10/site-packages/sklearn/metrics/_classification.py:1327: UndefinedMetricWarning: Precision and F-score are ill-defined and being set to 0.0 in labels with no predicted samples. Use `zero_division` parameter to control this behavior.\n",
      "  _warn_prf(average, modifier, msg_start, len(result))\n"
     ]
    },
    {
     "name": "stdout",
     "output_type": "stream",
     "text": [
      "minirocket, FiftyWords, (scaling, {'sigma': 0.5}) DONE\n",
      "minirocket, FordB, (scaling, {'sigma': 0.5}) DONE\n",
      "minirocket, Ham, (scaling, {'sigma': 0.5}) DONE\n",
      "minirocket, HandOutlines, (scaling, {'sigma': 0.5}) DONE\n",
      "minirocket, Haptics, (scaling, {'sigma': 0.5}) DONE\n",
      "minirocket, Herring, (scaling, {'sigma': 0.5}) DONE\n",
      "minirocket, InlineSkate, (scaling, {'sigma': 0.5}) DONE\n",
      "minirocket, InsectWingbeatSound, (scaling, {'sigma': 0.5}) DONE\n",
      "minirocket, Lightning2, (scaling, {'sigma': 0.5}) DONE\n",
      "minirocket, Mallat, (scaling, {'sigma': 0.5}) DONE\n",
      "minirocket, MedicalImages, (scaling, {'sigma': 0.5}) DONE\n",
      "minirocket, MiddlePhalanxOutlineAgeGroup, (scaling, {'sigma': 0.5}) DONE\n",
      "minirocket, MiddlePhalanxOutlineCorrect, (scaling, {'sigma': 0.5}) DONE\n",
      "minirocket, MiddlePhalanxTW, (scaling, {'sigma': 0.5}) DONE\n",
      "minirocket, MoteStrain, (scaling, {'sigma': 0.5}) DONE\n"
     ]
    },
    {
     "name": "stderr",
     "output_type": "stream",
     "text": [
      "/Users/Pongpanod.Sa/miniconda3/envs/thesis3.10/lib/python3.10/site-packages/sklearn/metrics/_classification.py:1327: UndefinedMetricWarning: Precision and F-score are ill-defined and being set to 0.0 in labels with no predicted samples. Use `zero_division` parameter to control this behavior.\n",
      "  _warn_prf(average, modifier, msg_start, len(result))\n"
     ]
    },
    {
     "name": "stdout",
     "output_type": "stream",
     "text": [
      "minirocket, OliveOil, (scaling, {'sigma': 0.5}) DONE\n",
      "minirocket, OSULeaf, (scaling, {'sigma': 0.5}) DONE\n",
      "minirocket, PhalangesOutlinesCorrect, (scaling, {'sigma': 0.5}) DONE\n"
     ]
    },
    {
     "name": "stderr",
     "output_type": "stream",
     "text": [
      "/Users/Pongpanod.Sa/miniconda3/envs/thesis3.10/lib/python3.10/site-packages/sklearn/metrics/_classification.py:1327: UndefinedMetricWarning: Precision and F-score are ill-defined and being set to 0.0 in labels with no predicted samples. Use `zero_division` parameter to control this behavior.\n",
      "  _warn_prf(average, modifier, msg_start, len(result))\n"
     ]
    },
    {
     "name": "stdout",
     "output_type": "stream",
     "text": [
      "minirocket, Phoneme, (scaling, {'sigma': 0.5}) DONE\n",
      "minirocket, ProximalPhalanxOutlineAgeGroup, (scaling, {'sigma': 0.5}) DONE\n",
      "minirocket, ProximalPhalanxOutlineCorrect, (scaling, {'sigma': 0.5}) DONE\n"
     ]
    },
    {
     "name": "stderr",
     "output_type": "stream",
     "text": [
      "/Users/Pongpanod.Sa/miniconda3/envs/thesis3.10/lib/python3.10/site-packages/sklearn/metrics/_classification.py:1327: UndefinedMetricWarning: Precision and F-score are ill-defined and being set to 0.0 in labels with no predicted samples. Use `zero_division` parameter to control this behavior.\n",
      "  _warn_prf(average, modifier, msg_start, len(result))\n"
     ]
    },
    {
     "name": "stdout",
     "output_type": "stream",
     "text": [
      "minirocket, ProximalPhalanxTW, (scaling, {'sigma': 0.5}) DONE\n",
      "minirocket, ScreenType, (scaling, {'sigma': 0.5}) DONE\n",
      "minirocket, ShapesAll, (scaling, {'sigma': 0.5}) DONE\n",
      "minirocket, SmallKitchenAppliances, (scaling, {'sigma': 0.5}) DONE\n",
      "minirocket, SonyAIBORobotSurface1, (scaling, {'sigma': 0.5}) DONE\n",
      "minirocket, SonyAIBORobotSurface2, (scaling, {'sigma': 0.5}) DONE\n",
      "minirocket, ToeSegmentation2, (scaling, {'sigma': 0.5}) DONE\n",
      "minirocket, Wine, (scaling, {'sigma': 0.5}) DONE\n"
     ]
    },
    {
     "name": "stderr",
     "output_type": "stream",
     "text": [
      "/Users/Pongpanod.Sa/miniconda3/envs/thesis3.10/lib/python3.10/site-packages/sklearn/metrics/_classification.py:1327: UndefinedMetricWarning: Precision and F-score are ill-defined and being set to 0.0 in labels with no predicted samples. Use `zero_division` parameter to control this behavior.\n",
      "  _warn_prf(average, modifier, msg_start, len(result))\n"
     ]
    },
    {
     "name": "stdout",
     "output_type": "stream",
     "text": [
      "minirocket, WordSynonyms, (scaling, {'sigma': 0.5}) DONE\n",
      "minirocket, Worms, (scaling, {'sigma': 0.5}) DONE\n",
      "minirocket, Yoga, (scaling, {'sigma': 0.5}) DONE\n"
     ]
    }
   ],
   "source": [
    "# AUGMENTED Manual Loop\n",
    "variation = 'minirocket'\n",
    "classifer = {'name':variation, 'function': RocketClassifier(rocket_transform=variation)}\n",
    "dataset = read_UCR_dataset_name()\n",
    "augment = {'name':'scaling', 'function': scaling, 'params': {'sigma': 0.5}}\n",
    "for i in dataset:\n",
    "    training_two = Experiment(classifer, i, augment)\n",
    "    training_two.run_all()"
   ]
  },
  {
   "cell_type": "code",
   "execution_count": 3,
   "metadata": {},
   "outputs": [],
   "source": [
    "from time_series_augmentation.utils.augmentation import permutation"
   ]
  },
  {
   "cell_type": "code",
   "execution_count": 4,
   "metadata": {},
   "outputs": [
    {
     "name": "stderr",
     "output_type": "stream",
     "text": [
      "/Users/Pongpanod.Sa/Desktop/cu/thesis/coding/pun_master_thesis/time_series_augmentation/utils/augmentation.py:33: VisibleDeprecationWarning: Creating an ndarray from ragged nested sequences (which is a list-or-tuple of lists-or-tuples-or ndarrays with different lengths or shapes) is deprecated. If you meant to do this, you must specify 'dtype=object' when creating the ndarray.\n",
      "  warp = np.concatenate(np.random.permutation(splits)).ravel()\n",
      "<__array_function__ internals>:180: VisibleDeprecationWarning: Creating an ndarray from ragged nested sequences (which is a list-or-tuple of lists-or-tuples-or ndarrays with different lengths or shapes) is deprecated. If you meant to do this, you must specify 'dtype=object' when creating the ndarray.\n"
     ]
    },
    {
     "name": "stdout",
     "output_type": "stream",
     "text": [
      "minirocket, Adiac, (permutation, {'max_segments': 5, 'seg_mode': 'equal'}) DONE\n"
     ]
    },
    {
     "name": "stderr",
     "output_type": "stream",
     "text": [
      "/Users/Pongpanod.Sa/Desktop/cu/thesis/coding/pun_master_thesis/time_series_augmentation/utils/augmentation.py:33: VisibleDeprecationWarning: Creating an ndarray from ragged nested sequences (which is a list-or-tuple of lists-or-tuples-or ndarrays with different lengths or shapes) is deprecated. If you meant to do this, you must specify 'dtype=object' when creating the ndarray.\n",
      "  warp = np.concatenate(np.random.permutation(splits)).ravel()\n",
      "<__array_function__ internals>:180: VisibleDeprecationWarning: Creating an ndarray from ragged nested sequences (which is a list-or-tuple of lists-or-tuples-or ndarrays with different lengths or shapes) is deprecated. If you meant to do this, you must specify 'dtype=object' when creating the ndarray.\n"
     ]
    },
    {
     "name": "stdout",
     "output_type": "stream",
     "text": [
      "minirocket, ArrowHead, (permutation, {'max_segments': 5, 'seg_mode': 'equal'}) DONE\n"
     ]
    },
    {
     "name": "stderr",
     "output_type": "stream",
     "text": [
      "/Users/Pongpanod.Sa/Desktop/cu/thesis/coding/pun_master_thesis/time_series_augmentation/utils/augmentation.py:33: VisibleDeprecationWarning: Creating an ndarray from ragged nested sequences (which is a list-or-tuple of lists-or-tuples-or ndarrays with different lengths or shapes) is deprecated. If you meant to do this, you must specify 'dtype=object' when creating the ndarray.\n",
      "  warp = np.concatenate(np.random.permutation(splits)).ravel()\n",
      "<__array_function__ internals>:180: VisibleDeprecationWarning: Creating an ndarray from ragged nested sequences (which is a list-or-tuple of lists-or-tuples-or ndarrays with different lengths or shapes) is deprecated. If you meant to do this, you must specify 'dtype=object' when creating the ndarray.\n"
     ]
    },
    {
     "name": "stdout",
     "output_type": "stream",
     "text": [
      "minirocket, Beef, (permutation, {'max_segments': 5, 'seg_mode': 'equal'}) DONE\n"
     ]
    },
    {
     "name": "stderr",
     "output_type": "stream",
     "text": [
      "/Users/Pongpanod.Sa/Desktop/cu/thesis/coding/pun_master_thesis/time_series_augmentation/utils/augmentation.py:33: VisibleDeprecationWarning: Creating an ndarray from ragged nested sequences (which is a list-or-tuple of lists-or-tuples-or ndarrays with different lengths or shapes) is deprecated. If you meant to do this, you must specify 'dtype=object' when creating the ndarray.\n",
      "  warp = np.concatenate(np.random.permutation(splits)).ravel()\n",
      "<__array_function__ internals>:180: VisibleDeprecationWarning: Creating an ndarray from ragged nested sequences (which is a list-or-tuple of lists-or-tuples-or ndarrays with different lengths or shapes) is deprecated. If you meant to do this, you must specify 'dtype=object' when creating the ndarray.\n"
     ]
    },
    {
     "name": "stdout",
     "output_type": "stream",
     "text": [
      "minirocket, BeetleFly, (permutation, {'max_segments': 5, 'seg_mode': 'equal'}) DONE\n"
     ]
    },
    {
     "name": "stderr",
     "output_type": "stream",
     "text": [
      "/Users/Pongpanod.Sa/Desktop/cu/thesis/coding/pun_master_thesis/time_series_augmentation/utils/augmentation.py:33: VisibleDeprecationWarning: Creating an ndarray from ragged nested sequences (which is a list-or-tuple of lists-or-tuples-or ndarrays with different lengths or shapes) is deprecated. If you meant to do this, you must specify 'dtype=object' when creating the ndarray.\n",
      "  warp = np.concatenate(np.random.permutation(splits)).ravel()\n",
      "<__array_function__ internals>:180: VisibleDeprecationWarning: Creating an ndarray from ragged nested sequences (which is a list-or-tuple of lists-or-tuples-or ndarrays with different lengths or shapes) is deprecated. If you meant to do this, you must specify 'dtype=object' when creating the ndarray.\n"
     ]
    },
    {
     "name": "stdout",
     "output_type": "stream",
     "text": [
      "minirocket, Car, (permutation, {'max_segments': 5, 'seg_mode': 'equal'}) DONE\n"
     ]
    },
    {
     "name": "stderr",
     "output_type": "stream",
     "text": [
      "/Users/Pongpanod.Sa/Desktop/cu/thesis/coding/pun_master_thesis/time_series_augmentation/utils/augmentation.py:33: VisibleDeprecationWarning: Creating an ndarray from ragged nested sequences (which is a list-or-tuple of lists-or-tuples-or ndarrays with different lengths or shapes) is deprecated. If you meant to do this, you must specify 'dtype=object' when creating the ndarray.\n",
      "  warp = np.concatenate(np.random.permutation(splits)).ravel()\n",
      "<__array_function__ internals>:180: VisibleDeprecationWarning: Creating an ndarray from ragged nested sequences (which is a list-or-tuple of lists-or-tuples-or ndarrays with different lengths or shapes) is deprecated. If you meant to do this, you must specify 'dtype=object' when creating the ndarray.\n"
     ]
    },
    {
     "name": "stdout",
     "output_type": "stream",
     "text": [
      "minirocket, ChlorineConcentration, (permutation, {'max_segments': 5, 'seg_mode': 'equal'}) DONE\n"
     ]
    },
    {
     "name": "stderr",
     "output_type": "stream",
     "text": [
      "/Users/Pongpanod.Sa/Desktop/cu/thesis/coding/pun_master_thesis/time_series_augmentation/utils/augmentation.py:33: VisibleDeprecationWarning: Creating an ndarray from ragged nested sequences (which is a list-or-tuple of lists-or-tuples-or ndarrays with different lengths or shapes) is deprecated. If you meant to do this, you must specify 'dtype=object' when creating the ndarray.\n",
      "  warp = np.concatenate(np.random.permutation(splits)).ravel()\n",
      "<__array_function__ internals>:180: VisibleDeprecationWarning: Creating an ndarray from ragged nested sequences (which is a list-or-tuple of lists-or-tuples-or ndarrays with different lengths or shapes) is deprecated. If you meant to do this, you must specify 'dtype=object' when creating the ndarray.\n"
     ]
    },
    {
     "name": "stdout",
     "output_type": "stream",
     "text": [
      "minirocket, CinCECGTorso, (permutation, {'max_segments': 5, 'seg_mode': 'equal'}) DONE\n",
      "minirocket, Computers, (permutation, {'max_segments': 5, 'seg_mode': 'equal'}) DONE\n"
     ]
    },
    {
     "name": "stderr",
     "output_type": "stream",
     "text": [
      "/Users/Pongpanod.Sa/Desktop/cu/thesis/coding/pun_master_thesis/time_series_augmentation/utils/augmentation.py:33: VisibleDeprecationWarning: Creating an ndarray from ragged nested sequences (which is a list-or-tuple of lists-or-tuples-or ndarrays with different lengths or shapes) is deprecated. If you meant to do this, you must specify 'dtype=object' when creating the ndarray.\n",
      "  warp = np.concatenate(np.random.permutation(splits)).ravel()\n",
      "<__array_function__ internals>:180: VisibleDeprecationWarning: Creating an ndarray from ragged nested sequences (which is a list-or-tuple of lists-or-tuples-or ndarrays with different lengths or shapes) is deprecated. If you meant to do this, you must specify 'dtype=object' when creating the ndarray.\n"
     ]
    },
    {
     "name": "stdout",
     "output_type": "stream",
     "text": [
      "minirocket, DistalPhalanxOutlineAgeGroup, (permutation, {'max_segments': 5, 'seg_mode': 'equal'}) DONE\n"
     ]
    },
    {
     "name": "stderr",
     "output_type": "stream",
     "text": [
      "/Users/Pongpanod.Sa/Desktop/cu/thesis/coding/pun_master_thesis/time_series_augmentation/utils/augmentation.py:33: VisibleDeprecationWarning: Creating an ndarray from ragged nested sequences (which is a list-or-tuple of lists-or-tuples-or ndarrays with different lengths or shapes) is deprecated. If you meant to do this, you must specify 'dtype=object' when creating the ndarray.\n",
      "  warp = np.concatenate(np.random.permutation(splits)).ravel()\n",
      "<__array_function__ internals>:180: VisibleDeprecationWarning: Creating an ndarray from ragged nested sequences (which is a list-or-tuple of lists-or-tuples-or ndarrays with different lengths or shapes) is deprecated. If you meant to do this, you must specify 'dtype=object' when creating the ndarray.\n"
     ]
    },
    {
     "name": "stdout",
     "output_type": "stream",
     "text": [
      "minirocket, DistalPhalanxOutlineCorrect, (permutation, {'max_segments': 5, 'seg_mode': 'equal'}) DONE\n"
     ]
    },
    {
     "name": "stderr",
     "output_type": "stream",
     "text": [
      "/Users/Pongpanod.Sa/Desktop/cu/thesis/coding/pun_master_thesis/time_series_augmentation/utils/augmentation.py:33: VisibleDeprecationWarning: Creating an ndarray from ragged nested sequences (which is a list-or-tuple of lists-or-tuples-or ndarrays with different lengths or shapes) is deprecated. If you meant to do this, you must specify 'dtype=object' when creating the ndarray.\n",
      "  warp = np.concatenate(np.random.permutation(splits)).ravel()\n",
      "<__array_function__ internals>:180: VisibleDeprecationWarning: Creating an ndarray from ragged nested sequences (which is a list-or-tuple of lists-or-tuples-or ndarrays with different lengths or shapes) is deprecated. If you meant to do this, you must specify 'dtype=object' when creating the ndarray.\n",
      "/Users/Pongpanod.Sa/miniconda3/envs/thesis3.10/lib/python3.10/site-packages/sklearn/metrics/_classification.py:1327: UndefinedMetricWarning: Precision and F-score are ill-defined and being set to 0.0 in labels with no predicted samples. Use `zero_division` parameter to control this behavior.\n",
      "  _warn_prf(average, modifier, msg_start, len(result))\n",
      "/Users/Pongpanod.Sa/Desktop/cu/thesis/coding/pun_master_thesis/time_series_augmentation/utils/augmentation.py:33: VisibleDeprecationWarning: Creating an ndarray from ragged nested sequences (which is a list-or-tuple of lists-or-tuples-or ndarrays with different lengths or shapes) is deprecated. If you meant to do this, you must specify 'dtype=object' when creating the ndarray.\n",
      "  warp = np.concatenate(np.random.permutation(splits)).ravel()\n",
      "<__array_function__ internals>:180: VisibleDeprecationWarning: Creating an ndarray from ragged nested sequences (which is a list-or-tuple of lists-or-tuples-or ndarrays with different lengths or shapes) is deprecated. If you meant to do this, you must specify 'dtype=object' when creating the ndarray.\n"
     ]
    },
    {
     "name": "stdout",
     "output_type": "stream",
     "text": [
      "minirocket, DistalPhalanxTW, (permutation, {'max_segments': 5, 'seg_mode': 'equal'}) DONE\n",
      "minirocket, Earthquakes, (permutation, {'max_segments': 5, 'seg_mode': 'equal'}) DONE\n",
      "minirocket, ECG200, (permutation, {'max_segments': 5, 'seg_mode': 'equal'}) DONE\n"
     ]
    },
    {
     "name": "stderr",
     "output_type": "stream",
     "text": [
      "/Users/Pongpanod.Sa/Desktop/cu/thesis/coding/pun_master_thesis/time_series_augmentation/utils/augmentation.py:33: VisibleDeprecationWarning: Creating an ndarray from ragged nested sequences (which is a list-or-tuple of lists-or-tuples-or ndarrays with different lengths or shapes) is deprecated. If you meant to do this, you must specify 'dtype=object' when creating the ndarray.\n",
      "  warp = np.concatenate(np.random.permutation(splits)).ravel()\n",
      "<__array_function__ internals>:180: VisibleDeprecationWarning: Creating an ndarray from ragged nested sequences (which is a list-or-tuple of lists-or-tuples-or ndarrays with different lengths or shapes) is deprecated. If you meant to do this, you must specify 'dtype=object' when creating the ndarray.\n",
      "/Users/Pongpanod.Sa/miniconda3/envs/thesis3.10/lib/python3.10/site-packages/sklearn/metrics/_classification.py:1327: UndefinedMetricWarning: Precision and F-score are ill-defined and being set to 0.0 in labels with no predicted samples. Use `zero_division` parameter to control this behavior.\n",
      "  _warn_prf(average, modifier, msg_start, len(result))\n"
     ]
    },
    {
     "name": "stdout",
     "output_type": "stream",
     "text": [
      "minirocket, ECG5000, (permutation, {'max_segments': 5, 'seg_mode': 'equal'}) DONE\n",
      "minirocket, ElectricDevices, (permutation, {'max_segments': 5, 'seg_mode': 'equal'}) DONE\n"
     ]
    },
    {
     "name": "stderr",
     "output_type": "stream",
     "text": [
      "/Users/Pongpanod.Sa/Desktop/cu/thesis/coding/pun_master_thesis/time_series_augmentation/utils/augmentation.py:33: VisibleDeprecationWarning: Creating an ndarray from ragged nested sequences (which is a list-or-tuple of lists-or-tuples-or ndarrays with different lengths or shapes) is deprecated. If you meant to do this, you must specify 'dtype=object' when creating the ndarray.\n",
      "  warp = np.concatenate(np.random.permutation(splits)).ravel()\n",
      "<__array_function__ internals>:180: VisibleDeprecationWarning: Creating an ndarray from ragged nested sequences (which is a list-or-tuple of lists-or-tuples-or ndarrays with different lengths or shapes) is deprecated. If you meant to do this, you must specify 'dtype=object' when creating the ndarray.\n"
     ]
    },
    {
     "name": "stdout",
     "output_type": "stream",
     "text": [
      "minirocket, FaceAll, (permutation, {'max_segments': 5, 'seg_mode': 'equal'}) DONE\n"
     ]
    },
    {
     "name": "stderr",
     "output_type": "stream",
     "text": [
      "/Users/Pongpanod.Sa/Desktop/cu/thesis/coding/pun_master_thesis/time_series_augmentation/utils/augmentation.py:33: VisibleDeprecationWarning: Creating an ndarray from ragged nested sequences (which is a list-or-tuple of lists-or-tuples-or ndarrays with different lengths or shapes) is deprecated. If you meant to do this, you must specify 'dtype=object' when creating the ndarray.\n",
      "  warp = np.concatenate(np.random.permutation(splits)).ravel()\n",
      "<__array_function__ internals>:180: VisibleDeprecationWarning: Creating an ndarray from ragged nested sequences (which is a list-or-tuple of lists-or-tuples-or ndarrays with different lengths or shapes) is deprecated. If you meant to do this, you must specify 'dtype=object' when creating the ndarray.\n",
      "/Users/Pongpanod.Sa/miniconda3/envs/thesis3.10/lib/python3.10/site-packages/sklearn/metrics/_classification.py:1327: UndefinedMetricWarning: Precision and F-score are ill-defined and being set to 0.0 in labels with no predicted samples. Use `zero_division` parameter to control this behavior.\n",
      "  _warn_prf(average, modifier, msg_start, len(result))\n"
     ]
    },
    {
     "name": "stdout",
     "output_type": "stream",
     "text": [
      "minirocket, FiftyWords, (permutation, {'max_segments': 5, 'seg_mode': 'equal'}) DONE\n"
     ]
    },
    {
     "name": "stderr",
     "output_type": "stream",
     "text": [
      "/Users/Pongpanod.Sa/Desktop/cu/thesis/coding/pun_master_thesis/time_series_augmentation/utils/augmentation.py:33: VisibleDeprecationWarning: Creating an ndarray from ragged nested sequences (which is a list-or-tuple of lists-or-tuples-or ndarrays with different lengths or shapes) is deprecated. If you meant to do this, you must specify 'dtype=object' when creating the ndarray.\n",
      "  warp = np.concatenate(np.random.permutation(splits)).ravel()\n",
      "<__array_function__ internals>:180: VisibleDeprecationWarning: Creating an ndarray from ragged nested sequences (which is a list-or-tuple of lists-or-tuples-or ndarrays with different lengths or shapes) is deprecated. If you meant to do this, you must specify 'dtype=object' when creating the ndarray.\n"
     ]
    },
    {
     "name": "stdout",
     "output_type": "stream",
     "text": [
      "minirocket, FordB, (permutation, {'max_segments': 5, 'seg_mode': 'equal'}) DONE\n"
     ]
    },
    {
     "name": "stderr",
     "output_type": "stream",
     "text": [
      "/Users/Pongpanod.Sa/Desktop/cu/thesis/coding/pun_master_thesis/time_series_augmentation/utils/augmentation.py:33: VisibleDeprecationWarning: Creating an ndarray from ragged nested sequences (which is a list-or-tuple of lists-or-tuples-or ndarrays with different lengths or shapes) is deprecated. If you meant to do this, you must specify 'dtype=object' when creating the ndarray.\n",
      "  warp = np.concatenate(np.random.permutation(splits)).ravel()\n",
      "<__array_function__ internals>:180: VisibleDeprecationWarning: Creating an ndarray from ragged nested sequences (which is a list-or-tuple of lists-or-tuples-or ndarrays with different lengths or shapes) is deprecated. If you meant to do this, you must specify 'dtype=object' when creating the ndarray.\n"
     ]
    },
    {
     "name": "stdout",
     "output_type": "stream",
     "text": [
      "minirocket, Ham, (permutation, {'max_segments': 5, 'seg_mode': 'equal'}) DONE\n"
     ]
    },
    {
     "name": "stderr",
     "output_type": "stream",
     "text": [
      "/Users/Pongpanod.Sa/Desktop/cu/thesis/coding/pun_master_thesis/time_series_augmentation/utils/augmentation.py:33: VisibleDeprecationWarning: Creating an ndarray from ragged nested sequences (which is a list-or-tuple of lists-or-tuples-or ndarrays with different lengths or shapes) is deprecated. If you meant to do this, you must specify 'dtype=object' when creating the ndarray.\n",
      "  warp = np.concatenate(np.random.permutation(splits)).ravel()\n",
      "<__array_function__ internals>:180: VisibleDeprecationWarning: Creating an ndarray from ragged nested sequences (which is a list-or-tuple of lists-or-tuples-or ndarrays with different lengths or shapes) is deprecated. If you meant to do this, you must specify 'dtype=object' when creating the ndarray.\n"
     ]
    },
    {
     "name": "stdout",
     "output_type": "stream",
     "text": [
      "minirocket, HandOutlines, (permutation, {'max_segments': 5, 'seg_mode': 'equal'}) DONE\n",
      "minirocket, Haptics, (permutation, {'max_segments': 5, 'seg_mode': 'equal'}) DONE\n"
     ]
    },
    {
     "name": "stderr",
     "output_type": "stream",
     "text": [
      "/Users/Pongpanod.Sa/Desktop/cu/thesis/coding/pun_master_thesis/time_series_augmentation/utils/augmentation.py:33: VisibleDeprecationWarning: Creating an ndarray from ragged nested sequences (which is a list-or-tuple of lists-or-tuples-or ndarrays with different lengths or shapes) is deprecated. If you meant to do this, you must specify 'dtype=object' when creating the ndarray.\n",
      "  warp = np.concatenate(np.random.permutation(splits)).ravel()\n",
      "<__array_function__ internals>:180: VisibleDeprecationWarning: Creating an ndarray from ragged nested sequences (which is a list-or-tuple of lists-or-tuples-or ndarrays with different lengths or shapes) is deprecated. If you meant to do this, you must specify 'dtype=object' when creating the ndarray.\n"
     ]
    },
    {
     "name": "stdout",
     "output_type": "stream",
     "text": [
      "minirocket, Herring, (permutation, {'max_segments': 5, 'seg_mode': 'equal'}) DONE\n"
     ]
    },
    {
     "name": "stderr",
     "output_type": "stream",
     "text": [
      "/Users/Pongpanod.Sa/Desktop/cu/thesis/coding/pun_master_thesis/time_series_augmentation/utils/augmentation.py:33: VisibleDeprecationWarning: Creating an ndarray from ragged nested sequences (which is a list-or-tuple of lists-or-tuples-or ndarrays with different lengths or shapes) is deprecated. If you meant to do this, you must specify 'dtype=object' when creating the ndarray.\n",
      "  warp = np.concatenate(np.random.permutation(splits)).ravel()\n",
      "<__array_function__ internals>:180: VisibleDeprecationWarning: Creating an ndarray from ragged nested sequences (which is a list-or-tuple of lists-or-tuples-or ndarrays with different lengths or shapes) is deprecated. If you meant to do this, you must specify 'dtype=object' when creating the ndarray.\n"
     ]
    },
    {
     "name": "stdout",
     "output_type": "stream",
     "text": [
      "minirocket, InlineSkate, (permutation, {'max_segments': 5, 'seg_mode': 'equal'}) DONE\n"
     ]
    },
    {
     "name": "stderr",
     "output_type": "stream",
     "text": [
      "/Users/Pongpanod.Sa/Desktop/cu/thesis/coding/pun_master_thesis/time_series_augmentation/utils/augmentation.py:33: VisibleDeprecationWarning: Creating an ndarray from ragged nested sequences (which is a list-or-tuple of lists-or-tuples-or ndarrays with different lengths or shapes) is deprecated. If you meant to do this, you must specify 'dtype=object' when creating the ndarray.\n",
      "  warp = np.concatenate(np.random.permutation(splits)).ravel()\n",
      "<__array_function__ internals>:180: VisibleDeprecationWarning: Creating an ndarray from ragged nested sequences (which is a list-or-tuple of lists-or-tuples-or ndarrays with different lengths or shapes) is deprecated. If you meant to do this, you must specify 'dtype=object' when creating the ndarray.\n"
     ]
    },
    {
     "name": "stdout",
     "output_type": "stream",
     "text": [
      "minirocket, InsectWingbeatSound, (permutation, {'max_segments': 5, 'seg_mode': 'equal'}) DONE\n"
     ]
    },
    {
     "name": "stderr",
     "output_type": "stream",
     "text": [
      "/Users/Pongpanod.Sa/Desktop/cu/thesis/coding/pun_master_thesis/time_series_augmentation/utils/augmentation.py:33: VisibleDeprecationWarning: Creating an ndarray from ragged nested sequences (which is a list-or-tuple of lists-or-tuples-or ndarrays with different lengths or shapes) is deprecated. If you meant to do this, you must specify 'dtype=object' when creating the ndarray.\n",
      "  warp = np.concatenate(np.random.permutation(splits)).ravel()\n",
      "<__array_function__ internals>:180: VisibleDeprecationWarning: Creating an ndarray from ragged nested sequences (which is a list-or-tuple of lists-or-tuples-or ndarrays with different lengths or shapes) is deprecated. If you meant to do this, you must specify 'dtype=object' when creating the ndarray.\n"
     ]
    },
    {
     "name": "stdout",
     "output_type": "stream",
     "text": [
      "minirocket, Lightning2, (permutation, {'max_segments': 5, 'seg_mode': 'equal'}) DONE\n"
     ]
    },
    {
     "name": "stderr",
     "output_type": "stream",
     "text": [
      "/Users/Pongpanod.Sa/Desktop/cu/thesis/coding/pun_master_thesis/time_series_augmentation/utils/augmentation.py:33: VisibleDeprecationWarning: Creating an ndarray from ragged nested sequences (which is a list-or-tuple of lists-or-tuples-or ndarrays with different lengths or shapes) is deprecated. If you meant to do this, you must specify 'dtype=object' when creating the ndarray.\n",
      "  warp = np.concatenate(np.random.permutation(splits)).ravel()\n",
      "<__array_function__ internals>:180: VisibleDeprecationWarning: Creating an ndarray from ragged nested sequences (which is a list-or-tuple of lists-or-tuples-or ndarrays with different lengths or shapes) is deprecated. If you meant to do this, you must specify 'dtype=object' when creating the ndarray.\n"
     ]
    },
    {
     "name": "stdout",
     "output_type": "stream",
     "text": [
      "minirocket, Mallat, (permutation, {'max_segments': 5, 'seg_mode': 'equal'}) DONE\n"
     ]
    },
    {
     "name": "stderr",
     "output_type": "stream",
     "text": [
      "/Users/Pongpanod.Sa/Desktop/cu/thesis/coding/pun_master_thesis/time_series_augmentation/utils/augmentation.py:33: VisibleDeprecationWarning: Creating an ndarray from ragged nested sequences (which is a list-or-tuple of lists-or-tuples-or ndarrays with different lengths or shapes) is deprecated. If you meant to do this, you must specify 'dtype=object' when creating the ndarray.\n",
      "  warp = np.concatenate(np.random.permutation(splits)).ravel()\n",
      "<__array_function__ internals>:180: VisibleDeprecationWarning: Creating an ndarray from ragged nested sequences (which is a list-or-tuple of lists-or-tuples-or ndarrays with different lengths or shapes) is deprecated. If you meant to do this, you must specify 'dtype=object' when creating the ndarray.\n"
     ]
    },
    {
     "name": "stdout",
     "output_type": "stream",
     "text": [
      "minirocket, MedicalImages, (permutation, {'max_segments': 5, 'seg_mode': 'equal'}) DONE\n"
     ]
    },
    {
     "name": "stderr",
     "output_type": "stream",
     "text": [
      "/Users/Pongpanod.Sa/Desktop/cu/thesis/coding/pun_master_thesis/time_series_augmentation/utils/augmentation.py:33: VisibleDeprecationWarning: Creating an ndarray from ragged nested sequences (which is a list-or-tuple of lists-or-tuples-or ndarrays with different lengths or shapes) is deprecated. If you meant to do this, you must specify 'dtype=object' when creating the ndarray.\n",
      "  warp = np.concatenate(np.random.permutation(splits)).ravel()\n",
      "<__array_function__ internals>:180: VisibleDeprecationWarning: Creating an ndarray from ragged nested sequences (which is a list-or-tuple of lists-or-tuples-or ndarrays with different lengths or shapes) is deprecated. If you meant to do this, you must specify 'dtype=object' when creating the ndarray.\n"
     ]
    },
    {
     "name": "stdout",
     "output_type": "stream",
     "text": [
      "minirocket, MiddlePhalanxOutlineAgeGroup, (permutation, {'max_segments': 5, 'seg_mode': 'equal'}) DONE\n"
     ]
    },
    {
     "name": "stderr",
     "output_type": "stream",
     "text": [
      "/Users/Pongpanod.Sa/Desktop/cu/thesis/coding/pun_master_thesis/time_series_augmentation/utils/augmentation.py:33: VisibleDeprecationWarning: Creating an ndarray from ragged nested sequences (which is a list-or-tuple of lists-or-tuples-or ndarrays with different lengths or shapes) is deprecated. If you meant to do this, you must specify 'dtype=object' when creating the ndarray.\n",
      "  warp = np.concatenate(np.random.permutation(splits)).ravel()\n",
      "<__array_function__ internals>:180: VisibleDeprecationWarning: Creating an ndarray from ragged nested sequences (which is a list-or-tuple of lists-or-tuples-or ndarrays with different lengths or shapes) is deprecated. If you meant to do this, you must specify 'dtype=object' when creating the ndarray.\n"
     ]
    },
    {
     "name": "stdout",
     "output_type": "stream",
     "text": [
      "minirocket, MiddlePhalanxOutlineCorrect, (permutation, {'max_segments': 5, 'seg_mode': 'equal'}) DONE\n"
     ]
    },
    {
     "name": "stderr",
     "output_type": "stream",
     "text": [
      "/Users/Pongpanod.Sa/Desktop/cu/thesis/coding/pun_master_thesis/time_series_augmentation/utils/augmentation.py:33: VisibleDeprecationWarning: Creating an ndarray from ragged nested sequences (which is a list-or-tuple of lists-or-tuples-or ndarrays with different lengths or shapes) is deprecated. If you meant to do this, you must specify 'dtype=object' when creating the ndarray.\n",
      "  warp = np.concatenate(np.random.permutation(splits)).ravel()\n",
      "<__array_function__ internals>:180: VisibleDeprecationWarning: Creating an ndarray from ragged nested sequences (which is a list-or-tuple of lists-or-tuples-or ndarrays with different lengths or shapes) is deprecated. If you meant to do this, you must specify 'dtype=object' when creating the ndarray.\n",
      "/Users/Pongpanod.Sa/miniconda3/envs/thesis3.10/lib/python3.10/site-packages/sklearn/metrics/_classification.py:1327: UndefinedMetricWarning: Precision and F-score are ill-defined and being set to 0.0 in labels with no predicted samples. Use `zero_division` parameter to control this behavior.\n",
      "  _warn_prf(average, modifier, msg_start, len(result))\n"
     ]
    },
    {
     "name": "stdout",
     "output_type": "stream",
     "text": [
      "minirocket, MiddlePhalanxTW, (permutation, {'max_segments': 5, 'seg_mode': 'equal'}) DONE\n",
      "minirocket, MoteStrain, (permutation, {'max_segments': 5, 'seg_mode': 'equal'}) DONE\n"
     ]
    },
    {
     "name": "stderr",
     "output_type": "stream",
     "text": [
      "/Users/Pongpanod.Sa/Desktop/cu/thesis/coding/pun_master_thesis/time_series_augmentation/utils/augmentation.py:33: VisibleDeprecationWarning: Creating an ndarray from ragged nested sequences (which is a list-or-tuple of lists-or-tuples-or ndarrays with different lengths or shapes) is deprecated. If you meant to do this, you must specify 'dtype=object' when creating the ndarray.\n",
      "  warp = np.concatenate(np.random.permutation(splits)).ravel()\n",
      "<__array_function__ internals>:180: VisibleDeprecationWarning: Creating an ndarray from ragged nested sequences (which is a list-or-tuple of lists-or-tuples-or ndarrays with different lengths or shapes) is deprecated. If you meant to do this, you must specify 'dtype=object' when creating the ndarray.\n"
     ]
    },
    {
     "name": "stdout",
     "output_type": "stream",
     "text": [
      "minirocket, OliveOil, (permutation, {'max_segments': 5, 'seg_mode': 'equal'}) DONE\n"
     ]
    },
    {
     "name": "stderr",
     "output_type": "stream",
     "text": [
      "/Users/Pongpanod.Sa/Desktop/cu/thesis/coding/pun_master_thesis/time_series_augmentation/utils/augmentation.py:33: VisibleDeprecationWarning: Creating an ndarray from ragged nested sequences (which is a list-or-tuple of lists-or-tuples-or ndarrays with different lengths or shapes) is deprecated. If you meant to do this, you must specify 'dtype=object' when creating the ndarray.\n",
      "  warp = np.concatenate(np.random.permutation(splits)).ravel()\n",
      "<__array_function__ internals>:180: VisibleDeprecationWarning: Creating an ndarray from ragged nested sequences (which is a list-or-tuple of lists-or-tuples-or ndarrays with different lengths or shapes) is deprecated. If you meant to do this, you must specify 'dtype=object' when creating the ndarray.\n"
     ]
    },
    {
     "name": "stdout",
     "output_type": "stream",
     "text": [
      "minirocket, OSULeaf, (permutation, {'max_segments': 5, 'seg_mode': 'equal'}) DONE\n"
     ]
    },
    {
     "name": "stderr",
     "output_type": "stream",
     "text": [
      "/Users/Pongpanod.Sa/Desktop/cu/thesis/coding/pun_master_thesis/time_series_augmentation/utils/augmentation.py:33: VisibleDeprecationWarning: Creating an ndarray from ragged nested sequences (which is a list-or-tuple of lists-or-tuples-or ndarrays with different lengths or shapes) is deprecated. If you meant to do this, you must specify 'dtype=object' when creating the ndarray.\n",
      "  warp = np.concatenate(np.random.permutation(splits)).ravel()\n",
      "<__array_function__ internals>:180: VisibleDeprecationWarning: Creating an ndarray from ragged nested sequences (which is a list-or-tuple of lists-or-tuples-or ndarrays with different lengths or shapes) is deprecated. If you meant to do this, you must specify 'dtype=object' when creating the ndarray.\n"
     ]
    },
    {
     "name": "stdout",
     "output_type": "stream",
     "text": [
      "minirocket, PhalangesOutlinesCorrect, (permutation, {'max_segments': 5, 'seg_mode': 'equal'}) DONE\n"
     ]
    },
    {
     "name": "stderr",
     "output_type": "stream",
     "text": [
      "/Users/Pongpanod.Sa/Desktop/cu/thesis/coding/pun_master_thesis/time_series_augmentation/utils/augmentation.py:33: VisibleDeprecationWarning: Creating an ndarray from ragged nested sequences (which is a list-or-tuple of lists-or-tuples-or ndarrays with different lengths or shapes) is deprecated. If you meant to do this, you must specify 'dtype=object' when creating the ndarray.\n",
      "  warp = np.concatenate(np.random.permutation(splits)).ravel()\n",
      "<__array_function__ internals>:180: VisibleDeprecationWarning: Creating an ndarray from ragged nested sequences (which is a list-or-tuple of lists-or-tuples-or ndarrays with different lengths or shapes) is deprecated. If you meant to do this, you must specify 'dtype=object' when creating the ndarray.\n",
      "/Users/Pongpanod.Sa/miniconda3/envs/thesis3.10/lib/python3.10/site-packages/sklearn/metrics/_classification.py:1327: UndefinedMetricWarning: Precision and F-score are ill-defined and being set to 0.0 in labels with no predicted samples. Use `zero_division` parameter to control this behavior.\n",
      "  _warn_prf(average, modifier, msg_start, len(result))\n",
      "/Users/Pongpanod.Sa/Desktop/cu/thesis/coding/pun_master_thesis/time_series_augmentation/utils/augmentation.py:33: VisibleDeprecationWarning: Creating an ndarray from ragged nested sequences (which is a list-or-tuple of lists-or-tuples-or ndarrays with different lengths or shapes) is deprecated. If you meant to do this, you must specify 'dtype=object' when creating the ndarray.\n",
      "  warp = np.concatenate(np.random.permutation(splits)).ravel()\n",
      "<__array_function__ internals>:180: VisibleDeprecationWarning: Creating an ndarray from ragged nested sequences (which is a list-or-tuple of lists-or-tuples-or ndarrays with different lengths or shapes) is deprecated. If you meant to do this, you must specify 'dtype=object' when creating the ndarray.\n"
     ]
    },
    {
     "name": "stdout",
     "output_type": "stream",
     "text": [
      "minirocket, Phoneme, (permutation, {'max_segments': 5, 'seg_mode': 'equal'}) DONE\n",
      "minirocket, ProximalPhalanxOutlineAgeGroup, (permutation, {'max_segments': 5, 'seg_mode': 'equal'}) DONE\n"
     ]
    },
    {
     "name": "stderr",
     "output_type": "stream",
     "text": [
      "/Users/Pongpanod.Sa/Desktop/cu/thesis/coding/pun_master_thesis/time_series_augmentation/utils/augmentation.py:33: VisibleDeprecationWarning: Creating an ndarray from ragged nested sequences (which is a list-or-tuple of lists-or-tuples-or ndarrays with different lengths or shapes) is deprecated. If you meant to do this, you must specify 'dtype=object' when creating the ndarray.\n",
      "  warp = np.concatenate(np.random.permutation(splits)).ravel()\n",
      "<__array_function__ internals>:180: VisibleDeprecationWarning: Creating an ndarray from ragged nested sequences (which is a list-or-tuple of lists-or-tuples-or ndarrays with different lengths or shapes) is deprecated. If you meant to do this, you must specify 'dtype=object' when creating the ndarray.\n"
     ]
    },
    {
     "name": "stdout",
     "output_type": "stream",
     "text": [
      "minirocket, ProximalPhalanxOutlineCorrect, (permutation, {'max_segments': 5, 'seg_mode': 'equal'}) DONE\n"
     ]
    },
    {
     "name": "stderr",
     "output_type": "stream",
     "text": [
      "/Users/Pongpanod.Sa/Desktop/cu/thesis/coding/pun_master_thesis/time_series_augmentation/utils/augmentation.py:33: VisibleDeprecationWarning: Creating an ndarray from ragged nested sequences (which is a list-or-tuple of lists-or-tuples-or ndarrays with different lengths or shapes) is deprecated. If you meant to do this, you must specify 'dtype=object' when creating the ndarray.\n",
      "  warp = np.concatenate(np.random.permutation(splits)).ravel()\n",
      "<__array_function__ internals>:180: VisibleDeprecationWarning: Creating an ndarray from ragged nested sequences (which is a list-or-tuple of lists-or-tuples-or ndarrays with different lengths or shapes) is deprecated. If you meant to do this, you must specify 'dtype=object' when creating the ndarray.\n"
     ]
    },
    {
     "name": "stdout",
     "output_type": "stream",
     "text": [
      "minirocket, ProximalPhalanxTW, (permutation, {'max_segments': 5, 'seg_mode': 'equal'}) DONE\n",
      "minirocket, ScreenType, (permutation, {'max_segments': 5, 'seg_mode': 'equal'}) DONE\n"
     ]
    },
    {
     "name": "stderr",
     "output_type": "stream",
     "text": [
      "/Users/Pongpanod.Sa/Desktop/cu/thesis/coding/pun_master_thesis/time_series_augmentation/utils/augmentation.py:33: VisibleDeprecationWarning: Creating an ndarray from ragged nested sequences (which is a list-or-tuple of lists-or-tuples-or ndarrays with different lengths or shapes) is deprecated. If you meant to do this, you must specify 'dtype=object' when creating the ndarray.\n",
      "  warp = np.concatenate(np.random.permutation(splits)).ravel()\n",
      "<__array_function__ internals>:180: VisibleDeprecationWarning: Creating an ndarray from ragged nested sequences (which is a list-or-tuple of lists-or-tuples-or ndarrays with different lengths or shapes) is deprecated. If you meant to do this, you must specify 'dtype=object' when creating the ndarray.\n"
     ]
    },
    {
     "name": "stdout",
     "output_type": "stream",
     "text": [
      "minirocket, ShapesAll, (permutation, {'max_segments': 5, 'seg_mode': 'equal'}) DONE\n",
      "minirocket, SmallKitchenAppliances, (permutation, {'max_segments': 5, 'seg_mode': 'equal'}) DONE\n"
     ]
    },
    {
     "name": "stderr",
     "output_type": "stream",
     "text": [
      "/Users/Pongpanod.Sa/Desktop/cu/thesis/coding/pun_master_thesis/time_series_augmentation/utils/augmentation.py:33: VisibleDeprecationWarning: Creating an ndarray from ragged nested sequences (which is a list-or-tuple of lists-or-tuples-or ndarrays with different lengths or shapes) is deprecated. If you meant to do this, you must specify 'dtype=object' when creating the ndarray.\n",
      "  warp = np.concatenate(np.random.permutation(splits)).ravel()\n",
      "<__array_function__ internals>:180: VisibleDeprecationWarning: Creating an ndarray from ragged nested sequences (which is a list-or-tuple of lists-or-tuples-or ndarrays with different lengths or shapes) is deprecated. If you meant to do this, you must specify 'dtype=object' when creating the ndarray.\n"
     ]
    },
    {
     "name": "stdout",
     "output_type": "stream",
     "text": [
      "minirocket, SonyAIBORobotSurface1, (permutation, {'max_segments': 5, 'seg_mode': 'equal'}) DONE\n"
     ]
    },
    {
     "name": "stderr",
     "output_type": "stream",
     "text": [
      "/Users/Pongpanod.Sa/Desktop/cu/thesis/coding/pun_master_thesis/time_series_augmentation/utils/augmentation.py:33: VisibleDeprecationWarning: Creating an ndarray from ragged nested sequences (which is a list-or-tuple of lists-or-tuples-or ndarrays with different lengths or shapes) is deprecated. If you meant to do this, you must specify 'dtype=object' when creating the ndarray.\n",
      "  warp = np.concatenate(np.random.permutation(splits)).ravel()\n",
      "<__array_function__ internals>:180: VisibleDeprecationWarning: Creating an ndarray from ragged nested sequences (which is a list-or-tuple of lists-or-tuples-or ndarrays with different lengths or shapes) is deprecated. If you meant to do this, you must specify 'dtype=object' when creating the ndarray.\n"
     ]
    },
    {
     "name": "stdout",
     "output_type": "stream",
     "text": [
      "minirocket, SonyAIBORobotSurface2, (permutation, {'max_segments': 5, 'seg_mode': 'equal'}) DONE\n"
     ]
    },
    {
     "name": "stderr",
     "output_type": "stream",
     "text": [
      "/Users/Pongpanod.Sa/Desktop/cu/thesis/coding/pun_master_thesis/time_series_augmentation/utils/augmentation.py:33: VisibleDeprecationWarning: Creating an ndarray from ragged nested sequences (which is a list-or-tuple of lists-or-tuples-or ndarrays with different lengths or shapes) is deprecated. If you meant to do this, you must specify 'dtype=object' when creating the ndarray.\n",
      "  warp = np.concatenate(np.random.permutation(splits)).ravel()\n",
      "<__array_function__ internals>:180: VisibleDeprecationWarning: Creating an ndarray from ragged nested sequences (which is a list-or-tuple of lists-or-tuples-or ndarrays with different lengths or shapes) is deprecated. If you meant to do this, you must specify 'dtype=object' when creating the ndarray.\n"
     ]
    },
    {
     "name": "stdout",
     "output_type": "stream",
     "text": [
      "minirocket, ToeSegmentation2, (permutation, {'max_segments': 5, 'seg_mode': 'equal'}) DONE\n"
     ]
    },
    {
     "name": "stderr",
     "output_type": "stream",
     "text": [
      "/Users/Pongpanod.Sa/Desktop/cu/thesis/coding/pun_master_thesis/time_series_augmentation/utils/augmentation.py:33: VisibleDeprecationWarning: Creating an ndarray from ragged nested sequences (which is a list-or-tuple of lists-or-tuples-or ndarrays with different lengths or shapes) is deprecated. If you meant to do this, you must specify 'dtype=object' when creating the ndarray.\n",
      "  warp = np.concatenate(np.random.permutation(splits)).ravel()\n",
      "<__array_function__ internals>:180: VisibleDeprecationWarning: Creating an ndarray from ragged nested sequences (which is a list-or-tuple of lists-or-tuples-or ndarrays with different lengths or shapes) is deprecated. If you meant to do this, you must specify 'dtype=object' when creating the ndarray.\n"
     ]
    },
    {
     "name": "stdout",
     "output_type": "stream",
     "text": [
      "minirocket, Wine, (permutation, {'max_segments': 5, 'seg_mode': 'equal'}) DONE\n"
     ]
    },
    {
     "name": "stderr",
     "output_type": "stream",
     "text": [
      "/Users/Pongpanod.Sa/Desktop/cu/thesis/coding/pun_master_thesis/time_series_augmentation/utils/augmentation.py:33: VisibleDeprecationWarning: Creating an ndarray from ragged nested sequences (which is a list-or-tuple of lists-or-tuples-or ndarrays with different lengths or shapes) is deprecated. If you meant to do this, you must specify 'dtype=object' when creating the ndarray.\n",
      "  warp = np.concatenate(np.random.permutation(splits)).ravel()\n",
      "<__array_function__ internals>:180: VisibleDeprecationWarning: Creating an ndarray from ragged nested sequences (which is a list-or-tuple of lists-or-tuples-or ndarrays with different lengths or shapes) is deprecated. If you meant to do this, you must specify 'dtype=object' when creating the ndarray.\n",
      "/Users/Pongpanod.Sa/miniconda3/envs/thesis3.10/lib/python3.10/site-packages/sklearn/metrics/_classification.py:1327: UndefinedMetricWarning: Precision and F-score are ill-defined and being set to 0.0 in labels with no predicted samples. Use `zero_division` parameter to control this behavior.\n",
      "  _warn_prf(average, modifier, msg_start, len(result))\n"
     ]
    },
    {
     "name": "stdout",
     "output_type": "stream",
     "text": [
      "minirocket, WordSynonyms, (permutation, {'max_segments': 5, 'seg_mode': 'equal'}) DONE\n",
      "minirocket, Worms, (permutation, {'max_segments': 5, 'seg_mode': 'equal'}) DONE\n"
     ]
    },
    {
     "name": "stderr",
     "output_type": "stream",
     "text": [
      "/Users/Pongpanod.Sa/Desktop/cu/thesis/coding/pun_master_thesis/time_series_augmentation/utils/augmentation.py:33: VisibleDeprecationWarning: Creating an ndarray from ragged nested sequences (which is a list-or-tuple of lists-or-tuples-or ndarrays with different lengths or shapes) is deprecated. If you meant to do this, you must specify 'dtype=object' when creating the ndarray.\n",
      "  warp = np.concatenate(np.random.permutation(splits)).ravel()\n",
      "<__array_function__ internals>:180: VisibleDeprecationWarning: Creating an ndarray from ragged nested sequences (which is a list-or-tuple of lists-or-tuples-or ndarrays with different lengths or shapes) is deprecated. If you meant to do this, you must specify 'dtype=object' when creating the ndarray.\n"
     ]
    },
    {
     "name": "stdout",
     "output_type": "stream",
     "text": [
      "minirocket, Yoga, (permutation, {'max_segments': 5, 'seg_mode': 'equal'}) DONE\n"
     ]
    }
   ],
   "source": [
    "# AUGMENTED Manual Loop\n",
    "variation = 'minirocket'\n",
    "classifer = {'name':variation, 'function': RocketClassifier(rocket_transform=variation)}\n",
    "dataset = read_UCR_dataset_name()\n",
    "augment = {'name':'permutation', 'function': permutation, 'params': {'max_segments':5, \"seg_mode\":\"equal\"}}\n",
    "for i in dataset:\n",
    "    training_two = Experiment(classifer, i, augment)\n",
    "    training_two.run_all()"
   ]
  },
  {
   "cell_type": "code",
   "execution_count": 5,
   "metadata": {},
   "outputs": [
    {
     "name": "stderr",
     "output_type": "stream",
     "text": [
      "/Users/Pongpanod.Sa/Desktop/cu/thesis/coding/pun_master_thesis/time_series_augmentation/utils/augmentation.py:33: VisibleDeprecationWarning: Creating an ndarray from ragged nested sequences (which is a list-or-tuple of lists-or-tuples-or ndarrays with different lengths or shapes) is deprecated. If you meant to do this, you must specify 'dtype=object' when creating the ndarray.\n",
      "  warp = np.concatenate(np.random.permutation(splits)).ravel()\n",
      "<__array_function__ internals>:180: VisibleDeprecationWarning: Creating an ndarray from ragged nested sequences (which is a list-or-tuple of lists-or-tuples-or ndarrays with different lengths or shapes) is deprecated. If you meant to do this, you must specify 'dtype=object' when creating the ndarray.\n"
     ]
    },
    {
     "name": "stdout",
     "output_type": "stream",
     "text": [
      "minirocket, Adiac, (permutation, {'max_segments': 5, 'seg_mode': 'random'}) DONE\n"
     ]
    },
    {
     "name": "stderr",
     "output_type": "stream",
     "text": [
      "/Users/Pongpanod.Sa/Desktop/cu/thesis/coding/pun_master_thesis/time_series_augmentation/utils/augmentation.py:33: VisibleDeprecationWarning: Creating an ndarray from ragged nested sequences (which is a list-or-tuple of lists-or-tuples-or ndarrays with different lengths or shapes) is deprecated. If you meant to do this, you must specify 'dtype=object' when creating the ndarray.\n",
      "  warp = np.concatenate(np.random.permutation(splits)).ravel()\n",
      "<__array_function__ internals>:180: VisibleDeprecationWarning: Creating an ndarray from ragged nested sequences (which is a list-or-tuple of lists-or-tuples-or ndarrays with different lengths or shapes) is deprecated. If you meant to do this, you must specify 'dtype=object' when creating the ndarray.\n"
     ]
    },
    {
     "name": "stdout",
     "output_type": "stream",
     "text": [
      "minirocket, ArrowHead, (permutation, {'max_segments': 5, 'seg_mode': 'random'}) DONE\n"
     ]
    },
    {
     "name": "stderr",
     "output_type": "stream",
     "text": [
      "/Users/Pongpanod.Sa/Desktop/cu/thesis/coding/pun_master_thesis/time_series_augmentation/utils/augmentation.py:33: VisibleDeprecationWarning: Creating an ndarray from ragged nested sequences (which is a list-or-tuple of lists-or-tuples-or ndarrays with different lengths or shapes) is deprecated. If you meant to do this, you must specify 'dtype=object' when creating the ndarray.\n",
      "  warp = np.concatenate(np.random.permutation(splits)).ravel()\n",
      "<__array_function__ internals>:180: VisibleDeprecationWarning: Creating an ndarray from ragged nested sequences (which is a list-or-tuple of lists-or-tuples-or ndarrays with different lengths or shapes) is deprecated. If you meant to do this, you must specify 'dtype=object' when creating the ndarray.\n"
     ]
    },
    {
     "name": "stdout",
     "output_type": "stream",
     "text": [
      "minirocket, Beef, (permutation, {'max_segments': 5, 'seg_mode': 'random'}) DONE\n"
     ]
    },
    {
     "name": "stderr",
     "output_type": "stream",
     "text": [
      "/Users/Pongpanod.Sa/Desktop/cu/thesis/coding/pun_master_thesis/time_series_augmentation/utils/augmentation.py:33: VisibleDeprecationWarning: Creating an ndarray from ragged nested sequences (which is a list-or-tuple of lists-or-tuples-or ndarrays with different lengths or shapes) is deprecated. If you meant to do this, you must specify 'dtype=object' when creating the ndarray.\n",
      "  warp = np.concatenate(np.random.permutation(splits)).ravel()\n",
      "<__array_function__ internals>:180: VisibleDeprecationWarning: Creating an ndarray from ragged nested sequences (which is a list-or-tuple of lists-or-tuples-or ndarrays with different lengths or shapes) is deprecated. If you meant to do this, you must specify 'dtype=object' when creating the ndarray.\n"
     ]
    },
    {
     "name": "stdout",
     "output_type": "stream",
     "text": [
      "minirocket, BeetleFly, (permutation, {'max_segments': 5, 'seg_mode': 'random'}) DONE\n"
     ]
    },
    {
     "name": "stderr",
     "output_type": "stream",
     "text": [
      "/Users/Pongpanod.Sa/Desktop/cu/thesis/coding/pun_master_thesis/time_series_augmentation/utils/augmentation.py:33: VisibleDeprecationWarning: Creating an ndarray from ragged nested sequences (which is a list-or-tuple of lists-or-tuples-or ndarrays with different lengths or shapes) is deprecated. If you meant to do this, you must specify 'dtype=object' when creating the ndarray.\n",
      "  warp = np.concatenate(np.random.permutation(splits)).ravel()\n",
      "<__array_function__ internals>:180: VisibleDeprecationWarning: Creating an ndarray from ragged nested sequences (which is a list-or-tuple of lists-or-tuples-or ndarrays with different lengths or shapes) is deprecated. If you meant to do this, you must specify 'dtype=object' when creating the ndarray.\n"
     ]
    },
    {
     "name": "stdout",
     "output_type": "stream",
     "text": [
      "minirocket, Car, (permutation, {'max_segments': 5, 'seg_mode': 'random'}) DONE\n"
     ]
    },
    {
     "name": "stderr",
     "output_type": "stream",
     "text": [
      "/Users/Pongpanod.Sa/Desktop/cu/thesis/coding/pun_master_thesis/time_series_augmentation/utils/augmentation.py:33: VisibleDeprecationWarning: Creating an ndarray from ragged nested sequences (which is a list-or-tuple of lists-or-tuples-or ndarrays with different lengths or shapes) is deprecated. If you meant to do this, you must specify 'dtype=object' when creating the ndarray.\n",
      "  warp = np.concatenate(np.random.permutation(splits)).ravel()\n",
      "<__array_function__ internals>:180: VisibleDeprecationWarning: Creating an ndarray from ragged nested sequences (which is a list-or-tuple of lists-or-tuples-or ndarrays with different lengths or shapes) is deprecated. If you meant to do this, you must specify 'dtype=object' when creating the ndarray.\n"
     ]
    },
    {
     "name": "stdout",
     "output_type": "stream",
     "text": [
      "minirocket, ChlorineConcentration, (permutation, {'max_segments': 5, 'seg_mode': 'random'}) DONE\n"
     ]
    },
    {
     "name": "stderr",
     "output_type": "stream",
     "text": [
      "/Users/Pongpanod.Sa/Desktop/cu/thesis/coding/pun_master_thesis/time_series_augmentation/utils/augmentation.py:33: VisibleDeprecationWarning: Creating an ndarray from ragged nested sequences (which is a list-or-tuple of lists-or-tuples-or ndarrays with different lengths or shapes) is deprecated. If you meant to do this, you must specify 'dtype=object' when creating the ndarray.\n",
      "  warp = np.concatenate(np.random.permutation(splits)).ravel()\n",
      "<__array_function__ internals>:180: VisibleDeprecationWarning: Creating an ndarray from ragged nested sequences (which is a list-or-tuple of lists-or-tuples-or ndarrays with different lengths or shapes) is deprecated. If you meant to do this, you must specify 'dtype=object' when creating the ndarray.\n"
     ]
    },
    {
     "name": "stdout",
     "output_type": "stream",
     "text": [
      "minirocket, CinCECGTorso, (permutation, {'max_segments': 5, 'seg_mode': 'random'}) DONE\n"
     ]
    },
    {
     "name": "stderr",
     "output_type": "stream",
     "text": [
      "/Users/Pongpanod.Sa/Desktop/cu/thesis/coding/pun_master_thesis/time_series_augmentation/utils/augmentation.py:33: VisibleDeprecationWarning: Creating an ndarray from ragged nested sequences (which is a list-or-tuple of lists-or-tuples-or ndarrays with different lengths or shapes) is deprecated. If you meant to do this, you must specify 'dtype=object' when creating the ndarray.\n",
      "  warp = np.concatenate(np.random.permutation(splits)).ravel()\n",
      "<__array_function__ internals>:180: VisibleDeprecationWarning: Creating an ndarray from ragged nested sequences (which is a list-or-tuple of lists-or-tuples-or ndarrays with different lengths or shapes) is deprecated. If you meant to do this, you must specify 'dtype=object' when creating the ndarray.\n"
     ]
    },
    {
     "name": "stdout",
     "output_type": "stream",
     "text": [
      "minirocket, Computers, (permutation, {'max_segments': 5, 'seg_mode': 'random'}) DONE\n"
     ]
    },
    {
     "name": "stderr",
     "output_type": "stream",
     "text": [
      "/Users/Pongpanod.Sa/Desktop/cu/thesis/coding/pun_master_thesis/time_series_augmentation/utils/augmentation.py:33: VisibleDeprecationWarning: Creating an ndarray from ragged nested sequences (which is a list-or-tuple of lists-or-tuples-or ndarrays with different lengths or shapes) is deprecated. If you meant to do this, you must specify 'dtype=object' when creating the ndarray.\n",
      "  warp = np.concatenate(np.random.permutation(splits)).ravel()\n",
      "<__array_function__ internals>:180: VisibleDeprecationWarning: Creating an ndarray from ragged nested sequences (which is a list-or-tuple of lists-or-tuples-or ndarrays with different lengths or shapes) is deprecated. If you meant to do this, you must specify 'dtype=object' when creating the ndarray.\n"
     ]
    },
    {
     "name": "stdout",
     "output_type": "stream",
     "text": [
      "minirocket, DistalPhalanxOutlineAgeGroup, (permutation, {'max_segments': 5, 'seg_mode': 'random'}) DONE\n"
     ]
    },
    {
     "name": "stderr",
     "output_type": "stream",
     "text": [
      "/Users/Pongpanod.Sa/Desktop/cu/thesis/coding/pun_master_thesis/time_series_augmentation/utils/augmentation.py:33: VisibleDeprecationWarning: Creating an ndarray from ragged nested sequences (which is a list-or-tuple of lists-or-tuples-or ndarrays with different lengths or shapes) is deprecated. If you meant to do this, you must specify 'dtype=object' when creating the ndarray.\n",
      "  warp = np.concatenate(np.random.permutation(splits)).ravel()\n",
      "<__array_function__ internals>:180: VisibleDeprecationWarning: Creating an ndarray from ragged nested sequences (which is a list-or-tuple of lists-or-tuples-or ndarrays with different lengths or shapes) is deprecated. If you meant to do this, you must specify 'dtype=object' when creating the ndarray.\n"
     ]
    },
    {
     "name": "stdout",
     "output_type": "stream",
     "text": [
      "minirocket, DistalPhalanxOutlineCorrect, (permutation, {'max_segments': 5, 'seg_mode': 'random'}) DONE\n"
     ]
    },
    {
     "name": "stderr",
     "output_type": "stream",
     "text": [
      "/Users/Pongpanod.Sa/Desktop/cu/thesis/coding/pun_master_thesis/time_series_augmentation/utils/augmentation.py:33: VisibleDeprecationWarning: Creating an ndarray from ragged nested sequences (which is a list-or-tuple of lists-or-tuples-or ndarrays with different lengths or shapes) is deprecated. If you meant to do this, you must specify 'dtype=object' when creating the ndarray.\n",
      "  warp = np.concatenate(np.random.permutation(splits)).ravel()\n",
      "<__array_function__ internals>:180: VisibleDeprecationWarning: Creating an ndarray from ragged nested sequences (which is a list-or-tuple of lists-or-tuples-or ndarrays with different lengths or shapes) is deprecated. If you meant to do this, you must specify 'dtype=object' when creating the ndarray.\n"
     ]
    },
    {
     "name": "stdout",
     "output_type": "stream",
     "text": [
      "minirocket, DistalPhalanxTW, (permutation, {'max_segments': 5, 'seg_mode': 'random'}) DONE\n"
     ]
    },
    {
     "name": "stderr",
     "output_type": "stream",
     "text": [
      "/Users/Pongpanod.Sa/Desktop/cu/thesis/coding/pun_master_thesis/time_series_augmentation/utils/augmentation.py:33: VisibleDeprecationWarning: Creating an ndarray from ragged nested sequences (which is a list-or-tuple of lists-or-tuples-or ndarrays with different lengths or shapes) is deprecated. If you meant to do this, you must specify 'dtype=object' when creating the ndarray.\n",
      "  warp = np.concatenate(np.random.permutation(splits)).ravel()\n",
      "<__array_function__ internals>:180: VisibleDeprecationWarning: Creating an ndarray from ragged nested sequences (which is a list-or-tuple of lists-or-tuples-or ndarrays with different lengths or shapes) is deprecated. If you meant to do this, you must specify 'dtype=object' when creating the ndarray.\n"
     ]
    },
    {
     "name": "stdout",
     "output_type": "stream",
     "text": [
      "minirocket, Earthquakes, (permutation, {'max_segments': 5, 'seg_mode': 'random'}) DONE\n"
     ]
    },
    {
     "name": "stderr",
     "output_type": "stream",
     "text": [
      "/Users/Pongpanod.Sa/Desktop/cu/thesis/coding/pun_master_thesis/time_series_augmentation/utils/augmentation.py:33: VisibleDeprecationWarning: Creating an ndarray from ragged nested sequences (which is a list-or-tuple of lists-or-tuples-or ndarrays with different lengths or shapes) is deprecated. If you meant to do this, you must specify 'dtype=object' when creating the ndarray.\n",
      "  warp = np.concatenate(np.random.permutation(splits)).ravel()\n",
      "<__array_function__ internals>:180: VisibleDeprecationWarning: Creating an ndarray from ragged nested sequences (which is a list-or-tuple of lists-or-tuples-or ndarrays with different lengths or shapes) is deprecated. If you meant to do this, you must specify 'dtype=object' when creating the ndarray.\n"
     ]
    },
    {
     "name": "stdout",
     "output_type": "stream",
     "text": [
      "minirocket, ECG200, (permutation, {'max_segments': 5, 'seg_mode': 'random'}) DONE\n"
     ]
    },
    {
     "name": "stderr",
     "output_type": "stream",
     "text": [
      "/Users/Pongpanod.Sa/Desktop/cu/thesis/coding/pun_master_thesis/time_series_augmentation/utils/augmentation.py:33: VisibleDeprecationWarning: Creating an ndarray from ragged nested sequences (which is a list-or-tuple of lists-or-tuples-or ndarrays with different lengths or shapes) is deprecated. If you meant to do this, you must specify 'dtype=object' when creating the ndarray.\n",
      "  warp = np.concatenate(np.random.permutation(splits)).ravel()\n",
      "<__array_function__ internals>:180: VisibleDeprecationWarning: Creating an ndarray from ragged nested sequences (which is a list-or-tuple of lists-or-tuples-or ndarrays with different lengths or shapes) is deprecated. If you meant to do this, you must specify 'dtype=object' when creating the ndarray.\n",
      "/Users/Pongpanod.Sa/miniconda3/envs/thesis3.10/lib/python3.10/site-packages/sklearn/metrics/_classification.py:1327: UndefinedMetricWarning: Precision and F-score are ill-defined and being set to 0.0 in labels with no predicted samples. Use `zero_division` parameter to control this behavior.\n",
      "  _warn_prf(average, modifier, msg_start, len(result))\n"
     ]
    },
    {
     "name": "stdout",
     "output_type": "stream",
     "text": [
      "minirocket, ECG5000, (permutation, {'max_segments': 5, 'seg_mode': 'random'}) DONE\n"
     ]
    },
    {
     "name": "stderr",
     "output_type": "stream",
     "text": [
      "/Users/Pongpanod.Sa/Desktop/cu/thesis/coding/pun_master_thesis/time_series_augmentation/utils/augmentation.py:33: VisibleDeprecationWarning: Creating an ndarray from ragged nested sequences (which is a list-or-tuple of lists-or-tuples-or ndarrays with different lengths or shapes) is deprecated. If you meant to do this, you must specify 'dtype=object' when creating the ndarray.\n",
      "  warp = np.concatenate(np.random.permutation(splits)).ravel()\n",
      "<__array_function__ internals>:180: VisibleDeprecationWarning: Creating an ndarray from ragged nested sequences (which is a list-or-tuple of lists-or-tuples-or ndarrays with different lengths or shapes) is deprecated. If you meant to do this, you must specify 'dtype=object' when creating the ndarray.\n"
     ]
    },
    {
     "name": "stdout",
     "output_type": "stream",
     "text": [
      "minirocket, ElectricDevices, (permutation, {'max_segments': 5, 'seg_mode': 'random'}) DONE\n"
     ]
    },
    {
     "name": "stderr",
     "output_type": "stream",
     "text": [
      "/Users/Pongpanod.Sa/Desktop/cu/thesis/coding/pun_master_thesis/time_series_augmentation/utils/augmentation.py:33: VisibleDeprecationWarning: Creating an ndarray from ragged nested sequences (which is a list-or-tuple of lists-or-tuples-or ndarrays with different lengths or shapes) is deprecated. If you meant to do this, you must specify 'dtype=object' when creating the ndarray.\n",
      "  warp = np.concatenate(np.random.permutation(splits)).ravel()\n",
      "<__array_function__ internals>:180: VisibleDeprecationWarning: Creating an ndarray from ragged nested sequences (which is a list-or-tuple of lists-or-tuples-or ndarrays with different lengths or shapes) is deprecated. If you meant to do this, you must specify 'dtype=object' when creating the ndarray.\n"
     ]
    },
    {
     "name": "stdout",
     "output_type": "stream",
     "text": [
      "minirocket, FaceAll, (permutation, {'max_segments': 5, 'seg_mode': 'random'}) DONE\n"
     ]
    },
    {
     "name": "stderr",
     "output_type": "stream",
     "text": [
      "/Users/Pongpanod.Sa/Desktop/cu/thesis/coding/pun_master_thesis/time_series_augmentation/utils/augmentation.py:33: VisibleDeprecationWarning: Creating an ndarray from ragged nested sequences (which is a list-or-tuple of lists-or-tuples-or ndarrays with different lengths or shapes) is deprecated. If you meant to do this, you must specify 'dtype=object' when creating the ndarray.\n",
      "  warp = np.concatenate(np.random.permutation(splits)).ravel()\n",
      "<__array_function__ internals>:180: VisibleDeprecationWarning: Creating an ndarray from ragged nested sequences (which is a list-or-tuple of lists-or-tuples-or ndarrays with different lengths or shapes) is deprecated. If you meant to do this, you must specify 'dtype=object' when creating the ndarray.\n",
      "/Users/Pongpanod.Sa/miniconda3/envs/thesis3.10/lib/python3.10/site-packages/sklearn/metrics/_classification.py:1327: UndefinedMetricWarning: Precision and F-score are ill-defined and being set to 0.0 in labels with no predicted samples. Use `zero_division` parameter to control this behavior.\n",
      "  _warn_prf(average, modifier, msg_start, len(result))\n"
     ]
    },
    {
     "name": "stdout",
     "output_type": "stream",
     "text": [
      "minirocket, FiftyWords, (permutation, {'max_segments': 5, 'seg_mode': 'random'}) DONE\n"
     ]
    },
    {
     "name": "stderr",
     "output_type": "stream",
     "text": [
      "/Users/Pongpanod.Sa/Desktop/cu/thesis/coding/pun_master_thesis/time_series_augmentation/utils/augmentation.py:33: VisibleDeprecationWarning: Creating an ndarray from ragged nested sequences (which is a list-or-tuple of lists-or-tuples-or ndarrays with different lengths or shapes) is deprecated. If you meant to do this, you must specify 'dtype=object' when creating the ndarray.\n",
      "  warp = np.concatenate(np.random.permutation(splits)).ravel()\n",
      "<__array_function__ internals>:180: VisibleDeprecationWarning: Creating an ndarray from ragged nested sequences (which is a list-or-tuple of lists-or-tuples-or ndarrays with different lengths or shapes) is deprecated. If you meant to do this, you must specify 'dtype=object' when creating the ndarray.\n"
     ]
    },
    {
     "name": "stdout",
     "output_type": "stream",
     "text": [
      "minirocket, FordB, (permutation, {'max_segments': 5, 'seg_mode': 'random'}) DONE\n"
     ]
    },
    {
     "name": "stderr",
     "output_type": "stream",
     "text": [
      "/Users/Pongpanod.Sa/Desktop/cu/thesis/coding/pun_master_thesis/time_series_augmentation/utils/augmentation.py:33: VisibleDeprecationWarning: Creating an ndarray from ragged nested sequences (which is a list-or-tuple of lists-or-tuples-or ndarrays with different lengths or shapes) is deprecated. If you meant to do this, you must specify 'dtype=object' when creating the ndarray.\n",
      "  warp = np.concatenate(np.random.permutation(splits)).ravel()\n",
      "<__array_function__ internals>:180: VisibleDeprecationWarning: Creating an ndarray from ragged nested sequences (which is a list-or-tuple of lists-or-tuples-or ndarrays with different lengths or shapes) is deprecated. If you meant to do this, you must specify 'dtype=object' when creating the ndarray.\n"
     ]
    },
    {
     "name": "stdout",
     "output_type": "stream",
     "text": [
      "minirocket, Ham, (permutation, {'max_segments': 5, 'seg_mode': 'random'}) DONE\n"
     ]
    },
    {
     "name": "stderr",
     "output_type": "stream",
     "text": [
      "/Users/Pongpanod.Sa/Desktop/cu/thesis/coding/pun_master_thesis/time_series_augmentation/utils/augmentation.py:33: VisibleDeprecationWarning: Creating an ndarray from ragged nested sequences (which is a list-or-tuple of lists-or-tuples-or ndarrays with different lengths or shapes) is deprecated. If you meant to do this, you must specify 'dtype=object' when creating the ndarray.\n",
      "  warp = np.concatenate(np.random.permutation(splits)).ravel()\n",
      "<__array_function__ internals>:180: VisibleDeprecationWarning: Creating an ndarray from ragged nested sequences (which is a list-or-tuple of lists-or-tuples-or ndarrays with different lengths or shapes) is deprecated. If you meant to do this, you must specify 'dtype=object' when creating the ndarray.\n"
     ]
    },
    {
     "name": "stdout",
     "output_type": "stream",
     "text": [
      "minirocket, HandOutlines, (permutation, {'max_segments': 5, 'seg_mode': 'random'}) DONE\n"
     ]
    },
    {
     "name": "stderr",
     "output_type": "stream",
     "text": [
      "/Users/Pongpanod.Sa/Desktop/cu/thesis/coding/pun_master_thesis/time_series_augmentation/utils/augmentation.py:33: VisibleDeprecationWarning: Creating an ndarray from ragged nested sequences (which is a list-or-tuple of lists-or-tuples-or ndarrays with different lengths or shapes) is deprecated. If you meant to do this, you must specify 'dtype=object' when creating the ndarray.\n",
      "  warp = np.concatenate(np.random.permutation(splits)).ravel()\n",
      "<__array_function__ internals>:180: VisibleDeprecationWarning: Creating an ndarray from ragged nested sequences (which is a list-or-tuple of lists-or-tuples-or ndarrays with different lengths or shapes) is deprecated. If you meant to do this, you must specify 'dtype=object' when creating the ndarray.\n"
     ]
    },
    {
     "name": "stdout",
     "output_type": "stream",
     "text": [
      "minirocket, Haptics, (permutation, {'max_segments': 5, 'seg_mode': 'random'}) DONE\n"
     ]
    },
    {
     "name": "stderr",
     "output_type": "stream",
     "text": [
      "/Users/Pongpanod.Sa/Desktop/cu/thesis/coding/pun_master_thesis/time_series_augmentation/utils/augmentation.py:33: VisibleDeprecationWarning: Creating an ndarray from ragged nested sequences (which is a list-or-tuple of lists-or-tuples-or ndarrays with different lengths or shapes) is deprecated. If you meant to do this, you must specify 'dtype=object' when creating the ndarray.\n",
      "  warp = np.concatenate(np.random.permutation(splits)).ravel()\n",
      "<__array_function__ internals>:180: VisibleDeprecationWarning: Creating an ndarray from ragged nested sequences (which is a list-or-tuple of lists-or-tuples-or ndarrays with different lengths or shapes) is deprecated. If you meant to do this, you must specify 'dtype=object' when creating the ndarray.\n"
     ]
    },
    {
     "name": "stdout",
     "output_type": "stream",
     "text": [
      "minirocket, Herring, (permutation, {'max_segments': 5, 'seg_mode': 'random'}) DONE\n"
     ]
    },
    {
     "name": "stderr",
     "output_type": "stream",
     "text": [
      "/Users/Pongpanod.Sa/Desktop/cu/thesis/coding/pun_master_thesis/time_series_augmentation/utils/augmentation.py:33: VisibleDeprecationWarning: Creating an ndarray from ragged nested sequences (which is a list-or-tuple of lists-or-tuples-or ndarrays with different lengths or shapes) is deprecated. If you meant to do this, you must specify 'dtype=object' when creating the ndarray.\n",
      "  warp = np.concatenate(np.random.permutation(splits)).ravel()\n",
      "<__array_function__ internals>:180: VisibleDeprecationWarning: Creating an ndarray from ragged nested sequences (which is a list-or-tuple of lists-or-tuples-or ndarrays with different lengths or shapes) is deprecated. If you meant to do this, you must specify 'dtype=object' when creating the ndarray.\n"
     ]
    },
    {
     "name": "stdout",
     "output_type": "stream",
     "text": [
      "minirocket, InlineSkate, (permutation, {'max_segments': 5, 'seg_mode': 'random'}) DONE\n"
     ]
    },
    {
     "name": "stderr",
     "output_type": "stream",
     "text": [
      "/Users/Pongpanod.Sa/Desktop/cu/thesis/coding/pun_master_thesis/time_series_augmentation/utils/augmentation.py:33: VisibleDeprecationWarning: Creating an ndarray from ragged nested sequences (which is a list-or-tuple of lists-or-tuples-or ndarrays with different lengths or shapes) is deprecated. If you meant to do this, you must specify 'dtype=object' when creating the ndarray.\n",
      "  warp = np.concatenate(np.random.permutation(splits)).ravel()\n",
      "<__array_function__ internals>:180: VisibleDeprecationWarning: Creating an ndarray from ragged nested sequences (which is a list-or-tuple of lists-or-tuples-or ndarrays with different lengths or shapes) is deprecated. If you meant to do this, you must specify 'dtype=object' when creating the ndarray.\n"
     ]
    },
    {
     "name": "stdout",
     "output_type": "stream",
     "text": [
      "minirocket, InsectWingbeatSound, (permutation, {'max_segments': 5, 'seg_mode': 'random'}) DONE\n"
     ]
    },
    {
     "name": "stderr",
     "output_type": "stream",
     "text": [
      "/Users/Pongpanod.Sa/Desktop/cu/thesis/coding/pun_master_thesis/time_series_augmentation/utils/augmentation.py:33: VisibleDeprecationWarning: Creating an ndarray from ragged nested sequences (which is a list-or-tuple of lists-or-tuples-or ndarrays with different lengths or shapes) is deprecated. If you meant to do this, you must specify 'dtype=object' when creating the ndarray.\n",
      "  warp = np.concatenate(np.random.permutation(splits)).ravel()\n",
      "<__array_function__ internals>:180: VisibleDeprecationWarning: Creating an ndarray from ragged nested sequences (which is a list-or-tuple of lists-or-tuples-or ndarrays with different lengths or shapes) is deprecated. If you meant to do this, you must specify 'dtype=object' when creating the ndarray.\n"
     ]
    },
    {
     "name": "stdout",
     "output_type": "stream",
     "text": [
      "minirocket, Lightning2, (permutation, {'max_segments': 5, 'seg_mode': 'random'}) DONE\n"
     ]
    },
    {
     "name": "stderr",
     "output_type": "stream",
     "text": [
      "/Users/Pongpanod.Sa/Desktop/cu/thesis/coding/pun_master_thesis/time_series_augmentation/utils/augmentation.py:33: VisibleDeprecationWarning: Creating an ndarray from ragged nested sequences (which is a list-or-tuple of lists-or-tuples-or ndarrays with different lengths or shapes) is deprecated. If you meant to do this, you must specify 'dtype=object' when creating the ndarray.\n",
      "  warp = np.concatenate(np.random.permutation(splits)).ravel()\n",
      "<__array_function__ internals>:180: VisibleDeprecationWarning: Creating an ndarray from ragged nested sequences (which is a list-or-tuple of lists-or-tuples-or ndarrays with different lengths or shapes) is deprecated. If you meant to do this, you must specify 'dtype=object' when creating the ndarray.\n"
     ]
    },
    {
     "name": "stdout",
     "output_type": "stream",
     "text": [
      "minirocket, Mallat, (permutation, {'max_segments': 5, 'seg_mode': 'random'}) DONE\n"
     ]
    },
    {
     "name": "stderr",
     "output_type": "stream",
     "text": [
      "/Users/Pongpanod.Sa/Desktop/cu/thesis/coding/pun_master_thesis/time_series_augmentation/utils/augmentation.py:33: VisibleDeprecationWarning: Creating an ndarray from ragged nested sequences (which is a list-or-tuple of lists-or-tuples-or ndarrays with different lengths or shapes) is deprecated. If you meant to do this, you must specify 'dtype=object' when creating the ndarray.\n",
      "  warp = np.concatenate(np.random.permutation(splits)).ravel()\n",
      "<__array_function__ internals>:180: VisibleDeprecationWarning: Creating an ndarray from ragged nested sequences (which is a list-or-tuple of lists-or-tuples-or ndarrays with different lengths or shapes) is deprecated. If you meant to do this, you must specify 'dtype=object' when creating the ndarray.\n"
     ]
    },
    {
     "name": "stdout",
     "output_type": "stream",
     "text": [
      "minirocket, MedicalImages, (permutation, {'max_segments': 5, 'seg_mode': 'random'}) DONE\n"
     ]
    },
    {
     "name": "stderr",
     "output_type": "stream",
     "text": [
      "/Users/Pongpanod.Sa/Desktop/cu/thesis/coding/pun_master_thesis/time_series_augmentation/utils/augmentation.py:33: VisibleDeprecationWarning: Creating an ndarray from ragged nested sequences (which is a list-or-tuple of lists-or-tuples-or ndarrays with different lengths or shapes) is deprecated. If you meant to do this, you must specify 'dtype=object' when creating the ndarray.\n",
      "  warp = np.concatenate(np.random.permutation(splits)).ravel()\n",
      "<__array_function__ internals>:180: VisibleDeprecationWarning: Creating an ndarray from ragged nested sequences (which is a list-or-tuple of lists-or-tuples-or ndarrays with different lengths or shapes) is deprecated. If you meant to do this, you must specify 'dtype=object' when creating the ndarray.\n"
     ]
    },
    {
     "name": "stdout",
     "output_type": "stream",
     "text": [
      "minirocket, MiddlePhalanxOutlineAgeGroup, (permutation, {'max_segments': 5, 'seg_mode': 'random'}) DONE\n"
     ]
    },
    {
     "name": "stderr",
     "output_type": "stream",
     "text": [
      "/Users/Pongpanod.Sa/Desktop/cu/thesis/coding/pun_master_thesis/time_series_augmentation/utils/augmentation.py:33: VisibleDeprecationWarning: Creating an ndarray from ragged nested sequences (which is a list-or-tuple of lists-or-tuples-or ndarrays with different lengths or shapes) is deprecated. If you meant to do this, you must specify 'dtype=object' when creating the ndarray.\n",
      "  warp = np.concatenate(np.random.permutation(splits)).ravel()\n",
      "<__array_function__ internals>:180: VisibleDeprecationWarning: Creating an ndarray from ragged nested sequences (which is a list-or-tuple of lists-or-tuples-or ndarrays with different lengths or shapes) is deprecated. If you meant to do this, you must specify 'dtype=object' when creating the ndarray.\n"
     ]
    },
    {
     "name": "stdout",
     "output_type": "stream",
     "text": [
      "minirocket, MiddlePhalanxOutlineCorrect, (permutation, {'max_segments': 5, 'seg_mode': 'random'}) DONE\n"
     ]
    },
    {
     "name": "stderr",
     "output_type": "stream",
     "text": [
      "/Users/Pongpanod.Sa/Desktop/cu/thesis/coding/pun_master_thesis/time_series_augmentation/utils/augmentation.py:33: VisibleDeprecationWarning: Creating an ndarray from ragged nested sequences (which is a list-or-tuple of lists-or-tuples-or ndarrays with different lengths or shapes) is deprecated. If you meant to do this, you must specify 'dtype=object' when creating the ndarray.\n",
      "  warp = np.concatenate(np.random.permutation(splits)).ravel()\n",
      "<__array_function__ internals>:180: VisibleDeprecationWarning: Creating an ndarray from ragged nested sequences (which is a list-or-tuple of lists-or-tuples-or ndarrays with different lengths or shapes) is deprecated. If you meant to do this, you must specify 'dtype=object' when creating the ndarray.\n",
      "/Users/Pongpanod.Sa/miniconda3/envs/thesis3.10/lib/python3.10/site-packages/sklearn/metrics/_classification.py:1327: UndefinedMetricWarning: Precision and F-score are ill-defined and being set to 0.0 in labels with no predicted samples. Use `zero_division` parameter to control this behavior.\n",
      "  _warn_prf(average, modifier, msg_start, len(result))\n",
      "/Users/Pongpanod.Sa/Desktop/cu/thesis/coding/pun_master_thesis/time_series_augmentation/utils/augmentation.py:33: VisibleDeprecationWarning: Creating an ndarray from ragged nested sequences (which is a list-or-tuple of lists-or-tuples-or ndarrays with different lengths or shapes) is deprecated. If you meant to do this, you must specify 'dtype=object' when creating the ndarray.\n",
      "  warp = np.concatenate(np.random.permutation(splits)).ravel()\n",
      "<__array_function__ internals>:180: VisibleDeprecationWarning: Creating an ndarray from ragged nested sequences (which is a list-or-tuple of lists-or-tuples-or ndarrays with different lengths or shapes) is deprecated. If you meant to do this, you must specify 'dtype=object' when creating the ndarray.\n"
     ]
    },
    {
     "name": "stdout",
     "output_type": "stream",
     "text": [
      "minirocket, MiddlePhalanxTW, (permutation, {'max_segments': 5, 'seg_mode': 'random'}) DONE\n",
      "minirocket, MoteStrain, (permutation, {'max_segments': 5, 'seg_mode': 'random'}) DONE\n"
     ]
    },
    {
     "name": "stderr",
     "output_type": "stream",
     "text": [
      "/Users/Pongpanod.Sa/Desktop/cu/thesis/coding/pun_master_thesis/time_series_augmentation/utils/augmentation.py:33: VisibleDeprecationWarning: Creating an ndarray from ragged nested sequences (which is a list-or-tuple of lists-or-tuples-or ndarrays with different lengths or shapes) is deprecated. If you meant to do this, you must specify 'dtype=object' when creating the ndarray.\n",
      "  warp = np.concatenate(np.random.permutation(splits)).ravel()\n",
      "<__array_function__ internals>:180: VisibleDeprecationWarning: Creating an ndarray from ragged nested sequences (which is a list-or-tuple of lists-or-tuples-or ndarrays with different lengths or shapes) is deprecated. If you meant to do this, you must specify 'dtype=object' when creating the ndarray.\n"
     ]
    },
    {
     "name": "stdout",
     "output_type": "stream",
     "text": [
      "minirocket, OliveOil, (permutation, {'max_segments': 5, 'seg_mode': 'random'}) DONE\n"
     ]
    },
    {
     "name": "stderr",
     "output_type": "stream",
     "text": [
      "/Users/Pongpanod.Sa/Desktop/cu/thesis/coding/pun_master_thesis/time_series_augmentation/utils/augmentation.py:33: VisibleDeprecationWarning: Creating an ndarray from ragged nested sequences (which is a list-or-tuple of lists-or-tuples-or ndarrays with different lengths or shapes) is deprecated. If you meant to do this, you must specify 'dtype=object' when creating the ndarray.\n",
      "  warp = np.concatenate(np.random.permutation(splits)).ravel()\n",
      "<__array_function__ internals>:180: VisibleDeprecationWarning: Creating an ndarray from ragged nested sequences (which is a list-or-tuple of lists-or-tuples-or ndarrays with different lengths or shapes) is deprecated. If you meant to do this, you must specify 'dtype=object' when creating the ndarray.\n"
     ]
    },
    {
     "name": "stdout",
     "output_type": "stream",
     "text": [
      "minirocket, OSULeaf, (permutation, {'max_segments': 5, 'seg_mode': 'random'}) DONE\n"
     ]
    },
    {
     "name": "stderr",
     "output_type": "stream",
     "text": [
      "/Users/Pongpanod.Sa/Desktop/cu/thesis/coding/pun_master_thesis/time_series_augmentation/utils/augmentation.py:33: VisibleDeprecationWarning: Creating an ndarray from ragged nested sequences (which is a list-or-tuple of lists-or-tuples-or ndarrays with different lengths or shapes) is deprecated. If you meant to do this, you must specify 'dtype=object' when creating the ndarray.\n",
      "  warp = np.concatenate(np.random.permutation(splits)).ravel()\n",
      "<__array_function__ internals>:180: VisibleDeprecationWarning: Creating an ndarray from ragged nested sequences (which is a list-or-tuple of lists-or-tuples-or ndarrays with different lengths or shapes) is deprecated. If you meant to do this, you must specify 'dtype=object' when creating the ndarray.\n"
     ]
    },
    {
     "name": "stdout",
     "output_type": "stream",
     "text": [
      "minirocket, PhalangesOutlinesCorrect, (permutation, {'max_segments': 5, 'seg_mode': 'random'}) DONE\n"
     ]
    },
    {
     "name": "stderr",
     "output_type": "stream",
     "text": [
      "/Users/Pongpanod.Sa/Desktop/cu/thesis/coding/pun_master_thesis/time_series_augmentation/utils/augmentation.py:33: VisibleDeprecationWarning: Creating an ndarray from ragged nested sequences (which is a list-or-tuple of lists-or-tuples-or ndarrays with different lengths or shapes) is deprecated. If you meant to do this, you must specify 'dtype=object' when creating the ndarray.\n",
      "  warp = np.concatenate(np.random.permutation(splits)).ravel()\n",
      "<__array_function__ internals>:180: VisibleDeprecationWarning: Creating an ndarray from ragged nested sequences (which is a list-or-tuple of lists-or-tuples-or ndarrays with different lengths or shapes) is deprecated. If you meant to do this, you must specify 'dtype=object' when creating the ndarray.\n",
      "/Users/Pongpanod.Sa/miniconda3/envs/thesis3.10/lib/python3.10/site-packages/sklearn/metrics/_classification.py:1327: UndefinedMetricWarning: Precision and F-score are ill-defined and being set to 0.0 in labels with no predicted samples. Use `zero_division` parameter to control this behavior.\n",
      "  _warn_prf(average, modifier, msg_start, len(result))\n",
      "/Users/Pongpanod.Sa/Desktop/cu/thesis/coding/pun_master_thesis/time_series_augmentation/utils/augmentation.py:33: VisibleDeprecationWarning: Creating an ndarray from ragged nested sequences (which is a list-or-tuple of lists-or-tuples-or ndarrays with different lengths or shapes) is deprecated. If you meant to do this, you must specify 'dtype=object' when creating the ndarray.\n",
      "  warp = np.concatenate(np.random.permutation(splits)).ravel()\n",
      "<__array_function__ internals>:180: VisibleDeprecationWarning: Creating an ndarray from ragged nested sequences (which is a list-or-tuple of lists-or-tuples-or ndarrays with different lengths or shapes) is deprecated. If you meant to do this, you must specify 'dtype=object' when creating the ndarray.\n"
     ]
    },
    {
     "name": "stdout",
     "output_type": "stream",
     "text": [
      "minirocket, Phoneme, (permutation, {'max_segments': 5, 'seg_mode': 'random'}) DONE\n",
      "minirocket, ProximalPhalanxOutlineAgeGroup, (permutation, {'max_segments': 5, 'seg_mode': 'random'}) DONE\n"
     ]
    },
    {
     "name": "stderr",
     "output_type": "stream",
     "text": [
      "/Users/Pongpanod.Sa/Desktop/cu/thesis/coding/pun_master_thesis/time_series_augmentation/utils/augmentation.py:33: VisibleDeprecationWarning: Creating an ndarray from ragged nested sequences (which is a list-or-tuple of lists-or-tuples-or ndarrays with different lengths or shapes) is deprecated. If you meant to do this, you must specify 'dtype=object' when creating the ndarray.\n",
      "  warp = np.concatenate(np.random.permutation(splits)).ravel()\n",
      "<__array_function__ internals>:180: VisibleDeprecationWarning: Creating an ndarray from ragged nested sequences (which is a list-or-tuple of lists-or-tuples-or ndarrays with different lengths or shapes) is deprecated. If you meant to do this, you must specify 'dtype=object' when creating the ndarray.\n"
     ]
    },
    {
     "name": "stdout",
     "output_type": "stream",
     "text": [
      "minirocket, ProximalPhalanxOutlineCorrect, (permutation, {'max_segments': 5, 'seg_mode': 'random'}) DONE\n"
     ]
    },
    {
     "name": "stderr",
     "output_type": "stream",
     "text": [
      "/Users/Pongpanod.Sa/Desktop/cu/thesis/coding/pun_master_thesis/time_series_augmentation/utils/augmentation.py:33: VisibleDeprecationWarning: Creating an ndarray from ragged nested sequences (which is a list-or-tuple of lists-or-tuples-or ndarrays with different lengths or shapes) is deprecated. If you meant to do this, you must specify 'dtype=object' when creating the ndarray.\n",
      "  warp = np.concatenate(np.random.permutation(splits)).ravel()\n",
      "<__array_function__ internals>:180: VisibleDeprecationWarning: Creating an ndarray from ragged nested sequences (which is a list-or-tuple of lists-or-tuples-or ndarrays with different lengths or shapes) is deprecated. If you meant to do this, you must specify 'dtype=object' when creating the ndarray.\n"
     ]
    },
    {
     "name": "stdout",
     "output_type": "stream",
     "text": [
      "minirocket, ProximalPhalanxTW, (permutation, {'max_segments': 5, 'seg_mode': 'random'}) DONE\n"
     ]
    },
    {
     "name": "stderr",
     "output_type": "stream",
     "text": [
      "/Users/Pongpanod.Sa/Desktop/cu/thesis/coding/pun_master_thesis/time_series_augmentation/utils/augmentation.py:33: VisibleDeprecationWarning: Creating an ndarray from ragged nested sequences (which is a list-or-tuple of lists-or-tuples-or ndarrays with different lengths or shapes) is deprecated. If you meant to do this, you must specify 'dtype=object' when creating the ndarray.\n",
      "  warp = np.concatenate(np.random.permutation(splits)).ravel()\n",
      "<__array_function__ internals>:180: VisibleDeprecationWarning: Creating an ndarray from ragged nested sequences (which is a list-or-tuple of lists-or-tuples-or ndarrays with different lengths or shapes) is deprecated. If you meant to do this, you must specify 'dtype=object' when creating the ndarray.\n"
     ]
    },
    {
     "name": "stdout",
     "output_type": "stream",
     "text": [
      "minirocket, ScreenType, (permutation, {'max_segments': 5, 'seg_mode': 'random'}) DONE\n"
     ]
    },
    {
     "name": "stderr",
     "output_type": "stream",
     "text": [
      "/Users/Pongpanod.Sa/Desktop/cu/thesis/coding/pun_master_thesis/time_series_augmentation/utils/augmentation.py:33: VisibleDeprecationWarning: Creating an ndarray from ragged nested sequences (which is a list-or-tuple of lists-or-tuples-or ndarrays with different lengths or shapes) is deprecated. If you meant to do this, you must specify 'dtype=object' when creating the ndarray.\n",
      "  warp = np.concatenate(np.random.permutation(splits)).ravel()\n",
      "<__array_function__ internals>:180: VisibleDeprecationWarning: Creating an ndarray from ragged nested sequences (which is a list-or-tuple of lists-or-tuples-or ndarrays with different lengths or shapes) is deprecated. If you meant to do this, you must specify 'dtype=object' when creating the ndarray.\n"
     ]
    },
    {
     "name": "stdout",
     "output_type": "stream",
     "text": [
      "minirocket, ShapesAll, (permutation, {'max_segments': 5, 'seg_mode': 'random'}) DONE\n"
     ]
    },
    {
     "name": "stderr",
     "output_type": "stream",
     "text": [
      "/Users/Pongpanod.Sa/Desktop/cu/thesis/coding/pun_master_thesis/time_series_augmentation/utils/augmentation.py:33: VisibleDeprecationWarning: Creating an ndarray from ragged nested sequences (which is a list-or-tuple of lists-or-tuples-or ndarrays with different lengths or shapes) is deprecated. If you meant to do this, you must specify 'dtype=object' when creating the ndarray.\n",
      "  warp = np.concatenate(np.random.permutation(splits)).ravel()\n",
      "<__array_function__ internals>:180: VisibleDeprecationWarning: Creating an ndarray from ragged nested sequences (which is a list-or-tuple of lists-or-tuples-or ndarrays with different lengths or shapes) is deprecated. If you meant to do this, you must specify 'dtype=object' when creating the ndarray.\n"
     ]
    },
    {
     "name": "stdout",
     "output_type": "stream",
     "text": [
      "minirocket, SmallKitchenAppliances, (permutation, {'max_segments': 5, 'seg_mode': 'random'}) DONE\n"
     ]
    },
    {
     "name": "stderr",
     "output_type": "stream",
     "text": [
      "/Users/Pongpanod.Sa/Desktop/cu/thesis/coding/pun_master_thesis/time_series_augmentation/utils/augmentation.py:33: VisibleDeprecationWarning: Creating an ndarray from ragged nested sequences (which is a list-or-tuple of lists-or-tuples-or ndarrays with different lengths or shapes) is deprecated. If you meant to do this, you must specify 'dtype=object' when creating the ndarray.\n",
      "  warp = np.concatenate(np.random.permutation(splits)).ravel()\n",
      "<__array_function__ internals>:180: VisibleDeprecationWarning: Creating an ndarray from ragged nested sequences (which is a list-or-tuple of lists-or-tuples-or ndarrays with different lengths or shapes) is deprecated. If you meant to do this, you must specify 'dtype=object' when creating the ndarray.\n"
     ]
    },
    {
     "name": "stdout",
     "output_type": "stream",
     "text": [
      "minirocket, SonyAIBORobotSurface1, (permutation, {'max_segments': 5, 'seg_mode': 'random'}) DONE\n"
     ]
    },
    {
     "name": "stderr",
     "output_type": "stream",
     "text": [
      "/Users/Pongpanod.Sa/Desktop/cu/thesis/coding/pun_master_thesis/time_series_augmentation/utils/augmentation.py:33: VisibleDeprecationWarning: Creating an ndarray from ragged nested sequences (which is a list-or-tuple of lists-or-tuples-or ndarrays with different lengths or shapes) is deprecated. If you meant to do this, you must specify 'dtype=object' when creating the ndarray.\n",
      "  warp = np.concatenate(np.random.permutation(splits)).ravel()\n",
      "<__array_function__ internals>:180: VisibleDeprecationWarning: Creating an ndarray from ragged nested sequences (which is a list-or-tuple of lists-or-tuples-or ndarrays with different lengths or shapes) is deprecated. If you meant to do this, you must specify 'dtype=object' when creating the ndarray.\n"
     ]
    },
    {
     "name": "stdout",
     "output_type": "stream",
     "text": [
      "minirocket, SonyAIBORobotSurface2, (permutation, {'max_segments': 5, 'seg_mode': 'random'}) DONE\n"
     ]
    },
    {
     "name": "stderr",
     "output_type": "stream",
     "text": [
      "/Users/Pongpanod.Sa/Desktop/cu/thesis/coding/pun_master_thesis/time_series_augmentation/utils/augmentation.py:33: VisibleDeprecationWarning: Creating an ndarray from ragged nested sequences (which is a list-or-tuple of lists-or-tuples-or ndarrays with different lengths or shapes) is deprecated. If you meant to do this, you must specify 'dtype=object' when creating the ndarray.\n",
      "  warp = np.concatenate(np.random.permutation(splits)).ravel()\n",
      "<__array_function__ internals>:180: VisibleDeprecationWarning: Creating an ndarray from ragged nested sequences (which is a list-or-tuple of lists-or-tuples-or ndarrays with different lengths or shapes) is deprecated. If you meant to do this, you must specify 'dtype=object' when creating the ndarray.\n"
     ]
    },
    {
     "name": "stdout",
     "output_type": "stream",
     "text": [
      "minirocket, ToeSegmentation2, (permutation, {'max_segments': 5, 'seg_mode': 'random'}) DONE\n"
     ]
    },
    {
     "name": "stderr",
     "output_type": "stream",
     "text": [
      "/Users/Pongpanod.Sa/Desktop/cu/thesis/coding/pun_master_thesis/time_series_augmentation/utils/augmentation.py:33: VisibleDeprecationWarning: Creating an ndarray from ragged nested sequences (which is a list-or-tuple of lists-or-tuples-or ndarrays with different lengths or shapes) is deprecated. If you meant to do this, you must specify 'dtype=object' when creating the ndarray.\n",
      "  warp = np.concatenate(np.random.permutation(splits)).ravel()\n",
      "<__array_function__ internals>:180: VisibleDeprecationWarning: Creating an ndarray from ragged nested sequences (which is a list-or-tuple of lists-or-tuples-or ndarrays with different lengths or shapes) is deprecated. If you meant to do this, you must specify 'dtype=object' when creating the ndarray.\n"
     ]
    },
    {
     "name": "stdout",
     "output_type": "stream",
     "text": [
      "minirocket, Wine, (permutation, {'max_segments': 5, 'seg_mode': 'random'}) DONE\n"
     ]
    },
    {
     "name": "stderr",
     "output_type": "stream",
     "text": [
      "/Users/Pongpanod.Sa/Desktop/cu/thesis/coding/pun_master_thesis/time_series_augmentation/utils/augmentation.py:33: VisibleDeprecationWarning: Creating an ndarray from ragged nested sequences (which is a list-or-tuple of lists-or-tuples-or ndarrays with different lengths or shapes) is deprecated. If you meant to do this, you must specify 'dtype=object' when creating the ndarray.\n",
      "  warp = np.concatenate(np.random.permutation(splits)).ravel()\n",
      "<__array_function__ internals>:180: VisibleDeprecationWarning: Creating an ndarray from ragged nested sequences (which is a list-or-tuple of lists-or-tuples-or ndarrays with different lengths or shapes) is deprecated. If you meant to do this, you must specify 'dtype=object' when creating the ndarray.\n",
      "/Users/Pongpanod.Sa/miniconda3/envs/thesis3.10/lib/python3.10/site-packages/sklearn/metrics/_classification.py:1327: UndefinedMetricWarning: Precision and F-score are ill-defined and being set to 0.0 in labels with no predicted samples. Use `zero_division` parameter to control this behavior.\n",
      "  _warn_prf(average, modifier, msg_start, len(result))\n",
      "/Users/Pongpanod.Sa/Desktop/cu/thesis/coding/pun_master_thesis/time_series_augmentation/utils/augmentation.py:33: VisibleDeprecationWarning: Creating an ndarray from ragged nested sequences (which is a list-or-tuple of lists-or-tuples-or ndarrays with different lengths or shapes) is deprecated. If you meant to do this, you must specify 'dtype=object' when creating the ndarray.\n",
      "  warp = np.concatenate(np.random.permutation(splits)).ravel()\n",
      "<__array_function__ internals>:180: VisibleDeprecationWarning: Creating an ndarray from ragged nested sequences (which is a list-or-tuple of lists-or-tuples-or ndarrays with different lengths or shapes) is deprecated. If you meant to do this, you must specify 'dtype=object' when creating the ndarray.\n"
     ]
    },
    {
     "name": "stdout",
     "output_type": "stream",
     "text": [
      "minirocket, WordSynonyms, (permutation, {'max_segments': 5, 'seg_mode': 'random'}) DONE\n",
      "minirocket, Worms, (permutation, {'max_segments': 5, 'seg_mode': 'random'}) DONE\n"
     ]
    },
    {
     "name": "stderr",
     "output_type": "stream",
     "text": [
      "/Users/Pongpanod.Sa/Desktop/cu/thesis/coding/pun_master_thesis/time_series_augmentation/utils/augmentation.py:33: VisibleDeprecationWarning: Creating an ndarray from ragged nested sequences (which is a list-or-tuple of lists-or-tuples-or ndarrays with different lengths or shapes) is deprecated. If you meant to do this, you must specify 'dtype=object' when creating the ndarray.\n",
      "  warp = np.concatenate(np.random.permutation(splits)).ravel()\n",
      "<__array_function__ internals>:180: VisibleDeprecationWarning: Creating an ndarray from ragged nested sequences (which is a list-or-tuple of lists-or-tuples-or ndarrays with different lengths or shapes) is deprecated. If you meant to do this, you must specify 'dtype=object' when creating the ndarray.\n"
     ]
    },
    {
     "name": "stdout",
     "output_type": "stream",
     "text": [
      "minirocket, Yoga, (permutation, {'max_segments': 5, 'seg_mode': 'random'}) DONE\n"
     ]
    }
   ],
   "source": [
    "# AUGMENTED Manual Loop\n",
    "variation = 'minirocket'\n",
    "classifer = {'name':variation, 'function': RocketClassifier(rocket_transform=variation)}\n",
    "dataset = read_UCR_dataset_name()\n",
    "augment = {'name':'permutation', 'function': permutation, 'params': {'max_segments':5, \"seg_mode\":\"random\"}}\n",
    "for i in dataset:\n",
    "    training_two = Experiment(classifer, i, augment)\n",
    "    training_two.run_all()"
   ]
  },
  {
   "cell_type": "code",
   "execution_count": 6,
   "metadata": {},
   "outputs": [
    {
     "name": "stdout",
     "output_type": "stream",
     "text": [
      "minirocket, Adiac, (permutation, {'max_segments': 2, 'seg_mode': 'equal'}) DONE\n",
      "minirocket, ArrowHead, (permutation, {'max_segments': 2, 'seg_mode': 'equal'}) DONE\n",
      "minirocket, Beef, (permutation, {'max_segments': 2, 'seg_mode': 'equal'}) DONE\n",
      "minirocket, BeetleFly, (permutation, {'max_segments': 2, 'seg_mode': 'equal'}) DONE\n",
      "minirocket, Car, (permutation, {'max_segments': 2, 'seg_mode': 'equal'}) DONE\n",
      "minirocket, ChlorineConcentration, (permutation, {'max_segments': 2, 'seg_mode': 'equal'}) DONE\n",
      "minirocket, CinCECGTorso, (permutation, {'max_segments': 2, 'seg_mode': 'equal'}) DONE\n",
      "minirocket, Computers, (permutation, {'max_segments': 2, 'seg_mode': 'equal'}) DONE\n",
      "minirocket, DistalPhalanxOutlineAgeGroup, (permutation, {'max_segments': 2, 'seg_mode': 'equal'}) DONE\n",
      "minirocket, DistalPhalanxOutlineCorrect, (permutation, {'max_segments': 2, 'seg_mode': 'equal'}) DONE\n",
      "minirocket, DistalPhalanxTW, (permutation, {'max_segments': 2, 'seg_mode': 'equal'}) DONE\n",
      "minirocket, Earthquakes, (permutation, {'max_segments': 2, 'seg_mode': 'equal'}) DONE\n",
      "minirocket, ECG200, (permutation, {'max_segments': 2, 'seg_mode': 'equal'}) DONE\n",
      "minirocket, ECG5000, (permutation, {'max_segments': 2, 'seg_mode': 'equal'}) DONE\n",
      "minirocket, ElectricDevices, (permutation, {'max_segments': 2, 'seg_mode': 'equal'}) DONE\n",
      "minirocket, FaceAll, (permutation, {'max_segments': 2, 'seg_mode': 'equal'}) DONE\n"
     ]
    },
    {
     "name": "stderr",
     "output_type": "stream",
     "text": [
      "/Users/Pongpanod.Sa/miniconda3/envs/thesis3.10/lib/python3.10/site-packages/sklearn/metrics/_classification.py:1327: UndefinedMetricWarning: Precision and F-score are ill-defined and being set to 0.0 in labels with no predicted samples. Use `zero_division` parameter to control this behavior.\n",
      "  _warn_prf(average, modifier, msg_start, len(result))\n"
     ]
    },
    {
     "name": "stdout",
     "output_type": "stream",
     "text": [
      "minirocket, FiftyWords, (permutation, {'max_segments': 2, 'seg_mode': 'equal'}) DONE\n",
      "minirocket, FordB, (permutation, {'max_segments': 2, 'seg_mode': 'equal'}) DONE\n",
      "minirocket, Ham, (permutation, {'max_segments': 2, 'seg_mode': 'equal'}) DONE\n",
      "minirocket, HandOutlines, (permutation, {'max_segments': 2, 'seg_mode': 'equal'}) DONE\n",
      "minirocket, Haptics, (permutation, {'max_segments': 2, 'seg_mode': 'equal'}) DONE\n",
      "minirocket, Herring, (permutation, {'max_segments': 2, 'seg_mode': 'equal'}) DONE\n",
      "minirocket, InlineSkate, (permutation, {'max_segments': 2, 'seg_mode': 'equal'}) DONE\n",
      "minirocket, InsectWingbeatSound, (permutation, {'max_segments': 2, 'seg_mode': 'equal'}) DONE\n",
      "minirocket, Lightning2, (permutation, {'max_segments': 2, 'seg_mode': 'equal'}) DONE\n",
      "minirocket, Mallat, (permutation, {'max_segments': 2, 'seg_mode': 'equal'}) DONE\n",
      "minirocket, MedicalImages, (permutation, {'max_segments': 2, 'seg_mode': 'equal'}) DONE\n",
      "minirocket, MiddlePhalanxOutlineAgeGroup, (permutation, {'max_segments': 2, 'seg_mode': 'equal'}) DONE\n",
      "minirocket, MiddlePhalanxOutlineCorrect, (permutation, {'max_segments': 2, 'seg_mode': 'equal'}) DONE\n"
     ]
    },
    {
     "name": "stderr",
     "output_type": "stream",
     "text": [
      "/Users/Pongpanod.Sa/miniconda3/envs/thesis3.10/lib/python3.10/site-packages/sklearn/metrics/_classification.py:1327: UndefinedMetricWarning: Precision and F-score are ill-defined and being set to 0.0 in labels with no predicted samples. Use `zero_division` parameter to control this behavior.\n",
      "  _warn_prf(average, modifier, msg_start, len(result))\n"
     ]
    },
    {
     "name": "stdout",
     "output_type": "stream",
     "text": [
      "minirocket, MiddlePhalanxTW, (permutation, {'max_segments': 2, 'seg_mode': 'equal'}) DONE\n",
      "minirocket, MoteStrain, (permutation, {'max_segments': 2, 'seg_mode': 'equal'}) DONE\n",
      "minirocket, OliveOil, (permutation, {'max_segments': 2, 'seg_mode': 'equal'}) DONE\n",
      "minirocket, OSULeaf, (permutation, {'max_segments': 2, 'seg_mode': 'equal'}) DONE\n",
      "minirocket, PhalangesOutlinesCorrect, (permutation, {'max_segments': 2, 'seg_mode': 'equal'}) DONE\n"
     ]
    },
    {
     "name": "stderr",
     "output_type": "stream",
     "text": [
      "/Users/Pongpanod.Sa/miniconda3/envs/thesis3.10/lib/python3.10/site-packages/sklearn/metrics/_classification.py:1327: UndefinedMetricWarning: Precision and F-score are ill-defined and being set to 0.0 in labels with no predicted samples. Use `zero_division` parameter to control this behavior.\n",
      "  _warn_prf(average, modifier, msg_start, len(result))\n"
     ]
    },
    {
     "name": "stdout",
     "output_type": "stream",
     "text": [
      "minirocket, Phoneme, (permutation, {'max_segments': 2, 'seg_mode': 'equal'}) DONE\n",
      "minirocket, ProximalPhalanxOutlineAgeGroup, (permutation, {'max_segments': 2, 'seg_mode': 'equal'}) DONE\n",
      "minirocket, ProximalPhalanxOutlineCorrect, (permutation, {'max_segments': 2, 'seg_mode': 'equal'}) DONE\n",
      "minirocket, ProximalPhalanxTW, (permutation, {'max_segments': 2, 'seg_mode': 'equal'}) DONE\n",
      "minirocket, ScreenType, (permutation, {'max_segments': 2, 'seg_mode': 'equal'}) DONE\n",
      "minirocket, ShapesAll, (permutation, {'max_segments': 2, 'seg_mode': 'equal'}) DONE\n",
      "minirocket, SmallKitchenAppliances, (permutation, {'max_segments': 2, 'seg_mode': 'equal'}) DONE\n",
      "minirocket, SonyAIBORobotSurface1, (permutation, {'max_segments': 2, 'seg_mode': 'equal'}) DONE\n",
      "minirocket, SonyAIBORobotSurface2, (permutation, {'max_segments': 2, 'seg_mode': 'equal'}) DONE\n",
      "minirocket, ToeSegmentation2, (permutation, {'max_segments': 2, 'seg_mode': 'equal'}) DONE\n",
      "minirocket, Wine, (permutation, {'max_segments': 2, 'seg_mode': 'equal'}) DONE\n"
     ]
    },
    {
     "name": "stderr",
     "output_type": "stream",
     "text": [
      "/Users/Pongpanod.Sa/miniconda3/envs/thesis3.10/lib/python3.10/site-packages/sklearn/metrics/_classification.py:1327: UndefinedMetricWarning: Precision and F-score are ill-defined and being set to 0.0 in labels with no predicted samples. Use `zero_division` parameter to control this behavior.\n",
      "  _warn_prf(average, modifier, msg_start, len(result))\n"
     ]
    },
    {
     "name": "stdout",
     "output_type": "stream",
     "text": [
      "minirocket, WordSynonyms, (permutation, {'max_segments': 2, 'seg_mode': 'equal'}) DONE\n",
      "minirocket, Worms, (permutation, {'max_segments': 2, 'seg_mode': 'equal'}) DONE\n",
      "minirocket, Yoga, (permutation, {'max_segments': 2, 'seg_mode': 'equal'}) DONE\n"
     ]
    }
   ],
   "source": [
    "# AUGMENTED Manual Loop\n",
    "variation = 'minirocket'\n",
    "classifer = {'name':variation, 'function': RocketClassifier(rocket_transform=variation)}\n",
    "dataset = read_UCR_dataset_name()\n",
    "augment = {'name':'permutation', 'function': permutation, 'params': {'max_segments':2, \"seg_mode\":\"equal\"}}\n",
    "for i in dataset:\n",
    "    training_two = Experiment(classifer, i, augment)\n",
    "    training_two.run_all()"
   ]
  },
  {
   "cell_type": "code",
   "execution_count": 7,
   "metadata": {},
   "outputs": [
    {
     "name": "stderr",
     "output_type": "stream",
     "text": [
      "/Users/Pongpanod.Sa/Desktop/cu/thesis/coding/pun_master_thesis/time_series_augmentation/utils/augmentation.py:33: VisibleDeprecationWarning: Creating an ndarray from ragged nested sequences (which is a list-or-tuple of lists-or-tuples-or ndarrays with different lengths or shapes) is deprecated. If you meant to do this, you must specify 'dtype=object' when creating the ndarray.\n",
      "  warp = np.concatenate(np.random.permutation(splits)).ravel()\n",
      "<__array_function__ internals>:180: VisibleDeprecationWarning: Creating an ndarray from ragged nested sequences (which is a list-or-tuple of lists-or-tuples-or ndarrays with different lengths or shapes) is deprecated. If you meant to do this, you must specify 'dtype=object' when creating the ndarray.\n"
     ]
    },
    {
     "name": "stdout",
     "output_type": "stream",
     "text": [
      "minirocket, Adiac, (permutation, {'max_segments': 4, 'seg_mode': 'equal'}) DONE\n"
     ]
    },
    {
     "name": "stderr",
     "output_type": "stream",
     "text": [
      "/Users/Pongpanod.Sa/Desktop/cu/thesis/coding/pun_master_thesis/time_series_augmentation/utils/augmentation.py:33: VisibleDeprecationWarning: Creating an ndarray from ragged nested sequences (which is a list-or-tuple of lists-or-tuples-or ndarrays with different lengths or shapes) is deprecated. If you meant to do this, you must specify 'dtype=object' when creating the ndarray.\n",
      "  warp = np.concatenate(np.random.permutation(splits)).ravel()\n",
      "<__array_function__ internals>:180: VisibleDeprecationWarning: Creating an ndarray from ragged nested sequences (which is a list-or-tuple of lists-or-tuples-or ndarrays with different lengths or shapes) is deprecated. If you meant to do this, you must specify 'dtype=object' when creating the ndarray.\n"
     ]
    },
    {
     "name": "stdout",
     "output_type": "stream",
     "text": [
      "minirocket, ArrowHead, (permutation, {'max_segments': 4, 'seg_mode': 'equal'}) DONE\n"
     ]
    },
    {
     "name": "stderr",
     "output_type": "stream",
     "text": [
      "/Users/Pongpanod.Sa/Desktop/cu/thesis/coding/pun_master_thesis/time_series_augmentation/utils/augmentation.py:33: VisibleDeprecationWarning: Creating an ndarray from ragged nested sequences (which is a list-or-tuple of lists-or-tuples-or ndarrays with different lengths or shapes) is deprecated. If you meant to do this, you must specify 'dtype=object' when creating the ndarray.\n",
      "  warp = np.concatenate(np.random.permutation(splits)).ravel()\n",
      "<__array_function__ internals>:180: VisibleDeprecationWarning: Creating an ndarray from ragged nested sequences (which is a list-or-tuple of lists-or-tuples-or ndarrays with different lengths or shapes) is deprecated. If you meant to do this, you must specify 'dtype=object' when creating the ndarray.\n"
     ]
    },
    {
     "name": "stdout",
     "output_type": "stream",
     "text": [
      "minirocket, Beef, (permutation, {'max_segments': 4, 'seg_mode': 'equal'}) DONE\n"
     ]
    },
    {
     "name": "stderr",
     "output_type": "stream",
     "text": [
      "/Users/Pongpanod.Sa/Desktop/cu/thesis/coding/pun_master_thesis/time_series_augmentation/utils/augmentation.py:33: VisibleDeprecationWarning: Creating an ndarray from ragged nested sequences (which is a list-or-tuple of lists-or-tuples-or ndarrays with different lengths or shapes) is deprecated. If you meant to do this, you must specify 'dtype=object' when creating the ndarray.\n",
      "  warp = np.concatenate(np.random.permutation(splits)).ravel()\n",
      "<__array_function__ internals>:180: VisibleDeprecationWarning: Creating an ndarray from ragged nested sequences (which is a list-or-tuple of lists-or-tuples-or ndarrays with different lengths or shapes) is deprecated. If you meant to do this, you must specify 'dtype=object' when creating the ndarray.\n"
     ]
    },
    {
     "name": "stdout",
     "output_type": "stream",
     "text": [
      "minirocket, BeetleFly, (permutation, {'max_segments': 4, 'seg_mode': 'equal'}) DONE\n"
     ]
    },
    {
     "name": "stderr",
     "output_type": "stream",
     "text": [
      "/Users/Pongpanod.Sa/Desktop/cu/thesis/coding/pun_master_thesis/time_series_augmentation/utils/augmentation.py:33: VisibleDeprecationWarning: Creating an ndarray from ragged nested sequences (which is a list-or-tuple of lists-or-tuples-or ndarrays with different lengths or shapes) is deprecated. If you meant to do this, you must specify 'dtype=object' when creating the ndarray.\n",
      "  warp = np.concatenate(np.random.permutation(splits)).ravel()\n",
      "<__array_function__ internals>:180: VisibleDeprecationWarning: Creating an ndarray from ragged nested sequences (which is a list-or-tuple of lists-or-tuples-or ndarrays with different lengths or shapes) is deprecated. If you meant to do this, you must specify 'dtype=object' when creating the ndarray.\n"
     ]
    },
    {
     "name": "stdout",
     "output_type": "stream",
     "text": [
      "minirocket, Car, (permutation, {'max_segments': 4, 'seg_mode': 'equal'}) DONE\n"
     ]
    },
    {
     "name": "stderr",
     "output_type": "stream",
     "text": [
      "/Users/Pongpanod.Sa/Desktop/cu/thesis/coding/pun_master_thesis/time_series_augmentation/utils/augmentation.py:33: VisibleDeprecationWarning: Creating an ndarray from ragged nested sequences (which is a list-or-tuple of lists-or-tuples-or ndarrays with different lengths or shapes) is deprecated. If you meant to do this, you must specify 'dtype=object' when creating the ndarray.\n",
      "  warp = np.concatenate(np.random.permutation(splits)).ravel()\n",
      "<__array_function__ internals>:180: VisibleDeprecationWarning: Creating an ndarray from ragged nested sequences (which is a list-or-tuple of lists-or-tuples-or ndarrays with different lengths or shapes) is deprecated. If you meant to do this, you must specify 'dtype=object' when creating the ndarray.\n"
     ]
    },
    {
     "name": "stdout",
     "output_type": "stream",
     "text": [
      "minirocket, ChlorineConcentration, (permutation, {'max_segments': 4, 'seg_mode': 'equal'}) DONE\n"
     ]
    },
    {
     "name": "stderr",
     "output_type": "stream",
     "text": [
      "/Users/Pongpanod.Sa/Desktop/cu/thesis/coding/pun_master_thesis/time_series_augmentation/utils/augmentation.py:33: VisibleDeprecationWarning: Creating an ndarray from ragged nested sequences (which is a list-or-tuple of lists-or-tuples-or ndarrays with different lengths or shapes) is deprecated. If you meant to do this, you must specify 'dtype=object' when creating the ndarray.\n",
      "  warp = np.concatenate(np.random.permutation(splits)).ravel()\n",
      "<__array_function__ internals>:180: VisibleDeprecationWarning: Creating an ndarray from ragged nested sequences (which is a list-or-tuple of lists-or-tuples-or ndarrays with different lengths or shapes) is deprecated. If you meant to do this, you must specify 'dtype=object' when creating the ndarray.\n"
     ]
    },
    {
     "name": "stdout",
     "output_type": "stream",
     "text": [
      "minirocket, CinCECGTorso, (permutation, {'max_segments': 4, 'seg_mode': 'equal'}) DONE\n",
      "minirocket, Computers, (permutation, {'max_segments': 4, 'seg_mode': 'equal'}) DONE\n"
     ]
    },
    {
     "name": "stderr",
     "output_type": "stream",
     "text": [
      "/Users/Pongpanod.Sa/Desktop/cu/thesis/coding/pun_master_thesis/time_series_augmentation/utils/augmentation.py:33: VisibleDeprecationWarning: Creating an ndarray from ragged nested sequences (which is a list-or-tuple of lists-or-tuples-or ndarrays with different lengths or shapes) is deprecated. If you meant to do this, you must specify 'dtype=object' when creating the ndarray.\n",
      "  warp = np.concatenate(np.random.permutation(splits)).ravel()\n",
      "<__array_function__ internals>:180: VisibleDeprecationWarning: Creating an ndarray from ragged nested sequences (which is a list-or-tuple of lists-or-tuples-or ndarrays with different lengths or shapes) is deprecated. If you meant to do this, you must specify 'dtype=object' when creating the ndarray.\n"
     ]
    },
    {
     "name": "stdout",
     "output_type": "stream",
     "text": [
      "minirocket, DistalPhalanxOutlineAgeGroup, (permutation, {'max_segments': 4, 'seg_mode': 'equal'}) DONE\n"
     ]
    },
    {
     "name": "stderr",
     "output_type": "stream",
     "text": [
      "/Users/Pongpanod.Sa/Desktop/cu/thesis/coding/pun_master_thesis/time_series_augmentation/utils/augmentation.py:33: VisibleDeprecationWarning: Creating an ndarray from ragged nested sequences (which is a list-or-tuple of lists-or-tuples-or ndarrays with different lengths or shapes) is deprecated. If you meant to do this, you must specify 'dtype=object' when creating the ndarray.\n",
      "  warp = np.concatenate(np.random.permutation(splits)).ravel()\n",
      "<__array_function__ internals>:180: VisibleDeprecationWarning: Creating an ndarray from ragged nested sequences (which is a list-or-tuple of lists-or-tuples-or ndarrays with different lengths or shapes) is deprecated. If you meant to do this, you must specify 'dtype=object' when creating the ndarray.\n"
     ]
    },
    {
     "name": "stdout",
     "output_type": "stream",
     "text": [
      "minirocket, DistalPhalanxOutlineCorrect, (permutation, {'max_segments': 4, 'seg_mode': 'equal'}) DONE\n"
     ]
    },
    {
     "name": "stderr",
     "output_type": "stream",
     "text": [
      "/Users/Pongpanod.Sa/Desktop/cu/thesis/coding/pun_master_thesis/time_series_augmentation/utils/augmentation.py:33: VisibleDeprecationWarning: Creating an ndarray from ragged nested sequences (which is a list-or-tuple of lists-or-tuples-or ndarrays with different lengths or shapes) is deprecated. If you meant to do this, you must specify 'dtype=object' when creating the ndarray.\n",
      "  warp = np.concatenate(np.random.permutation(splits)).ravel()\n",
      "<__array_function__ internals>:180: VisibleDeprecationWarning: Creating an ndarray from ragged nested sequences (which is a list-or-tuple of lists-or-tuples-or ndarrays with different lengths or shapes) is deprecated. If you meant to do this, you must specify 'dtype=object' when creating the ndarray.\n",
      "/Users/Pongpanod.Sa/miniconda3/envs/thesis3.10/lib/python3.10/site-packages/sklearn/metrics/_classification.py:1327: UndefinedMetricWarning: Precision and F-score are ill-defined and being set to 0.0 in labels with no predicted samples. Use `zero_division` parameter to control this behavior.\n",
      "  _warn_prf(average, modifier, msg_start, len(result))\n",
      "/Users/Pongpanod.Sa/Desktop/cu/thesis/coding/pun_master_thesis/time_series_augmentation/utils/augmentation.py:33: VisibleDeprecationWarning: Creating an ndarray from ragged nested sequences (which is a list-or-tuple of lists-or-tuples-or ndarrays with different lengths or shapes) is deprecated. If you meant to do this, you must specify 'dtype=object' when creating the ndarray.\n",
      "  warp = np.concatenate(np.random.permutation(splits)).ravel()\n",
      "<__array_function__ internals>:180: VisibleDeprecationWarning: Creating an ndarray from ragged nested sequences (which is a list-or-tuple of lists-or-tuples-or ndarrays with different lengths or shapes) is deprecated. If you meant to do this, you must specify 'dtype=object' when creating the ndarray.\n"
     ]
    },
    {
     "name": "stdout",
     "output_type": "stream",
     "text": [
      "minirocket, DistalPhalanxTW, (permutation, {'max_segments': 4, 'seg_mode': 'equal'}) DONE\n",
      "minirocket, Earthquakes, (permutation, {'max_segments': 4, 'seg_mode': 'equal'}) DONE\n",
      "minirocket, ECG200, (permutation, {'max_segments': 4, 'seg_mode': 'equal'}) DONE\n"
     ]
    },
    {
     "name": "stderr",
     "output_type": "stream",
     "text": [
      "/Users/Pongpanod.Sa/Desktop/cu/thesis/coding/pun_master_thesis/time_series_augmentation/utils/augmentation.py:33: VisibleDeprecationWarning: Creating an ndarray from ragged nested sequences (which is a list-or-tuple of lists-or-tuples-or ndarrays with different lengths or shapes) is deprecated. If you meant to do this, you must specify 'dtype=object' when creating the ndarray.\n",
      "  warp = np.concatenate(np.random.permutation(splits)).ravel()\n",
      "<__array_function__ internals>:180: VisibleDeprecationWarning: Creating an ndarray from ragged nested sequences (which is a list-or-tuple of lists-or-tuples-or ndarrays with different lengths or shapes) is deprecated. If you meant to do this, you must specify 'dtype=object' when creating the ndarray.\n"
     ]
    },
    {
     "name": "stdout",
     "output_type": "stream",
     "text": [
      "minirocket, ECG5000, (permutation, {'max_segments': 4, 'seg_mode': 'equal'}) DONE\n",
      "minirocket, ElectricDevices, (permutation, {'max_segments': 4, 'seg_mode': 'equal'}) DONE\n"
     ]
    },
    {
     "name": "stderr",
     "output_type": "stream",
     "text": [
      "/Users/Pongpanod.Sa/Desktop/cu/thesis/coding/pun_master_thesis/time_series_augmentation/utils/augmentation.py:33: VisibleDeprecationWarning: Creating an ndarray from ragged nested sequences (which is a list-or-tuple of lists-or-tuples-or ndarrays with different lengths or shapes) is deprecated. If you meant to do this, you must specify 'dtype=object' when creating the ndarray.\n",
      "  warp = np.concatenate(np.random.permutation(splits)).ravel()\n",
      "<__array_function__ internals>:180: VisibleDeprecationWarning: Creating an ndarray from ragged nested sequences (which is a list-or-tuple of lists-or-tuples-or ndarrays with different lengths or shapes) is deprecated. If you meant to do this, you must specify 'dtype=object' when creating the ndarray.\n"
     ]
    },
    {
     "name": "stdout",
     "output_type": "stream",
     "text": [
      "minirocket, FaceAll, (permutation, {'max_segments': 4, 'seg_mode': 'equal'}) DONE\n"
     ]
    },
    {
     "name": "stderr",
     "output_type": "stream",
     "text": [
      "/Users/Pongpanod.Sa/miniconda3/envs/thesis3.10/lib/python3.10/site-packages/sklearn/metrics/_classification.py:1327: UndefinedMetricWarning: Precision and F-score are ill-defined and being set to 0.0 in labels with no predicted samples. Use `zero_division` parameter to control this behavior.\n",
      "  _warn_prf(average, modifier, msg_start, len(result))\n"
     ]
    },
    {
     "name": "stdout",
     "output_type": "stream",
     "text": [
      "minirocket, FiftyWords, (permutation, {'max_segments': 4, 'seg_mode': 'equal'}) DONE\n"
     ]
    },
    {
     "name": "stderr",
     "output_type": "stream",
     "text": [
      "/Users/Pongpanod.Sa/Desktop/cu/thesis/coding/pun_master_thesis/time_series_augmentation/utils/augmentation.py:33: VisibleDeprecationWarning: Creating an ndarray from ragged nested sequences (which is a list-or-tuple of lists-or-tuples-or ndarrays with different lengths or shapes) is deprecated. If you meant to do this, you must specify 'dtype=object' when creating the ndarray.\n",
      "  warp = np.concatenate(np.random.permutation(splits)).ravel()\n",
      "<__array_function__ internals>:180: VisibleDeprecationWarning: Creating an ndarray from ragged nested sequences (which is a list-or-tuple of lists-or-tuples-or ndarrays with different lengths or shapes) is deprecated. If you meant to do this, you must specify 'dtype=object' when creating the ndarray.\n"
     ]
    },
    {
     "name": "stdout",
     "output_type": "stream",
     "text": [
      "minirocket, FordB, (permutation, {'max_segments': 4, 'seg_mode': 'equal'}) DONE\n"
     ]
    },
    {
     "name": "stderr",
     "output_type": "stream",
     "text": [
      "/Users/Pongpanod.Sa/Desktop/cu/thesis/coding/pun_master_thesis/time_series_augmentation/utils/augmentation.py:33: VisibleDeprecationWarning: Creating an ndarray from ragged nested sequences (which is a list-or-tuple of lists-or-tuples-or ndarrays with different lengths or shapes) is deprecated. If you meant to do this, you must specify 'dtype=object' when creating the ndarray.\n",
      "  warp = np.concatenate(np.random.permutation(splits)).ravel()\n",
      "<__array_function__ internals>:180: VisibleDeprecationWarning: Creating an ndarray from ragged nested sequences (which is a list-or-tuple of lists-or-tuples-or ndarrays with different lengths or shapes) is deprecated. If you meant to do this, you must specify 'dtype=object' when creating the ndarray.\n"
     ]
    },
    {
     "name": "stdout",
     "output_type": "stream",
     "text": [
      "minirocket, Ham, (permutation, {'max_segments': 4, 'seg_mode': 'equal'}) DONE\n"
     ]
    },
    {
     "name": "stderr",
     "output_type": "stream",
     "text": [
      "/Users/Pongpanod.Sa/Desktop/cu/thesis/coding/pun_master_thesis/time_series_augmentation/utils/augmentation.py:33: VisibleDeprecationWarning: Creating an ndarray from ragged nested sequences (which is a list-or-tuple of lists-or-tuples-or ndarrays with different lengths or shapes) is deprecated. If you meant to do this, you must specify 'dtype=object' when creating the ndarray.\n",
      "  warp = np.concatenate(np.random.permutation(splits)).ravel()\n",
      "<__array_function__ internals>:180: VisibleDeprecationWarning: Creating an ndarray from ragged nested sequences (which is a list-or-tuple of lists-or-tuples-or ndarrays with different lengths or shapes) is deprecated. If you meant to do this, you must specify 'dtype=object' when creating the ndarray.\n"
     ]
    },
    {
     "name": "stdout",
     "output_type": "stream",
     "text": [
      "minirocket, HandOutlines, (permutation, {'max_segments': 4, 'seg_mode': 'equal'}) DONE\n",
      "minirocket, Haptics, (permutation, {'max_segments': 4, 'seg_mode': 'equal'}) DONE\n"
     ]
    },
    {
     "name": "stderr",
     "output_type": "stream",
     "text": [
      "/Users/Pongpanod.Sa/Desktop/cu/thesis/coding/pun_master_thesis/time_series_augmentation/utils/augmentation.py:33: VisibleDeprecationWarning: Creating an ndarray from ragged nested sequences (which is a list-or-tuple of lists-or-tuples-or ndarrays with different lengths or shapes) is deprecated. If you meant to do this, you must specify 'dtype=object' when creating the ndarray.\n",
      "  warp = np.concatenate(np.random.permutation(splits)).ravel()\n",
      "<__array_function__ internals>:180: VisibleDeprecationWarning: Creating an ndarray from ragged nested sequences (which is a list-or-tuple of lists-or-tuples-or ndarrays with different lengths or shapes) is deprecated. If you meant to do this, you must specify 'dtype=object' when creating the ndarray.\n"
     ]
    },
    {
     "name": "stdout",
     "output_type": "stream",
     "text": [
      "minirocket, Herring, (permutation, {'max_segments': 4, 'seg_mode': 'equal'}) DONE\n"
     ]
    },
    {
     "name": "stderr",
     "output_type": "stream",
     "text": [
      "/Users/Pongpanod.Sa/Desktop/cu/thesis/coding/pun_master_thesis/time_series_augmentation/utils/augmentation.py:33: VisibleDeprecationWarning: Creating an ndarray from ragged nested sequences (which is a list-or-tuple of lists-or-tuples-or ndarrays with different lengths or shapes) is deprecated. If you meant to do this, you must specify 'dtype=object' when creating the ndarray.\n",
      "  warp = np.concatenate(np.random.permutation(splits)).ravel()\n",
      "<__array_function__ internals>:180: VisibleDeprecationWarning: Creating an ndarray from ragged nested sequences (which is a list-or-tuple of lists-or-tuples-or ndarrays with different lengths or shapes) is deprecated. If you meant to do this, you must specify 'dtype=object' when creating the ndarray.\n"
     ]
    },
    {
     "name": "stdout",
     "output_type": "stream",
     "text": [
      "minirocket, InlineSkate, (permutation, {'max_segments': 4, 'seg_mode': 'equal'}) DONE\n"
     ]
    },
    {
     "name": "stderr",
     "output_type": "stream",
     "text": [
      "/Users/Pongpanod.Sa/Desktop/cu/thesis/coding/pun_master_thesis/time_series_augmentation/utils/augmentation.py:33: VisibleDeprecationWarning: Creating an ndarray from ragged nested sequences (which is a list-or-tuple of lists-or-tuples-or ndarrays with different lengths or shapes) is deprecated. If you meant to do this, you must specify 'dtype=object' when creating the ndarray.\n",
      "  warp = np.concatenate(np.random.permutation(splits)).ravel()\n",
      "<__array_function__ internals>:180: VisibleDeprecationWarning: Creating an ndarray from ragged nested sequences (which is a list-or-tuple of lists-or-tuples-or ndarrays with different lengths or shapes) is deprecated. If you meant to do this, you must specify 'dtype=object' when creating the ndarray.\n"
     ]
    },
    {
     "name": "stdout",
     "output_type": "stream",
     "text": [
      "minirocket, InsectWingbeatSound, (permutation, {'max_segments': 4, 'seg_mode': 'equal'}) DONE\n"
     ]
    },
    {
     "name": "stderr",
     "output_type": "stream",
     "text": [
      "/Users/Pongpanod.Sa/Desktop/cu/thesis/coding/pun_master_thesis/time_series_augmentation/utils/augmentation.py:33: VisibleDeprecationWarning: Creating an ndarray from ragged nested sequences (which is a list-or-tuple of lists-or-tuples-or ndarrays with different lengths or shapes) is deprecated. If you meant to do this, you must specify 'dtype=object' when creating the ndarray.\n",
      "  warp = np.concatenate(np.random.permutation(splits)).ravel()\n",
      "<__array_function__ internals>:180: VisibleDeprecationWarning: Creating an ndarray from ragged nested sequences (which is a list-or-tuple of lists-or-tuples-or ndarrays with different lengths or shapes) is deprecated. If you meant to do this, you must specify 'dtype=object' when creating the ndarray.\n"
     ]
    },
    {
     "name": "stdout",
     "output_type": "stream",
     "text": [
      "minirocket, Lightning2, (permutation, {'max_segments': 4, 'seg_mode': 'equal'}) DONE\n"
     ]
    },
    {
     "name": "stderr",
     "output_type": "stream",
     "text": [
      "/Users/Pongpanod.Sa/Desktop/cu/thesis/coding/pun_master_thesis/time_series_augmentation/utils/augmentation.py:33: VisibleDeprecationWarning: Creating an ndarray from ragged nested sequences (which is a list-or-tuple of lists-or-tuples-or ndarrays with different lengths or shapes) is deprecated. If you meant to do this, you must specify 'dtype=object' when creating the ndarray.\n",
      "  warp = np.concatenate(np.random.permutation(splits)).ravel()\n",
      "<__array_function__ internals>:180: VisibleDeprecationWarning: Creating an ndarray from ragged nested sequences (which is a list-or-tuple of lists-or-tuples-or ndarrays with different lengths or shapes) is deprecated. If you meant to do this, you must specify 'dtype=object' when creating the ndarray.\n"
     ]
    },
    {
     "name": "stdout",
     "output_type": "stream",
     "text": [
      "minirocket, Mallat, (permutation, {'max_segments': 4, 'seg_mode': 'equal'}) DONE\n"
     ]
    },
    {
     "name": "stderr",
     "output_type": "stream",
     "text": [
      "/Users/Pongpanod.Sa/Desktop/cu/thesis/coding/pun_master_thesis/time_series_augmentation/utils/augmentation.py:33: VisibleDeprecationWarning: Creating an ndarray from ragged nested sequences (which is a list-or-tuple of lists-or-tuples-or ndarrays with different lengths or shapes) is deprecated. If you meant to do this, you must specify 'dtype=object' when creating the ndarray.\n",
      "  warp = np.concatenate(np.random.permutation(splits)).ravel()\n",
      "<__array_function__ internals>:180: VisibleDeprecationWarning: Creating an ndarray from ragged nested sequences (which is a list-or-tuple of lists-or-tuples-or ndarrays with different lengths or shapes) is deprecated. If you meant to do this, you must specify 'dtype=object' when creating the ndarray.\n"
     ]
    },
    {
     "name": "stdout",
     "output_type": "stream",
     "text": [
      "minirocket, MedicalImages, (permutation, {'max_segments': 4, 'seg_mode': 'equal'}) DONE\n"
     ]
    },
    {
     "name": "stderr",
     "output_type": "stream",
     "text": [
      "/Users/Pongpanod.Sa/Desktop/cu/thesis/coding/pun_master_thesis/time_series_augmentation/utils/augmentation.py:33: VisibleDeprecationWarning: Creating an ndarray from ragged nested sequences (which is a list-or-tuple of lists-or-tuples-or ndarrays with different lengths or shapes) is deprecated. If you meant to do this, you must specify 'dtype=object' when creating the ndarray.\n",
      "  warp = np.concatenate(np.random.permutation(splits)).ravel()\n",
      "<__array_function__ internals>:180: VisibleDeprecationWarning: Creating an ndarray from ragged nested sequences (which is a list-or-tuple of lists-or-tuples-or ndarrays with different lengths or shapes) is deprecated. If you meant to do this, you must specify 'dtype=object' when creating the ndarray.\n"
     ]
    },
    {
     "name": "stdout",
     "output_type": "stream",
     "text": [
      "minirocket, MiddlePhalanxOutlineAgeGroup, (permutation, {'max_segments': 4, 'seg_mode': 'equal'}) DONE\n"
     ]
    },
    {
     "name": "stderr",
     "output_type": "stream",
     "text": [
      "/Users/Pongpanod.Sa/Desktop/cu/thesis/coding/pun_master_thesis/time_series_augmentation/utils/augmentation.py:33: VisibleDeprecationWarning: Creating an ndarray from ragged nested sequences (which is a list-or-tuple of lists-or-tuples-or ndarrays with different lengths or shapes) is deprecated. If you meant to do this, you must specify 'dtype=object' when creating the ndarray.\n",
      "  warp = np.concatenate(np.random.permutation(splits)).ravel()\n",
      "<__array_function__ internals>:180: VisibleDeprecationWarning: Creating an ndarray from ragged nested sequences (which is a list-or-tuple of lists-or-tuples-or ndarrays with different lengths or shapes) is deprecated. If you meant to do this, you must specify 'dtype=object' when creating the ndarray.\n"
     ]
    },
    {
     "name": "stdout",
     "output_type": "stream",
     "text": [
      "minirocket, MiddlePhalanxOutlineCorrect, (permutation, {'max_segments': 4, 'seg_mode': 'equal'}) DONE\n"
     ]
    },
    {
     "name": "stderr",
     "output_type": "stream",
     "text": [
      "/Users/Pongpanod.Sa/Desktop/cu/thesis/coding/pun_master_thesis/time_series_augmentation/utils/augmentation.py:33: VisibleDeprecationWarning: Creating an ndarray from ragged nested sequences (which is a list-or-tuple of lists-or-tuples-or ndarrays with different lengths or shapes) is deprecated. If you meant to do this, you must specify 'dtype=object' when creating the ndarray.\n",
      "  warp = np.concatenate(np.random.permutation(splits)).ravel()\n",
      "<__array_function__ internals>:180: VisibleDeprecationWarning: Creating an ndarray from ragged nested sequences (which is a list-or-tuple of lists-or-tuples-or ndarrays with different lengths or shapes) is deprecated. If you meant to do this, you must specify 'dtype=object' when creating the ndarray.\n",
      "/Users/Pongpanod.Sa/miniconda3/envs/thesis3.10/lib/python3.10/site-packages/sklearn/metrics/_classification.py:1327: UndefinedMetricWarning: Precision and F-score are ill-defined and being set to 0.0 in labels with no predicted samples. Use `zero_division` parameter to control this behavior.\n",
      "  _warn_prf(average, modifier, msg_start, len(result))\n"
     ]
    },
    {
     "name": "stdout",
     "output_type": "stream",
     "text": [
      "minirocket, MiddlePhalanxTW, (permutation, {'max_segments': 4, 'seg_mode': 'equal'}) DONE\n",
      "minirocket, MoteStrain, (permutation, {'max_segments': 4, 'seg_mode': 'equal'}) DONE\n",
      "minirocket, OliveOil, (permutation, {'max_segments': 4, 'seg_mode': 'equal'}) DONE\n"
     ]
    },
    {
     "name": "stderr",
     "output_type": "stream",
     "text": [
      "/Users/Pongpanod.Sa/Desktop/cu/thesis/coding/pun_master_thesis/time_series_augmentation/utils/augmentation.py:33: VisibleDeprecationWarning: Creating an ndarray from ragged nested sequences (which is a list-or-tuple of lists-or-tuples-or ndarrays with different lengths or shapes) is deprecated. If you meant to do this, you must specify 'dtype=object' when creating the ndarray.\n",
      "  warp = np.concatenate(np.random.permutation(splits)).ravel()\n",
      "<__array_function__ internals>:180: VisibleDeprecationWarning: Creating an ndarray from ragged nested sequences (which is a list-or-tuple of lists-or-tuples-or ndarrays with different lengths or shapes) is deprecated. If you meant to do this, you must specify 'dtype=object' when creating the ndarray.\n"
     ]
    },
    {
     "name": "stdout",
     "output_type": "stream",
     "text": [
      "minirocket, OSULeaf, (permutation, {'max_segments': 4, 'seg_mode': 'equal'}) DONE\n"
     ]
    },
    {
     "name": "stderr",
     "output_type": "stream",
     "text": [
      "/Users/Pongpanod.Sa/Desktop/cu/thesis/coding/pun_master_thesis/time_series_augmentation/utils/augmentation.py:33: VisibleDeprecationWarning: Creating an ndarray from ragged nested sequences (which is a list-or-tuple of lists-or-tuples-or ndarrays with different lengths or shapes) is deprecated. If you meant to do this, you must specify 'dtype=object' when creating the ndarray.\n",
      "  warp = np.concatenate(np.random.permutation(splits)).ravel()\n",
      "<__array_function__ internals>:180: VisibleDeprecationWarning: Creating an ndarray from ragged nested sequences (which is a list-or-tuple of lists-or-tuples-or ndarrays with different lengths or shapes) is deprecated. If you meant to do this, you must specify 'dtype=object' when creating the ndarray.\n"
     ]
    },
    {
     "name": "stdout",
     "output_type": "stream",
     "text": [
      "minirocket, PhalangesOutlinesCorrect, (permutation, {'max_segments': 4, 'seg_mode': 'equal'}) DONE\n"
     ]
    },
    {
     "name": "stderr",
     "output_type": "stream",
     "text": [
      "/Users/Pongpanod.Sa/Desktop/cu/thesis/coding/pun_master_thesis/time_series_augmentation/utils/augmentation.py:33: VisibleDeprecationWarning: Creating an ndarray from ragged nested sequences (which is a list-or-tuple of lists-or-tuples-or ndarrays with different lengths or shapes) is deprecated. If you meant to do this, you must specify 'dtype=object' when creating the ndarray.\n",
      "  warp = np.concatenate(np.random.permutation(splits)).ravel()\n",
      "<__array_function__ internals>:180: VisibleDeprecationWarning: Creating an ndarray from ragged nested sequences (which is a list-or-tuple of lists-or-tuples-or ndarrays with different lengths or shapes) is deprecated. If you meant to do this, you must specify 'dtype=object' when creating the ndarray.\n",
      "/Users/Pongpanod.Sa/miniconda3/envs/thesis3.10/lib/python3.10/site-packages/sklearn/metrics/_classification.py:1327: UndefinedMetricWarning: Precision and F-score are ill-defined and being set to 0.0 in labels with no predicted samples. Use `zero_division` parameter to control this behavior.\n",
      "  _warn_prf(average, modifier, msg_start, len(result))\n",
      "/Users/Pongpanod.Sa/Desktop/cu/thesis/coding/pun_master_thesis/time_series_augmentation/utils/augmentation.py:33: VisibleDeprecationWarning: Creating an ndarray from ragged nested sequences (which is a list-or-tuple of lists-or-tuples-or ndarrays with different lengths or shapes) is deprecated. If you meant to do this, you must specify 'dtype=object' when creating the ndarray.\n",
      "  warp = np.concatenate(np.random.permutation(splits)).ravel()\n",
      "<__array_function__ internals>:180: VisibleDeprecationWarning: Creating an ndarray from ragged nested sequences (which is a list-or-tuple of lists-or-tuples-or ndarrays with different lengths or shapes) is deprecated. If you meant to do this, you must specify 'dtype=object' when creating the ndarray.\n"
     ]
    },
    {
     "name": "stdout",
     "output_type": "stream",
     "text": [
      "minirocket, Phoneme, (permutation, {'max_segments': 4, 'seg_mode': 'equal'}) DONE\n",
      "minirocket, ProximalPhalanxOutlineAgeGroup, (permutation, {'max_segments': 4, 'seg_mode': 'equal'}) DONE\n"
     ]
    },
    {
     "name": "stderr",
     "output_type": "stream",
     "text": [
      "/Users/Pongpanod.Sa/Desktop/cu/thesis/coding/pun_master_thesis/time_series_augmentation/utils/augmentation.py:33: VisibleDeprecationWarning: Creating an ndarray from ragged nested sequences (which is a list-or-tuple of lists-or-tuples-or ndarrays with different lengths or shapes) is deprecated. If you meant to do this, you must specify 'dtype=object' when creating the ndarray.\n",
      "  warp = np.concatenate(np.random.permutation(splits)).ravel()\n",
      "<__array_function__ internals>:180: VisibleDeprecationWarning: Creating an ndarray from ragged nested sequences (which is a list-or-tuple of lists-or-tuples-or ndarrays with different lengths or shapes) is deprecated. If you meant to do this, you must specify 'dtype=object' when creating the ndarray.\n"
     ]
    },
    {
     "name": "stdout",
     "output_type": "stream",
     "text": [
      "minirocket, ProximalPhalanxOutlineCorrect, (permutation, {'max_segments': 4, 'seg_mode': 'equal'}) DONE\n"
     ]
    },
    {
     "name": "stderr",
     "output_type": "stream",
     "text": [
      "/Users/Pongpanod.Sa/Desktop/cu/thesis/coding/pun_master_thesis/time_series_augmentation/utils/augmentation.py:33: VisibleDeprecationWarning: Creating an ndarray from ragged nested sequences (which is a list-or-tuple of lists-or-tuples-or ndarrays with different lengths or shapes) is deprecated. If you meant to do this, you must specify 'dtype=object' when creating the ndarray.\n",
      "  warp = np.concatenate(np.random.permutation(splits)).ravel()\n",
      "<__array_function__ internals>:180: VisibleDeprecationWarning: Creating an ndarray from ragged nested sequences (which is a list-or-tuple of lists-or-tuples-or ndarrays with different lengths or shapes) is deprecated. If you meant to do this, you must specify 'dtype=object' when creating the ndarray.\n",
      "/Users/Pongpanod.Sa/miniconda3/envs/thesis3.10/lib/python3.10/site-packages/sklearn/metrics/_classification.py:1327: UndefinedMetricWarning: Precision and F-score are ill-defined and being set to 0.0 in labels with no predicted samples. Use `zero_division` parameter to control this behavior.\n",
      "  _warn_prf(average, modifier, msg_start, len(result))\n"
     ]
    },
    {
     "name": "stdout",
     "output_type": "stream",
     "text": [
      "minirocket, ProximalPhalanxTW, (permutation, {'max_segments': 4, 'seg_mode': 'equal'}) DONE\n",
      "minirocket, ScreenType, (permutation, {'max_segments': 4, 'seg_mode': 'equal'}) DONE\n"
     ]
    },
    {
     "name": "stderr",
     "output_type": "stream",
     "text": [
      "/Users/Pongpanod.Sa/Desktop/cu/thesis/coding/pun_master_thesis/time_series_augmentation/utils/augmentation.py:33: VisibleDeprecationWarning: Creating an ndarray from ragged nested sequences (which is a list-or-tuple of lists-or-tuples-or ndarrays with different lengths or shapes) is deprecated. If you meant to do this, you must specify 'dtype=object' when creating the ndarray.\n",
      "  warp = np.concatenate(np.random.permutation(splits)).ravel()\n",
      "<__array_function__ internals>:180: VisibleDeprecationWarning: Creating an ndarray from ragged nested sequences (which is a list-or-tuple of lists-or-tuples-or ndarrays with different lengths or shapes) is deprecated. If you meant to do this, you must specify 'dtype=object' when creating the ndarray.\n"
     ]
    },
    {
     "name": "stdout",
     "output_type": "stream",
     "text": [
      "minirocket, ShapesAll, (permutation, {'max_segments': 4, 'seg_mode': 'equal'}) DONE\n",
      "minirocket, SmallKitchenAppliances, (permutation, {'max_segments': 4, 'seg_mode': 'equal'}) DONE\n"
     ]
    },
    {
     "name": "stderr",
     "output_type": "stream",
     "text": [
      "/Users/Pongpanod.Sa/Desktop/cu/thesis/coding/pun_master_thesis/time_series_augmentation/utils/augmentation.py:33: VisibleDeprecationWarning: Creating an ndarray from ragged nested sequences (which is a list-or-tuple of lists-or-tuples-or ndarrays with different lengths or shapes) is deprecated. If you meant to do this, you must specify 'dtype=object' when creating the ndarray.\n",
      "  warp = np.concatenate(np.random.permutation(splits)).ravel()\n",
      "<__array_function__ internals>:180: VisibleDeprecationWarning: Creating an ndarray from ragged nested sequences (which is a list-or-tuple of lists-or-tuples-or ndarrays with different lengths or shapes) is deprecated. If you meant to do this, you must specify 'dtype=object' when creating the ndarray.\n"
     ]
    },
    {
     "name": "stdout",
     "output_type": "stream",
     "text": [
      "minirocket, SonyAIBORobotSurface1, (permutation, {'max_segments': 4, 'seg_mode': 'equal'}) DONE\n"
     ]
    },
    {
     "name": "stderr",
     "output_type": "stream",
     "text": [
      "/Users/Pongpanod.Sa/Desktop/cu/thesis/coding/pun_master_thesis/time_series_augmentation/utils/augmentation.py:33: VisibleDeprecationWarning: Creating an ndarray from ragged nested sequences (which is a list-or-tuple of lists-or-tuples-or ndarrays with different lengths or shapes) is deprecated. If you meant to do this, you must specify 'dtype=object' when creating the ndarray.\n",
      "  warp = np.concatenate(np.random.permutation(splits)).ravel()\n",
      "<__array_function__ internals>:180: VisibleDeprecationWarning: Creating an ndarray from ragged nested sequences (which is a list-or-tuple of lists-or-tuples-or ndarrays with different lengths or shapes) is deprecated. If you meant to do this, you must specify 'dtype=object' when creating the ndarray.\n"
     ]
    },
    {
     "name": "stdout",
     "output_type": "stream",
     "text": [
      "minirocket, SonyAIBORobotSurface2, (permutation, {'max_segments': 4, 'seg_mode': 'equal'}) DONE\n"
     ]
    },
    {
     "name": "stderr",
     "output_type": "stream",
     "text": [
      "/Users/Pongpanod.Sa/Desktop/cu/thesis/coding/pun_master_thesis/time_series_augmentation/utils/augmentation.py:33: VisibleDeprecationWarning: Creating an ndarray from ragged nested sequences (which is a list-or-tuple of lists-or-tuples-or ndarrays with different lengths or shapes) is deprecated. If you meant to do this, you must specify 'dtype=object' when creating the ndarray.\n",
      "  warp = np.concatenate(np.random.permutation(splits)).ravel()\n",
      "<__array_function__ internals>:180: VisibleDeprecationWarning: Creating an ndarray from ragged nested sequences (which is a list-or-tuple of lists-or-tuples-or ndarrays with different lengths or shapes) is deprecated. If you meant to do this, you must specify 'dtype=object' when creating the ndarray.\n"
     ]
    },
    {
     "name": "stdout",
     "output_type": "stream",
     "text": [
      "minirocket, ToeSegmentation2, (permutation, {'max_segments': 4, 'seg_mode': 'equal'}) DONE\n",
      "minirocket, Wine, (permutation, {'max_segments': 4, 'seg_mode': 'equal'}) DONE\n"
     ]
    },
    {
     "name": "stderr",
     "output_type": "stream",
     "text": [
      "/Users/Pongpanod.Sa/miniconda3/envs/thesis3.10/lib/python3.10/site-packages/sklearn/metrics/_classification.py:1327: UndefinedMetricWarning: Precision and F-score are ill-defined and being set to 0.0 in labels with no predicted samples. Use `zero_division` parameter to control this behavior.\n",
      "  _warn_prf(average, modifier, msg_start, len(result))\n"
     ]
    },
    {
     "name": "stdout",
     "output_type": "stream",
     "text": [
      "minirocket, WordSynonyms, (permutation, {'max_segments': 4, 'seg_mode': 'equal'}) DONE\n",
      "minirocket, Worms, (permutation, {'max_segments': 4, 'seg_mode': 'equal'}) DONE\n",
      "minirocket, Yoga, (permutation, {'max_segments': 4, 'seg_mode': 'equal'}) DONE\n"
     ]
    }
   ],
   "source": [
    "# AUGMENTED Manual Loop\n",
    "variation = 'minirocket'\n",
    "classifer = {'name':variation, 'function': RocketClassifier(rocket_transform=variation)}\n",
    "dataset = read_UCR_dataset_name()\n",
    "augment = {'name':'permutation', 'function': permutation, 'params': {'max_segments':4, \"seg_mode\":\"equal\"}}\n",
    "for i in dataset:\n",
    "    training_two = Experiment(classifer, i, augment)\n",
    "    training_two.run_all()"
   ]
  },
  {
   "cell_type": "code",
   "execution_count": 8,
   "metadata": {},
   "outputs": [
    {
     "name": "stderr",
     "output_type": "stream",
     "text": [
      "/Users/Pongpanod.Sa/Desktop/cu/thesis/coding/pun_master_thesis/time_series_augmentation/utils/augmentation.py:33: VisibleDeprecationWarning: Creating an ndarray from ragged nested sequences (which is a list-or-tuple of lists-or-tuples-or ndarrays with different lengths or shapes) is deprecated. If you meant to do this, you must specify 'dtype=object' when creating the ndarray.\n",
      "  warp = np.concatenate(np.random.permutation(splits)).ravel()\n",
      "<__array_function__ internals>:180: VisibleDeprecationWarning: Creating an ndarray from ragged nested sequences (which is a list-or-tuple of lists-or-tuples-or ndarrays with different lengths or shapes) is deprecated. If you meant to do this, you must specify 'dtype=object' when creating the ndarray.\n"
     ]
    },
    {
     "name": "stdout",
     "output_type": "stream",
     "text": [
      "minirocket, Adiac, (permutation, {'max_segments': 6, 'seg_mode': 'equal'}) DONE\n"
     ]
    },
    {
     "name": "stderr",
     "output_type": "stream",
     "text": [
      "/Users/Pongpanod.Sa/Desktop/cu/thesis/coding/pun_master_thesis/time_series_augmentation/utils/augmentation.py:33: VisibleDeprecationWarning: Creating an ndarray from ragged nested sequences (which is a list-or-tuple of lists-or-tuples-or ndarrays with different lengths or shapes) is deprecated. If you meant to do this, you must specify 'dtype=object' when creating the ndarray.\n",
      "  warp = np.concatenate(np.random.permutation(splits)).ravel()\n",
      "<__array_function__ internals>:180: VisibleDeprecationWarning: Creating an ndarray from ragged nested sequences (which is a list-or-tuple of lists-or-tuples-or ndarrays with different lengths or shapes) is deprecated. If you meant to do this, you must specify 'dtype=object' when creating the ndarray.\n"
     ]
    },
    {
     "name": "stdout",
     "output_type": "stream",
     "text": [
      "minirocket, ArrowHead, (permutation, {'max_segments': 6, 'seg_mode': 'equal'}) DONE\n"
     ]
    },
    {
     "name": "stderr",
     "output_type": "stream",
     "text": [
      "/Users/Pongpanod.Sa/Desktop/cu/thesis/coding/pun_master_thesis/time_series_augmentation/utils/augmentation.py:33: VisibleDeprecationWarning: Creating an ndarray from ragged nested sequences (which is a list-or-tuple of lists-or-tuples-or ndarrays with different lengths or shapes) is deprecated. If you meant to do this, you must specify 'dtype=object' when creating the ndarray.\n",
      "  warp = np.concatenate(np.random.permutation(splits)).ravel()\n",
      "<__array_function__ internals>:180: VisibleDeprecationWarning: Creating an ndarray from ragged nested sequences (which is a list-or-tuple of lists-or-tuples-or ndarrays with different lengths or shapes) is deprecated. If you meant to do this, you must specify 'dtype=object' when creating the ndarray.\n"
     ]
    },
    {
     "name": "stdout",
     "output_type": "stream",
     "text": [
      "minirocket, Beef, (permutation, {'max_segments': 6, 'seg_mode': 'equal'}) DONE\n"
     ]
    },
    {
     "name": "stderr",
     "output_type": "stream",
     "text": [
      "/Users/Pongpanod.Sa/Desktop/cu/thesis/coding/pun_master_thesis/time_series_augmentation/utils/augmentation.py:33: VisibleDeprecationWarning: Creating an ndarray from ragged nested sequences (which is a list-or-tuple of lists-or-tuples-or ndarrays with different lengths or shapes) is deprecated. If you meant to do this, you must specify 'dtype=object' when creating the ndarray.\n",
      "  warp = np.concatenate(np.random.permutation(splits)).ravel()\n",
      "<__array_function__ internals>:180: VisibleDeprecationWarning: Creating an ndarray from ragged nested sequences (which is a list-or-tuple of lists-or-tuples-or ndarrays with different lengths or shapes) is deprecated. If you meant to do this, you must specify 'dtype=object' when creating the ndarray.\n"
     ]
    },
    {
     "name": "stdout",
     "output_type": "stream",
     "text": [
      "minirocket, BeetleFly, (permutation, {'max_segments': 6, 'seg_mode': 'equal'}) DONE\n"
     ]
    },
    {
     "name": "stderr",
     "output_type": "stream",
     "text": [
      "/Users/Pongpanod.Sa/Desktop/cu/thesis/coding/pun_master_thesis/time_series_augmentation/utils/augmentation.py:33: VisibleDeprecationWarning: Creating an ndarray from ragged nested sequences (which is a list-or-tuple of lists-or-tuples-or ndarrays with different lengths or shapes) is deprecated. If you meant to do this, you must specify 'dtype=object' when creating the ndarray.\n",
      "  warp = np.concatenate(np.random.permutation(splits)).ravel()\n",
      "<__array_function__ internals>:180: VisibleDeprecationWarning: Creating an ndarray from ragged nested sequences (which is a list-or-tuple of lists-or-tuples-or ndarrays with different lengths or shapes) is deprecated. If you meant to do this, you must specify 'dtype=object' when creating the ndarray.\n"
     ]
    },
    {
     "name": "stdout",
     "output_type": "stream",
     "text": [
      "minirocket, Car, (permutation, {'max_segments': 6, 'seg_mode': 'equal'}) DONE\n"
     ]
    },
    {
     "name": "stderr",
     "output_type": "stream",
     "text": [
      "/Users/Pongpanod.Sa/Desktop/cu/thesis/coding/pun_master_thesis/time_series_augmentation/utils/augmentation.py:33: VisibleDeprecationWarning: Creating an ndarray from ragged nested sequences (which is a list-or-tuple of lists-or-tuples-or ndarrays with different lengths or shapes) is deprecated. If you meant to do this, you must specify 'dtype=object' when creating the ndarray.\n",
      "  warp = np.concatenate(np.random.permutation(splits)).ravel()\n",
      "<__array_function__ internals>:180: VisibleDeprecationWarning: Creating an ndarray from ragged nested sequences (which is a list-or-tuple of lists-or-tuples-or ndarrays with different lengths or shapes) is deprecated. If you meant to do this, you must specify 'dtype=object' when creating the ndarray.\n"
     ]
    },
    {
     "name": "stdout",
     "output_type": "stream",
     "text": [
      "minirocket, ChlorineConcentration, (permutation, {'max_segments': 6, 'seg_mode': 'equal'}) DONE\n"
     ]
    },
    {
     "name": "stderr",
     "output_type": "stream",
     "text": [
      "/Users/Pongpanod.Sa/Desktop/cu/thesis/coding/pun_master_thesis/time_series_augmentation/utils/augmentation.py:33: VisibleDeprecationWarning: Creating an ndarray from ragged nested sequences (which is a list-or-tuple of lists-or-tuples-or ndarrays with different lengths or shapes) is deprecated. If you meant to do this, you must specify 'dtype=object' when creating the ndarray.\n",
      "  warp = np.concatenate(np.random.permutation(splits)).ravel()\n",
      "<__array_function__ internals>:180: VisibleDeprecationWarning: Creating an ndarray from ragged nested sequences (which is a list-or-tuple of lists-or-tuples-or ndarrays with different lengths or shapes) is deprecated. If you meant to do this, you must specify 'dtype=object' when creating the ndarray.\n"
     ]
    },
    {
     "name": "stdout",
     "output_type": "stream",
     "text": [
      "minirocket, CinCECGTorso, (permutation, {'max_segments': 6, 'seg_mode': 'equal'}) DONE\n",
      "minirocket, Computers, (permutation, {'max_segments': 6, 'seg_mode': 'equal'}) DONE\n"
     ]
    },
    {
     "name": "stderr",
     "output_type": "stream",
     "text": [
      "/Users/Pongpanod.Sa/Desktop/cu/thesis/coding/pun_master_thesis/time_series_augmentation/utils/augmentation.py:33: VisibleDeprecationWarning: Creating an ndarray from ragged nested sequences (which is a list-or-tuple of lists-or-tuples-or ndarrays with different lengths or shapes) is deprecated. If you meant to do this, you must specify 'dtype=object' when creating the ndarray.\n",
      "  warp = np.concatenate(np.random.permutation(splits)).ravel()\n",
      "<__array_function__ internals>:180: VisibleDeprecationWarning: Creating an ndarray from ragged nested sequences (which is a list-or-tuple of lists-or-tuples-or ndarrays with different lengths or shapes) is deprecated. If you meant to do this, you must specify 'dtype=object' when creating the ndarray.\n"
     ]
    },
    {
     "name": "stdout",
     "output_type": "stream",
     "text": [
      "minirocket, DistalPhalanxOutlineAgeGroup, (permutation, {'max_segments': 6, 'seg_mode': 'equal'}) DONE\n"
     ]
    },
    {
     "name": "stderr",
     "output_type": "stream",
     "text": [
      "/Users/Pongpanod.Sa/Desktop/cu/thesis/coding/pun_master_thesis/time_series_augmentation/utils/augmentation.py:33: VisibleDeprecationWarning: Creating an ndarray from ragged nested sequences (which is a list-or-tuple of lists-or-tuples-or ndarrays with different lengths or shapes) is deprecated. If you meant to do this, you must specify 'dtype=object' when creating the ndarray.\n",
      "  warp = np.concatenate(np.random.permutation(splits)).ravel()\n",
      "<__array_function__ internals>:180: VisibleDeprecationWarning: Creating an ndarray from ragged nested sequences (which is a list-or-tuple of lists-or-tuples-or ndarrays with different lengths or shapes) is deprecated. If you meant to do this, you must specify 'dtype=object' when creating the ndarray.\n"
     ]
    },
    {
     "name": "stdout",
     "output_type": "stream",
     "text": [
      "minirocket, DistalPhalanxOutlineCorrect, (permutation, {'max_segments': 6, 'seg_mode': 'equal'}) DONE\n"
     ]
    },
    {
     "name": "stderr",
     "output_type": "stream",
     "text": [
      "/Users/Pongpanod.Sa/Desktop/cu/thesis/coding/pun_master_thesis/time_series_augmentation/utils/augmentation.py:33: VisibleDeprecationWarning: Creating an ndarray from ragged nested sequences (which is a list-or-tuple of lists-or-tuples-or ndarrays with different lengths or shapes) is deprecated. If you meant to do this, you must specify 'dtype=object' when creating the ndarray.\n",
      "  warp = np.concatenate(np.random.permutation(splits)).ravel()\n",
      "<__array_function__ internals>:180: VisibleDeprecationWarning: Creating an ndarray from ragged nested sequences (which is a list-or-tuple of lists-or-tuples-or ndarrays with different lengths or shapes) is deprecated. If you meant to do this, you must specify 'dtype=object' when creating the ndarray.\n"
     ]
    },
    {
     "name": "stdout",
     "output_type": "stream",
     "text": [
      "minirocket, DistalPhalanxTW, (permutation, {'max_segments': 6, 'seg_mode': 'equal'}) DONE\n"
     ]
    },
    {
     "name": "stderr",
     "output_type": "stream",
     "text": [
      "/Users/Pongpanod.Sa/Desktop/cu/thesis/coding/pun_master_thesis/time_series_augmentation/utils/augmentation.py:33: VisibleDeprecationWarning: Creating an ndarray from ragged nested sequences (which is a list-or-tuple of lists-or-tuples-or ndarrays with different lengths or shapes) is deprecated. If you meant to do this, you must specify 'dtype=object' when creating the ndarray.\n",
      "  warp = np.concatenate(np.random.permutation(splits)).ravel()\n",
      "<__array_function__ internals>:180: VisibleDeprecationWarning: Creating an ndarray from ragged nested sequences (which is a list-or-tuple of lists-or-tuples-or ndarrays with different lengths or shapes) is deprecated. If you meant to do this, you must specify 'dtype=object' when creating the ndarray.\n"
     ]
    },
    {
     "name": "stdout",
     "output_type": "stream",
     "text": [
      "minirocket, Earthquakes, (permutation, {'max_segments': 6, 'seg_mode': 'equal'}) DONE\n"
     ]
    },
    {
     "name": "stderr",
     "output_type": "stream",
     "text": [
      "/Users/Pongpanod.Sa/Desktop/cu/thesis/coding/pun_master_thesis/time_series_augmentation/utils/augmentation.py:33: VisibleDeprecationWarning: Creating an ndarray from ragged nested sequences (which is a list-or-tuple of lists-or-tuples-or ndarrays with different lengths or shapes) is deprecated. If you meant to do this, you must specify 'dtype=object' when creating the ndarray.\n",
      "  warp = np.concatenate(np.random.permutation(splits)).ravel()\n",
      "<__array_function__ internals>:180: VisibleDeprecationWarning: Creating an ndarray from ragged nested sequences (which is a list-or-tuple of lists-or-tuples-or ndarrays with different lengths or shapes) is deprecated. If you meant to do this, you must specify 'dtype=object' when creating the ndarray.\n"
     ]
    },
    {
     "name": "stdout",
     "output_type": "stream",
     "text": [
      "minirocket, ECG200, (permutation, {'max_segments': 6, 'seg_mode': 'equal'}) DONE\n"
     ]
    },
    {
     "name": "stderr",
     "output_type": "stream",
     "text": [
      "/Users/Pongpanod.Sa/Desktop/cu/thesis/coding/pun_master_thesis/time_series_augmentation/utils/augmentation.py:33: VisibleDeprecationWarning: Creating an ndarray from ragged nested sequences (which is a list-or-tuple of lists-or-tuples-or ndarrays with different lengths or shapes) is deprecated. If you meant to do this, you must specify 'dtype=object' when creating the ndarray.\n",
      "  warp = np.concatenate(np.random.permutation(splits)).ravel()\n",
      "<__array_function__ internals>:180: VisibleDeprecationWarning: Creating an ndarray from ragged nested sequences (which is a list-or-tuple of lists-or-tuples-or ndarrays with different lengths or shapes) is deprecated. If you meant to do this, you must specify 'dtype=object' when creating the ndarray.\n",
      "/Users/Pongpanod.Sa/miniconda3/envs/thesis3.10/lib/python3.10/site-packages/sklearn/metrics/_classification.py:1327: UndefinedMetricWarning: Precision and F-score are ill-defined and being set to 0.0 in labels with no predicted samples. Use `zero_division` parameter to control this behavior.\n",
      "  _warn_prf(average, modifier, msg_start, len(result))\n"
     ]
    },
    {
     "name": "stdout",
     "output_type": "stream",
     "text": [
      "minirocket, ECG5000, (permutation, {'max_segments': 6, 'seg_mode': 'equal'}) DONE\n"
     ]
    },
    {
     "name": "stderr",
     "output_type": "stream",
     "text": [
      "/Users/Pongpanod.Sa/Desktop/cu/thesis/coding/pun_master_thesis/time_series_augmentation/utils/augmentation.py:33: VisibleDeprecationWarning: Creating an ndarray from ragged nested sequences (which is a list-or-tuple of lists-or-tuples-or ndarrays with different lengths or shapes) is deprecated. If you meant to do this, you must specify 'dtype=object' when creating the ndarray.\n",
      "  warp = np.concatenate(np.random.permutation(splits)).ravel()\n",
      "<__array_function__ internals>:180: VisibleDeprecationWarning: Creating an ndarray from ragged nested sequences (which is a list-or-tuple of lists-or-tuples-or ndarrays with different lengths or shapes) is deprecated. If you meant to do this, you must specify 'dtype=object' when creating the ndarray.\n"
     ]
    },
    {
     "name": "stdout",
     "output_type": "stream",
     "text": [
      "minirocket, ElectricDevices, (permutation, {'max_segments': 6, 'seg_mode': 'equal'}) DONE\n"
     ]
    },
    {
     "name": "stderr",
     "output_type": "stream",
     "text": [
      "/Users/Pongpanod.Sa/Desktop/cu/thesis/coding/pun_master_thesis/time_series_augmentation/utils/augmentation.py:33: VisibleDeprecationWarning: Creating an ndarray from ragged nested sequences (which is a list-or-tuple of lists-or-tuples-or ndarrays with different lengths or shapes) is deprecated. If you meant to do this, you must specify 'dtype=object' when creating the ndarray.\n",
      "  warp = np.concatenate(np.random.permutation(splits)).ravel()\n",
      "<__array_function__ internals>:180: VisibleDeprecationWarning: Creating an ndarray from ragged nested sequences (which is a list-or-tuple of lists-or-tuples-or ndarrays with different lengths or shapes) is deprecated. If you meant to do this, you must specify 'dtype=object' when creating the ndarray.\n"
     ]
    },
    {
     "name": "stdout",
     "output_type": "stream",
     "text": [
      "minirocket, FaceAll, (permutation, {'max_segments': 6, 'seg_mode': 'equal'}) DONE\n"
     ]
    },
    {
     "name": "stderr",
     "output_type": "stream",
     "text": [
      "/Users/Pongpanod.Sa/Desktop/cu/thesis/coding/pun_master_thesis/time_series_augmentation/utils/augmentation.py:33: VisibleDeprecationWarning: Creating an ndarray from ragged nested sequences (which is a list-or-tuple of lists-or-tuples-or ndarrays with different lengths or shapes) is deprecated. If you meant to do this, you must specify 'dtype=object' when creating the ndarray.\n",
      "  warp = np.concatenate(np.random.permutation(splits)).ravel()\n",
      "<__array_function__ internals>:180: VisibleDeprecationWarning: Creating an ndarray from ragged nested sequences (which is a list-or-tuple of lists-or-tuples-or ndarrays with different lengths or shapes) is deprecated. If you meant to do this, you must specify 'dtype=object' when creating the ndarray.\n",
      "/Users/Pongpanod.Sa/miniconda3/envs/thesis3.10/lib/python3.10/site-packages/sklearn/metrics/_classification.py:1327: UndefinedMetricWarning: Precision and F-score are ill-defined and being set to 0.0 in labels with no predicted samples. Use `zero_division` parameter to control this behavior.\n",
      "  _warn_prf(average, modifier, msg_start, len(result))\n"
     ]
    },
    {
     "name": "stdout",
     "output_type": "stream",
     "text": [
      "minirocket, FiftyWords, (permutation, {'max_segments': 6, 'seg_mode': 'equal'}) DONE\n"
     ]
    },
    {
     "name": "stderr",
     "output_type": "stream",
     "text": [
      "/Users/Pongpanod.Sa/Desktop/cu/thesis/coding/pun_master_thesis/time_series_augmentation/utils/augmentation.py:33: VisibleDeprecationWarning: Creating an ndarray from ragged nested sequences (which is a list-or-tuple of lists-or-tuples-or ndarrays with different lengths or shapes) is deprecated. If you meant to do this, you must specify 'dtype=object' when creating the ndarray.\n",
      "  warp = np.concatenate(np.random.permutation(splits)).ravel()\n",
      "<__array_function__ internals>:180: VisibleDeprecationWarning: Creating an ndarray from ragged nested sequences (which is a list-or-tuple of lists-or-tuples-or ndarrays with different lengths or shapes) is deprecated. If you meant to do this, you must specify 'dtype=object' when creating the ndarray.\n"
     ]
    },
    {
     "name": "stdout",
     "output_type": "stream",
     "text": [
      "minirocket, FordB, (permutation, {'max_segments': 6, 'seg_mode': 'equal'}) DONE\n"
     ]
    },
    {
     "name": "stderr",
     "output_type": "stream",
     "text": [
      "/Users/Pongpanod.Sa/Desktop/cu/thesis/coding/pun_master_thesis/time_series_augmentation/utils/augmentation.py:33: VisibleDeprecationWarning: Creating an ndarray from ragged nested sequences (which is a list-or-tuple of lists-or-tuples-or ndarrays with different lengths or shapes) is deprecated. If you meant to do this, you must specify 'dtype=object' when creating the ndarray.\n",
      "  warp = np.concatenate(np.random.permutation(splits)).ravel()\n",
      "<__array_function__ internals>:180: VisibleDeprecationWarning: Creating an ndarray from ragged nested sequences (which is a list-or-tuple of lists-or-tuples-or ndarrays with different lengths or shapes) is deprecated. If you meant to do this, you must specify 'dtype=object' when creating the ndarray.\n"
     ]
    },
    {
     "name": "stdout",
     "output_type": "stream",
     "text": [
      "minirocket, Ham, (permutation, {'max_segments': 6, 'seg_mode': 'equal'}) DONE\n"
     ]
    },
    {
     "name": "stderr",
     "output_type": "stream",
     "text": [
      "/Users/Pongpanod.Sa/Desktop/cu/thesis/coding/pun_master_thesis/time_series_augmentation/utils/augmentation.py:33: VisibleDeprecationWarning: Creating an ndarray from ragged nested sequences (which is a list-or-tuple of lists-or-tuples-or ndarrays with different lengths or shapes) is deprecated. If you meant to do this, you must specify 'dtype=object' when creating the ndarray.\n",
      "  warp = np.concatenate(np.random.permutation(splits)).ravel()\n",
      "<__array_function__ internals>:180: VisibleDeprecationWarning: Creating an ndarray from ragged nested sequences (which is a list-or-tuple of lists-or-tuples-or ndarrays with different lengths or shapes) is deprecated. If you meant to do this, you must specify 'dtype=object' when creating the ndarray.\n"
     ]
    },
    {
     "name": "stdout",
     "output_type": "stream",
     "text": [
      "minirocket, HandOutlines, (permutation, {'max_segments': 6, 'seg_mode': 'equal'}) DONE\n"
     ]
    },
    {
     "name": "stderr",
     "output_type": "stream",
     "text": [
      "/Users/Pongpanod.Sa/Desktop/cu/thesis/coding/pun_master_thesis/time_series_augmentation/utils/augmentation.py:33: VisibleDeprecationWarning: Creating an ndarray from ragged nested sequences (which is a list-or-tuple of lists-or-tuples-or ndarrays with different lengths or shapes) is deprecated. If you meant to do this, you must specify 'dtype=object' when creating the ndarray.\n",
      "  warp = np.concatenate(np.random.permutation(splits)).ravel()\n",
      "<__array_function__ internals>:180: VisibleDeprecationWarning: Creating an ndarray from ragged nested sequences (which is a list-or-tuple of lists-or-tuples-or ndarrays with different lengths or shapes) is deprecated. If you meant to do this, you must specify 'dtype=object' when creating the ndarray.\n"
     ]
    },
    {
     "name": "stdout",
     "output_type": "stream",
     "text": [
      "minirocket, Haptics, (permutation, {'max_segments': 6, 'seg_mode': 'equal'}) DONE\n"
     ]
    },
    {
     "name": "stderr",
     "output_type": "stream",
     "text": [
      "/Users/Pongpanod.Sa/Desktop/cu/thesis/coding/pun_master_thesis/time_series_augmentation/utils/augmentation.py:33: VisibleDeprecationWarning: Creating an ndarray from ragged nested sequences (which is a list-or-tuple of lists-or-tuples-or ndarrays with different lengths or shapes) is deprecated. If you meant to do this, you must specify 'dtype=object' when creating the ndarray.\n",
      "  warp = np.concatenate(np.random.permutation(splits)).ravel()\n",
      "<__array_function__ internals>:180: VisibleDeprecationWarning: Creating an ndarray from ragged nested sequences (which is a list-or-tuple of lists-or-tuples-or ndarrays with different lengths or shapes) is deprecated. If you meant to do this, you must specify 'dtype=object' when creating the ndarray.\n"
     ]
    },
    {
     "name": "stdout",
     "output_type": "stream",
     "text": [
      "minirocket, Herring, (permutation, {'max_segments': 6, 'seg_mode': 'equal'}) DONE\n"
     ]
    },
    {
     "name": "stderr",
     "output_type": "stream",
     "text": [
      "/Users/Pongpanod.Sa/Desktop/cu/thesis/coding/pun_master_thesis/time_series_augmentation/utils/augmentation.py:33: VisibleDeprecationWarning: Creating an ndarray from ragged nested sequences (which is a list-or-tuple of lists-or-tuples-or ndarrays with different lengths or shapes) is deprecated. If you meant to do this, you must specify 'dtype=object' when creating the ndarray.\n",
      "  warp = np.concatenate(np.random.permutation(splits)).ravel()\n",
      "<__array_function__ internals>:180: VisibleDeprecationWarning: Creating an ndarray from ragged nested sequences (which is a list-or-tuple of lists-or-tuples-or ndarrays with different lengths or shapes) is deprecated. If you meant to do this, you must specify 'dtype=object' when creating the ndarray.\n"
     ]
    },
    {
     "name": "stdout",
     "output_type": "stream",
     "text": [
      "minirocket, InlineSkate, (permutation, {'max_segments': 6, 'seg_mode': 'equal'}) DONE\n"
     ]
    },
    {
     "name": "stderr",
     "output_type": "stream",
     "text": [
      "/Users/Pongpanod.Sa/Desktop/cu/thesis/coding/pun_master_thesis/time_series_augmentation/utils/augmentation.py:33: VisibleDeprecationWarning: Creating an ndarray from ragged nested sequences (which is a list-or-tuple of lists-or-tuples-or ndarrays with different lengths or shapes) is deprecated. If you meant to do this, you must specify 'dtype=object' when creating the ndarray.\n",
      "  warp = np.concatenate(np.random.permutation(splits)).ravel()\n",
      "<__array_function__ internals>:180: VisibleDeprecationWarning: Creating an ndarray from ragged nested sequences (which is a list-or-tuple of lists-or-tuples-or ndarrays with different lengths or shapes) is deprecated. If you meant to do this, you must specify 'dtype=object' when creating the ndarray.\n"
     ]
    },
    {
     "name": "stdout",
     "output_type": "stream",
     "text": [
      "minirocket, InsectWingbeatSound, (permutation, {'max_segments': 6, 'seg_mode': 'equal'}) DONE\n"
     ]
    },
    {
     "name": "stderr",
     "output_type": "stream",
     "text": [
      "/Users/Pongpanod.Sa/Desktop/cu/thesis/coding/pun_master_thesis/time_series_augmentation/utils/augmentation.py:33: VisibleDeprecationWarning: Creating an ndarray from ragged nested sequences (which is a list-or-tuple of lists-or-tuples-or ndarrays with different lengths or shapes) is deprecated. If you meant to do this, you must specify 'dtype=object' when creating the ndarray.\n",
      "  warp = np.concatenate(np.random.permutation(splits)).ravel()\n",
      "<__array_function__ internals>:180: VisibleDeprecationWarning: Creating an ndarray from ragged nested sequences (which is a list-or-tuple of lists-or-tuples-or ndarrays with different lengths or shapes) is deprecated. If you meant to do this, you must specify 'dtype=object' when creating the ndarray.\n"
     ]
    },
    {
     "name": "stdout",
     "output_type": "stream",
     "text": [
      "minirocket, Lightning2, (permutation, {'max_segments': 6, 'seg_mode': 'equal'}) DONE\n"
     ]
    },
    {
     "name": "stderr",
     "output_type": "stream",
     "text": [
      "/Users/Pongpanod.Sa/Desktop/cu/thesis/coding/pun_master_thesis/time_series_augmentation/utils/augmentation.py:33: VisibleDeprecationWarning: Creating an ndarray from ragged nested sequences (which is a list-or-tuple of lists-or-tuples-or ndarrays with different lengths or shapes) is deprecated. If you meant to do this, you must specify 'dtype=object' when creating the ndarray.\n",
      "  warp = np.concatenate(np.random.permutation(splits)).ravel()\n",
      "<__array_function__ internals>:180: VisibleDeprecationWarning: Creating an ndarray from ragged nested sequences (which is a list-or-tuple of lists-or-tuples-or ndarrays with different lengths or shapes) is deprecated. If you meant to do this, you must specify 'dtype=object' when creating the ndarray.\n"
     ]
    },
    {
     "name": "stdout",
     "output_type": "stream",
     "text": [
      "minirocket, Mallat, (permutation, {'max_segments': 6, 'seg_mode': 'equal'}) DONE\n"
     ]
    },
    {
     "name": "stderr",
     "output_type": "stream",
     "text": [
      "/Users/Pongpanod.Sa/Desktop/cu/thesis/coding/pun_master_thesis/time_series_augmentation/utils/augmentation.py:33: VisibleDeprecationWarning: Creating an ndarray from ragged nested sequences (which is a list-or-tuple of lists-or-tuples-or ndarrays with different lengths or shapes) is deprecated. If you meant to do this, you must specify 'dtype=object' when creating the ndarray.\n",
      "  warp = np.concatenate(np.random.permutation(splits)).ravel()\n",
      "<__array_function__ internals>:180: VisibleDeprecationWarning: Creating an ndarray from ragged nested sequences (which is a list-or-tuple of lists-or-tuples-or ndarrays with different lengths or shapes) is deprecated. If you meant to do this, you must specify 'dtype=object' when creating the ndarray.\n"
     ]
    },
    {
     "name": "stdout",
     "output_type": "stream",
     "text": [
      "minirocket, MedicalImages, (permutation, {'max_segments': 6, 'seg_mode': 'equal'}) DONE\n"
     ]
    },
    {
     "name": "stderr",
     "output_type": "stream",
     "text": [
      "/Users/Pongpanod.Sa/Desktop/cu/thesis/coding/pun_master_thesis/time_series_augmentation/utils/augmentation.py:33: VisibleDeprecationWarning: Creating an ndarray from ragged nested sequences (which is a list-or-tuple of lists-or-tuples-or ndarrays with different lengths or shapes) is deprecated. If you meant to do this, you must specify 'dtype=object' when creating the ndarray.\n",
      "  warp = np.concatenate(np.random.permutation(splits)).ravel()\n",
      "<__array_function__ internals>:180: VisibleDeprecationWarning: Creating an ndarray from ragged nested sequences (which is a list-or-tuple of lists-or-tuples-or ndarrays with different lengths or shapes) is deprecated. If you meant to do this, you must specify 'dtype=object' when creating the ndarray.\n"
     ]
    },
    {
     "name": "stdout",
     "output_type": "stream",
     "text": [
      "minirocket, MiddlePhalanxOutlineAgeGroup, (permutation, {'max_segments': 6, 'seg_mode': 'equal'}) DONE\n"
     ]
    },
    {
     "name": "stderr",
     "output_type": "stream",
     "text": [
      "/Users/Pongpanod.Sa/Desktop/cu/thesis/coding/pun_master_thesis/time_series_augmentation/utils/augmentation.py:33: VisibleDeprecationWarning: Creating an ndarray from ragged nested sequences (which is a list-or-tuple of lists-or-tuples-or ndarrays with different lengths or shapes) is deprecated. If you meant to do this, you must specify 'dtype=object' when creating the ndarray.\n",
      "  warp = np.concatenate(np.random.permutation(splits)).ravel()\n",
      "<__array_function__ internals>:180: VisibleDeprecationWarning: Creating an ndarray from ragged nested sequences (which is a list-or-tuple of lists-or-tuples-or ndarrays with different lengths or shapes) is deprecated. If you meant to do this, you must specify 'dtype=object' when creating the ndarray.\n"
     ]
    },
    {
     "name": "stdout",
     "output_type": "stream",
     "text": [
      "minirocket, MiddlePhalanxOutlineCorrect, (permutation, {'max_segments': 6, 'seg_mode': 'equal'}) DONE\n"
     ]
    },
    {
     "name": "stderr",
     "output_type": "stream",
     "text": [
      "/Users/Pongpanod.Sa/Desktop/cu/thesis/coding/pun_master_thesis/time_series_augmentation/utils/augmentation.py:33: VisibleDeprecationWarning: Creating an ndarray from ragged nested sequences (which is a list-or-tuple of lists-or-tuples-or ndarrays with different lengths or shapes) is deprecated. If you meant to do this, you must specify 'dtype=object' when creating the ndarray.\n",
      "  warp = np.concatenate(np.random.permutation(splits)).ravel()\n",
      "<__array_function__ internals>:180: VisibleDeprecationWarning: Creating an ndarray from ragged nested sequences (which is a list-or-tuple of lists-or-tuples-or ndarrays with different lengths or shapes) is deprecated. If you meant to do this, you must specify 'dtype=object' when creating the ndarray.\n"
     ]
    },
    {
     "name": "stdout",
     "output_type": "stream",
     "text": [
      "minirocket, MiddlePhalanxTW, (permutation, {'max_segments': 6, 'seg_mode': 'equal'}) DONE\n"
     ]
    },
    {
     "name": "stderr",
     "output_type": "stream",
     "text": [
      "/Users/Pongpanod.Sa/Desktop/cu/thesis/coding/pun_master_thesis/time_series_augmentation/utils/augmentation.py:33: VisibleDeprecationWarning: Creating an ndarray from ragged nested sequences (which is a list-or-tuple of lists-or-tuples-or ndarrays with different lengths or shapes) is deprecated. If you meant to do this, you must specify 'dtype=object' when creating the ndarray.\n",
      "  warp = np.concatenate(np.random.permutation(splits)).ravel()\n",
      "<__array_function__ internals>:180: VisibleDeprecationWarning: Creating an ndarray from ragged nested sequences (which is a list-or-tuple of lists-or-tuples-or ndarrays with different lengths or shapes) is deprecated. If you meant to do this, you must specify 'dtype=object' when creating the ndarray.\n"
     ]
    },
    {
     "name": "stdout",
     "output_type": "stream",
     "text": [
      "minirocket, MoteStrain, (permutation, {'max_segments': 6, 'seg_mode': 'equal'}) DONE\n"
     ]
    },
    {
     "name": "stderr",
     "output_type": "stream",
     "text": [
      "/Users/Pongpanod.Sa/Desktop/cu/thesis/coding/pun_master_thesis/time_series_augmentation/utils/augmentation.py:33: VisibleDeprecationWarning: Creating an ndarray from ragged nested sequences (which is a list-or-tuple of lists-or-tuples-or ndarrays with different lengths or shapes) is deprecated. If you meant to do this, you must specify 'dtype=object' when creating the ndarray.\n",
      "  warp = np.concatenate(np.random.permutation(splits)).ravel()\n",
      "<__array_function__ internals>:180: VisibleDeprecationWarning: Creating an ndarray from ragged nested sequences (which is a list-or-tuple of lists-or-tuples-or ndarrays with different lengths or shapes) is deprecated. If you meant to do this, you must specify 'dtype=object' when creating the ndarray.\n"
     ]
    },
    {
     "name": "stdout",
     "output_type": "stream",
     "text": [
      "minirocket, OliveOil, (permutation, {'max_segments': 6, 'seg_mode': 'equal'}) DONE\n"
     ]
    },
    {
     "name": "stderr",
     "output_type": "stream",
     "text": [
      "/Users/Pongpanod.Sa/Desktop/cu/thesis/coding/pun_master_thesis/time_series_augmentation/utils/augmentation.py:33: VisibleDeprecationWarning: Creating an ndarray from ragged nested sequences (which is a list-or-tuple of lists-or-tuples-or ndarrays with different lengths or shapes) is deprecated. If you meant to do this, you must specify 'dtype=object' when creating the ndarray.\n",
      "  warp = np.concatenate(np.random.permutation(splits)).ravel()\n",
      "<__array_function__ internals>:180: VisibleDeprecationWarning: Creating an ndarray from ragged nested sequences (which is a list-or-tuple of lists-or-tuples-or ndarrays with different lengths or shapes) is deprecated. If you meant to do this, you must specify 'dtype=object' when creating the ndarray.\n"
     ]
    },
    {
     "name": "stdout",
     "output_type": "stream",
     "text": [
      "minirocket, OSULeaf, (permutation, {'max_segments': 6, 'seg_mode': 'equal'}) DONE\n"
     ]
    },
    {
     "name": "stderr",
     "output_type": "stream",
     "text": [
      "/Users/Pongpanod.Sa/Desktop/cu/thesis/coding/pun_master_thesis/time_series_augmentation/utils/augmentation.py:33: VisibleDeprecationWarning: Creating an ndarray from ragged nested sequences (which is a list-or-tuple of lists-or-tuples-or ndarrays with different lengths or shapes) is deprecated. If you meant to do this, you must specify 'dtype=object' when creating the ndarray.\n",
      "  warp = np.concatenate(np.random.permutation(splits)).ravel()\n",
      "<__array_function__ internals>:180: VisibleDeprecationWarning: Creating an ndarray from ragged nested sequences (which is a list-or-tuple of lists-or-tuples-or ndarrays with different lengths or shapes) is deprecated. If you meant to do this, you must specify 'dtype=object' when creating the ndarray.\n"
     ]
    },
    {
     "name": "stdout",
     "output_type": "stream",
     "text": [
      "minirocket, PhalangesOutlinesCorrect, (permutation, {'max_segments': 6, 'seg_mode': 'equal'}) DONE\n"
     ]
    },
    {
     "name": "stderr",
     "output_type": "stream",
     "text": [
      "/Users/Pongpanod.Sa/Desktop/cu/thesis/coding/pun_master_thesis/time_series_augmentation/utils/augmentation.py:33: VisibleDeprecationWarning: Creating an ndarray from ragged nested sequences (which is a list-or-tuple of lists-or-tuples-or ndarrays with different lengths or shapes) is deprecated. If you meant to do this, you must specify 'dtype=object' when creating the ndarray.\n",
      "  warp = np.concatenate(np.random.permutation(splits)).ravel()\n",
      "<__array_function__ internals>:180: VisibleDeprecationWarning: Creating an ndarray from ragged nested sequences (which is a list-or-tuple of lists-or-tuples-or ndarrays with different lengths or shapes) is deprecated. If you meant to do this, you must specify 'dtype=object' when creating the ndarray.\n",
      "/Users/Pongpanod.Sa/miniconda3/envs/thesis3.10/lib/python3.10/site-packages/sklearn/metrics/_classification.py:1327: UndefinedMetricWarning: Precision and F-score are ill-defined and being set to 0.0 in labels with no predicted samples. Use `zero_division` parameter to control this behavior.\n",
      "  _warn_prf(average, modifier, msg_start, len(result))\n",
      "/Users/Pongpanod.Sa/Desktop/cu/thesis/coding/pun_master_thesis/time_series_augmentation/utils/augmentation.py:33: VisibleDeprecationWarning: Creating an ndarray from ragged nested sequences (which is a list-or-tuple of lists-or-tuples-or ndarrays with different lengths or shapes) is deprecated. If you meant to do this, you must specify 'dtype=object' when creating the ndarray.\n",
      "  warp = np.concatenate(np.random.permutation(splits)).ravel()\n",
      "<__array_function__ internals>:180: VisibleDeprecationWarning: Creating an ndarray from ragged nested sequences (which is a list-or-tuple of lists-or-tuples-or ndarrays with different lengths or shapes) is deprecated. If you meant to do this, you must specify 'dtype=object' when creating the ndarray.\n"
     ]
    },
    {
     "name": "stdout",
     "output_type": "stream",
     "text": [
      "minirocket, Phoneme, (permutation, {'max_segments': 6, 'seg_mode': 'equal'}) DONE\n",
      "minirocket, ProximalPhalanxOutlineAgeGroup, (permutation, {'max_segments': 6, 'seg_mode': 'equal'}) DONE\n"
     ]
    },
    {
     "name": "stderr",
     "output_type": "stream",
     "text": [
      "/Users/Pongpanod.Sa/Desktop/cu/thesis/coding/pun_master_thesis/time_series_augmentation/utils/augmentation.py:33: VisibleDeprecationWarning: Creating an ndarray from ragged nested sequences (which is a list-or-tuple of lists-or-tuples-or ndarrays with different lengths or shapes) is deprecated. If you meant to do this, you must specify 'dtype=object' when creating the ndarray.\n",
      "  warp = np.concatenate(np.random.permutation(splits)).ravel()\n",
      "<__array_function__ internals>:180: VisibleDeprecationWarning: Creating an ndarray from ragged nested sequences (which is a list-or-tuple of lists-or-tuples-or ndarrays with different lengths or shapes) is deprecated. If you meant to do this, you must specify 'dtype=object' when creating the ndarray.\n"
     ]
    },
    {
     "name": "stdout",
     "output_type": "stream",
     "text": [
      "minirocket, ProximalPhalanxOutlineCorrect, (permutation, {'max_segments': 6, 'seg_mode': 'equal'}) DONE\n"
     ]
    },
    {
     "name": "stderr",
     "output_type": "stream",
     "text": [
      "/Users/Pongpanod.Sa/Desktop/cu/thesis/coding/pun_master_thesis/time_series_augmentation/utils/augmentation.py:33: VisibleDeprecationWarning: Creating an ndarray from ragged nested sequences (which is a list-or-tuple of lists-or-tuples-or ndarrays with different lengths or shapes) is deprecated. If you meant to do this, you must specify 'dtype=object' when creating the ndarray.\n",
      "  warp = np.concatenate(np.random.permutation(splits)).ravel()\n",
      "<__array_function__ internals>:180: VisibleDeprecationWarning: Creating an ndarray from ragged nested sequences (which is a list-or-tuple of lists-or-tuples-or ndarrays with different lengths or shapes) is deprecated. If you meant to do this, you must specify 'dtype=object' when creating the ndarray.\n",
      "/Users/Pongpanod.Sa/miniconda3/envs/thesis3.10/lib/python3.10/site-packages/sklearn/metrics/_classification.py:1327: UndefinedMetricWarning: Precision and F-score are ill-defined and being set to 0.0 in labels with no predicted samples. Use `zero_division` parameter to control this behavior.\n",
      "  _warn_prf(average, modifier, msg_start, len(result))\n"
     ]
    },
    {
     "name": "stdout",
     "output_type": "stream",
     "text": [
      "minirocket, ProximalPhalanxTW, (permutation, {'max_segments': 6, 'seg_mode': 'equal'}) DONE\n",
      "minirocket, ScreenType, (permutation, {'max_segments': 6, 'seg_mode': 'equal'}) DONE\n"
     ]
    },
    {
     "name": "stderr",
     "output_type": "stream",
     "text": [
      "/Users/Pongpanod.Sa/Desktop/cu/thesis/coding/pun_master_thesis/time_series_augmentation/utils/augmentation.py:33: VisibleDeprecationWarning: Creating an ndarray from ragged nested sequences (which is a list-or-tuple of lists-or-tuples-or ndarrays with different lengths or shapes) is deprecated. If you meant to do this, you must specify 'dtype=object' when creating the ndarray.\n",
      "  warp = np.concatenate(np.random.permutation(splits)).ravel()\n",
      "<__array_function__ internals>:180: VisibleDeprecationWarning: Creating an ndarray from ragged nested sequences (which is a list-or-tuple of lists-or-tuples-or ndarrays with different lengths or shapes) is deprecated. If you meant to do this, you must specify 'dtype=object' when creating the ndarray.\n"
     ]
    },
    {
     "name": "stdout",
     "output_type": "stream",
     "text": [
      "minirocket, ShapesAll, (permutation, {'max_segments': 6, 'seg_mode': 'equal'}) DONE\n",
      "minirocket, SmallKitchenAppliances, (permutation, {'max_segments': 6, 'seg_mode': 'equal'}) DONE\n"
     ]
    },
    {
     "name": "stderr",
     "output_type": "stream",
     "text": [
      "/Users/Pongpanod.Sa/Desktop/cu/thesis/coding/pun_master_thesis/time_series_augmentation/utils/augmentation.py:33: VisibleDeprecationWarning: Creating an ndarray from ragged nested sequences (which is a list-or-tuple of lists-or-tuples-or ndarrays with different lengths or shapes) is deprecated. If you meant to do this, you must specify 'dtype=object' when creating the ndarray.\n",
      "  warp = np.concatenate(np.random.permutation(splits)).ravel()\n",
      "<__array_function__ internals>:180: VisibleDeprecationWarning: Creating an ndarray from ragged nested sequences (which is a list-or-tuple of lists-or-tuples-or ndarrays with different lengths or shapes) is deprecated. If you meant to do this, you must specify 'dtype=object' when creating the ndarray.\n"
     ]
    },
    {
     "name": "stdout",
     "output_type": "stream",
     "text": [
      "minirocket, SonyAIBORobotSurface1, (permutation, {'max_segments': 6, 'seg_mode': 'equal'}) DONE\n"
     ]
    },
    {
     "name": "stderr",
     "output_type": "stream",
     "text": [
      "/Users/Pongpanod.Sa/Desktop/cu/thesis/coding/pun_master_thesis/time_series_augmentation/utils/augmentation.py:33: VisibleDeprecationWarning: Creating an ndarray from ragged nested sequences (which is a list-or-tuple of lists-or-tuples-or ndarrays with different lengths or shapes) is deprecated. If you meant to do this, you must specify 'dtype=object' when creating the ndarray.\n",
      "  warp = np.concatenate(np.random.permutation(splits)).ravel()\n",
      "<__array_function__ internals>:180: VisibleDeprecationWarning: Creating an ndarray from ragged nested sequences (which is a list-or-tuple of lists-or-tuples-or ndarrays with different lengths or shapes) is deprecated. If you meant to do this, you must specify 'dtype=object' when creating the ndarray.\n"
     ]
    },
    {
     "name": "stdout",
     "output_type": "stream",
     "text": [
      "minirocket, SonyAIBORobotSurface2, (permutation, {'max_segments': 6, 'seg_mode': 'equal'}) DONE\n"
     ]
    },
    {
     "name": "stderr",
     "output_type": "stream",
     "text": [
      "/Users/Pongpanod.Sa/Desktop/cu/thesis/coding/pun_master_thesis/time_series_augmentation/utils/augmentation.py:33: VisibleDeprecationWarning: Creating an ndarray from ragged nested sequences (which is a list-or-tuple of lists-or-tuples-or ndarrays with different lengths or shapes) is deprecated. If you meant to do this, you must specify 'dtype=object' when creating the ndarray.\n",
      "  warp = np.concatenate(np.random.permutation(splits)).ravel()\n",
      "<__array_function__ internals>:180: VisibleDeprecationWarning: Creating an ndarray from ragged nested sequences (which is a list-or-tuple of lists-or-tuples-or ndarrays with different lengths or shapes) is deprecated. If you meant to do this, you must specify 'dtype=object' when creating the ndarray.\n"
     ]
    },
    {
     "name": "stdout",
     "output_type": "stream",
     "text": [
      "minirocket, ToeSegmentation2, (permutation, {'max_segments': 6, 'seg_mode': 'equal'}) DONE\n"
     ]
    },
    {
     "name": "stderr",
     "output_type": "stream",
     "text": [
      "/Users/Pongpanod.Sa/Desktop/cu/thesis/coding/pun_master_thesis/time_series_augmentation/utils/augmentation.py:33: VisibleDeprecationWarning: Creating an ndarray from ragged nested sequences (which is a list-or-tuple of lists-or-tuples-or ndarrays with different lengths or shapes) is deprecated. If you meant to do this, you must specify 'dtype=object' when creating the ndarray.\n",
      "  warp = np.concatenate(np.random.permutation(splits)).ravel()\n",
      "<__array_function__ internals>:180: VisibleDeprecationWarning: Creating an ndarray from ragged nested sequences (which is a list-or-tuple of lists-or-tuples-or ndarrays with different lengths or shapes) is deprecated. If you meant to do this, you must specify 'dtype=object' when creating the ndarray.\n"
     ]
    },
    {
     "name": "stdout",
     "output_type": "stream",
     "text": [
      "minirocket, Wine, (permutation, {'max_segments': 6, 'seg_mode': 'equal'}) DONE\n"
     ]
    },
    {
     "name": "stderr",
     "output_type": "stream",
     "text": [
      "/Users/Pongpanod.Sa/Desktop/cu/thesis/coding/pun_master_thesis/time_series_augmentation/utils/augmentation.py:33: VisibleDeprecationWarning: Creating an ndarray from ragged nested sequences (which is a list-or-tuple of lists-or-tuples-or ndarrays with different lengths or shapes) is deprecated. If you meant to do this, you must specify 'dtype=object' when creating the ndarray.\n",
      "  warp = np.concatenate(np.random.permutation(splits)).ravel()\n",
      "<__array_function__ internals>:180: VisibleDeprecationWarning: Creating an ndarray from ragged nested sequences (which is a list-or-tuple of lists-or-tuples-or ndarrays with different lengths or shapes) is deprecated. If you meant to do this, you must specify 'dtype=object' when creating the ndarray.\n",
      "/Users/Pongpanod.Sa/miniconda3/envs/thesis3.10/lib/python3.10/site-packages/sklearn/metrics/_classification.py:1327: UndefinedMetricWarning: Precision and F-score are ill-defined and being set to 0.0 in labels with no predicted samples. Use `zero_division` parameter to control this behavior.\n",
      "  _warn_prf(average, modifier, msg_start, len(result))\n"
     ]
    },
    {
     "name": "stdout",
     "output_type": "stream",
     "text": [
      "minirocket, WordSynonyms, (permutation, {'max_segments': 6, 'seg_mode': 'equal'}) DONE\n",
      "minirocket, Worms, (permutation, {'max_segments': 6, 'seg_mode': 'equal'}) DONE\n"
     ]
    },
    {
     "name": "stderr",
     "output_type": "stream",
     "text": [
      "/Users/Pongpanod.Sa/Desktop/cu/thesis/coding/pun_master_thesis/time_series_augmentation/utils/augmentation.py:33: VisibleDeprecationWarning: Creating an ndarray from ragged nested sequences (which is a list-or-tuple of lists-or-tuples-or ndarrays with different lengths or shapes) is deprecated. If you meant to do this, you must specify 'dtype=object' when creating the ndarray.\n",
      "  warp = np.concatenate(np.random.permutation(splits)).ravel()\n",
      "<__array_function__ internals>:180: VisibleDeprecationWarning: Creating an ndarray from ragged nested sequences (which is a list-or-tuple of lists-or-tuples-or ndarrays with different lengths or shapes) is deprecated. If you meant to do this, you must specify 'dtype=object' when creating the ndarray.\n"
     ]
    },
    {
     "name": "stdout",
     "output_type": "stream",
     "text": [
      "minirocket, Yoga, (permutation, {'max_segments': 6, 'seg_mode': 'equal'}) DONE\n"
     ]
    }
   ],
   "source": [
    "# AUGMENTED Manual Loop\n",
    "variation = 'minirocket'\n",
    "classifer = {'name':variation, 'function': RocketClassifier(rocket_transform=variation)}\n",
    "dataset = read_UCR_dataset_name()\n",
    "augment = {'name':'permutation', 'function': permutation, 'params': {'max_segments':6, \"seg_mode\":\"equal\"}}\n",
    "for i in dataset:\n",
    "    training_two = Experiment(classifer, i, augment)\n",
    "    training_two.run_all()"
   ]
  },
  {
   "cell_type": "code",
   "execution_count": 9,
   "metadata": {},
   "outputs": [
    {
     "name": "stderr",
     "output_type": "stream",
     "text": [
      "/Users/Pongpanod.Sa/Desktop/cu/thesis/coding/pun_master_thesis/time_series_augmentation/utils/augmentation.py:33: VisibleDeprecationWarning: Creating an ndarray from ragged nested sequences (which is a list-or-tuple of lists-or-tuples-or ndarrays with different lengths or shapes) is deprecated. If you meant to do this, you must specify 'dtype=object' when creating the ndarray.\n",
      "  warp = np.concatenate(np.random.permutation(splits)).ravel()\n",
      "<__array_function__ internals>:180: VisibleDeprecationWarning: Creating an ndarray from ragged nested sequences (which is a list-or-tuple of lists-or-tuples-or ndarrays with different lengths or shapes) is deprecated. If you meant to do this, you must specify 'dtype=object' when creating the ndarray.\n"
     ]
    },
    {
     "name": "stdout",
     "output_type": "stream",
     "text": [
      "minirocket, Adiac, (permutation, {'max_segments': 8, 'seg_mode': 'equal'}) DONE\n"
     ]
    },
    {
     "name": "stderr",
     "output_type": "stream",
     "text": [
      "/Users/Pongpanod.Sa/Desktop/cu/thesis/coding/pun_master_thesis/time_series_augmentation/utils/augmentation.py:33: VisibleDeprecationWarning: Creating an ndarray from ragged nested sequences (which is a list-or-tuple of lists-or-tuples-or ndarrays with different lengths or shapes) is deprecated. If you meant to do this, you must specify 'dtype=object' when creating the ndarray.\n",
      "  warp = np.concatenate(np.random.permutation(splits)).ravel()\n",
      "<__array_function__ internals>:180: VisibleDeprecationWarning: Creating an ndarray from ragged nested sequences (which is a list-or-tuple of lists-or-tuples-or ndarrays with different lengths or shapes) is deprecated. If you meant to do this, you must specify 'dtype=object' when creating the ndarray.\n"
     ]
    },
    {
     "name": "stdout",
     "output_type": "stream",
     "text": [
      "minirocket, ArrowHead, (permutation, {'max_segments': 8, 'seg_mode': 'equal'}) DONE\n"
     ]
    },
    {
     "name": "stderr",
     "output_type": "stream",
     "text": [
      "/Users/Pongpanod.Sa/Desktop/cu/thesis/coding/pun_master_thesis/time_series_augmentation/utils/augmentation.py:33: VisibleDeprecationWarning: Creating an ndarray from ragged nested sequences (which is a list-or-tuple of lists-or-tuples-or ndarrays with different lengths or shapes) is deprecated. If you meant to do this, you must specify 'dtype=object' when creating the ndarray.\n",
      "  warp = np.concatenate(np.random.permutation(splits)).ravel()\n",
      "<__array_function__ internals>:180: VisibleDeprecationWarning: Creating an ndarray from ragged nested sequences (which is a list-or-tuple of lists-or-tuples-or ndarrays with different lengths or shapes) is deprecated. If you meant to do this, you must specify 'dtype=object' when creating the ndarray.\n"
     ]
    },
    {
     "name": "stdout",
     "output_type": "stream",
     "text": [
      "minirocket, Beef, (permutation, {'max_segments': 8, 'seg_mode': 'equal'}) DONE\n"
     ]
    },
    {
     "name": "stderr",
     "output_type": "stream",
     "text": [
      "/Users/Pongpanod.Sa/Desktop/cu/thesis/coding/pun_master_thesis/time_series_augmentation/utils/augmentation.py:33: VisibleDeprecationWarning: Creating an ndarray from ragged nested sequences (which is a list-or-tuple of lists-or-tuples-or ndarrays with different lengths or shapes) is deprecated. If you meant to do this, you must specify 'dtype=object' when creating the ndarray.\n",
      "  warp = np.concatenate(np.random.permutation(splits)).ravel()\n",
      "<__array_function__ internals>:180: VisibleDeprecationWarning: Creating an ndarray from ragged nested sequences (which is a list-or-tuple of lists-or-tuples-or ndarrays with different lengths or shapes) is deprecated. If you meant to do this, you must specify 'dtype=object' when creating the ndarray.\n"
     ]
    },
    {
     "name": "stdout",
     "output_type": "stream",
     "text": [
      "minirocket, BeetleFly, (permutation, {'max_segments': 8, 'seg_mode': 'equal'}) DONE\n"
     ]
    },
    {
     "name": "stderr",
     "output_type": "stream",
     "text": [
      "/Users/Pongpanod.Sa/Desktop/cu/thesis/coding/pun_master_thesis/time_series_augmentation/utils/augmentation.py:33: VisibleDeprecationWarning: Creating an ndarray from ragged nested sequences (which is a list-or-tuple of lists-or-tuples-or ndarrays with different lengths or shapes) is deprecated. If you meant to do this, you must specify 'dtype=object' when creating the ndarray.\n",
      "  warp = np.concatenate(np.random.permutation(splits)).ravel()\n",
      "<__array_function__ internals>:180: VisibleDeprecationWarning: Creating an ndarray from ragged nested sequences (which is a list-or-tuple of lists-or-tuples-or ndarrays with different lengths or shapes) is deprecated. If you meant to do this, you must specify 'dtype=object' when creating the ndarray.\n"
     ]
    },
    {
     "name": "stdout",
     "output_type": "stream",
     "text": [
      "minirocket, Car, (permutation, {'max_segments': 8, 'seg_mode': 'equal'}) DONE\n"
     ]
    },
    {
     "name": "stderr",
     "output_type": "stream",
     "text": [
      "/Users/Pongpanod.Sa/Desktop/cu/thesis/coding/pun_master_thesis/time_series_augmentation/utils/augmentation.py:33: VisibleDeprecationWarning: Creating an ndarray from ragged nested sequences (which is a list-or-tuple of lists-or-tuples-or ndarrays with different lengths or shapes) is deprecated. If you meant to do this, you must specify 'dtype=object' when creating the ndarray.\n",
      "  warp = np.concatenate(np.random.permutation(splits)).ravel()\n",
      "<__array_function__ internals>:180: VisibleDeprecationWarning: Creating an ndarray from ragged nested sequences (which is a list-or-tuple of lists-or-tuples-or ndarrays with different lengths or shapes) is deprecated. If you meant to do this, you must specify 'dtype=object' when creating the ndarray.\n"
     ]
    },
    {
     "name": "stdout",
     "output_type": "stream",
     "text": [
      "minirocket, ChlorineConcentration, (permutation, {'max_segments': 8, 'seg_mode': 'equal'}) DONE\n"
     ]
    },
    {
     "name": "stderr",
     "output_type": "stream",
     "text": [
      "/Users/Pongpanod.Sa/Desktop/cu/thesis/coding/pun_master_thesis/time_series_augmentation/utils/augmentation.py:33: VisibleDeprecationWarning: Creating an ndarray from ragged nested sequences (which is a list-or-tuple of lists-or-tuples-or ndarrays with different lengths or shapes) is deprecated. If you meant to do this, you must specify 'dtype=object' when creating the ndarray.\n",
      "  warp = np.concatenate(np.random.permutation(splits)).ravel()\n",
      "<__array_function__ internals>:180: VisibleDeprecationWarning: Creating an ndarray from ragged nested sequences (which is a list-or-tuple of lists-or-tuples-or ndarrays with different lengths or shapes) is deprecated. If you meant to do this, you must specify 'dtype=object' when creating the ndarray.\n"
     ]
    },
    {
     "name": "stdout",
     "output_type": "stream",
     "text": [
      "minirocket, CinCECGTorso, (permutation, {'max_segments': 8, 'seg_mode': 'equal'}) DONE\n"
     ]
    },
    {
     "name": "stderr",
     "output_type": "stream",
     "text": [
      "/Users/Pongpanod.Sa/Desktop/cu/thesis/coding/pun_master_thesis/time_series_augmentation/utils/augmentation.py:33: VisibleDeprecationWarning: Creating an ndarray from ragged nested sequences (which is a list-or-tuple of lists-or-tuples-or ndarrays with different lengths or shapes) is deprecated. If you meant to do this, you must specify 'dtype=object' when creating the ndarray.\n",
      "  warp = np.concatenate(np.random.permutation(splits)).ravel()\n",
      "<__array_function__ internals>:180: VisibleDeprecationWarning: Creating an ndarray from ragged nested sequences (which is a list-or-tuple of lists-or-tuples-or ndarrays with different lengths or shapes) is deprecated. If you meant to do this, you must specify 'dtype=object' when creating the ndarray.\n"
     ]
    },
    {
     "name": "stdout",
     "output_type": "stream",
     "text": [
      "minirocket, Computers, (permutation, {'max_segments': 8, 'seg_mode': 'equal'}) DONE\n"
     ]
    },
    {
     "name": "stderr",
     "output_type": "stream",
     "text": [
      "/Users/Pongpanod.Sa/Desktop/cu/thesis/coding/pun_master_thesis/time_series_augmentation/utils/augmentation.py:33: VisibleDeprecationWarning: Creating an ndarray from ragged nested sequences (which is a list-or-tuple of lists-or-tuples-or ndarrays with different lengths or shapes) is deprecated. If you meant to do this, you must specify 'dtype=object' when creating the ndarray.\n",
      "  warp = np.concatenate(np.random.permutation(splits)).ravel()\n",
      "<__array_function__ internals>:180: VisibleDeprecationWarning: Creating an ndarray from ragged nested sequences (which is a list-or-tuple of lists-or-tuples-or ndarrays with different lengths or shapes) is deprecated. If you meant to do this, you must specify 'dtype=object' when creating the ndarray.\n"
     ]
    },
    {
     "name": "stdout",
     "output_type": "stream",
     "text": [
      "minirocket, DistalPhalanxOutlineAgeGroup, (permutation, {'max_segments': 8, 'seg_mode': 'equal'}) DONE\n"
     ]
    },
    {
     "name": "stderr",
     "output_type": "stream",
     "text": [
      "/Users/Pongpanod.Sa/Desktop/cu/thesis/coding/pun_master_thesis/time_series_augmentation/utils/augmentation.py:33: VisibleDeprecationWarning: Creating an ndarray from ragged nested sequences (which is a list-or-tuple of lists-or-tuples-or ndarrays with different lengths or shapes) is deprecated. If you meant to do this, you must specify 'dtype=object' when creating the ndarray.\n",
      "  warp = np.concatenate(np.random.permutation(splits)).ravel()\n",
      "<__array_function__ internals>:180: VisibleDeprecationWarning: Creating an ndarray from ragged nested sequences (which is a list-or-tuple of lists-or-tuples-or ndarrays with different lengths or shapes) is deprecated. If you meant to do this, you must specify 'dtype=object' when creating the ndarray.\n"
     ]
    },
    {
     "name": "stdout",
     "output_type": "stream",
     "text": [
      "minirocket, DistalPhalanxOutlineCorrect, (permutation, {'max_segments': 8, 'seg_mode': 'equal'}) DONE\n"
     ]
    },
    {
     "name": "stderr",
     "output_type": "stream",
     "text": [
      "/Users/Pongpanod.Sa/Desktop/cu/thesis/coding/pun_master_thesis/time_series_augmentation/utils/augmentation.py:33: VisibleDeprecationWarning: Creating an ndarray from ragged nested sequences (which is a list-or-tuple of lists-or-tuples-or ndarrays with different lengths or shapes) is deprecated. If you meant to do this, you must specify 'dtype=object' when creating the ndarray.\n",
      "  warp = np.concatenate(np.random.permutation(splits)).ravel()\n",
      "<__array_function__ internals>:180: VisibleDeprecationWarning: Creating an ndarray from ragged nested sequences (which is a list-or-tuple of lists-or-tuples-or ndarrays with different lengths or shapes) is deprecated. If you meant to do this, you must specify 'dtype=object' when creating the ndarray.\n",
      "/Users/Pongpanod.Sa/miniconda3/envs/thesis3.10/lib/python3.10/site-packages/sklearn/metrics/_classification.py:1327: UndefinedMetricWarning: Precision and F-score are ill-defined and being set to 0.0 in labels with no predicted samples. Use `zero_division` parameter to control this behavior.\n",
      "  _warn_prf(average, modifier, msg_start, len(result))\n",
      "/Users/Pongpanod.Sa/Desktop/cu/thesis/coding/pun_master_thesis/time_series_augmentation/utils/augmentation.py:33: VisibleDeprecationWarning: Creating an ndarray from ragged nested sequences (which is a list-or-tuple of lists-or-tuples-or ndarrays with different lengths or shapes) is deprecated. If you meant to do this, you must specify 'dtype=object' when creating the ndarray.\n",
      "  warp = np.concatenate(np.random.permutation(splits)).ravel()\n",
      "<__array_function__ internals>:180: VisibleDeprecationWarning: Creating an ndarray from ragged nested sequences (which is a list-or-tuple of lists-or-tuples-or ndarrays with different lengths or shapes) is deprecated. If you meant to do this, you must specify 'dtype=object' when creating the ndarray.\n"
     ]
    },
    {
     "name": "stdout",
     "output_type": "stream",
     "text": [
      "minirocket, DistalPhalanxTW, (permutation, {'max_segments': 8, 'seg_mode': 'equal'}) DONE\n",
      "minirocket, Earthquakes, (permutation, {'max_segments': 8, 'seg_mode': 'equal'}) DONE\n"
     ]
    },
    {
     "name": "stderr",
     "output_type": "stream",
     "text": [
      "/Users/Pongpanod.Sa/Desktop/cu/thesis/coding/pun_master_thesis/time_series_augmentation/utils/augmentation.py:33: VisibleDeprecationWarning: Creating an ndarray from ragged nested sequences (which is a list-or-tuple of lists-or-tuples-or ndarrays with different lengths or shapes) is deprecated. If you meant to do this, you must specify 'dtype=object' when creating the ndarray.\n",
      "  warp = np.concatenate(np.random.permutation(splits)).ravel()\n",
      "<__array_function__ internals>:180: VisibleDeprecationWarning: Creating an ndarray from ragged nested sequences (which is a list-or-tuple of lists-or-tuples-or ndarrays with different lengths or shapes) is deprecated. If you meant to do this, you must specify 'dtype=object' when creating the ndarray.\n"
     ]
    },
    {
     "name": "stdout",
     "output_type": "stream",
     "text": [
      "minirocket, ECG200, (permutation, {'max_segments': 8, 'seg_mode': 'equal'}) DONE\n"
     ]
    },
    {
     "name": "stderr",
     "output_type": "stream",
     "text": [
      "/Users/Pongpanod.Sa/Desktop/cu/thesis/coding/pun_master_thesis/time_series_augmentation/utils/augmentation.py:33: VisibleDeprecationWarning: Creating an ndarray from ragged nested sequences (which is a list-or-tuple of lists-or-tuples-or ndarrays with different lengths or shapes) is deprecated. If you meant to do this, you must specify 'dtype=object' when creating the ndarray.\n",
      "  warp = np.concatenate(np.random.permutation(splits)).ravel()\n",
      "<__array_function__ internals>:180: VisibleDeprecationWarning: Creating an ndarray from ragged nested sequences (which is a list-or-tuple of lists-or-tuples-or ndarrays with different lengths or shapes) is deprecated. If you meant to do this, you must specify 'dtype=object' when creating the ndarray.\n",
      "/Users/Pongpanod.Sa/miniconda3/envs/thesis3.10/lib/python3.10/site-packages/sklearn/metrics/_classification.py:1327: UndefinedMetricWarning: Precision and F-score are ill-defined and being set to 0.0 in labels with no predicted samples. Use `zero_division` parameter to control this behavior.\n",
      "  _warn_prf(average, modifier, msg_start, len(result))\n"
     ]
    },
    {
     "name": "stdout",
     "output_type": "stream",
     "text": [
      "minirocket, ECG5000, (permutation, {'max_segments': 8, 'seg_mode': 'equal'}) DONE\n"
     ]
    },
    {
     "name": "stderr",
     "output_type": "stream",
     "text": [
      "/Users/Pongpanod.Sa/Desktop/cu/thesis/coding/pun_master_thesis/time_series_augmentation/utils/augmentation.py:33: VisibleDeprecationWarning: Creating an ndarray from ragged nested sequences (which is a list-or-tuple of lists-or-tuples-or ndarrays with different lengths or shapes) is deprecated. If you meant to do this, you must specify 'dtype=object' when creating the ndarray.\n",
      "  warp = np.concatenate(np.random.permutation(splits)).ravel()\n",
      "<__array_function__ internals>:180: VisibleDeprecationWarning: Creating an ndarray from ragged nested sequences (which is a list-or-tuple of lists-or-tuples-or ndarrays with different lengths or shapes) is deprecated. If you meant to do this, you must specify 'dtype=object' when creating the ndarray.\n"
     ]
    },
    {
     "name": "stdout",
     "output_type": "stream",
     "text": [
      "minirocket, ElectricDevices, (permutation, {'max_segments': 8, 'seg_mode': 'equal'}) DONE\n"
     ]
    },
    {
     "name": "stderr",
     "output_type": "stream",
     "text": [
      "/Users/Pongpanod.Sa/Desktop/cu/thesis/coding/pun_master_thesis/time_series_augmentation/utils/augmentation.py:33: VisibleDeprecationWarning: Creating an ndarray from ragged nested sequences (which is a list-or-tuple of lists-or-tuples-or ndarrays with different lengths or shapes) is deprecated. If you meant to do this, you must specify 'dtype=object' when creating the ndarray.\n",
      "  warp = np.concatenate(np.random.permutation(splits)).ravel()\n",
      "<__array_function__ internals>:180: VisibleDeprecationWarning: Creating an ndarray from ragged nested sequences (which is a list-or-tuple of lists-or-tuples-or ndarrays with different lengths or shapes) is deprecated. If you meant to do this, you must specify 'dtype=object' when creating the ndarray.\n"
     ]
    },
    {
     "name": "stdout",
     "output_type": "stream",
     "text": [
      "minirocket, FaceAll, (permutation, {'max_segments': 8, 'seg_mode': 'equal'}) DONE\n"
     ]
    },
    {
     "name": "stderr",
     "output_type": "stream",
     "text": [
      "/Users/Pongpanod.Sa/Desktop/cu/thesis/coding/pun_master_thesis/time_series_augmentation/utils/augmentation.py:33: VisibleDeprecationWarning: Creating an ndarray from ragged nested sequences (which is a list-or-tuple of lists-or-tuples-or ndarrays with different lengths or shapes) is deprecated. If you meant to do this, you must specify 'dtype=object' when creating the ndarray.\n",
      "  warp = np.concatenate(np.random.permutation(splits)).ravel()\n",
      "<__array_function__ internals>:180: VisibleDeprecationWarning: Creating an ndarray from ragged nested sequences (which is a list-or-tuple of lists-or-tuples-or ndarrays with different lengths or shapes) is deprecated. If you meant to do this, you must specify 'dtype=object' when creating the ndarray.\n",
      "/Users/Pongpanod.Sa/miniconda3/envs/thesis3.10/lib/python3.10/site-packages/sklearn/metrics/_classification.py:1327: UndefinedMetricWarning: Precision and F-score are ill-defined and being set to 0.0 in labels with no predicted samples. Use `zero_division` parameter to control this behavior.\n",
      "  _warn_prf(average, modifier, msg_start, len(result))\n"
     ]
    },
    {
     "name": "stdout",
     "output_type": "stream",
     "text": [
      "minirocket, FiftyWords, (permutation, {'max_segments': 8, 'seg_mode': 'equal'}) DONE\n"
     ]
    },
    {
     "name": "stderr",
     "output_type": "stream",
     "text": [
      "/Users/Pongpanod.Sa/Desktop/cu/thesis/coding/pun_master_thesis/time_series_augmentation/utils/augmentation.py:33: VisibleDeprecationWarning: Creating an ndarray from ragged nested sequences (which is a list-or-tuple of lists-or-tuples-or ndarrays with different lengths or shapes) is deprecated. If you meant to do this, you must specify 'dtype=object' when creating the ndarray.\n",
      "  warp = np.concatenate(np.random.permutation(splits)).ravel()\n",
      "<__array_function__ internals>:180: VisibleDeprecationWarning: Creating an ndarray from ragged nested sequences (which is a list-or-tuple of lists-or-tuples-or ndarrays with different lengths or shapes) is deprecated. If you meant to do this, you must specify 'dtype=object' when creating the ndarray.\n"
     ]
    },
    {
     "name": "stdout",
     "output_type": "stream",
     "text": [
      "minirocket, FordB, (permutation, {'max_segments': 8, 'seg_mode': 'equal'}) DONE\n"
     ]
    },
    {
     "name": "stderr",
     "output_type": "stream",
     "text": [
      "/Users/Pongpanod.Sa/Desktop/cu/thesis/coding/pun_master_thesis/time_series_augmentation/utils/augmentation.py:33: VisibleDeprecationWarning: Creating an ndarray from ragged nested sequences (which is a list-or-tuple of lists-or-tuples-or ndarrays with different lengths or shapes) is deprecated. If you meant to do this, you must specify 'dtype=object' when creating the ndarray.\n",
      "  warp = np.concatenate(np.random.permutation(splits)).ravel()\n",
      "<__array_function__ internals>:180: VisibleDeprecationWarning: Creating an ndarray from ragged nested sequences (which is a list-or-tuple of lists-or-tuples-or ndarrays with different lengths or shapes) is deprecated. If you meant to do this, you must specify 'dtype=object' when creating the ndarray.\n"
     ]
    },
    {
     "name": "stdout",
     "output_type": "stream",
     "text": [
      "minirocket, Ham, (permutation, {'max_segments': 8, 'seg_mode': 'equal'}) DONE\n"
     ]
    },
    {
     "name": "stderr",
     "output_type": "stream",
     "text": [
      "/Users/Pongpanod.Sa/Desktop/cu/thesis/coding/pun_master_thesis/time_series_augmentation/utils/augmentation.py:33: VisibleDeprecationWarning: Creating an ndarray from ragged nested sequences (which is a list-or-tuple of lists-or-tuples-or ndarrays with different lengths or shapes) is deprecated. If you meant to do this, you must specify 'dtype=object' when creating the ndarray.\n",
      "  warp = np.concatenate(np.random.permutation(splits)).ravel()\n",
      "<__array_function__ internals>:180: VisibleDeprecationWarning: Creating an ndarray from ragged nested sequences (which is a list-or-tuple of lists-or-tuples-or ndarrays with different lengths or shapes) is deprecated. If you meant to do this, you must specify 'dtype=object' when creating the ndarray.\n"
     ]
    },
    {
     "name": "stdout",
     "output_type": "stream",
     "text": [
      "minirocket, HandOutlines, (permutation, {'max_segments': 8, 'seg_mode': 'equal'}) DONE\n"
     ]
    },
    {
     "name": "stderr",
     "output_type": "stream",
     "text": [
      "/Users/Pongpanod.Sa/Desktop/cu/thesis/coding/pun_master_thesis/time_series_augmentation/utils/augmentation.py:33: VisibleDeprecationWarning: Creating an ndarray from ragged nested sequences (which is a list-or-tuple of lists-or-tuples-or ndarrays with different lengths or shapes) is deprecated. If you meant to do this, you must specify 'dtype=object' when creating the ndarray.\n",
      "  warp = np.concatenate(np.random.permutation(splits)).ravel()\n",
      "<__array_function__ internals>:180: VisibleDeprecationWarning: Creating an ndarray from ragged nested sequences (which is a list-or-tuple of lists-or-tuples-or ndarrays with different lengths or shapes) is deprecated. If you meant to do this, you must specify 'dtype=object' when creating the ndarray.\n"
     ]
    },
    {
     "name": "stdout",
     "output_type": "stream",
     "text": [
      "minirocket, Haptics, (permutation, {'max_segments': 8, 'seg_mode': 'equal'}) DONE\n"
     ]
    },
    {
     "name": "stderr",
     "output_type": "stream",
     "text": [
      "/Users/Pongpanod.Sa/Desktop/cu/thesis/coding/pun_master_thesis/time_series_augmentation/utils/augmentation.py:33: VisibleDeprecationWarning: Creating an ndarray from ragged nested sequences (which is a list-or-tuple of lists-or-tuples-or ndarrays with different lengths or shapes) is deprecated. If you meant to do this, you must specify 'dtype=object' when creating the ndarray.\n",
      "  warp = np.concatenate(np.random.permutation(splits)).ravel()\n",
      "<__array_function__ internals>:180: VisibleDeprecationWarning: Creating an ndarray from ragged nested sequences (which is a list-or-tuple of lists-or-tuples-or ndarrays with different lengths or shapes) is deprecated. If you meant to do this, you must specify 'dtype=object' when creating the ndarray.\n"
     ]
    },
    {
     "name": "stdout",
     "output_type": "stream",
     "text": [
      "minirocket, Herring, (permutation, {'max_segments': 8, 'seg_mode': 'equal'}) DONE\n"
     ]
    },
    {
     "name": "stderr",
     "output_type": "stream",
     "text": [
      "/Users/Pongpanod.Sa/Desktop/cu/thesis/coding/pun_master_thesis/time_series_augmentation/utils/augmentation.py:33: VisibleDeprecationWarning: Creating an ndarray from ragged nested sequences (which is a list-or-tuple of lists-or-tuples-or ndarrays with different lengths or shapes) is deprecated. If you meant to do this, you must specify 'dtype=object' when creating the ndarray.\n",
      "  warp = np.concatenate(np.random.permutation(splits)).ravel()\n",
      "<__array_function__ internals>:180: VisibleDeprecationWarning: Creating an ndarray from ragged nested sequences (which is a list-or-tuple of lists-or-tuples-or ndarrays with different lengths or shapes) is deprecated. If you meant to do this, you must specify 'dtype=object' when creating the ndarray.\n"
     ]
    },
    {
     "name": "stdout",
     "output_type": "stream",
     "text": [
      "minirocket, InlineSkate, (permutation, {'max_segments': 8, 'seg_mode': 'equal'}) DONE\n"
     ]
    },
    {
     "name": "stderr",
     "output_type": "stream",
     "text": [
      "/Users/Pongpanod.Sa/Desktop/cu/thesis/coding/pun_master_thesis/time_series_augmentation/utils/augmentation.py:33: VisibleDeprecationWarning: Creating an ndarray from ragged nested sequences (which is a list-or-tuple of lists-or-tuples-or ndarrays with different lengths or shapes) is deprecated. If you meant to do this, you must specify 'dtype=object' when creating the ndarray.\n",
      "  warp = np.concatenate(np.random.permutation(splits)).ravel()\n",
      "<__array_function__ internals>:180: VisibleDeprecationWarning: Creating an ndarray from ragged nested sequences (which is a list-or-tuple of lists-or-tuples-or ndarrays with different lengths or shapes) is deprecated. If you meant to do this, you must specify 'dtype=object' when creating the ndarray.\n"
     ]
    },
    {
     "name": "stdout",
     "output_type": "stream",
     "text": [
      "minirocket, InsectWingbeatSound, (permutation, {'max_segments': 8, 'seg_mode': 'equal'}) DONE\n"
     ]
    },
    {
     "name": "stderr",
     "output_type": "stream",
     "text": [
      "/Users/Pongpanod.Sa/Desktop/cu/thesis/coding/pun_master_thesis/time_series_augmentation/utils/augmentation.py:33: VisibleDeprecationWarning: Creating an ndarray from ragged nested sequences (which is a list-or-tuple of lists-or-tuples-or ndarrays with different lengths or shapes) is deprecated. If you meant to do this, you must specify 'dtype=object' when creating the ndarray.\n",
      "  warp = np.concatenate(np.random.permutation(splits)).ravel()\n",
      "<__array_function__ internals>:180: VisibleDeprecationWarning: Creating an ndarray from ragged nested sequences (which is a list-or-tuple of lists-or-tuples-or ndarrays with different lengths or shapes) is deprecated. If you meant to do this, you must specify 'dtype=object' when creating the ndarray.\n"
     ]
    },
    {
     "name": "stdout",
     "output_type": "stream",
     "text": [
      "minirocket, Lightning2, (permutation, {'max_segments': 8, 'seg_mode': 'equal'}) DONE\n"
     ]
    },
    {
     "name": "stderr",
     "output_type": "stream",
     "text": [
      "/Users/Pongpanod.Sa/Desktop/cu/thesis/coding/pun_master_thesis/time_series_augmentation/utils/augmentation.py:33: VisibleDeprecationWarning: Creating an ndarray from ragged nested sequences (which is a list-or-tuple of lists-or-tuples-or ndarrays with different lengths or shapes) is deprecated. If you meant to do this, you must specify 'dtype=object' when creating the ndarray.\n",
      "  warp = np.concatenate(np.random.permutation(splits)).ravel()\n",
      "<__array_function__ internals>:180: VisibleDeprecationWarning: Creating an ndarray from ragged nested sequences (which is a list-or-tuple of lists-or-tuples-or ndarrays with different lengths or shapes) is deprecated. If you meant to do this, you must specify 'dtype=object' when creating the ndarray.\n"
     ]
    },
    {
     "name": "stdout",
     "output_type": "stream",
     "text": [
      "minirocket, Mallat, (permutation, {'max_segments': 8, 'seg_mode': 'equal'}) DONE\n"
     ]
    },
    {
     "name": "stderr",
     "output_type": "stream",
     "text": [
      "/Users/Pongpanod.Sa/Desktop/cu/thesis/coding/pun_master_thesis/time_series_augmentation/utils/augmentation.py:33: VisibleDeprecationWarning: Creating an ndarray from ragged nested sequences (which is a list-or-tuple of lists-or-tuples-or ndarrays with different lengths or shapes) is deprecated. If you meant to do this, you must specify 'dtype=object' when creating the ndarray.\n",
      "  warp = np.concatenate(np.random.permutation(splits)).ravel()\n",
      "<__array_function__ internals>:180: VisibleDeprecationWarning: Creating an ndarray from ragged nested sequences (which is a list-or-tuple of lists-or-tuples-or ndarrays with different lengths or shapes) is deprecated. If you meant to do this, you must specify 'dtype=object' when creating the ndarray.\n"
     ]
    },
    {
     "name": "stdout",
     "output_type": "stream",
     "text": [
      "minirocket, MedicalImages, (permutation, {'max_segments': 8, 'seg_mode': 'equal'}) DONE\n"
     ]
    },
    {
     "name": "stderr",
     "output_type": "stream",
     "text": [
      "/Users/Pongpanod.Sa/Desktop/cu/thesis/coding/pun_master_thesis/time_series_augmentation/utils/augmentation.py:33: VisibleDeprecationWarning: Creating an ndarray from ragged nested sequences (which is a list-or-tuple of lists-or-tuples-or ndarrays with different lengths or shapes) is deprecated. If you meant to do this, you must specify 'dtype=object' when creating the ndarray.\n",
      "  warp = np.concatenate(np.random.permutation(splits)).ravel()\n",
      "<__array_function__ internals>:180: VisibleDeprecationWarning: Creating an ndarray from ragged nested sequences (which is a list-or-tuple of lists-or-tuples-or ndarrays with different lengths or shapes) is deprecated. If you meant to do this, you must specify 'dtype=object' when creating the ndarray.\n"
     ]
    },
    {
     "name": "stdout",
     "output_type": "stream",
     "text": [
      "minirocket, MiddlePhalanxOutlineAgeGroup, (permutation, {'max_segments': 8, 'seg_mode': 'equal'}) DONE\n"
     ]
    },
    {
     "name": "stderr",
     "output_type": "stream",
     "text": [
      "/Users/Pongpanod.Sa/Desktop/cu/thesis/coding/pun_master_thesis/time_series_augmentation/utils/augmentation.py:33: VisibleDeprecationWarning: Creating an ndarray from ragged nested sequences (which is a list-or-tuple of lists-or-tuples-or ndarrays with different lengths or shapes) is deprecated. If you meant to do this, you must specify 'dtype=object' when creating the ndarray.\n",
      "  warp = np.concatenate(np.random.permutation(splits)).ravel()\n",
      "<__array_function__ internals>:180: VisibleDeprecationWarning: Creating an ndarray from ragged nested sequences (which is a list-or-tuple of lists-or-tuples-or ndarrays with different lengths or shapes) is deprecated. If you meant to do this, you must specify 'dtype=object' when creating the ndarray.\n"
     ]
    },
    {
     "name": "stdout",
     "output_type": "stream",
     "text": [
      "minirocket, MiddlePhalanxOutlineCorrect, (permutation, {'max_segments': 8, 'seg_mode': 'equal'}) DONE\n"
     ]
    },
    {
     "name": "stderr",
     "output_type": "stream",
     "text": [
      "/Users/Pongpanod.Sa/Desktop/cu/thesis/coding/pun_master_thesis/time_series_augmentation/utils/augmentation.py:33: VisibleDeprecationWarning: Creating an ndarray from ragged nested sequences (which is a list-or-tuple of lists-or-tuples-or ndarrays with different lengths or shapes) is deprecated. If you meant to do this, you must specify 'dtype=object' when creating the ndarray.\n",
      "  warp = np.concatenate(np.random.permutation(splits)).ravel()\n",
      "<__array_function__ internals>:180: VisibleDeprecationWarning: Creating an ndarray from ragged nested sequences (which is a list-or-tuple of lists-or-tuples-or ndarrays with different lengths or shapes) is deprecated. If you meant to do this, you must specify 'dtype=object' when creating the ndarray.\n"
     ]
    },
    {
     "name": "stdout",
     "output_type": "stream",
     "text": [
      "minirocket, MiddlePhalanxTW, (permutation, {'max_segments': 8, 'seg_mode': 'equal'}) DONE\n"
     ]
    },
    {
     "name": "stderr",
     "output_type": "stream",
     "text": [
      "/Users/Pongpanod.Sa/Desktop/cu/thesis/coding/pun_master_thesis/time_series_augmentation/utils/augmentation.py:33: VisibleDeprecationWarning: Creating an ndarray from ragged nested sequences (which is a list-or-tuple of lists-or-tuples-or ndarrays with different lengths or shapes) is deprecated. If you meant to do this, you must specify 'dtype=object' when creating the ndarray.\n",
      "  warp = np.concatenate(np.random.permutation(splits)).ravel()\n",
      "<__array_function__ internals>:180: VisibleDeprecationWarning: Creating an ndarray from ragged nested sequences (which is a list-or-tuple of lists-or-tuples-or ndarrays with different lengths or shapes) is deprecated. If you meant to do this, you must specify 'dtype=object' when creating the ndarray.\n"
     ]
    },
    {
     "name": "stdout",
     "output_type": "stream",
     "text": [
      "minirocket, MoteStrain, (permutation, {'max_segments': 8, 'seg_mode': 'equal'}) DONE\n"
     ]
    },
    {
     "name": "stderr",
     "output_type": "stream",
     "text": [
      "/Users/Pongpanod.Sa/Desktop/cu/thesis/coding/pun_master_thesis/time_series_augmentation/utils/augmentation.py:33: VisibleDeprecationWarning: Creating an ndarray from ragged nested sequences (which is a list-or-tuple of lists-or-tuples-or ndarrays with different lengths or shapes) is deprecated. If you meant to do this, you must specify 'dtype=object' when creating the ndarray.\n",
      "  warp = np.concatenate(np.random.permutation(splits)).ravel()\n",
      "<__array_function__ internals>:180: VisibleDeprecationWarning: Creating an ndarray from ragged nested sequences (which is a list-or-tuple of lists-or-tuples-or ndarrays with different lengths or shapes) is deprecated. If you meant to do this, you must specify 'dtype=object' when creating the ndarray.\n"
     ]
    },
    {
     "name": "stdout",
     "output_type": "stream",
     "text": [
      "minirocket, OliveOil, (permutation, {'max_segments': 8, 'seg_mode': 'equal'}) DONE\n"
     ]
    },
    {
     "name": "stderr",
     "output_type": "stream",
     "text": [
      "/Users/Pongpanod.Sa/Desktop/cu/thesis/coding/pun_master_thesis/time_series_augmentation/utils/augmentation.py:33: VisibleDeprecationWarning: Creating an ndarray from ragged nested sequences (which is a list-or-tuple of lists-or-tuples-or ndarrays with different lengths or shapes) is deprecated. If you meant to do this, you must specify 'dtype=object' when creating the ndarray.\n",
      "  warp = np.concatenate(np.random.permutation(splits)).ravel()\n",
      "<__array_function__ internals>:180: VisibleDeprecationWarning: Creating an ndarray from ragged nested sequences (which is a list-or-tuple of lists-or-tuples-or ndarrays with different lengths or shapes) is deprecated. If you meant to do this, you must specify 'dtype=object' when creating the ndarray.\n"
     ]
    },
    {
     "name": "stdout",
     "output_type": "stream",
     "text": [
      "minirocket, OSULeaf, (permutation, {'max_segments': 8, 'seg_mode': 'equal'}) DONE\n"
     ]
    },
    {
     "name": "stderr",
     "output_type": "stream",
     "text": [
      "/Users/Pongpanod.Sa/Desktop/cu/thesis/coding/pun_master_thesis/time_series_augmentation/utils/augmentation.py:33: VisibleDeprecationWarning: Creating an ndarray from ragged nested sequences (which is a list-or-tuple of lists-or-tuples-or ndarrays with different lengths or shapes) is deprecated. If you meant to do this, you must specify 'dtype=object' when creating the ndarray.\n",
      "  warp = np.concatenate(np.random.permutation(splits)).ravel()\n",
      "<__array_function__ internals>:180: VisibleDeprecationWarning: Creating an ndarray from ragged nested sequences (which is a list-or-tuple of lists-or-tuples-or ndarrays with different lengths or shapes) is deprecated. If you meant to do this, you must specify 'dtype=object' when creating the ndarray.\n"
     ]
    },
    {
     "name": "stdout",
     "output_type": "stream",
     "text": [
      "minirocket, PhalangesOutlinesCorrect, (permutation, {'max_segments': 8, 'seg_mode': 'equal'}) DONE\n"
     ]
    },
    {
     "name": "stderr",
     "output_type": "stream",
     "text": [
      "/Users/Pongpanod.Sa/Desktop/cu/thesis/coding/pun_master_thesis/time_series_augmentation/utils/augmentation.py:33: VisibleDeprecationWarning: Creating an ndarray from ragged nested sequences (which is a list-or-tuple of lists-or-tuples-or ndarrays with different lengths or shapes) is deprecated. If you meant to do this, you must specify 'dtype=object' when creating the ndarray.\n",
      "  warp = np.concatenate(np.random.permutation(splits)).ravel()\n",
      "<__array_function__ internals>:180: VisibleDeprecationWarning: Creating an ndarray from ragged nested sequences (which is a list-or-tuple of lists-or-tuples-or ndarrays with different lengths or shapes) is deprecated. If you meant to do this, you must specify 'dtype=object' when creating the ndarray.\n",
      "/Users/Pongpanod.Sa/miniconda3/envs/thesis3.10/lib/python3.10/site-packages/sklearn/metrics/_classification.py:1327: UndefinedMetricWarning: Precision and F-score are ill-defined and being set to 0.0 in labels with no predicted samples. Use `zero_division` parameter to control this behavior.\n",
      "  _warn_prf(average, modifier, msg_start, len(result))\n",
      "/Users/Pongpanod.Sa/Desktop/cu/thesis/coding/pun_master_thesis/time_series_augmentation/utils/augmentation.py:33: VisibleDeprecationWarning: Creating an ndarray from ragged nested sequences (which is a list-or-tuple of lists-or-tuples-or ndarrays with different lengths or shapes) is deprecated. If you meant to do this, you must specify 'dtype=object' when creating the ndarray.\n",
      "  warp = np.concatenate(np.random.permutation(splits)).ravel()\n",
      "<__array_function__ internals>:180: VisibleDeprecationWarning: Creating an ndarray from ragged nested sequences (which is a list-or-tuple of lists-or-tuples-or ndarrays with different lengths or shapes) is deprecated. If you meant to do this, you must specify 'dtype=object' when creating the ndarray.\n"
     ]
    },
    {
     "name": "stdout",
     "output_type": "stream",
     "text": [
      "minirocket, Phoneme, (permutation, {'max_segments': 8, 'seg_mode': 'equal'}) DONE\n",
      "minirocket, ProximalPhalanxOutlineAgeGroup, (permutation, {'max_segments': 8, 'seg_mode': 'equal'}) DONE\n"
     ]
    },
    {
     "name": "stderr",
     "output_type": "stream",
     "text": [
      "/Users/Pongpanod.Sa/Desktop/cu/thesis/coding/pun_master_thesis/time_series_augmentation/utils/augmentation.py:33: VisibleDeprecationWarning: Creating an ndarray from ragged nested sequences (which is a list-or-tuple of lists-or-tuples-or ndarrays with different lengths or shapes) is deprecated. If you meant to do this, you must specify 'dtype=object' when creating the ndarray.\n",
      "  warp = np.concatenate(np.random.permutation(splits)).ravel()\n",
      "<__array_function__ internals>:180: VisibleDeprecationWarning: Creating an ndarray from ragged nested sequences (which is a list-or-tuple of lists-or-tuples-or ndarrays with different lengths or shapes) is deprecated. If you meant to do this, you must specify 'dtype=object' when creating the ndarray.\n"
     ]
    },
    {
     "name": "stdout",
     "output_type": "stream",
     "text": [
      "minirocket, ProximalPhalanxOutlineCorrect, (permutation, {'max_segments': 8, 'seg_mode': 'equal'}) DONE\n"
     ]
    },
    {
     "name": "stderr",
     "output_type": "stream",
     "text": [
      "/Users/Pongpanod.Sa/Desktop/cu/thesis/coding/pun_master_thesis/time_series_augmentation/utils/augmentation.py:33: VisibleDeprecationWarning: Creating an ndarray from ragged nested sequences (which is a list-or-tuple of lists-or-tuples-or ndarrays with different lengths or shapes) is deprecated. If you meant to do this, you must specify 'dtype=object' when creating the ndarray.\n",
      "  warp = np.concatenate(np.random.permutation(splits)).ravel()\n",
      "<__array_function__ internals>:180: VisibleDeprecationWarning: Creating an ndarray from ragged nested sequences (which is a list-or-tuple of lists-or-tuples-or ndarrays with different lengths or shapes) is deprecated. If you meant to do this, you must specify 'dtype=object' when creating the ndarray.\n"
     ]
    },
    {
     "name": "stdout",
     "output_type": "stream",
     "text": [
      "minirocket, ProximalPhalanxTW, (permutation, {'max_segments': 8, 'seg_mode': 'equal'}) DONE\n"
     ]
    },
    {
     "name": "stderr",
     "output_type": "stream",
     "text": [
      "/Users/Pongpanod.Sa/Desktop/cu/thesis/coding/pun_master_thesis/time_series_augmentation/utils/augmentation.py:33: VisibleDeprecationWarning: Creating an ndarray from ragged nested sequences (which is a list-or-tuple of lists-or-tuples-or ndarrays with different lengths or shapes) is deprecated. If you meant to do this, you must specify 'dtype=object' when creating the ndarray.\n",
      "  warp = np.concatenate(np.random.permutation(splits)).ravel()\n",
      "<__array_function__ internals>:180: VisibleDeprecationWarning: Creating an ndarray from ragged nested sequences (which is a list-or-tuple of lists-or-tuples-or ndarrays with different lengths or shapes) is deprecated. If you meant to do this, you must specify 'dtype=object' when creating the ndarray.\n"
     ]
    },
    {
     "name": "stdout",
     "output_type": "stream",
     "text": [
      "minirocket, ScreenType, (permutation, {'max_segments': 8, 'seg_mode': 'equal'}) DONE\n"
     ]
    },
    {
     "name": "stderr",
     "output_type": "stream",
     "text": [
      "/Users/Pongpanod.Sa/Desktop/cu/thesis/coding/pun_master_thesis/time_series_augmentation/utils/augmentation.py:33: VisibleDeprecationWarning: Creating an ndarray from ragged nested sequences (which is a list-or-tuple of lists-or-tuples-or ndarrays with different lengths or shapes) is deprecated. If you meant to do this, you must specify 'dtype=object' when creating the ndarray.\n",
      "  warp = np.concatenate(np.random.permutation(splits)).ravel()\n",
      "<__array_function__ internals>:180: VisibleDeprecationWarning: Creating an ndarray from ragged nested sequences (which is a list-or-tuple of lists-or-tuples-or ndarrays with different lengths or shapes) is deprecated. If you meant to do this, you must specify 'dtype=object' when creating the ndarray.\n"
     ]
    },
    {
     "name": "stdout",
     "output_type": "stream",
     "text": [
      "minirocket, ShapesAll, (permutation, {'max_segments': 8, 'seg_mode': 'equal'}) DONE\n"
     ]
    },
    {
     "name": "stderr",
     "output_type": "stream",
     "text": [
      "/Users/Pongpanod.Sa/Desktop/cu/thesis/coding/pun_master_thesis/time_series_augmentation/utils/augmentation.py:33: VisibleDeprecationWarning: Creating an ndarray from ragged nested sequences (which is a list-or-tuple of lists-or-tuples-or ndarrays with different lengths or shapes) is deprecated. If you meant to do this, you must specify 'dtype=object' when creating the ndarray.\n",
      "  warp = np.concatenate(np.random.permutation(splits)).ravel()\n",
      "<__array_function__ internals>:180: VisibleDeprecationWarning: Creating an ndarray from ragged nested sequences (which is a list-or-tuple of lists-or-tuples-or ndarrays with different lengths or shapes) is deprecated. If you meant to do this, you must specify 'dtype=object' when creating the ndarray.\n"
     ]
    },
    {
     "name": "stdout",
     "output_type": "stream",
     "text": [
      "minirocket, SmallKitchenAppliances, (permutation, {'max_segments': 8, 'seg_mode': 'equal'}) DONE\n"
     ]
    },
    {
     "name": "stderr",
     "output_type": "stream",
     "text": [
      "/Users/Pongpanod.Sa/Desktop/cu/thesis/coding/pun_master_thesis/time_series_augmentation/utils/augmentation.py:33: VisibleDeprecationWarning: Creating an ndarray from ragged nested sequences (which is a list-or-tuple of lists-or-tuples-or ndarrays with different lengths or shapes) is deprecated. If you meant to do this, you must specify 'dtype=object' when creating the ndarray.\n",
      "  warp = np.concatenate(np.random.permutation(splits)).ravel()\n",
      "<__array_function__ internals>:180: VisibleDeprecationWarning: Creating an ndarray from ragged nested sequences (which is a list-or-tuple of lists-or-tuples-or ndarrays with different lengths or shapes) is deprecated. If you meant to do this, you must specify 'dtype=object' when creating the ndarray.\n"
     ]
    },
    {
     "name": "stdout",
     "output_type": "stream",
     "text": [
      "minirocket, SonyAIBORobotSurface1, (permutation, {'max_segments': 8, 'seg_mode': 'equal'}) DONE\n"
     ]
    },
    {
     "name": "stderr",
     "output_type": "stream",
     "text": [
      "/Users/Pongpanod.Sa/Desktop/cu/thesis/coding/pun_master_thesis/time_series_augmentation/utils/augmentation.py:33: VisibleDeprecationWarning: Creating an ndarray from ragged nested sequences (which is a list-or-tuple of lists-or-tuples-or ndarrays with different lengths or shapes) is deprecated. If you meant to do this, you must specify 'dtype=object' when creating the ndarray.\n",
      "  warp = np.concatenate(np.random.permutation(splits)).ravel()\n",
      "<__array_function__ internals>:180: VisibleDeprecationWarning: Creating an ndarray from ragged nested sequences (which is a list-or-tuple of lists-or-tuples-or ndarrays with different lengths or shapes) is deprecated. If you meant to do this, you must specify 'dtype=object' when creating the ndarray.\n"
     ]
    },
    {
     "name": "stdout",
     "output_type": "stream",
     "text": [
      "minirocket, SonyAIBORobotSurface2, (permutation, {'max_segments': 8, 'seg_mode': 'equal'}) DONE\n"
     ]
    },
    {
     "name": "stderr",
     "output_type": "stream",
     "text": [
      "/Users/Pongpanod.Sa/Desktop/cu/thesis/coding/pun_master_thesis/time_series_augmentation/utils/augmentation.py:33: VisibleDeprecationWarning: Creating an ndarray from ragged nested sequences (which is a list-or-tuple of lists-or-tuples-or ndarrays with different lengths or shapes) is deprecated. If you meant to do this, you must specify 'dtype=object' when creating the ndarray.\n",
      "  warp = np.concatenate(np.random.permutation(splits)).ravel()\n",
      "<__array_function__ internals>:180: VisibleDeprecationWarning: Creating an ndarray from ragged nested sequences (which is a list-or-tuple of lists-or-tuples-or ndarrays with different lengths or shapes) is deprecated. If you meant to do this, you must specify 'dtype=object' when creating the ndarray.\n"
     ]
    },
    {
     "name": "stdout",
     "output_type": "stream",
     "text": [
      "minirocket, ToeSegmentation2, (permutation, {'max_segments': 8, 'seg_mode': 'equal'}) DONE\n"
     ]
    },
    {
     "name": "stderr",
     "output_type": "stream",
     "text": [
      "/Users/Pongpanod.Sa/Desktop/cu/thesis/coding/pun_master_thesis/time_series_augmentation/utils/augmentation.py:33: VisibleDeprecationWarning: Creating an ndarray from ragged nested sequences (which is a list-or-tuple of lists-or-tuples-or ndarrays with different lengths or shapes) is deprecated. If you meant to do this, you must specify 'dtype=object' when creating the ndarray.\n",
      "  warp = np.concatenate(np.random.permutation(splits)).ravel()\n",
      "<__array_function__ internals>:180: VisibleDeprecationWarning: Creating an ndarray from ragged nested sequences (which is a list-or-tuple of lists-or-tuples-or ndarrays with different lengths or shapes) is deprecated. If you meant to do this, you must specify 'dtype=object' when creating the ndarray.\n"
     ]
    },
    {
     "name": "stdout",
     "output_type": "stream",
     "text": [
      "minirocket, Wine, (permutation, {'max_segments': 8, 'seg_mode': 'equal'}) DONE\n"
     ]
    },
    {
     "name": "stderr",
     "output_type": "stream",
     "text": [
      "/Users/Pongpanod.Sa/Desktop/cu/thesis/coding/pun_master_thesis/time_series_augmentation/utils/augmentation.py:33: VisibleDeprecationWarning: Creating an ndarray from ragged nested sequences (which is a list-or-tuple of lists-or-tuples-or ndarrays with different lengths or shapes) is deprecated. If you meant to do this, you must specify 'dtype=object' when creating the ndarray.\n",
      "  warp = np.concatenate(np.random.permutation(splits)).ravel()\n",
      "<__array_function__ internals>:180: VisibleDeprecationWarning: Creating an ndarray from ragged nested sequences (which is a list-or-tuple of lists-or-tuples-or ndarrays with different lengths or shapes) is deprecated. If you meant to do this, you must specify 'dtype=object' when creating the ndarray.\n"
     ]
    },
    {
     "name": "stdout",
     "output_type": "stream",
     "text": [
      "minirocket, WordSynonyms, (permutation, {'max_segments': 8, 'seg_mode': 'equal'}) DONE\n"
     ]
    },
    {
     "name": "stderr",
     "output_type": "stream",
     "text": [
      "/Users/Pongpanod.Sa/Desktop/cu/thesis/coding/pun_master_thesis/time_series_augmentation/utils/augmentation.py:33: VisibleDeprecationWarning: Creating an ndarray from ragged nested sequences (which is a list-or-tuple of lists-or-tuples-or ndarrays with different lengths or shapes) is deprecated. If you meant to do this, you must specify 'dtype=object' when creating the ndarray.\n",
      "  warp = np.concatenate(np.random.permutation(splits)).ravel()\n",
      "<__array_function__ internals>:180: VisibleDeprecationWarning: Creating an ndarray from ragged nested sequences (which is a list-or-tuple of lists-or-tuples-or ndarrays with different lengths or shapes) is deprecated. If you meant to do this, you must specify 'dtype=object' when creating the ndarray.\n"
     ]
    },
    {
     "name": "stdout",
     "output_type": "stream",
     "text": [
      "minirocket, Worms, (permutation, {'max_segments': 8, 'seg_mode': 'equal'}) DONE\n"
     ]
    },
    {
     "name": "stderr",
     "output_type": "stream",
     "text": [
      "/Users/Pongpanod.Sa/Desktop/cu/thesis/coding/pun_master_thesis/time_series_augmentation/utils/augmentation.py:33: VisibleDeprecationWarning: Creating an ndarray from ragged nested sequences (which is a list-or-tuple of lists-or-tuples-or ndarrays with different lengths or shapes) is deprecated. If you meant to do this, you must specify 'dtype=object' when creating the ndarray.\n",
      "  warp = np.concatenate(np.random.permutation(splits)).ravel()\n",
      "<__array_function__ internals>:180: VisibleDeprecationWarning: Creating an ndarray from ragged nested sequences (which is a list-or-tuple of lists-or-tuples-or ndarrays with different lengths or shapes) is deprecated. If you meant to do this, you must specify 'dtype=object' when creating the ndarray.\n"
     ]
    },
    {
     "name": "stdout",
     "output_type": "stream",
     "text": [
      "minirocket, Yoga, (permutation, {'max_segments': 8, 'seg_mode': 'equal'}) DONE\n"
     ]
    }
   ],
   "source": [
    "# AUGMENTED Manual Loop\n",
    "variation = 'minirocket'\n",
    "classifer = {'name':variation, 'function': RocketClassifier(rocket_transform=variation)}\n",
    "dataset = read_UCR_dataset_name()\n",
    "augment = {'name':'permutation', 'function': permutation, 'params': {'max_segments':8, \"seg_mode\":\"equal\"}}\n",
    "for i in dataset:\n",
    "    training_two = Experiment(classifer, i, augment)\n",
    "    training_two.run_all()"
   ]
  },
  {
   "cell_type": "code",
   "execution_count": null,
   "metadata": {},
   "outputs": [
    {
     "name": "stderr",
     "output_type": "stream",
     "text": [
      "/Users/Pongpanod.Sa/Desktop/cu/thesis/coding/pun_master_thesis/time_series_augmentation/utils/augmentation.py:33: VisibleDeprecationWarning: Creating an ndarray from ragged nested sequences (which is a list-or-tuple of lists-or-tuples-or ndarrays with different lengths or shapes) is deprecated. If you meant to do this, you must specify 'dtype=object' when creating the ndarray.\n",
      "  warp = np.concatenate(np.random.permutation(splits)).ravel()\n",
      "<__array_function__ internals>:180: VisibleDeprecationWarning: Creating an ndarray from ragged nested sequences (which is a list-or-tuple of lists-or-tuples-or ndarrays with different lengths or shapes) is deprecated. If you meant to do this, you must specify 'dtype=object' when creating the ndarray.\n"
     ]
    },
    {
     "name": "stdout",
     "output_type": "stream",
     "text": [
      "minirocket, Adiac, (permutation, {'max_segments': 10, 'seg_mode': 'equal'}) DONE\n"
     ]
    },
    {
     "name": "stderr",
     "output_type": "stream",
     "text": [
      "/Users/Pongpanod.Sa/Desktop/cu/thesis/coding/pun_master_thesis/time_series_augmentation/utils/augmentation.py:33: VisibleDeprecationWarning: Creating an ndarray from ragged nested sequences (which is a list-or-tuple of lists-or-tuples-or ndarrays with different lengths or shapes) is deprecated. If you meant to do this, you must specify 'dtype=object' when creating the ndarray.\n",
      "  warp = np.concatenate(np.random.permutation(splits)).ravel()\n",
      "<__array_function__ internals>:180: VisibleDeprecationWarning: Creating an ndarray from ragged nested sequences (which is a list-or-tuple of lists-or-tuples-or ndarrays with different lengths or shapes) is deprecated. If you meant to do this, you must specify 'dtype=object' when creating the ndarray.\n"
     ]
    },
    {
     "name": "stdout",
     "output_type": "stream",
     "text": [
      "minirocket, ArrowHead, (permutation, {'max_segments': 10, 'seg_mode': 'equal'}) DONE\n"
     ]
    },
    {
     "name": "stderr",
     "output_type": "stream",
     "text": [
      "/Users/Pongpanod.Sa/Desktop/cu/thesis/coding/pun_master_thesis/time_series_augmentation/utils/augmentation.py:33: VisibleDeprecationWarning: Creating an ndarray from ragged nested sequences (which is a list-or-tuple of lists-or-tuples-or ndarrays with different lengths or shapes) is deprecated. If you meant to do this, you must specify 'dtype=object' when creating the ndarray.\n",
      "  warp = np.concatenate(np.random.permutation(splits)).ravel()\n",
      "<__array_function__ internals>:180: VisibleDeprecationWarning: Creating an ndarray from ragged nested sequences (which is a list-or-tuple of lists-or-tuples-or ndarrays with different lengths or shapes) is deprecated. If you meant to do this, you must specify 'dtype=object' when creating the ndarray.\n"
     ]
    },
    {
     "name": "stdout",
     "output_type": "stream",
     "text": [
      "minirocket, Beef, (permutation, {'max_segments': 10, 'seg_mode': 'equal'}) DONE\n"
     ]
    },
    {
     "name": "stderr",
     "output_type": "stream",
     "text": [
      "/Users/Pongpanod.Sa/Desktop/cu/thesis/coding/pun_master_thesis/time_series_augmentation/utils/augmentation.py:33: VisibleDeprecationWarning: Creating an ndarray from ragged nested sequences (which is a list-or-tuple of lists-or-tuples-or ndarrays with different lengths or shapes) is deprecated. If you meant to do this, you must specify 'dtype=object' when creating the ndarray.\n",
      "  warp = np.concatenate(np.random.permutation(splits)).ravel()\n",
      "<__array_function__ internals>:180: VisibleDeprecationWarning: Creating an ndarray from ragged nested sequences (which is a list-or-tuple of lists-or-tuples-or ndarrays with different lengths or shapes) is deprecated. If you meant to do this, you must specify 'dtype=object' when creating the ndarray.\n"
     ]
    },
    {
     "name": "stdout",
     "output_type": "stream",
     "text": [
      "minirocket, BeetleFly, (permutation, {'max_segments': 10, 'seg_mode': 'equal'}) DONE\n"
     ]
    },
    {
     "name": "stderr",
     "output_type": "stream",
     "text": [
      "/Users/Pongpanod.Sa/Desktop/cu/thesis/coding/pun_master_thesis/time_series_augmentation/utils/augmentation.py:33: VisibleDeprecationWarning: Creating an ndarray from ragged nested sequences (which is a list-or-tuple of lists-or-tuples-or ndarrays with different lengths or shapes) is deprecated. If you meant to do this, you must specify 'dtype=object' when creating the ndarray.\n",
      "  warp = np.concatenate(np.random.permutation(splits)).ravel()\n",
      "<__array_function__ internals>:180: VisibleDeprecationWarning: Creating an ndarray from ragged nested sequences (which is a list-or-tuple of lists-or-tuples-or ndarrays with different lengths or shapes) is deprecated. If you meant to do this, you must specify 'dtype=object' when creating the ndarray.\n"
     ]
    },
    {
     "name": "stdout",
     "output_type": "stream",
     "text": [
      "minirocket, Car, (permutation, {'max_segments': 10, 'seg_mode': 'equal'}) DONE\n"
     ]
    },
    {
     "name": "stderr",
     "output_type": "stream",
     "text": [
      "/Users/Pongpanod.Sa/Desktop/cu/thesis/coding/pun_master_thesis/time_series_augmentation/utils/augmentation.py:33: VisibleDeprecationWarning: Creating an ndarray from ragged nested sequences (which is a list-or-tuple of lists-or-tuples-or ndarrays with different lengths or shapes) is deprecated. If you meant to do this, you must specify 'dtype=object' when creating the ndarray.\n",
      "  warp = np.concatenate(np.random.permutation(splits)).ravel()\n",
      "<__array_function__ internals>:180: VisibleDeprecationWarning: Creating an ndarray from ragged nested sequences (which is a list-or-tuple of lists-or-tuples-or ndarrays with different lengths or shapes) is deprecated. If you meant to do this, you must specify 'dtype=object' when creating the ndarray.\n"
     ]
    },
    {
     "name": "stdout",
     "output_type": "stream",
     "text": [
      "minirocket, ChlorineConcentration, (permutation, {'max_segments': 10, 'seg_mode': 'equal'}) DONE\n"
     ]
    },
    {
     "name": "stderr",
     "output_type": "stream",
     "text": [
      "/Users/Pongpanod.Sa/Desktop/cu/thesis/coding/pun_master_thesis/time_series_augmentation/utils/augmentation.py:33: VisibleDeprecationWarning: Creating an ndarray from ragged nested sequences (which is a list-or-tuple of lists-or-tuples-or ndarrays with different lengths or shapes) is deprecated. If you meant to do this, you must specify 'dtype=object' when creating the ndarray.\n",
      "  warp = np.concatenate(np.random.permutation(splits)).ravel()\n",
      "<__array_function__ internals>:180: VisibleDeprecationWarning: Creating an ndarray from ragged nested sequences (which is a list-or-tuple of lists-or-tuples-or ndarrays with different lengths or shapes) is deprecated. If you meant to do this, you must specify 'dtype=object' when creating the ndarray.\n"
     ]
    },
    {
     "name": "stdout",
     "output_type": "stream",
     "text": [
      "minirocket, CinCECGTorso, (permutation, {'max_segments': 10, 'seg_mode': 'equal'}) DONE\n"
     ]
    },
    {
     "name": "stderr",
     "output_type": "stream",
     "text": [
      "/Users/Pongpanod.Sa/Desktop/cu/thesis/coding/pun_master_thesis/time_series_augmentation/utils/augmentation.py:33: VisibleDeprecationWarning: Creating an ndarray from ragged nested sequences (which is a list-or-tuple of lists-or-tuples-or ndarrays with different lengths or shapes) is deprecated. If you meant to do this, you must specify 'dtype=object' when creating the ndarray.\n",
      "  warp = np.concatenate(np.random.permutation(splits)).ravel()\n",
      "<__array_function__ internals>:180: VisibleDeprecationWarning: Creating an ndarray from ragged nested sequences (which is a list-or-tuple of lists-or-tuples-or ndarrays with different lengths or shapes) is deprecated. If you meant to do this, you must specify 'dtype=object' when creating the ndarray.\n"
     ]
    },
    {
     "name": "stdout",
     "output_type": "stream",
     "text": [
      "minirocket, Computers, (permutation, {'max_segments': 10, 'seg_mode': 'equal'}) DONE\n"
     ]
    },
    {
     "name": "stderr",
     "output_type": "stream",
     "text": [
      "/Users/Pongpanod.Sa/Desktop/cu/thesis/coding/pun_master_thesis/time_series_augmentation/utils/augmentation.py:33: VisibleDeprecationWarning: Creating an ndarray from ragged nested sequences (which is a list-or-tuple of lists-or-tuples-or ndarrays with different lengths or shapes) is deprecated. If you meant to do this, you must specify 'dtype=object' when creating the ndarray.\n",
      "  warp = np.concatenate(np.random.permutation(splits)).ravel()\n",
      "<__array_function__ internals>:180: VisibleDeprecationWarning: Creating an ndarray from ragged nested sequences (which is a list-or-tuple of lists-or-tuples-or ndarrays with different lengths or shapes) is deprecated. If you meant to do this, you must specify 'dtype=object' when creating the ndarray.\n"
     ]
    },
    {
     "name": "stdout",
     "output_type": "stream",
     "text": [
      "minirocket, DistalPhalanxOutlineAgeGroup, (permutation, {'max_segments': 10, 'seg_mode': 'equal'}) DONE\n"
     ]
    },
    {
     "name": "stderr",
     "output_type": "stream",
     "text": [
      "/Users/Pongpanod.Sa/Desktop/cu/thesis/coding/pun_master_thesis/time_series_augmentation/utils/augmentation.py:33: VisibleDeprecationWarning: Creating an ndarray from ragged nested sequences (which is a list-or-tuple of lists-or-tuples-or ndarrays with different lengths or shapes) is deprecated. If you meant to do this, you must specify 'dtype=object' when creating the ndarray.\n",
      "  warp = np.concatenate(np.random.permutation(splits)).ravel()\n",
      "<__array_function__ internals>:180: VisibleDeprecationWarning: Creating an ndarray from ragged nested sequences (which is a list-or-tuple of lists-or-tuples-or ndarrays with different lengths or shapes) is deprecated. If you meant to do this, you must specify 'dtype=object' when creating the ndarray.\n"
     ]
    },
    {
     "name": "stdout",
     "output_type": "stream",
     "text": [
      "minirocket, DistalPhalanxOutlineCorrect, (permutation, {'max_segments': 10, 'seg_mode': 'equal'}) DONE\n"
     ]
    },
    {
     "name": "stderr",
     "output_type": "stream",
     "text": [
      "/Users/Pongpanod.Sa/Desktop/cu/thesis/coding/pun_master_thesis/time_series_augmentation/utils/augmentation.py:33: VisibleDeprecationWarning: Creating an ndarray from ragged nested sequences (which is a list-or-tuple of lists-or-tuples-or ndarrays with different lengths or shapes) is deprecated. If you meant to do this, you must specify 'dtype=object' when creating the ndarray.\n",
      "  warp = np.concatenate(np.random.permutation(splits)).ravel()\n",
      "<__array_function__ internals>:180: VisibleDeprecationWarning: Creating an ndarray from ragged nested sequences (which is a list-or-tuple of lists-or-tuples-or ndarrays with different lengths or shapes) is deprecated. If you meant to do this, you must specify 'dtype=object' when creating the ndarray.\n",
      "/Users/Pongpanod.Sa/miniconda3/envs/thesis3.10/lib/python3.10/site-packages/sklearn/metrics/_classification.py:1327: UndefinedMetricWarning: Precision and F-score are ill-defined and being set to 0.0 in labels with no predicted samples. Use `zero_division` parameter to control this behavior.\n",
      "  _warn_prf(average, modifier, msg_start, len(result))\n",
      "/Users/Pongpanod.Sa/Desktop/cu/thesis/coding/pun_master_thesis/time_series_augmentation/utils/augmentation.py:33: VisibleDeprecationWarning: Creating an ndarray from ragged nested sequences (which is a list-or-tuple of lists-or-tuples-or ndarrays with different lengths or shapes) is deprecated. If you meant to do this, you must specify 'dtype=object' when creating the ndarray.\n",
      "  warp = np.concatenate(np.random.permutation(splits)).ravel()\n",
      "<__array_function__ internals>:180: VisibleDeprecationWarning: Creating an ndarray from ragged nested sequences (which is a list-or-tuple of lists-or-tuples-or ndarrays with different lengths or shapes) is deprecated. If you meant to do this, you must specify 'dtype=object' when creating the ndarray.\n"
     ]
    },
    {
     "name": "stdout",
     "output_type": "stream",
     "text": [
      "minirocket, DistalPhalanxTW, (permutation, {'max_segments': 10, 'seg_mode': 'equal'}) DONE\n",
      "minirocket, Earthquakes, (permutation, {'max_segments': 10, 'seg_mode': 'equal'}) DONE\n"
     ]
    },
    {
     "name": "stderr",
     "output_type": "stream",
     "text": [
      "/Users/Pongpanod.Sa/Desktop/cu/thesis/coding/pun_master_thesis/time_series_augmentation/utils/augmentation.py:33: VisibleDeprecationWarning: Creating an ndarray from ragged nested sequences (which is a list-or-tuple of lists-or-tuples-or ndarrays with different lengths or shapes) is deprecated. If you meant to do this, you must specify 'dtype=object' when creating the ndarray.\n",
      "  warp = np.concatenate(np.random.permutation(splits)).ravel()\n",
      "<__array_function__ internals>:180: VisibleDeprecationWarning: Creating an ndarray from ragged nested sequences (which is a list-or-tuple of lists-or-tuples-or ndarrays with different lengths or shapes) is deprecated. If you meant to do this, you must specify 'dtype=object' when creating the ndarray.\n"
     ]
    },
    {
     "name": "stdout",
     "output_type": "stream",
     "text": [
      "minirocket, ECG200, (permutation, {'max_segments': 10, 'seg_mode': 'equal'}) DONE\n"
     ]
    },
    {
     "name": "stderr",
     "output_type": "stream",
     "text": [
      "/Users/Pongpanod.Sa/Desktop/cu/thesis/coding/pun_master_thesis/time_series_augmentation/utils/augmentation.py:33: VisibleDeprecationWarning: Creating an ndarray from ragged nested sequences (which is a list-or-tuple of lists-or-tuples-or ndarrays with different lengths or shapes) is deprecated. If you meant to do this, you must specify 'dtype=object' when creating the ndarray.\n",
      "  warp = np.concatenate(np.random.permutation(splits)).ravel()\n",
      "<__array_function__ internals>:180: VisibleDeprecationWarning: Creating an ndarray from ragged nested sequences (which is a list-or-tuple of lists-or-tuples-or ndarrays with different lengths or shapes) is deprecated. If you meant to do this, you must specify 'dtype=object' when creating the ndarray.\n",
      "/Users/Pongpanod.Sa/miniconda3/envs/thesis3.10/lib/python3.10/site-packages/sklearn/metrics/_classification.py:1327: UndefinedMetricWarning: Precision and F-score are ill-defined and being set to 0.0 in labels with no predicted samples. Use `zero_division` parameter to control this behavior.\n",
      "  _warn_prf(average, modifier, msg_start, len(result))\n"
     ]
    },
    {
     "name": "stdout",
     "output_type": "stream",
     "text": [
      "minirocket, ECG5000, (permutation, {'max_segments': 10, 'seg_mode': 'equal'}) DONE\n"
     ]
    },
    {
     "name": "stderr",
     "output_type": "stream",
     "text": [
      "/Users/Pongpanod.Sa/Desktop/cu/thesis/coding/pun_master_thesis/time_series_augmentation/utils/augmentation.py:33: VisibleDeprecationWarning: Creating an ndarray from ragged nested sequences (which is a list-or-tuple of lists-or-tuples-or ndarrays with different lengths or shapes) is deprecated. If you meant to do this, you must specify 'dtype=object' when creating the ndarray.\n",
      "  warp = np.concatenate(np.random.permutation(splits)).ravel()\n",
      "<__array_function__ internals>:180: VisibleDeprecationWarning: Creating an ndarray from ragged nested sequences (which is a list-or-tuple of lists-or-tuples-or ndarrays with different lengths or shapes) is deprecated. If you meant to do this, you must specify 'dtype=object' when creating the ndarray.\n"
     ]
    },
    {
     "name": "stdout",
     "output_type": "stream",
     "text": [
      "minirocket, ElectricDevices, (permutation, {'max_segments': 10, 'seg_mode': 'equal'}) DONE\n"
     ]
    },
    {
     "name": "stderr",
     "output_type": "stream",
     "text": [
      "/Users/Pongpanod.Sa/Desktop/cu/thesis/coding/pun_master_thesis/time_series_augmentation/utils/augmentation.py:33: VisibleDeprecationWarning: Creating an ndarray from ragged nested sequences (which is a list-or-tuple of lists-or-tuples-or ndarrays with different lengths or shapes) is deprecated. If you meant to do this, you must specify 'dtype=object' when creating the ndarray.\n",
      "  warp = np.concatenate(np.random.permutation(splits)).ravel()\n",
      "<__array_function__ internals>:180: VisibleDeprecationWarning: Creating an ndarray from ragged nested sequences (which is a list-or-tuple of lists-or-tuples-or ndarrays with different lengths or shapes) is deprecated. If you meant to do this, you must specify 'dtype=object' when creating the ndarray.\n"
     ]
    },
    {
     "name": "stdout",
     "output_type": "stream",
     "text": [
      "minirocket, FaceAll, (permutation, {'max_segments': 10, 'seg_mode': 'equal'}) DONE\n"
     ]
    },
    {
     "name": "stderr",
     "output_type": "stream",
     "text": [
      "/Users/Pongpanod.Sa/Desktop/cu/thesis/coding/pun_master_thesis/time_series_augmentation/utils/augmentation.py:33: VisibleDeprecationWarning: Creating an ndarray from ragged nested sequences (which is a list-or-tuple of lists-or-tuples-or ndarrays with different lengths or shapes) is deprecated. If you meant to do this, you must specify 'dtype=object' when creating the ndarray.\n",
      "  warp = np.concatenate(np.random.permutation(splits)).ravel()\n",
      "<__array_function__ internals>:180: VisibleDeprecationWarning: Creating an ndarray from ragged nested sequences (which is a list-or-tuple of lists-or-tuples-or ndarrays with different lengths or shapes) is deprecated. If you meant to do this, you must specify 'dtype=object' when creating the ndarray.\n",
      "/Users/Pongpanod.Sa/miniconda3/envs/thesis3.10/lib/python3.10/site-packages/sklearn/metrics/_classification.py:1327: UndefinedMetricWarning: Precision and F-score are ill-defined and being set to 0.0 in labels with no predicted samples. Use `zero_division` parameter to control this behavior.\n",
      "  _warn_prf(average, modifier, msg_start, len(result))\n"
     ]
    },
    {
     "name": "stdout",
     "output_type": "stream",
     "text": [
      "minirocket, FiftyWords, (permutation, {'max_segments': 10, 'seg_mode': 'equal'}) DONE\n"
     ]
    },
    {
     "name": "stderr",
     "output_type": "stream",
     "text": [
      "/Users/Pongpanod.Sa/Desktop/cu/thesis/coding/pun_master_thesis/time_series_augmentation/utils/augmentation.py:33: VisibleDeprecationWarning: Creating an ndarray from ragged nested sequences (which is a list-or-tuple of lists-or-tuples-or ndarrays with different lengths or shapes) is deprecated. If you meant to do this, you must specify 'dtype=object' when creating the ndarray.\n",
      "  warp = np.concatenate(np.random.permutation(splits)).ravel()\n",
      "<__array_function__ internals>:180: VisibleDeprecationWarning: Creating an ndarray from ragged nested sequences (which is a list-or-tuple of lists-or-tuples-or ndarrays with different lengths or shapes) is deprecated. If you meant to do this, you must specify 'dtype=object' when creating the ndarray.\n"
     ]
    },
    {
     "name": "stdout",
     "output_type": "stream",
     "text": [
      "minirocket, FordB, (permutation, {'max_segments': 10, 'seg_mode': 'equal'}) DONE\n"
     ]
    },
    {
     "name": "stderr",
     "output_type": "stream",
     "text": [
      "/Users/Pongpanod.Sa/Desktop/cu/thesis/coding/pun_master_thesis/time_series_augmentation/utils/augmentation.py:33: VisibleDeprecationWarning: Creating an ndarray from ragged nested sequences (which is a list-or-tuple of lists-or-tuples-or ndarrays with different lengths or shapes) is deprecated. If you meant to do this, you must specify 'dtype=object' when creating the ndarray.\n",
      "  warp = np.concatenate(np.random.permutation(splits)).ravel()\n",
      "<__array_function__ internals>:180: VisibleDeprecationWarning: Creating an ndarray from ragged nested sequences (which is a list-or-tuple of lists-or-tuples-or ndarrays with different lengths or shapes) is deprecated. If you meant to do this, you must specify 'dtype=object' when creating the ndarray.\n"
     ]
    },
    {
     "name": "stdout",
     "output_type": "stream",
     "text": [
      "minirocket, Ham, (permutation, {'max_segments': 10, 'seg_mode': 'equal'}) DONE\n"
     ]
    },
    {
     "name": "stderr",
     "output_type": "stream",
     "text": [
      "/Users/Pongpanod.Sa/Desktop/cu/thesis/coding/pun_master_thesis/time_series_augmentation/utils/augmentation.py:33: VisibleDeprecationWarning: Creating an ndarray from ragged nested sequences (which is a list-or-tuple of lists-or-tuples-or ndarrays with different lengths or shapes) is deprecated. If you meant to do this, you must specify 'dtype=object' when creating the ndarray.\n",
      "  warp = np.concatenate(np.random.permutation(splits)).ravel()\n",
      "<__array_function__ internals>:180: VisibleDeprecationWarning: Creating an ndarray from ragged nested sequences (which is a list-or-tuple of lists-or-tuples-or ndarrays with different lengths or shapes) is deprecated. If you meant to do this, you must specify 'dtype=object' when creating the ndarray.\n"
     ]
    },
    {
     "name": "stdout",
     "output_type": "stream",
     "text": [
      "minirocket, HandOutlines, (permutation, {'max_segments': 10, 'seg_mode': 'equal'}) DONE\n"
     ]
    },
    {
     "name": "stderr",
     "output_type": "stream",
     "text": [
      "/Users/Pongpanod.Sa/Desktop/cu/thesis/coding/pun_master_thesis/time_series_augmentation/utils/augmentation.py:33: VisibleDeprecationWarning: Creating an ndarray from ragged nested sequences (which is a list-or-tuple of lists-or-tuples-or ndarrays with different lengths or shapes) is deprecated. If you meant to do this, you must specify 'dtype=object' when creating the ndarray.\n",
      "  warp = np.concatenate(np.random.permutation(splits)).ravel()\n",
      "<__array_function__ internals>:180: VisibleDeprecationWarning: Creating an ndarray from ragged nested sequences (which is a list-or-tuple of lists-or-tuples-or ndarrays with different lengths or shapes) is deprecated. If you meant to do this, you must specify 'dtype=object' when creating the ndarray.\n"
     ]
    },
    {
     "name": "stdout",
     "output_type": "stream",
     "text": [
      "minirocket, Haptics, (permutation, {'max_segments': 10, 'seg_mode': 'equal'}) DONE\n"
     ]
    },
    {
     "name": "stderr",
     "output_type": "stream",
     "text": [
      "/Users/Pongpanod.Sa/Desktop/cu/thesis/coding/pun_master_thesis/time_series_augmentation/utils/augmentation.py:33: VisibleDeprecationWarning: Creating an ndarray from ragged nested sequences (which is a list-or-tuple of lists-or-tuples-or ndarrays with different lengths or shapes) is deprecated. If you meant to do this, you must specify 'dtype=object' when creating the ndarray.\n",
      "  warp = np.concatenate(np.random.permutation(splits)).ravel()\n",
      "<__array_function__ internals>:180: VisibleDeprecationWarning: Creating an ndarray from ragged nested sequences (which is a list-or-tuple of lists-or-tuples-or ndarrays with different lengths or shapes) is deprecated. If you meant to do this, you must specify 'dtype=object' when creating the ndarray.\n"
     ]
    },
    {
     "name": "stdout",
     "output_type": "stream",
     "text": [
      "minirocket, Herring, (permutation, {'max_segments': 10, 'seg_mode': 'equal'}) DONE\n"
     ]
    },
    {
     "name": "stderr",
     "output_type": "stream",
     "text": [
      "/Users/Pongpanod.Sa/Desktop/cu/thesis/coding/pun_master_thesis/time_series_augmentation/utils/augmentation.py:33: VisibleDeprecationWarning: Creating an ndarray from ragged nested sequences (which is a list-or-tuple of lists-or-tuples-or ndarrays with different lengths or shapes) is deprecated. If you meant to do this, you must specify 'dtype=object' when creating the ndarray.\n",
      "  warp = np.concatenate(np.random.permutation(splits)).ravel()\n",
      "<__array_function__ internals>:180: VisibleDeprecationWarning: Creating an ndarray from ragged nested sequences (which is a list-or-tuple of lists-or-tuples-or ndarrays with different lengths or shapes) is deprecated. If you meant to do this, you must specify 'dtype=object' when creating the ndarray.\n"
     ]
    },
    {
     "name": "stdout",
     "output_type": "stream",
     "text": [
      "minirocket, InlineSkate, (permutation, {'max_segments': 10, 'seg_mode': 'equal'}) DONE\n"
     ]
    },
    {
     "name": "stderr",
     "output_type": "stream",
     "text": [
      "/Users/Pongpanod.Sa/Desktop/cu/thesis/coding/pun_master_thesis/time_series_augmentation/utils/augmentation.py:33: VisibleDeprecationWarning: Creating an ndarray from ragged nested sequences (which is a list-or-tuple of lists-or-tuples-or ndarrays with different lengths or shapes) is deprecated. If you meant to do this, you must specify 'dtype=object' when creating the ndarray.\n",
      "  warp = np.concatenate(np.random.permutation(splits)).ravel()\n",
      "<__array_function__ internals>:180: VisibleDeprecationWarning: Creating an ndarray from ragged nested sequences (which is a list-or-tuple of lists-or-tuples-or ndarrays with different lengths or shapes) is deprecated. If you meant to do this, you must specify 'dtype=object' when creating the ndarray.\n"
     ]
    },
    {
     "name": "stdout",
     "output_type": "stream",
     "text": [
      "minirocket, InsectWingbeatSound, (permutation, {'max_segments': 10, 'seg_mode': 'equal'}) DONE\n"
     ]
    },
    {
     "name": "stderr",
     "output_type": "stream",
     "text": [
      "/Users/Pongpanod.Sa/Desktop/cu/thesis/coding/pun_master_thesis/time_series_augmentation/utils/augmentation.py:33: VisibleDeprecationWarning: Creating an ndarray from ragged nested sequences (which is a list-or-tuple of lists-or-tuples-or ndarrays with different lengths or shapes) is deprecated. If you meant to do this, you must specify 'dtype=object' when creating the ndarray.\n",
      "  warp = np.concatenate(np.random.permutation(splits)).ravel()\n",
      "<__array_function__ internals>:180: VisibleDeprecationWarning: Creating an ndarray from ragged nested sequences (which is a list-or-tuple of lists-or-tuples-or ndarrays with different lengths or shapes) is deprecated. If you meant to do this, you must specify 'dtype=object' when creating the ndarray.\n"
     ]
    },
    {
     "name": "stdout",
     "output_type": "stream",
     "text": [
      "minirocket, Lightning2, (permutation, {'max_segments': 10, 'seg_mode': 'equal'}) DONE\n"
     ]
    },
    {
     "name": "stderr",
     "output_type": "stream",
     "text": [
      "/Users/Pongpanod.Sa/Desktop/cu/thesis/coding/pun_master_thesis/time_series_augmentation/utils/augmentation.py:33: VisibleDeprecationWarning: Creating an ndarray from ragged nested sequences (which is a list-or-tuple of lists-or-tuples-or ndarrays with different lengths or shapes) is deprecated. If you meant to do this, you must specify 'dtype=object' when creating the ndarray.\n",
      "  warp = np.concatenate(np.random.permutation(splits)).ravel()\n",
      "<__array_function__ internals>:180: VisibleDeprecationWarning: Creating an ndarray from ragged nested sequences (which is a list-or-tuple of lists-or-tuples-or ndarrays with different lengths or shapes) is deprecated. If you meant to do this, you must specify 'dtype=object' when creating the ndarray.\n"
     ]
    },
    {
     "name": "stdout",
     "output_type": "stream",
     "text": [
      "minirocket, Mallat, (permutation, {'max_segments': 10, 'seg_mode': 'equal'}) DONE\n"
     ]
    },
    {
     "name": "stderr",
     "output_type": "stream",
     "text": [
      "/Users/Pongpanod.Sa/Desktop/cu/thesis/coding/pun_master_thesis/time_series_augmentation/utils/augmentation.py:33: VisibleDeprecationWarning: Creating an ndarray from ragged nested sequences (which is a list-or-tuple of lists-or-tuples-or ndarrays with different lengths or shapes) is deprecated. If you meant to do this, you must specify 'dtype=object' when creating the ndarray.\n",
      "  warp = np.concatenate(np.random.permutation(splits)).ravel()\n",
      "<__array_function__ internals>:180: VisibleDeprecationWarning: Creating an ndarray from ragged nested sequences (which is a list-or-tuple of lists-or-tuples-or ndarrays with different lengths or shapes) is deprecated. If you meant to do this, you must specify 'dtype=object' when creating the ndarray.\n"
     ]
    },
    {
     "name": "stdout",
     "output_type": "stream",
     "text": [
      "minirocket, MedicalImages, (permutation, {'max_segments': 10, 'seg_mode': 'equal'}) DONE\n"
     ]
    },
    {
     "name": "stderr",
     "output_type": "stream",
     "text": [
      "/Users/Pongpanod.Sa/Desktop/cu/thesis/coding/pun_master_thesis/time_series_augmentation/utils/augmentation.py:33: VisibleDeprecationWarning: Creating an ndarray from ragged nested sequences (which is a list-or-tuple of lists-or-tuples-or ndarrays with different lengths or shapes) is deprecated. If you meant to do this, you must specify 'dtype=object' when creating the ndarray.\n",
      "  warp = np.concatenate(np.random.permutation(splits)).ravel()\n",
      "<__array_function__ internals>:180: VisibleDeprecationWarning: Creating an ndarray from ragged nested sequences (which is a list-or-tuple of lists-or-tuples-or ndarrays with different lengths or shapes) is deprecated. If you meant to do this, you must specify 'dtype=object' when creating the ndarray.\n"
     ]
    },
    {
     "name": "stdout",
     "output_type": "stream",
     "text": [
      "minirocket, MiddlePhalanxOutlineAgeGroup, (permutation, {'max_segments': 10, 'seg_mode': 'equal'}) DONE\n"
     ]
    },
    {
     "name": "stderr",
     "output_type": "stream",
     "text": [
      "/Users/Pongpanod.Sa/Desktop/cu/thesis/coding/pun_master_thesis/time_series_augmentation/utils/augmentation.py:33: VisibleDeprecationWarning: Creating an ndarray from ragged nested sequences (which is a list-or-tuple of lists-or-tuples-or ndarrays with different lengths or shapes) is deprecated. If you meant to do this, you must specify 'dtype=object' when creating the ndarray.\n",
      "  warp = np.concatenate(np.random.permutation(splits)).ravel()\n",
      "<__array_function__ internals>:180: VisibleDeprecationWarning: Creating an ndarray from ragged nested sequences (which is a list-or-tuple of lists-or-tuples-or ndarrays with different lengths or shapes) is deprecated. If you meant to do this, you must specify 'dtype=object' when creating the ndarray.\n"
     ]
    },
    {
     "name": "stdout",
     "output_type": "stream",
     "text": [
      "minirocket, MiddlePhalanxOutlineCorrect, (permutation, {'max_segments': 10, 'seg_mode': 'equal'}) DONE\n"
     ]
    },
    {
     "name": "stderr",
     "output_type": "stream",
     "text": [
      "/Users/Pongpanod.Sa/Desktop/cu/thesis/coding/pun_master_thesis/time_series_augmentation/utils/augmentation.py:33: VisibleDeprecationWarning: Creating an ndarray from ragged nested sequences (which is a list-or-tuple of lists-or-tuples-or ndarrays with different lengths or shapes) is deprecated. If you meant to do this, you must specify 'dtype=object' when creating the ndarray.\n",
      "  warp = np.concatenate(np.random.permutation(splits)).ravel()\n",
      "<__array_function__ internals>:180: VisibleDeprecationWarning: Creating an ndarray from ragged nested sequences (which is a list-or-tuple of lists-or-tuples-or ndarrays with different lengths or shapes) is deprecated. If you meant to do this, you must specify 'dtype=object' when creating the ndarray.\n"
     ]
    },
    {
     "name": "stdout",
     "output_type": "stream",
     "text": [
      "minirocket, MiddlePhalanxTW, (permutation, {'max_segments': 10, 'seg_mode': 'equal'}) DONE\n"
     ]
    },
    {
     "name": "stderr",
     "output_type": "stream",
     "text": [
      "/Users/Pongpanod.Sa/Desktop/cu/thesis/coding/pun_master_thesis/time_series_augmentation/utils/augmentation.py:33: VisibleDeprecationWarning: Creating an ndarray from ragged nested sequences (which is a list-or-tuple of lists-or-tuples-or ndarrays with different lengths or shapes) is deprecated. If you meant to do this, you must specify 'dtype=object' when creating the ndarray.\n",
      "  warp = np.concatenate(np.random.permutation(splits)).ravel()\n",
      "<__array_function__ internals>:180: VisibleDeprecationWarning: Creating an ndarray from ragged nested sequences (which is a list-or-tuple of lists-or-tuples-or ndarrays with different lengths or shapes) is deprecated. If you meant to do this, you must specify 'dtype=object' when creating the ndarray.\n"
     ]
    },
    {
     "name": "stdout",
     "output_type": "stream",
     "text": [
      "minirocket, MoteStrain, (permutation, {'max_segments': 10, 'seg_mode': 'equal'}) DONE\n"
     ]
    },
    {
     "name": "stderr",
     "output_type": "stream",
     "text": [
      "/Users/Pongpanod.Sa/Desktop/cu/thesis/coding/pun_master_thesis/time_series_augmentation/utils/augmentation.py:33: VisibleDeprecationWarning: Creating an ndarray from ragged nested sequences (which is a list-or-tuple of lists-or-tuples-or ndarrays with different lengths or shapes) is deprecated. If you meant to do this, you must specify 'dtype=object' when creating the ndarray.\n",
      "  warp = np.concatenate(np.random.permutation(splits)).ravel()\n",
      "<__array_function__ internals>:180: VisibleDeprecationWarning: Creating an ndarray from ragged nested sequences (which is a list-or-tuple of lists-or-tuples-or ndarrays with different lengths or shapes) is deprecated. If you meant to do this, you must specify 'dtype=object' when creating the ndarray.\n"
     ]
    },
    {
     "name": "stdout",
     "output_type": "stream",
     "text": [
      "minirocket, OliveOil, (permutation, {'max_segments': 10, 'seg_mode': 'equal'}) DONE\n"
     ]
    },
    {
     "name": "stderr",
     "output_type": "stream",
     "text": [
      "/Users/Pongpanod.Sa/Desktop/cu/thesis/coding/pun_master_thesis/time_series_augmentation/utils/augmentation.py:33: VisibleDeprecationWarning: Creating an ndarray from ragged nested sequences (which is a list-or-tuple of lists-or-tuples-or ndarrays with different lengths or shapes) is deprecated. If you meant to do this, you must specify 'dtype=object' when creating the ndarray.\n",
      "  warp = np.concatenate(np.random.permutation(splits)).ravel()\n",
      "<__array_function__ internals>:180: VisibleDeprecationWarning: Creating an ndarray from ragged nested sequences (which is a list-or-tuple of lists-or-tuples-or ndarrays with different lengths or shapes) is deprecated. If you meant to do this, you must specify 'dtype=object' when creating the ndarray.\n"
     ]
    },
    {
     "name": "stdout",
     "output_type": "stream",
     "text": [
      "minirocket, OSULeaf, (permutation, {'max_segments': 10, 'seg_mode': 'equal'}) DONE\n"
     ]
    },
    {
     "name": "stderr",
     "output_type": "stream",
     "text": [
      "/Users/Pongpanod.Sa/Desktop/cu/thesis/coding/pun_master_thesis/time_series_augmentation/utils/augmentation.py:33: VisibleDeprecationWarning: Creating an ndarray from ragged nested sequences (which is a list-or-tuple of lists-or-tuples-or ndarrays with different lengths or shapes) is deprecated. If you meant to do this, you must specify 'dtype=object' when creating the ndarray.\n",
      "  warp = np.concatenate(np.random.permutation(splits)).ravel()\n",
      "<__array_function__ internals>:180: VisibleDeprecationWarning: Creating an ndarray from ragged nested sequences (which is a list-or-tuple of lists-or-tuples-or ndarrays with different lengths or shapes) is deprecated. If you meant to do this, you must specify 'dtype=object' when creating the ndarray.\n"
     ]
    },
    {
     "name": "stdout",
     "output_type": "stream",
     "text": [
      "minirocket, PhalangesOutlinesCorrect, (permutation, {'max_segments': 10, 'seg_mode': 'equal'}) DONE\n"
     ]
    },
    {
     "name": "stderr",
     "output_type": "stream",
     "text": [
      "/Users/Pongpanod.Sa/Desktop/cu/thesis/coding/pun_master_thesis/time_series_augmentation/utils/augmentation.py:33: VisibleDeprecationWarning: Creating an ndarray from ragged nested sequences (which is a list-or-tuple of lists-or-tuples-or ndarrays with different lengths or shapes) is deprecated. If you meant to do this, you must specify 'dtype=object' when creating the ndarray.\n",
      "  warp = np.concatenate(np.random.permutation(splits)).ravel()\n",
      "<__array_function__ internals>:180: VisibleDeprecationWarning: Creating an ndarray from ragged nested sequences (which is a list-or-tuple of lists-or-tuples-or ndarrays with different lengths or shapes) is deprecated. If you meant to do this, you must specify 'dtype=object' when creating the ndarray.\n",
      "/Users/Pongpanod.Sa/miniconda3/envs/thesis3.10/lib/python3.10/site-packages/sklearn/metrics/_classification.py:1327: UndefinedMetricWarning: Precision and F-score are ill-defined and being set to 0.0 in labels with no predicted samples. Use `zero_division` parameter to control this behavior.\n",
      "  _warn_prf(average, modifier, msg_start, len(result))\n",
      "/Users/Pongpanod.Sa/Desktop/cu/thesis/coding/pun_master_thesis/time_series_augmentation/utils/augmentation.py:33: VisibleDeprecationWarning: Creating an ndarray from ragged nested sequences (which is a list-or-tuple of lists-or-tuples-or ndarrays with different lengths or shapes) is deprecated. If you meant to do this, you must specify 'dtype=object' when creating the ndarray.\n",
      "  warp = np.concatenate(np.random.permutation(splits)).ravel()\n",
      "<__array_function__ internals>:180: VisibleDeprecationWarning: Creating an ndarray from ragged nested sequences (which is a list-or-tuple of lists-or-tuples-or ndarrays with different lengths or shapes) is deprecated. If you meant to do this, you must specify 'dtype=object' when creating the ndarray.\n"
     ]
    },
    {
     "name": "stdout",
     "output_type": "stream",
     "text": [
      "minirocket, Phoneme, (permutation, {'max_segments': 10, 'seg_mode': 'equal'}) DONE\n",
      "minirocket, ProximalPhalanxOutlineAgeGroup, (permutation, {'max_segments': 10, 'seg_mode': 'equal'}) DONE\n"
     ]
    },
    {
     "name": "stderr",
     "output_type": "stream",
     "text": [
      "/Users/Pongpanod.Sa/Desktop/cu/thesis/coding/pun_master_thesis/time_series_augmentation/utils/augmentation.py:33: VisibleDeprecationWarning: Creating an ndarray from ragged nested sequences (which is a list-or-tuple of lists-or-tuples-or ndarrays with different lengths or shapes) is deprecated. If you meant to do this, you must specify 'dtype=object' when creating the ndarray.\n",
      "  warp = np.concatenate(np.random.permutation(splits)).ravel()\n",
      "<__array_function__ internals>:180: VisibleDeprecationWarning: Creating an ndarray from ragged nested sequences (which is a list-or-tuple of lists-or-tuples-or ndarrays with different lengths or shapes) is deprecated. If you meant to do this, you must specify 'dtype=object' when creating the ndarray.\n"
     ]
    },
    {
     "name": "stdout",
     "output_type": "stream",
     "text": [
      "minirocket, ProximalPhalanxOutlineCorrect, (permutation, {'max_segments': 10, 'seg_mode': 'equal'}) DONE\n"
     ]
    },
    {
     "name": "stderr",
     "output_type": "stream",
     "text": [
      "/Users/Pongpanod.Sa/Desktop/cu/thesis/coding/pun_master_thesis/time_series_augmentation/utils/augmentation.py:33: VisibleDeprecationWarning: Creating an ndarray from ragged nested sequences (which is a list-or-tuple of lists-or-tuples-or ndarrays with different lengths or shapes) is deprecated. If you meant to do this, you must specify 'dtype=object' when creating the ndarray.\n",
      "  warp = np.concatenate(np.random.permutation(splits)).ravel()\n",
      "<__array_function__ internals>:180: VisibleDeprecationWarning: Creating an ndarray from ragged nested sequences (which is a list-or-tuple of lists-or-tuples-or ndarrays with different lengths or shapes) is deprecated. If you meant to do this, you must specify 'dtype=object' when creating the ndarray.\n",
      "/Users/Pongpanod.Sa/miniconda3/envs/thesis3.10/lib/python3.10/site-packages/sklearn/metrics/_classification.py:1327: UndefinedMetricWarning: Precision and F-score are ill-defined and being set to 0.0 in labels with no predicted samples. Use `zero_division` parameter to control this behavior.\n",
      "  _warn_prf(average, modifier, msg_start, len(result))\n",
      "/Users/Pongpanod.Sa/Desktop/cu/thesis/coding/pun_master_thesis/time_series_augmentation/utils/augmentation.py:33: VisibleDeprecationWarning: Creating an ndarray from ragged nested sequences (which is a list-or-tuple of lists-or-tuples-or ndarrays with different lengths or shapes) is deprecated. If you meant to do this, you must specify 'dtype=object' when creating the ndarray.\n",
      "  warp = np.concatenate(np.random.permutation(splits)).ravel()\n",
      "<__array_function__ internals>:180: VisibleDeprecationWarning: Creating an ndarray from ragged nested sequences (which is a list-or-tuple of lists-or-tuples-or ndarrays with different lengths or shapes) is deprecated. If you meant to do this, you must specify 'dtype=object' when creating the ndarray.\n"
     ]
    },
    {
     "name": "stdout",
     "output_type": "stream",
     "text": [
      "minirocket, ProximalPhalanxTW, (permutation, {'max_segments': 10, 'seg_mode': 'equal'}) DONE\n",
      "minirocket, ScreenType, (permutation, {'max_segments': 10, 'seg_mode': 'equal'}) DONE\n"
     ]
    },
    {
     "name": "stderr",
     "output_type": "stream",
     "text": [
      "/Users/Pongpanod.Sa/Desktop/cu/thesis/coding/pun_master_thesis/time_series_augmentation/utils/augmentation.py:33: VisibleDeprecationWarning: Creating an ndarray from ragged nested sequences (which is a list-or-tuple of lists-or-tuples-or ndarrays with different lengths or shapes) is deprecated. If you meant to do this, you must specify 'dtype=object' when creating the ndarray.\n",
      "  warp = np.concatenate(np.random.permutation(splits)).ravel()\n",
      "<__array_function__ internals>:180: VisibleDeprecationWarning: Creating an ndarray from ragged nested sequences (which is a list-or-tuple of lists-or-tuples-or ndarrays with different lengths or shapes) is deprecated. If you meant to do this, you must specify 'dtype=object' when creating the ndarray.\n"
     ]
    },
    {
     "name": "stdout",
     "output_type": "stream",
     "text": [
      "minirocket, ShapesAll, (permutation, {'max_segments': 10, 'seg_mode': 'equal'}) DONE\n"
     ]
    },
    {
     "name": "stderr",
     "output_type": "stream",
     "text": [
      "/Users/Pongpanod.Sa/Desktop/cu/thesis/coding/pun_master_thesis/time_series_augmentation/utils/augmentation.py:33: VisibleDeprecationWarning: Creating an ndarray from ragged nested sequences (which is a list-or-tuple of lists-or-tuples-or ndarrays with different lengths or shapes) is deprecated. If you meant to do this, you must specify 'dtype=object' when creating the ndarray.\n",
      "  warp = np.concatenate(np.random.permutation(splits)).ravel()\n",
      "<__array_function__ internals>:180: VisibleDeprecationWarning: Creating an ndarray from ragged nested sequences (which is a list-or-tuple of lists-or-tuples-or ndarrays with different lengths or shapes) is deprecated. If you meant to do this, you must specify 'dtype=object' when creating the ndarray.\n"
     ]
    },
    {
     "name": "stdout",
     "output_type": "stream",
     "text": [
      "minirocket, SmallKitchenAppliances, (permutation, {'max_segments': 10, 'seg_mode': 'equal'}) DONE\n"
     ]
    },
    {
     "name": "stderr",
     "output_type": "stream",
     "text": [
      "/Users/Pongpanod.Sa/Desktop/cu/thesis/coding/pun_master_thesis/time_series_augmentation/utils/augmentation.py:33: VisibleDeprecationWarning: Creating an ndarray from ragged nested sequences (which is a list-or-tuple of lists-or-tuples-or ndarrays with different lengths or shapes) is deprecated. If you meant to do this, you must specify 'dtype=object' when creating the ndarray.\n",
      "  warp = np.concatenate(np.random.permutation(splits)).ravel()\n",
      "<__array_function__ internals>:180: VisibleDeprecationWarning: Creating an ndarray from ragged nested sequences (which is a list-or-tuple of lists-or-tuples-or ndarrays with different lengths or shapes) is deprecated. If you meant to do this, you must specify 'dtype=object' when creating the ndarray.\n"
     ]
    },
    {
     "name": "stdout",
     "output_type": "stream",
     "text": [
      "minirocket, SonyAIBORobotSurface1, (permutation, {'max_segments': 10, 'seg_mode': 'equal'}) DONE\n"
     ]
    },
    {
     "name": "stderr",
     "output_type": "stream",
     "text": [
      "/Users/Pongpanod.Sa/Desktop/cu/thesis/coding/pun_master_thesis/time_series_augmentation/utils/augmentation.py:33: VisibleDeprecationWarning: Creating an ndarray from ragged nested sequences (which is a list-or-tuple of lists-or-tuples-or ndarrays with different lengths or shapes) is deprecated. If you meant to do this, you must specify 'dtype=object' when creating the ndarray.\n",
      "  warp = np.concatenate(np.random.permutation(splits)).ravel()\n",
      "<__array_function__ internals>:180: VisibleDeprecationWarning: Creating an ndarray from ragged nested sequences (which is a list-or-tuple of lists-or-tuples-or ndarrays with different lengths or shapes) is deprecated. If you meant to do this, you must specify 'dtype=object' when creating the ndarray.\n"
     ]
    },
    {
     "name": "stdout",
     "output_type": "stream",
     "text": [
      "minirocket, SonyAIBORobotSurface2, (permutation, {'max_segments': 10, 'seg_mode': 'equal'}) DONE\n"
     ]
    },
    {
     "name": "stderr",
     "output_type": "stream",
     "text": [
      "/Users/Pongpanod.Sa/Desktop/cu/thesis/coding/pun_master_thesis/time_series_augmentation/utils/augmentation.py:33: VisibleDeprecationWarning: Creating an ndarray from ragged nested sequences (which is a list-or-tuple of lists-or-tuples-or ndarrays with different lengths or shapes) is deprecated. If you meant to do this, you must specify 'dtype=object' when creating the ndarray.\n",
      "  warp = np.concatenate(np.random.permutation(splits)).ravel()\n",
      "<__array_function__ internals>:180: VisibleDeprecationWarning: Creating an ndarray from ragged nested sequences (which is a list-or-tuple of lists-or-tuples-or ndarrays with different lengths or shapes) is deprecated. If you meant to do this, you must specify 'dtype=object' when creating the ndarray.\n"
     ]
    },
    {
     "name": "stdout",
     "output_type": "stream",
     "text": [
      "minirocket, ToeSegmentation2, (permutation, {'max_segments': 10, 'seg_mode': 'equal'}) DONE\n"
     ]
    },
    {
     "name": "stderr",
     "output_type": "stream",
     "text": [
      "/Users/Pongpanod.Sa/Desktop/cu/thesis/coding/pun_master_thesis/time_series_augmentation/utils/augmentation.py:33: VisibleDeprecationWarning: Creating an ndarray from ragged nested sequences (which is a list-or-tuple of lists-or-tuples-or ndarrays with different lengths or shapes) is deprecated. If you meant to do this, you must specify 'dtype=object' when creating the ndarray.\n",
      "  warp = np.concatenate(np.random.permutation(splits)).ravel()\n",
      "<__array_function__ internals>:180: VisibleDeprecationWarning: Creating an ndarray from ragged nested sequences (which is a list-or-tuple of lists-or-tuples-or ndarrays with different lengths or shapes) is deprecated. If you meant to do this, you must specify 'dtype=object' when creating the ndarray.\n"
     ]
    },
    {
     "name": "stdout",
     "output_type": "stream",
     "text": [
      "minirocket, Wine, (permutation, {'max_segments': 10, 'seg_mode': 'equal'}) DONE\n"
     ]
    },
    {
     "name": "stderr",
     "output_type": "stream",
     "text": [
      "/Users/Pongpanod.Sa/Desktop/cu/thesis/coding/pun_master_thesis/time_series_augmentation/utils/augmentation.py:33: VisibleDeprecationWarning: Creating an ndarray from ragged nested sequences (which is a list-or-tuple of lists-or-tuples-or ndarrays with different lengths or shapes) is deprecated. If you meant to do this, you must specify 'dtype=object' when creating the ndarray.\n",
      "  warp = np.concatenate(np.random.permutation(splits)).ravel()\n",
      "<__array_function__ internals>:180: VisibleDeprecationWarning: Creating an ndarray from ragged nested sequences (which is a list-or-tuple of lists-or-tuples-or ndarrays with different lengths or shapes) is deprecated. If you meant to do this, you must specify 'dtype=object' when creating the ndarray.\n",
      "/Users/Pongpanod.Sa/miniconda3/envs/thesis3.10/lib/python3.10/site-packages/sklearn/metrics/_classification.py:1327: UndefinedMetricWarning: Precision and F-score are ill-defined and being set to 0.0 in labels with no predicted samples. Use `zero_division` parameter to control this behavior.\n",
      "  _warn_prf(average, modifier, msg_start, len(result))\n",
      "/Users/Pongpanod.Sa/Desktop/cu/thesis/coding/pun_master_thesis/time_series_augmentation/utils/augmentation.py:33: VisibleDeprecationWarning: Creating an ndarray from ragged nested sequences (which is a list-or-tuple of lists-or-tuples-or ndarrays with different lengths or shapes) is deprecated. If you meant to do this, you must specify 'dtype=object' when creating the ndarray.\n",
      "  warp = np.concatenate(np.random.permutation(splits)).ravel()\n",
      "<__array_function__ internals>:180: VisibleDeprecationWarning: Creating an ndarray from ragged nested sequences (which is a list-or-tuple of lists-or-tuples-or ndarrays with different lengths or shapes) is deprecated. If you meant to do this, you must specify 'dtype=object' when creating the ndarray.\n"
     ]
    },
    {
     "name": "stdout",
     "output_type": "stream",
     "text": [
      "minirocket, WordSynonyms, (permutation, {'max_segments': 10, 'seg_mode': 'equal'}) DONE\n"
     ]
    },
    {
     "name": "stderr",
     "output_type": "stream",
     "text": [
      "/Users/Pongpanod.Sa/miniconda3/envs/thesis3.10/lib/python3.10/site-packages/sklearn/metrics/_classification.py:1327: UndefinedMetricWarning: Precision and F-score are ill-defined and being set to 0.0 in labels with no predicted samples. Use `zero_division` parameter to control this behavior.\n",
      "  _warn_prf(average, modifier, msg_start, len(result))\n"
     ]
    },
    {
     "name": "stdout",
     "output_type": "stream",
     "text": [
      "minirocket, Worms, (permutation, {'max_segments': 10, 'seg_mode': 'equal'}) DONE\n"
     ]
    },
    {
     "name": "stderr",
     "output_type": "stream",
     "text": [
      "/Users/Pongpanod.Sa/Desktop/cu/thesis/coding/pun_master_thesis/time_series_augmentation/utils/augmentation.py:33: VisibleDeprecationWarning: Creating an ndarray from ragged nested sequences (which is a list-or-tuple of lists-or-tuples-or ndarrays with different lengths or shapes) is deprecated. If you meant to do this, you must specify 'dtype=object' when creating the ndarray.\n",
      "  warp = np.concatenate(np.random.permutation(splits)).ravel()\n",
      "<__array_function__ internals>:180: VisibleDeprecationWarning: Creating an ndarray from ragged nested sequences (which is a list-or-tuple of lists-or-tuples-or ndarrays with different lengths or shapes) is deprecated. If you meant to do this, you must specify 'dtype=object' when creating the ndarray.\n"
     ]
    },
    {
     "name": "stdout",
     "output_type": "stream",
     "text": [
      "minirocket, Yoga, (permutation, {'max_segments': 10, 'seg_mode': 'equal'}) DONE\n"
     ]
    }
   ],
   "source": [
    "# AUGMENTED Manual Loop\n",
    "variation = 'minirocket'\n",
    "classifer = {'name':variation, 'function': RocketClassifier(rocket_transform=variation)}\n",
    "dataset = read_UCR_dataset_name()\n",
    "augment = {'name':'permutation', 'function': permutation, 'params': {'max_segments':10, \"seg_mode\":\"equal\"}}\n",
    "for i in dataset:\n",
    "    training_two = Experiment(classifer, i, augment)\n",
    "    training_two.run_all()"
   ]
  },
  {
   "cell_type": "code",
   "execution_count": 6,
   "metadata": {},
   "outputs": [
    {
     "name": "stdout",
     "output_type": "stream",
     "text": [
      "minirocket, Adiac, (magnitude_warp, {'sigma': 0.2, 'knot': 2}) DONE\n",
      "minirocket, ArrowHead, (magnitude_warp, {'sigma': 0.2, 'knot': 2}) DONE\n",
      "minirocket, Beef, (magnitude_warp, {'sigma': 0.2, 'knot': 2}) DONE\n",
      "minirocket, BeetleFly, (magnitude_warp, {'sigma': 0.2, 'knot': 2}) DONE\n",
      "minirocket, Car, (magnitude_warp, {'sigma': 0.2, 'knot': 2}) DONE\n",
      "minirocket, ChlorineConcentration, (magnitude_warp, {'sigma': 0.2, 'knot': 2}) DONE\n",
      "minirocket, CinCECGTorso, (magnitude_warp, {'sigma': 0.2, 'knot': 2}) DONE\n",
      "minirocket, Computers, (magnitude_warp, {'sigma': 0.2, 'knot': 2}) DONE\n",
      "minirocket, DistalPhalanxOutlineAgeGroup, (magnitude_warp, {'sigma': 0.2, 'knot': 2}) DONE\n",
      "minirocket, DistalPhalanxOutlineCorrect, (magnitude_warp, {'sigma': 0.2, 'knot': 2}) DONE\n",
      "minirocket, DistalPhalanxTW, (magnitude_warp, {'sigma': 0.2, 'knot': 2}) DONE\n",
      "minirocket, Earthquakes, (magnitude_warp, {'sigma': 0.2, 'knot': 2}) DONE\n",
      "minirocket, ECG200, (magnitude_warp, {'sigma': 0.2, 'knot': 2}) DONE\n",
      "minirocket, ECG5000, (magnitude_warp, {'sigma': 0.2, 'knot': 2}) DONE\n",
      "minirocket, ElectricDevices, (magnitude_warp, {'sigma': 0.2, 'knot': 2}) DONE\n",
      "minirocket, FaceAll, (magnitude_warp, {'sigma': 0.2, 'knot': 2}) DONE\n",
      "minirocket, FiftyWords, (magnitude_warp, {'sigma': 0.2, 'knot': 2}) DONE\n",
      "minirocket, FordB, (magnitude_warp, {'sigma': 0.2, 'knot': 2}) DONE\n",
      "minirocket, Ham, (magnitude_warp, {'sigma': 0.2, 'knot': 2}) DONE\n",
      "minirocket, HandOutlines, (magnitude_warp, {'sigma': 0.2, 'knot': 2}) DONE\n",
      "minirocket, Haptics, (magnitude_warp, {'sigma': 0.2, 'knot': 2}) DONE\n",
      "minirocket, Herring, (magnitude_warp, {'sigma': 0.2, 'knot': 2}) DONE\n",
      "minirocket, InlineSkate, (magnitude_warp, {'sigma': 0.2, 'knot': 2}) DONE\n",
      "minirocket, InsectWingbeatSound, (magnitude_warp, {'sigma': 0.2, 'knot': 2}) DONE\n",
      "minirocket, Lightning2, (magnitude_warp, {'sigma': 0.2, 'knot': 2}) DONE\n",
      "minirocket, Mallat, (magnitude_warp, {'sigma': 0.2, 'knot': 2}) DONE\n",
      "minirocket, MedicalImages, (magnitude_warp, {'sigma': 0.2, 'knot': 2}) DONE\n",
      "minirocket, MiddlePhalanxOutlineAgeGroup, (magnitude_warp, {'sigma': 0.2, 'knot': 2}) DONE\n",
      "minirocket, MiddlePhalanxOutlineCorrect, (magnitude_warp, {'sigma': 0.2, 'knot': 2}) DONE\n",
      "minirocket, MiddlePhalanxTW, (magnitude_warp, {'sigma': 0.2, 'knot': 2}) DONE\n",
      "minirocket, MoteStrain, (magnitude_warp, {'sigma': 0.2, 'knot': 2}) DONE\n",
      "minirocket, OliveOil, (magnitude_warp, {'sigma': 0.2, 'knot': 2}) DONE\n",
      "minirocket, OSULeaf, (magnitude_warp, {'sigma': 0.2, 'knot': 2}) DONE\n",
      "minirocket, PhalangesOutlinesCorrect, (magnitude_warp, {'sigma': 0.2, 'knot': 2}) DONE\n",
      "minirocket, Phoneme, (magnitude_warp, {'sigma': 0.2, 'knot': 2}) DONE\n",
      "minirocket, ProximalPhalanxOutlineAgeGroup, (magnitude_warp, {'sigma': 0.2, 'knot': 2}) DONE\n",
      "minirocket, ProximalPhalanxOutlineCorrect, (magnitude_warp, {'sigma': 0.2, 'knot': 2}) DONE\n",
      "minirocket, ProximalPhalanxTW, (magnitude_warp, {'sigma': 0.2, 'knot': 2}) DONE\n",
      "minirocket, ScreenType, (magnitude_warp, {'sigma': 0.2, 'knot': 2}) DONE\n",
      "minirocket, ShapesAll, (magnitude_warp, {'sigma': 0.2, 'knot': 2}) DONE\n",
      "minirocket, SmallKitchenAppliances, (magnitude_warp, {'sigma': 0.2, 'knot': 2}) DONE\n",
      "minirocket, SonyAIBORobotSurface1, (magnitude_warp, {'sigma': 0.2, 'knot': 2}) DONE\n",
      "minirocket, SonyAIBORobotSurface2, (magnitude_warp, {'sigma': 0.2, 'knot': 2}) DONE\n",
      "minirocket, ToeSegmentation2, (magnitude_warp, {'sigma': 0.2, 'knot': 2}) DONE\n",
      "minirocket, Wine, (magnitude_warp, {'sigma': 0.2, 'knot': 2}) DONE\n",
      "minirocket, WordSynonyms, (magnitude_warp, {'sigma': 0.2, 'knot': 2}) DONE\n",
      "minirocket, Worms, (magnitude_warp, {'sigma': 0.2, 'knot': 2}) DONE\n",
      "minirocket, Yoga, (magnitude_warp, {'sigma': 0.2, 'knot': 2}) DONE\n",
      "minirocket, Adiac, (magnitude_warp, {'sigma': 0.4, 'knot': 2}) DONE\n",
      "minirocket, ArrowHead, (magnitude_warp, {'sigma': 0.4, 'knot': 2}) DONE\n",
      "minirocket, Beef, (magnitude_warp, {'sigma': 0.4, 'knot': 2}) DONE\n",
      "minirocket, BeetleFly, (magnitude_warp, {'sigma': 0.4, 'knot': 2}) DONE\n",
      "minirocket, Car, (magnitude_warp, {'sigma': 0.4, 'knot': 2}) DONE\n",
      "minirocket, ChlorineConcentration, (magnitude_warp, {'sigma': 0.4, 'knot': 2}) DONE\n",
      "minirocket, CinCECGTorso, (magnitude_warp, {'sigma': 0.4, 'knot': 2}) DONE\n",
      "minirocket, Computers, (magnitude_warp, {'sigma': 0.4, 'knot': 2}) DONE\n",
      "minirocket, DistalPhalanxOutlineAgeGroup, (magnitude_warp, {'sigma': 0.4, 'knot': 2}) DONE\n",
      "minirocket, DistalPhalanxOutlineCorrect, (magnitude_warp, {'sigma': 0.4, 'knot': 2}) DONE\n",
      "minirocket, DistalPhalanxTW, (magnitude_warp, {'sigma': 0.4, 'knot': 2}) DONE\n",
      "minirocket, Earthquakes, (magnitude_warp, {'sigma': 0.4, 'knot': 2}) DONE\n",
      "minirocket, ECG200, (magnitude_warp, {'sigma': 0.4, 'knot': 2}) DONE\n",
      "minirocket, ECG5000, (magnitude_warp, {'sigma': 0.4, 'knot': 2}) DONE\n",
      "minirocket, ElectricDevices, (magnitude_warp, {'sigma': 0.4, 'knot': 2}) DONE\n",
      "minirocket, FaceAll, (magnitude_warp, {'sigma': 0.4, 'knot': 2}) DONE\n",
      "minirocket, FiftyWords, (magnitude_warp, {'sigma': 0.4, 'knot': 2}) DONE\n",
      "minirocket, FordB, (magnitude_warp, {'sigma': 0.4, 'knot': 2}) DONE\n",
      "minirocket, Ham, (magnitude_warp, {'sigma': 0.4, 'knot': 2}) DONE\n",
      "minirocket, HandOutlines, (magnitude_warp, {'sigma': 0.4, 'knot': 2}) DONE\n",
      "minirocket, Haptics, (magnitude_warp, {'sigma': 0.4, 'knot': 2}) DONE\n",
      "minirocket, Herring, (magnitude_warp, {'sigma': 0.4, 'knot': 2}) DONE\n",
      "minirocket, InlineSkate, (magnitude_warp, {'sigma': 0.4, 'knot': 2}) DONE\n",
      "minirocket, InsectWingbeatSound, (magnitude_warp, {'sigma': 0.4, 'knot': 2}) DONE\n",
      "minirocket, Lightning2, (magnitude_warp, {'sigma': 0.4, 'knot': 2}) DONE\n",
      "minirocket, Mallat, (magnitude_warp, {'sigma': 0.4, 'knot': 2}) DONE\n",
      "minirocket, MedicalImages, (magnitude_warp, {'sigma': 0.4, 'knot': 2}) DONE\n",
      "minirocket, MiddlePhalanxOutlineAgeGroup, (magnitude_warp, {'sigma': 0.4, 'knot': 2}) DONE\n",
      "minirocket, MiddlePhalanxOutlineCorrect, (magnitude_warp, {'sigma': 0.4, 'knot': 2}) DONE\n",
      "minirocket, MiddlePhalanxTW, (magnitude_warp, {'sigma': 0.4, 'knot': 2}) DONE\n",
      "minirocket, MoteStrain, (magnitude_warp, {'sigma': 0.4, 'knot': 2}) DONE\n",
      "minirocket, OliveOil, (magnitude_warp, {'sigma': 0.4, 'knot': 2}) DONE\n",
      "minirocket, OSULeaf, (magnitude_warp, {'sigma': 0.4, 'knot': 2}) DONE\n",
      "minirocket, PhalangesOutlinesCorrect, (magnitude_warp, {'sigma': 0.4, 'knot': 2}) DONE\n",
      "minirocket, Phoneme, (magnitude_warp, {'sigma': 0.4, 'knot': 2}) DONE\n",
      "minirocket, ProximalPhalanxOutlineAgeGroup, (magnitude_warp, {'sigma': 0.4, 'knot': 2}) DONE\n",
      "minirocket, ProximalPhalanxOutlineCorrect, (magnitude_warp, {'sigma': 0.4, 'knot': 2}) DONE\n",
      "minirocket, ProximalPhalanxTW, (magnitude_warp, {'sigma': 0.4, 'knot': 2}) DONE\n",
      "minirocket, ScreenType, (magnitude_warp, {'sigma': 0.4, 'knot': 2}) DONE\n",
      "minirocket, ShapesAll, (magnitude_warp, {'sigma': 0.4, 'knot': 2}) DONE\n",
      "minirocket, SmallKitchenAppliances, (magnitude_warp, {'sigma': 0.4, 'knot': 2}) DONE\n",
      "minirocket, SonyAIBORobotSurface1, (magnitude_warp, {'sigma': 0.4, 'knot': 2}) DONE\n",
      "minirocket, SonyAIBORobotSurface2, (magnitude_warp, {'sigma': 0.4, 'knot': 2}) DONE\n",
      "minirocket, ToeSegmentation2, (magnitude_warp, {'sigma': 0.4, 'knot': 2}) DONE\n",
      "minirocket, Wine, (magnitude_warp, {'sigma': 0.4, 'knot': 2}) DONE\n",
      "minirocket, WordSynonyms, (magnitude_warp, {'sigma': 0.4, 'knot': 2}) DONE\n",
      "minirocket, Worms, (magnitude_warp, {'sigma': 0.4, 'knot': 2}) DONE\n",
      "minirocket, Yoga, (magnitude_warp, {'sigma': 0.4, 'knot': 2}) DONE\n",
      "minirocket, Adiac, (magnitude_warp, {'sigma': 0.6, 'knot': 2}) DONE\n",
      "minirocket, ArrowHead, (magnitude_warp, {'sigma': 0.6, 'knot': 2}) DONE\n",
      "minirocket, Beef, (magnitude_warp, {'sigma': 0.6, 'knot': 2}) DONE\n",
      "minirocket, BeetleFly, (magnitude_warp, {'sigma': 0.6, 'knot': 2}) DONE\n",
      "minirocket, Car, (magnitude_warp, {'sigma': 0.6, 'knot': 2}) DONE\n",
      "minirocket, ChlorineConcentration, (magnitude_warp, {'sigma': 0.6, 'knot': 2}) DONE\n",
      "minirocket, CinCECGTorso, (magnitude_warp, {'sigma': 0.6, 'knot': 2}) DONE\n",
      "minirocket, Computers, (magnitude_warp, {'sigma': 0.6, 'knot': 2}) DONE\n",
      "minirocket, DistalPhalanxOutlineAgeGroup, (magnitude_warp, {'sigma': 0.6, 'knot': 2}) DONE\n",
      "minirocket, DistalPhalanxOutlineCorrect, (magnitude_warp, {'sigma': 0.6, 'knot': 2}) DONE\n",
      "minirocket, DistalPhalanxTW, (magnitude_warp, {'sigma': 0.6, 'knot': 2}) DONE\n",
      "minirocket, Earthquakes, (magnitude_warp, {'sigma': 0.6, 'knot': 2}) DONE\n",
      "minirocket, ECG200, (magnitude_warp, {'sigma': 0.6, 'knot': 2}) DONE\n",
      "minirocket, ECG5000, (magnitude_warp, {'sigma': 0.6, 'knot': 2}) DONE\n",
      "minirocket, ElectricDevices, (magnitude_warp, {'sigma': 0.6, 'knot': 2}) DONE\n",
      "minirocket, FaceAll, (magnitude_warp, {'sigma': 0.6, 'knot': 2}) DONE\n",
      "minirocket, FiftyWords, (magnitude_warp, {'sigma': 0.6, 'knot': 2}) DONE\n",
      "minirocket, FordB, (magnitude_warp, {'sigma': 0.6, 'knot': 2}) DONE\n",
      "minirocket, Ham, (magnitude_warp, {'sigma': 0.6, 'knot': 2}) DONE\n",
      "minirocket, HandOutlines, (magnitude_warp, {'sigma': 0.6, 'knot': 2}) DONE\n",
      "minirocket, Haptics, (magnitude_warp, {'sigma': 0.6, 'knot': 2}) DONE\n",
      "minirocket, Herring, (magnitude_warp, {'sigma': 0.6, 'knot': 2}) DONE\n",
      "minirocket, InlineSkate, (magnitude_warp, {'sigma': 0.6, 'knot': 2}) DONE\n",
      "minirocket, InsectWingbeatSound, (magnitude_warp, {'sigma': 0.6, 'knot': 2}) DONE\n",
      "minirocket, Lightning2, (magnitude_warp, {'sigma': 0.6, 'knot': 2}) DONE\n",
      "minirocket, Mallat, (magnitude_warp, {'sigma': 0.6, 'knot': 2}) DONE\n",
      "minirocket, MedicalImages, (magnitude_warp, {'sigma': 0.6, 'knot': 2}) DONE\n",
      "minirocket, MiddlePhalanxOutlineAgeGroup, (magnitude_warp, {'sigma': 0.6, 'knot': 2}) DONE\n",
      "minirocket, MiddlePhalanxOutlineCorrect, (magnitude_warp, {'sigma': 0.6, 'knot': 2}) DONE\n",
      "minirocket, MiddlePhalanxTW, (magnitude_warp, {'sigma': 0.6, 'knot': 2}) DONE\n",
      "minirocket, MoteStrain, (magnitude_warp, {'sigma': 0.6, 'knot': 2}) DONE\n",
      "minirocket, OliveOil, (magnitude_warp, {'sigma': 0.6, 'knot': 2}) DONE\n",
      "minirocket, OSULeaf, (magnitude_warp, {'sigma': 0.6, 'knot': 2}) DONE\n",
      "minirocket, PhalangesOutlinesCorrect, (magnitude_warp, {'sigma': 0.6, 'knot': 2}) DONE\n",
      "minirocket, Phoneme, (magnitude_warp, {'sigma': 0.6, 'knot': 2}) DONE\n",
      "minirocket, ProximalPhalanxOutlineAgeGroup, (magnitude_warp, {'sigma': 0.6, 'knot': 2}) DONE\n",
      "minirocket, ProximalPhalanxOutlineCorrect, (magnitude_warp, {'sigma': 0.6, 'knot': 2}) DONE\n",
      "minirocket, ProximalPhalanxTW, (magnitude_warp, {'sigma': 0.6, 'knot': 2}) DONE\n",
      "minirocket, ScreenType, (magnitude_warp, {'sigma': 0.6, 'knot': 2}) DONE\n",
      "minirocket, ShapesAll, (magnitude_warp, {'sigma': 0.6, 'knot': 2}) DONE\n",
      "minirocket, SmallKitchenAppliances, (magnitude_warp, {'sigma': 0.6, 'knot': 2}) DONE\n",
      "minirocket, SonyAIBORobotSurface1, (magnitude_warp, {'sigma': 0.6, 'knot': 2}) DONE\n",
      "minirocket, SonyAIBORobotSurface2, (magnitude_warp, {'sigma': 0.6, 'knot': 2}) DONE\n",
      "minirocket, ToeSegmentation2, (magnitude_warp, {'sigma': 0.6, 'knot': 2}) DONE\n",
      "minirocket, Wine, (magnitude_warp, {'sigma': 0.6, 'knot': 2}) DONE\n",
      "minirocket, WordSynonyms, (magnitude_warp, {'sigma': 0.6, 'knot': 2}) DONE\n",
      "minirocket, Worms, (magnitude_warp, {'sigma': 0.6, 'knot': 2}) DONE\n",
      "minirocket, Yoga, (magnitude_warp, {'sigma': 0.6, 'knot': 2}) DONE\n",
      "minirocket, Adiac, (magnitude_warp, {'sigma': 0.8, 'knot': 2}) DONE\n",
      "minirocket, ArrowHead, (magnitude_warp, {'sigma': 0.8, 'knot': 2}) DONE\n",
      "minirocket, Beef, (magnitude_warp, {'sigma': 0.8, 'knot': 2}) DONE\n",
      "minirocket, BeetleFly, (magnitude_warp, {'sigma': 0.8, 'knot': 2}) DONE\n",
      "minirocket, Car, (magnitude_warp, {'sigma': 0.8, 'knot': 2}) DONE\n",
      "minirocket, ChlorineConcentration, (magnitude_warp, {'sigma': 0.8, 'knot': 2}) DONE\n",
      "minirocket, CinCECGTorso, (magnitude_warp, {'sigma': 0.8, 'knot': 2}) DONE\n",
      "minirocket, Computers, (magnitude_warp, {'sigma': 0.8, 'knot': 2}) DONE\n",
      "minirocket, DistalPhalanxOutlineAgeGroup, (magnitude_warp, {'sigma': 0.8, 'knot': 2}) DONE\n",
      "minirocket, DistalPhalanxOutlineCorrect, (magnitude_warp, {'sigma': 0.8, 'knot': 2}) DONE\n",
      "minirocket, DistalPhalanxTW, (magnitude_warp, {'sigma': 0.8, 'knot': 2}) DONE\n",
      "minirocket, Earthquakes, (magnitude_warp, {'sigma': 0.8, 'knot': 2}) DONE\n",
      "minirocket, ECG200, (magnitude_warp, {'sigma': 0.8, 'knot': 2}) DONE\n",
      "minirocket, ECG5000, (magnitude_warp, {'sigma': 0.8, 'knot': 2}) DONE\n",
      "minirocket, ElectricDevices, (magnitude_warp, {'sigma': 0.8, 'knot': 2}) DONE\n",
      "minirocket, FaceAll, (magnitude_warp, {'sigma': 0.8, 'knot': 2}) DONE\n",
      "minirocket, FiftyWords, (magnitude_warp, {'sigma': 0.8, 'knot': 2}) DONE\n",
      "minirocket, FordB, (magnitude_warp, {'sigma': 0.8, 'knot': 2}) DONE\n",
      "minirocket, Ham, (magnitude_warp, {'sigma': 0.8, 'knot': 2}) DONE\n",
      "minirocket, HandOutlines, (magnitude_warp, {'sigma': 0.8, 'knot': 2}) DONE\n",
      "minirocket, Haptics, (magnitude_warp, {'sigma': 0.8, 'knot': 2}) DONE\n",
      "minirocket, Herring, (magnitude_warp, {'sigma': 0.8, 'knot': 2}) DONE\n",
      "minirocket, InlineSkate, (magnitude_warp, {'sigma': 0.8, 'knot': 2}) DONE\n",
      "minirocket, InsectWingbeatSound, (magnitude_warp, {'sigma': 0.8, 'knot': 2}) DONE\n",
      "minirocket, Lightning2, (magnitude_warp, {'sigma': 0.8, 'knot': 2}) DONE\n",
      "minirocket, Mallat, (magnitude_warp, {'sigma': 0.8, 'knot': 2}) DONE\n",
      "minirocket, MedicalImages, (magnitude_warp, {'sigma': 0.8, 'knot': 2}) DONE\n",
      "minirocket, MiddlePhalanxOutlineAgeGroup, (magnitude_warp, {'sigma': 0.8, 'knot': 2}) DONE\n",
      "minirocket, MiddlePhalanxOutlineCorrect, (magnitude_warp, {'sigma': 0.8, 'knot': 2}) DONE\n",
      "minirocket, MiddlePhalanxTW, (magnitude_warp, {'sigma': 0.8, 'knot': 2}) DONE\n",
      "minirocket, MoteStrain, (magnitude_warp, {'sigma': 0.8, 'knot': 2}) DONE\n",
      "minirocket, OliveOil, (magnitude_warp, {'sigma': 0.8, 'knot': 2}) DONE\n",
      "minirocket, OSULeaf, (magnitude_warp, {'sigma': 0.8, 'knot': 2}) DONE\n",
      "minirocket, PhalangesOutlinesCorrect, (magnitude_warp, {'sigma': 0.8, 'knot': 2}) DONE\n",
      "minirocket, Phoneme, (magnitude_warp, {'sigma': 0.8, 'knot': 2}) DONE\n",
      "minirocket, ProximalPhalanxOutlineAgeGroup, (magnitude_warp, {'sigma': 0.8, 'knot': 2}) DONE\n",
      "minirocket, ProximalPhalanxOutlineCorrect, (magnitude_warp, {'sigma': 0.8, 'knot': 2}) DONE\n",
      "minirocket, ProximalPhalanxTW, (magnitude_warp, {'sigma': 0.8, 'knot': 2}) DONE\n",
      "minirocket, ScreenType, (magnitude_warp, {'sigma': 0.8, 'knot': 2}) DONE\n",
      "minirocket, ShapesAll, (magnitude_warp, {'sigma': 0.8, 'knot': 2}) DONE\n",
      "minirocket, SmallKitchenAppliances, (magnitude_warp, {'sigma': 0.8, 'knot': 2}) DONE\n",
      "minirocket, SonyAIBORobotSurface1, (magnitude_warp, {'sigma': 0.8, 'knot': 2}) DONE\n",
      "minirocket, SonyAIBORobotSurface2, (magnitude_warp, {'sigma': 0.8, 'knot': 2}) DONE\n",
      "minirocket, ToeSegmentation2, (magnitude_warp, {'sigma': 0.8, 'knot': 2}) DONE\n",
      "minirocket, Wine, (magnitude_warp, {'sigma': 0.8, 'knot': 2}) DONE\n",
      "minirocket, WordSynonyms, (magnitude_warp, {'sigma': 0.8, 'knot': 2}) DONE\n",
      "minirocket, Worms, (magnitude_warp, {'sigma': 0.8, 'knot': 2}) DONE\n",
      "minirocket, Yoga, (magnitude_warp, {'sigma': 0.8, 'knot': 2}) DONE\n",
      "minirocket, Adiac, (magnitude_warp, {'sigma': 1, 'knot': 2}) DONE\n",
      "minirocket, ArrowHead, (magnitude_warp, {'sigma': 1, 'knot': 2}) DONE\n",
      "minirocket, Beef, (magnitude_warp, {'sigma': 1, 'knot': 2}) DONE\n",
      "minirocket, BeetleFly, (magnitude_warp, {'sigma': 1, 'knot': 2}) DONE\n",
      "minirocket, Car, (magnitude_warp, {'sigma': 1, 'knot': 2}) DONE\n",
      "minirocket, ChlorineConcentration, (magnitude_warp, {'sigma': 1, 'knot': 2}) DONE\n",
      "minirocket, CinCECGTorso, (magnitude_warp, {'sigma': 1, 'knot': 2}) DONE\n",
      "minirocket, Computers, (magnitude_warp, {'sigma': 1, 'knot': 2}) DONE\n",
      "minirocket, DistalPhalanxOutlineAgeGroup, (magnitude_warp, {'sigma': 1, 'knot': 2}) DONE\n",
      "minirocket, DistalPhalanxOutlineCorrect, (magnitude_warp, {'sigma': 1, 'knot': 2}) DONE\n",
      "minirocket, DistalPhalanxTW, (magnitude_warp, {'sigma': 1, 'knot': 2}) DONE\n",
      "minirocket, Earthquakes, (magnitude_warp, {'sigma': 1, 'knot': 2}) DONE\n",
      "minirocket, ECG200, (magnitude_warp, {'sigma': 1, 'knot': 2}) DONE\n",
      "minirocket, ECG5000, (magnitude_warp, {'sigma': 1, 'knot': 2}) DONE\n",
      "minirocket, ElectricDevices, (magnitude_warp, {'sigma': 1, 'knot': 2}) DONE\n",
      "minirocket, FaceAll, (magnitude_warp, {'sigma': 1, 'knot': 2}) DONE\n",
      "minirocket, FiftyWords, (magnitude_warp, {'sigma': 1, 'knot': 2}) DONE\n",
      "minirocket, FordB, (magnitude_warp, {'sigma': 1, 'knot': 2}) DONE\n",
      "minirocket, Ham, (magnitude_warp, {'sigma': 1, 'knot': 2}) DONE\n",
      "minirocket, HandOutlines, (magnitude_warp, {'sigma': 1, 'knot': 2}) DONE\n",
      "minirocket, Haptics, (magnitude_warp, {'sigma': 1, 'knot': 2}) DONE\n",
      "minirocket, Herring, (magnitude_warp, {'sigma': 1, 'knot': 2}) DONE\n",
      "minirocket, InlineSkate, (magnitude_warp, {'sigma': 1, 'knot': 2}) DONE\n",
      "minirocket, InsectWingbeatSound, (magnitude_warp, {'sigma': 1, 'knot': 2}) DONE\n",
      "minirocket, Lightning2, (magnitude_warp, {'sigma': 1, 'knot': 2}) DONE\n",
      "minirocket, Mallat, (magnitude_warp, {'sigma': 1, 'knot': 2}) DONE\n",
      "minirocket, MedicalImages, (magnitude_warp, {'sigma': 1, 'knot': 2}) DONE\n",
      "minirocket, MiddlePhalanxOutlineAgeGroup, (magnitude_warp, {'sigma': 1, 'knot': 2}) DONE\n",
      "minirocket, MiddlePhalanxOutlineCorrect, (magnitude_warp, {'sigma': 1, 'knot': 2}) DONE\n",
      "minirocket, MiddlePhalanxTW, (magnitude_warp, {'sigma': 1, 'knot': 2}) DONE\n",
      "minirocket, MoteStrain, (magnitude_warp, {'sigma': 1, 'knot': 2}) DONE\n",
      "minirocket, OliveOil, (magnitude_warp, {'sigma': 1, 'knot': 2}) DONE\n",
      "minirocket, OSULeaf, (magnitude_warp, {'sigma': 1, 'knot': 2}) DONE\n",
      "minirocket, PhalangesOutlinesCorrect, (magnitude_warp, {'sigma': 1, 'knot': 2}) DONE\n",
      "minirocket, Phoneme, (magnitude_warp, {'sigma': 1, 'knot': 2}) DONE\n",
      "minirocket, ProximalPhalanxOutlineAgeGroup, (magnitude_warp, {'sigma': 1, 'knot': 2}) DONE\n",
      "minirocket, ProximalPhalanxOutlineCorrect, (magnitude_warp, {'sigma': 1, 'knot': 2}) DONE\n",
      "minirocket, ProximalPhalanxTW, (magnitude_warp, {'sigma': 1, 'knot': 2}) DONE\n",
      "minirocket, ScreenType, (magnitude_warp, {'sigma': 1, 'knot': 2}) DONE\n",
      "minirocket, ShapesAll, (magnitude_warp, {'sigma': 1, 'knot': 2}) DONE\n",
      "minirocket, SmallKitchenAppliances, (magnitude_warp, {'sigma': 1, 'knot': 2}) DONE\n",
      "minirocket, SonyAIBORobotSurface1, (magnitude_warp, {'sigma': 1, 'knot': 2}) DONE\n",
      "minirocket, SonyAIBORobotSurface2, (magnitude_warp, {'sigma': 1, 'knot': 2}) DONE\n",
      "minirocket, ToeSegmentation2, (magnitude_warp, {'sigma': 1, 'knot': 2}) DONE\n",
      "minirocket, Wine, (magnitude_warp, {'sigma': 1, 'knot': 2}) DONE\n",
      "minirocket, WordSynonyms, (magnitude_warp, {'sigma': 1, 'knot': 2}) DONE\n",
      "minirocket, Worms, (magnitude_warp, {'sigma': 1, 'knot': 2}) DONE\n",
      "minirocket, Yoga, (magnitude_warp, {'sigma': 1, 'knot': 2}) DONE\n"
     ]
    }
   ],
   "source": [
    "# AUGMENTED\n",
    "import warnings\n",
    "warnings.filterwarnings(\"ignore\")\n",
    "\n",
    "from time_series_augmentation.utils.augmentation import magnitude_warp\n",
    "\n",
    "variation = 'minirocket'\n",
    "classifer = {'name':variation, 'function': RocketClassifier(rocket_transform=variation)}\n",
    "datasets = read_UCR_dataset_name()\n",
    "augment = {'name':'magnitude_warp', 'function': magnitude_warp, 'params': {'sigma':[0.2, 0.4, 0.6, 0.8, 1], \"knot\":[2]}}\n",
    "experiment_set = ExperimentSet(classifer, datasets, augment)\n",
    "experiment_set.run_all()"
   ]
  },
  {
   "cell_type": "code",
   "execution_count": 7,
   "metadata": {},
   "outputs": [
    {
     "ename": "KeyboardInterrupt",
     "evalue": "",
     "output_type": "error",
     "traceback": [
      "\u001b[0;31m---------------------------------------------------------------------------\u001b[0m",
      "\u001b[0;31mKeyboardInterrupt\u001b[0m                         Traceback (most recent call last)",
      "\u001b[1;32m/Users/Pongpanod.Sa/Desktop/cu/thesis/coding/pun_master_thesis/test_Training_interface.ipynb Cell 25\u001b[0m in \u001b[0;36m<cell line: 13>\u001b[0;34m()\u001b[0m\n\u001b[1;32m     <a href='vscode-notebook-cell:/Users/Pongpanod.Sa/Desktop/cu/thesis/coding/pun_master_thesis/test_Training_interface.ipynb#X33sZmlsZQ%3D%3D?line=10'>11</a>\u001b[0m augment \u001b[39m=\u001b[39m {\u001b[39m'\u001b[39m\u001b[39mname\u001b[39m\u001b[39m'\u001b[39m:\u001b[39m'\u001b[39m\u001b[39mmagnitude_warpyyy\u001b[39m\u001b[39m'\u001b[39m, \u001b[39m'\u001b[39m\u001b[39mfunction\u001b[39m\u001b[39m'\u001b[39m: magnitude_warp, \u001b[39m'\u001b[39m\u001b[39mparams\u001b[39m\u001b[39m'\u001b[39m: {\u001b[39m'\u001b[39m\u001b[39msigma\u001b[39m\u001b[39m'\u001b[39m:[\u001b[39m0.2\u001b[39m, \u001b[39m0.4\u001b[39m, \u001b[39m0.6\u001b[39m, \u001b[39m0.8\u001b[39m, \u001b[39m1\u001b[39m], \u001b[39m\"\u001b[39m\u001b[39mknot\u001b[39m\u001b[39m\"\u001b[39m:[\u001b[39m4\u001b[39m, \u001b[39m6\u001b[39m, \u001b[39m8\u001b[39m, \u001b[39m10\u001b[39m]}}\n\u001b[1;32m     <a href='vscode-notebook-cell:/Users/Pongpanod.Sa/Desktop/cu/thesis/coding/pun_master_thesis/test_Training_interface.ipynb#X33sZmlsZQ%3D%3D?line=11'>12</a>\u001b[0m experiment_set \u001b[39m=\u001b[39m ExperimentSet(classifer, datasets, augment)\n\u001b[0;32m---> <a href='vscode-notebook-cell:/Users/Pongpanod.Sa/Desktop/cu/thesis/coding/pun_master_thesis/test_Training_interface.ipynb#X33sZmlsZQ%3D%3D?line=12'>13</a>\u001b[0m experiment_set\u001b[39m.\u001b[39;49mrun_all()\n",
      "File \u001b[0;32m~/Desktop/cu/thesis/coding/pun_master_thesis/experiment/ExperimentSet.py:20\u001b[0m, in \u001b[0;36mExperimentSet.run_all\u001b[0;34m(self)\u001b[0m\n\u001b[1;32m     18\u001b[0m augment \u001b[39m=\u001b[39m {\u001b[39m'\u001b[39m\u001b[39mname\u001b[39m\u001b[39m'\u001b[39m: \u001b[39mself\u001b[39m\u001b[39m.\u001b[39maugments[\u001b[39m'\u001b[39m\u001b[39mname\u001b[39m\u001b[39m'\u001b[39m], \u001b[39m'\u001b[39m\u001b[39mfunction\u001b[39m\u001b[39m'\u001b[39m: \u001b[39mself\u001b[39m\u001b[39m.\u001b[39maugments[\u001b[39m'\u001b[39m\u001b[39mfunction\u001b[39m\u001b[39m'\u001b[39m], \u001b[39m'\u001b[39m\u001b[39mparams\u001b[39m\u001b[39m'\u001b[39m: result}\n\u001b[1;32m     19\u001b[0m experiments \u001b[39m=\u001b[39m Experiment(\u001b[39mself\u001b[39m\u001b[39m.\u001b[39mclassier, dataset, augment)\n\u001b[0;32m---> 20\u001b[0m experiments\u001b[39m.\u001b[39;49mrun_all()\n",
      "File \u001b[0;32m~/Desktop/cu/thesis/coding/pun_master_thesis/experiment/Experiment.py:96\u001b[0m, in \u001b[0;36mExperiment.run_all\u001b[0;34m(self)\u001b[0m\n\u001b[1;32m     94\u001b[0m \u001b[39mself\u001b[39m\u001b[39m.\u001b[39mload_UCR_dataset()\n\u001b[1;32m     95\u001b[0m \u001b[39mself\u001b[39m\u001b[39m.\u001b[39maugmentation()\n\u001b[0;32m---> 96\u001b[0m \u001b[39mself\u001b[39;49m\u001b[39m.\u001b[39;49mtrain_classier()\n\u001b[1;32m     97\u001b[0m \u001b[39mself\u001b[39m\u001b[39m.\u001b[39mpredict()\n\u001b[1;32m     98\u001b[0m \u001b[39mself\u001b[39m\u001b[39m.\u001b[39mevaluate()\n",
      "File \u001b[0;32m~/Desktop/cu/thesis/coding/pun_master_thesis/experiment/Experiment.py:56\u001b[0m, in \u001b[0;36mExperiment.train_classier\u001b[0;34m(self)\u001b[0m\n\u001b[1;32m     55\u001b[0m \u001b[39mdef\u001b[39;00m \u001b[39mtrain_classier\u001b[39m(\u001b[39mself\u001b[39m):\n\u001b[0;32m---> 56\u001b[0m     \u001b[39mself\u001b[39;49m\u001b[39m.\u001b[39;49mclasifier[\u001b[39m\"\u001b[39;49m\u001b[39mfunction\u001b[39;49m\u001b[39m\"\u001b[39;49m]\u001b[39m.\u001b[39;49mfit(\u001b[39mself\u001b[39;49m\u001b[39m.\u001b[39;49mdataset[\u001b[39m\"\u001b[39;49m\u001b[39mx_train\u001b[39;49m\u001b[39m\"\u001b[39;49m], \u001b[39mself\u001b[39;49m\u001b[39m.\u001b[39;49mdataset[\u001b[39m\"\u001b[39;49m\u001b[39my_train\u001b[39;49m\u001b[39m\"\u001b[39;49m])\n",
      "File \u001b[0;32m~/miniconda3/envs/thesis3.10/lib/python3.10/site-packages/sktime/classification/base.py:191\u001b[0m, in \u001b[0;36mBaseClassifier.fit\u001b[0;34m(self, X, y)\u001b[0m\n\u001b[1;32m    186\u001b[0m         \u001b[39mraise\u001b[39;00m \u001b[39mAttributeError\u001b[39;00m(\n\u001b[1;32m    187\u001b[0m             \u001b[39m\"\u001b[39m\u001b[39mself.n_jobs must be set if capability:multithreading is True\u001b[39m\u001b[39m\"\u001b[39m\n\u001b[1;32m    188\u001b[0m         )\n\u001b[1;32m    190\u001b[0m \u001b[39m# pass coerced and checked data to inner _fit\u001b[39;00m\n\u001b[0;32m--> 191\u001b[0m \u001b[39mself\u001b[39;49m\u001b[39m.\u001b[39;49m_fit(X, y)\n\u001b[1;32m    192\u001b[0m \u001b[39mself\u001b[39m\u001b[39m.\u001b[39mfit_time_ \u001b[39m=\u001b[39m \u001b[39mint\u001b[39m(\u001b[39mround\u001b[39m(time\u001b[39m.\u001b[39mtime() \u001b[39m*\u001b[39m \u001b[39m1000\u001b[39m)) \u001b[39m-\u001b[39m start\n\u001b[1;32m    194\u001b[0m \u001b[39m# this should happen last\u001b[39;00m\n",
      "File \u001b[0;32m~/miniconda3/envs/thesis3.10/lib/python3.10/site-packages/sktime/classification/_delegate.py:66\u001b[0m, in \u001b[0;36m_DelegatedClassifier._fit\u001b[0;34m(self, X, y)\u001b[0m\n\u001b[1;32m     42\u001b[0m \u001b[39m\"\"\"Fit time series classifier to training data.\u001b[39;00m\n\u001b[1;32m     43\u001b[0m \n\u001b[1;32m     44\u001b[0m \u001b[39mprivate _fit containing the core logic, called from fit\u001b[39;00m\n\u001b[0;32m   (...)\u001b[0m\n\u001b[1;32m     63\u001b[0m \u001b[39mself : Reference to self.\u001b[39;00m\n\u001b[1;32m     64\u001b[0m \u001b[39m\"\"\"\u001b[39;00m\n\u001b[1;32m     65\u001b[0m estimator \u001b[39m=\u001b[39m \u001b[39mself\u001b[39m\u001b[39m.\u001b[39m_get_delegate()\n\u001b[0;32m---> 66\u001b[0m estimator\u001b[39m.\u001b[39;49mfit(X\u001b[39m=\u001b[39;49mX, y\u001b[39m=\u001b[39;49my)\n\u001b[1;32m     67\u001b[0m \u001b[39mreturn\u001b[39;00m \u001b[39mself\u001b[39m\n",
      "File \u001b[0;32m~/miniconda3/envs/thesis3.10/lib/python3.10/site-packages/sktime/classification/base.py:180\u001b[0m, in \u001b[0;36mBaseClassifier.fit\u001b[0;34m(self, X, y)\u001b[0m\n\u001b[1;32m    177\u001b[0m     \u001b[39mreturn\u001b[39;00m \u001b[39mself\u001b[39m\n\u001b[1;32m    179\u001b[0m \u001b[39m# Convert data as dictated by the classifier tags\u001b[39;00m\n\u001b[0;32m--> 180\u001b[0m X \u001b[39m=\u001b[39m \u001b[39mself\u001b[39;49m\u001b[39m.\u001b[39;49m_convert_X(X)\n\u001b[1;32m    181\u001b[0m multithread \u001b[39m=\u001b[39m \u001b[39mself\u001b[39m\u001b[39m.\u001b[39mget_tag(\u001b[39m\"\u001b[39m\u001b[39mcapability:multithreading\u001b[39m\u001b[39m\"\u001b[39m)\n\u001b[1;32m    182\u001b[0m \u001b[39mif\u001b[39;00m multithread:\n",
      "File \u001b[0;32m~/miniconda3/envs/thesis3.10/lib/python3.10/site-packages/sktime/classification/base.py:665\u001b[0m, in \u001b[0;36mBaseClassifier._convert_X\u001b[0;34m(self, X)\u001b[0m\n\u001b[1;32m    663\u001b[0m inner_type \u001b[39m=\u001b[39m \u001b[39mself\u001b[39m\u001b[39m.\u001b[39mget_tag(\u001b[39m\"\u001b[39m\u001b[39mX_inner_mtype\u001b[39m\u001b[39m\"\u001b[39m)\n\u001b[1;32m    664\u001b[0m \u001b[39m# convert pd.DataFrame\u001b[39;00m\n\u001b[0;32m--> 665\u001b[0m X \u001b[39m=\u001b[39m convert_to(\n\u001b[1;32m    666\u001b[0m     X,\n\u001b[1;32m    667\u001b[0m     to_type\u001b[39m=\u001b[39;49minner_type,\n\u001b[1;32m    668\u001b[0m     as_scitype\u001b[39m=\u001b[39;49m\u001b[39m\"\u001b[39;49m\u001b[39mPanel\u001b[39;49m\u001b[39m\"\u001b[39;49m,\n\u001b[1;32m    669\u001b[0m )\n\u001b[1;32m    670\u001b[0m \u001b[39mreturn\u001b[39;00m X\n",
      "File \u001b[0;32m~/miniconda3/envs/thesis3.10/lib/python3.10/site-packages/sktime/datatypes/_convert.py:263\u001b[0m, in \u001b[0;36mconvert_to\u001b[0;34m(obj, to_type, as_scitype, store, store_behaviour)\u001b[0m\n\u001b[1;32m    257\u001b[0m             \u001b[39mraise\u001b[39;00m \u001b[39mTypeError\u001b[39;00m(\n\u001b[1;32m    258\u001b[0m                 \u001b[39m\"\u001b[39m\u001b[39mto_type contains no mtype compatible with the scitype of obj,\u001b[39m\u001b[39m\"\u001b[39m\n\u001b[1;32m    259\u001b[0m                 \u001b[39mf\u001b[39m\u001b[39m\"\u001b[39m\u001b[39mwhich is \u001b[39m\u001b[39m{\u001b[39;00mas_scitype\u001b[39m}\u001b[39;00m\u001b[39m\"\u001b[39m\n\u001b[1;32m    260\u001b[0m             )\n\u001b[1;32m    261\u001b[0m         to_type \u001b[39m=\u001b[39m same_scitype_mtypes[\u001b[39m0\u001b[39m]\n\u001b[0;32m--> 263\u001b[0m converted_obj \u001b[39m=\u001b[39m convert(\n\u001b[1;32m    264\u001b[0m     obj\u001b[39m=\u001b[39;49mobj,\n\u001b[1;32m    265\u001b[0m     from_type\u001b[39m=\u001b[39;49mfrom_type,\n\u001b[1;32m    266\u001b[0m     to_type\u001b[39m=\u001b[39;49mto_type,\n\u001b[1;32m    267\u001b[0m     as_scitype\u001b[39m=\u001b[39;49mas_scitype,\n\u001b[1;32m    268\u001b[0m     store\u001b[39m=\u001b[39;49mstore,\n\u001b[1;32m    269\u001b[0m     store_behaviour\u001b[39m=\u001b[39;49mstore_behaviour,\n\u001b[1;32m    270\u001b[0m )\n\u001b[1;32m    272\u001b[0m \u001b[39mreturn\u001b[39;00m converted_obj\n",
      "File \u001b[0;32m~/miniconda3/envs/thesis3.10/lib/python3.10/site-packages/sktime/datatypes/_convert.py:172\u001b[0m, in \u001b[0;36mconvert\u001b[0;34m(obj, from_type, to_type, as_scitype, store, store_behaviour)\u001b[0m\n\u001b[1;32m    167\u001b[0m \u001b[39melse\u001b[39;00m:\n\u001b[1;32m    168\u001b[0m     \u001b[39mraise\u001b[39;00m \u001b[39mRuntimeError\u001b[39;00m(\n\u001b[1;32m    169\u001b[0m         \u001b[39m\"\u001b[39m\u001b[39mbug: unrechable condition error, store_behaviour has unexpected value\u001b[39m\u001b[39m\"\u001b[39m\n\u001b[1;32m    170\u001b[0m     )\n\u001b[0;32m--> 172\u001b[0m converted_obj \u001b[39m=\u001b[39m convert_dict[key](obj, store\u001b[39m=\u001b[39;49mstore)\n\u001b[1;32m    174\u001b[0m \u001b[39mreturn\u001b[39;00m converted_obj\n",
      "File \u001b[0;32m~/miniconda3/envs/thesis3.10/lib/python3.10/site-packages/sktime/datatypes/_panel/_convert.py:665\u001b[0m, in \u001b[0;36mfrom_3d_numpy_to_multi_index_adp\u001b[0;34m(obj, store)\u001b[0m\n\u001b[1;32m    664\u001b[0m \u001b[39mdef\u001b[39;00m \u001b[39mfrom_3d_numpy_to_multi_index_adp\u001b[39m(obj, store\u001b[39m=\u001b[39m\u001b[39mNone\u001b[39;00m):\n\u001b[0;32m--> 665\u001b[0m     res \u001b[39m=\u001b[39m from_3d_numpy_to_multi_index(X\u001b[39m=\u001b[39;49mobj)\n\u001b[1;32m    666\u001b[0m     \u001b[39mif\u001b[39;00m (\n\u001b[1;32m    667\u001b[0m         \u001b[39misinstance\u001b[39m(store, \u001b[39mdict\u001b[39m)\n\u001b[1;32m    668\u001b[0m         \u001b[39mand\u001b[39;00m \u001b[39m\"\u001b[39m\u001b[39mcolumns\u001b[39m\u001b[39m\"\u001b[39m \u001b[39min\u001b[39;00m store\u001b[39m.\u001b[39mkeys()\n\u001b[1;32m    669\u001b[0m         \u001b[39mand\u001b[39;00m \u001b[39mlen\u001b[39m(store[\u001b[39m\"\u001b[39m\u001b[39mcolumns\u001b[39m\u001b[39m\"\u001b[39m]) \u001b[39m==\u001b[39m obj\u001b[39m.\u001b[39mshape[\u001b[39m1\u001b[39m]\n\u001b[1;32m    670\u001b[0m     ):\n\u001b[1;32m    671\u001b[0m         res\u001b[39m.\u001b[39mcolumns \u001b[39m=\u001b[39m store[\u001b[39m\"\u001b[39m\u001b[39mcolumns\u001b[39m\u001b[39m\"\u001b[39m]\n",
      "File \u001b[0;32m~/miniconda3/envs/thesis3.10/lib/python3.10/site-packages/sktime/datatypes/_panel/_convert.py:642\u001b[0m, in \u001b[0;36mfrom_3d_numpy_to_multi_index\u001b[0;34m(X, instance_index, time_index, column_names)\u001b[0m\n\u001b[1;32m    636\u001b[0m multi_index \u001b[39m=\u001b[39m pd\u001b[39m.\u001b[39mMultiIndex\u001b[39m.\u001b[39mfrom_product(\n\u001b[1;32m    637\u001b[0m     [\u001b[39mrange\u001b[39m(n_instances), \u001b[39mrange\u001b[39m(n_columns), \u001b[39mrange\u001b[39m(n_timepoints)],\n\u001b[1;32m    638\u001b[0m     names\u001b[39m=\u001b[39m[\u001b[39m\"\u001b[39m\u001b[39minstances\u001b[39m\u001b[39m\"\u001b[39m, \u001b[39m\"\u001b[39m\u001b[39mcolumns\u001b[39m\u001b[39m\"\u001b[39m, \u001b[39m\"\u001b[39m\u001b[39mtimepoints\u001b[39m\u001b[39m\"\u001b[39m],\n\u001b[1;32m    639\u001b[0m )\n\u001b[1;32m    641\u001b[0m X_mi \u001b[39m=\u001b[39m pd\u001b[39m.\u001b[39mDataFrame({\u001b[39m\"\u001b[39m\u001b[39mX\u001b[39m\u001b[39m\"\u001b[39m: X\u001b[39m.\u001b[39mflatten()}, index\u001b[39m=\u001b[39mmulti_index)\n\u001b[0;32m--> 642\u001b[0m X_mi \u001b[39m=\u001b[39m X_mi\u001b[39m.\u001b[39;49munstack(level\u001b[39m=\u001b[39;49m\u001b[39m\"\u001b[39;49m\u001b[39mcolumns\u001b[39;49m\u001b[39m\"\u001b[39;49m)\n\u001b[1;32m    644\u001b[0m \u001b[39m# Assign column names\u001b[39;00m\n\u001b[1;32m    645\u001b[0m \u001b[39mif\u001b[39;00m column_names \u001b[39mis\u001b[39;00m \u001b[39mNone\u001b[39;00m:\n",
      "File \u001b[0;32m~/miniconda3/envs/thesis3.10/lib/python3.10/site-packages/pandas/core/frame.py:8419\u001b[0m, in \u001b[0;36mDataFrame.unstack\u001b[0;34m(self, level, fill_value)\u001b[0m\n\u001b[1;32m   8357\u001b[0m \u001b[39m\"\"\"\u001b[39;00m\n\u001b[1;32m   8358\u001b[0m \u001b[39mPivot a level of the (necessarily hierarchical) index labels.\u001b[39;00m\n\u001b[1;32m   8359\u001b[0m \n\u001b[0;32m   (...)\u001b[0m\n\u001b[1;32m   8415\u001b[0m \u001b[39mdtype: float64\u001b[39;00m\n\u001b[1;32m   8416\u001b[0m \u001b[39m\"\"\"\u001b[39;00m\n\u001b[1;32m   8417\u001b[0m \u001b[39mfrom\u001b[39;00m \u001b[39mpandas\u001b[39;00m\u001b[39m.\u001b[39;00m\u001b[39mcore\u001b[39;00m\u001b[39m.\u001b[39;00m\u001b[39mreshape\u001b[39;00m\u001b[39m.\u001b[39;00m\u001b[39mreshape\u001b[39;00m \u001b[39mimport\u001b[39;00m unstack\n\u001b[0;32m-> 8419\u001b[0m result \u001b[39m=\u001b[39m unstack(\u001b[39mself\u001b[39;49m, level, fill_value)\n\u001b[1;32m   8421\u001b[0m \u001b[39mreturn\u001b[39;00m result\u001b[39m.\u001b[39m__finalize__(\u001b[39mself\u001b[39m, method\u001b[39m=\u001b[39m\u001b[39m\"\u001b[39m\u001b[39munstack\u001b[39m\u001b[39m\"\u001b[39m)\n",
      "File \u001b[0;32m~/miniconda3/envs/thesis3.10/lib/python3.10/site-packages/pandas/core/reshape/reshape.py:478\u001b[0m, in \u001b[0;36munstack\u001b[0;34m(obj, level, fill_value)\u001b[0m\n\u001b[1;32m    476\u001b[0m \u001b[39mif\u001b[39;00m \u001b[39misinstance\u001b[39m(obj, DataFrame):\n\u001b[1;32m    477\u001b[0m     \u001b[39mif\u001b[39;00m \u001b[39misinstance\u001b[39m(obj\u001b[39m.\u001b[39mindex, MultiIndex):\n\u001b[0;32m--> 478\u001b[0m         \u001b[39mreturn\u001b[39;00m _unstack_frame(obj, level, fill_value\u001b[39m=\u001b[39;49mfill_value)\n\u001b[1;32m    479\u001b[0m     \u001b[39melse\u001b[39;00m:\n\u001b[1;32m    480\u001b[0m         \u001b[39mreturn\u001b[39;00m obj\u001b[39m.\u001b[39mT\u001b[39m.\u001b[39mstack(dropna\u001b[39m=\u001b[39m\u001b[39mFalse\u001b[39;00m)\n",
      "File \u001b[0;32m~/miniconda3/envs/thesis3.10/lib/python3.10/site-packages/pandas/core/reshape/reshape.py:505\u001b[0m, in \u001b[0;36m_unstack_frame\u001b[0;34m(obj, level, fill_value)\u001b[0m\n\u001b[1;32m    503\u001b[0m     \u001b[39mreturn\u001b[39;00m obj\u001b[39m.\u001b[39m_constructor(mgr)\n\u001b[1;32m    504\u001b[0m \u001b[39melse\u001b[39;00m:\n\u001b[0;32m--> 505\u001b[0m     unstacker \u001b[39m=\u001b[39m _Unstacker(obj\u001b[39m.\u001b[39;49mindex, level\u001b[39m=\u001b[39;49mlevel, constructor\u001b[39m=\u001b[39;49mobj\u001b[39m.\u001b[39;49m_constructor)\n\u001b[1;32m    506\u001b[0m     \u001b[39mreturn\u001b[39;00m unstacker\u001b[39m.\u001b[39mget_result(\n\u001b[1;32m    507\u001b[0m         obj\u001b[39m.\u001b[39m_values, value_columns\u001b[39m=\u001b[39mobj\u001b[39m.\u001b[39mcolumns, fill_value\u001b[39m=\u001b[39mfill_value\n\u001b[1;32m    508\u001b[0m     )\n",
      "File \u001b[0;32m~/miniconda3/envs/thesis3.10/lib/python3.10/site-packages/pandas/core/reshape/reshape.py:140\u001b[0m, in \u001b[0;36m_Unstacker.__init__\u001b[0;34m(self, index, level, constructor)\u001b[0m\n\u001b[1;32m    133\u001b[0m \u001b[39mif\u001b[39;00m num_cells \u001b[39m>\u001b[39m np\u001b[39m.\u001b[39miinfo(np\u001b[39m.\u001b[39mint32)\u001b[39m.\u001b[39mmax:\n\u001b[1;32m    134\u001b[0m     warnings\u001b[39m.\u001b[39mwarn(\n\u001b[1;32m    135\u001b[0m         \u001b[39mf\u001b[39m\u001b[39m\"\u001b[39m\u001b[39mThe following operation may generate \u001b[39m\u001b[39m{\u001b[39;00mnum_cells\u001b[39m}\u001b[39;00m\u001b[39m cells \u001b[39m\u001b[39m\"\u001b[39m\n\u001b[1;32m    136\u001b[0m         \u001b[39mf\u001b[39m\u001b[39m\"\u001b[39m\u001b[39min the resulting pandas object.\u001b[39m\u001b[39m\"\u001b[39m,\n\u001b[1;32m    137\u001b[0m         PerformanceWarning,\n\u001b[1;32m    138\u001b[0m     )\n\u001b[0;32m--> 140\u001b[0m \u001b[39mself\u001b[39;49m\u001b[39m.\u001b[39;49m_make_selectors()\n",
      "File \u001b[0;32m~/miniconda3/envs/thesis3.10/lib/python3.10/site-packages/pandas/core/reshape/reshape.py:177\u001b[0m, in \u001b[0;36m_Unstacker._make_selectors\u001b[0;34m(self)\u001b[0m\n\u001b[1;32m    174\u001b[0m new_levels \u001b[39m=\u001b[39m \u001b[39mself\u001b[39m\u001b[39m.\u001b[39mnew_index_levels\n\u001b[1;32m    176\u001b[0m \u001b[39m# make the mask\u001b[39;00m\n\u001b[0;32m--> 177\u001b[0m remaining_labels \u001b[39m=\u001b[39m \u001b[39mself\u001b[39;49m\u001b[39m.\u001b[39;49msorted_labels[:\u001b[39m-\u001b[39m\u001b[39m1\u001b[39m]\n\u001b[1;32m    178\u001b[0m level_sizes \u001b[39m=\u001b[39m \u001b[39mtuple\u001b[39m(\u001b[39mlen\u001b[39m(x) \u001b[39mfor\u001b[39;00m x \u001b[39min\u001b[39;00m new_levels)\n\u001b[1;32m    180\u001b[0m comp_index, obs_ids \u001b[39m=\u001b[39m get_compressed_ids(remaining_labels, level_sizes)\n",
      "File \u001b[0;32m~/miniconda3/envs/thesis3.10/lib/python3.10/site-packages/pandas/_libs/properties.pyx:37\u001b[0m, in \u001b[0;36mpandas._libs.properties.CachedProperty.__get__\u001b[0;34m()\u001b[0m\n",
      "File \u001b[0;32m~/miniconda3/envs/thesis3.10/lib/python3.10/site-packages/pandas/core/reshape/reshape.py:164\u001b[0m, in \u001b[0;36m_Unstacker.sorted_labels\u001b[0;34m(self)\u001b[0m\n\u001b[1;32m    162\u001b[0m \u001b[39m@cache_readonly\u001b[39m\n\u001b[1;32m    163\u001b[0m \u001b[39mdef\u001b[39;00m \u001b[39msorted_labels\u001b[39m(\u001b[39mself\u001b[39m):\n\u001b[0;32m--> 164\u001b[0m     indexer, to_sort \u001b[39m=\u001b[39m \u001b[39mself\u001b[39;49m\u001b[39m.\u001b[39;49m_indexer_and_to_sort\n\u001b[1;32m    165\u001b[0m     \u001b[39mreturn\u001b[39;00m [line\u001b[39m.\u001b[39mtake(indexer) \u001b[39mfor\u001b[39;00m line \u001b[39min\u001b[39;00m to_sort]\n",
      "File \u001b[0;32m~/miniconda3/envs/thesis3.10/lib/python3.10/site-packages/pandas/_libs/properties.pyx:37\u001b[0m, in \u001b[0;36mpandas._libs.properties.CachedProperty.__get__\u001b[0;34m()\u001b[0m\n",
      "File \u001b[0;32m~/miniconda3/envs/thesis3.10/lib/python3.10/site-packages/pandas/core/reshape/reshape.py:156\u001b[0m, in \u001b[0;36m_Unstacker._indexer_and_to_sort\u001b[0;34m(self)\u001b[0m\n\u001b[1;32m    153\u001b[0m to_sort \u001b[39m=\u001b[39m codes[:v] \u001b[39m+\u001b[39m codes[v \u001b[39m+\u001b[39m \u001b[39m1\u001b[39m :] \u001b[39m+\u001b[39m [codes[v]]\n\u001b[1;32m    154\u001b[0m sizes \u001b[39m=\u001b[39m \u001b[39mtuple\u001b[39m(\u001b[39mlen\u001b[39m(x) \u001b[39mfor\u001b[39;00m x \u001b[39min\u001b[39;00m levs[:v] \u001b[39m+\u001b[39m levs[v \u001b[39m+\u001b[39m \u001b[39m1\u001b[39m :] \u001b[39m+\u001b[39m [levs[v]])\n\u001b[0;32m--> 156\u001b[0m comp_index, obs_ids \u001b[39m=\u001b[39m get_compressed_ids(to_sort, sizes)\n\u001b[1;32m    157\u001b[0m ngroups \u001b[39m=\u001b[39m \u001b[39mlen\u001b[39m(obs_ids)\n\u001b[1;32m    159\u001b[0m indexer \u001b[39m=\u001b[39m get_group_index_sorter(comp_index, ngroups)\n",
      "File \u001b[0;32m~/miniconda3/envs/thesis3.10/lib/python3.10/site-packages/pandas/core/sorting.py:214\u001b[0m, in \u001b[0;36mget_compressed_ids\u001b[0;34m(labels, sizes)\u001b[0m\n\u001b[1;32m    194\u001b[0m \u001b[39mdef\u001b[39;00m \u001b[39mget_compressed_ids\u001b[39m(\n\u001b[1;32m    195\u001b[0m     labels, sizes: Shape\n\u001b[1;32m    196\u001b[0m ) \u001b[39m-\u001b[39m\u001b[39m>\u001b[39m \u001b[39mtuple\u001b[39m[npt\u001b[39m.\u001b[39mNDArray[np\u001b[39m.\u001b[39mintp], npt\u001b[39m.\u001b[39mNDArray[np\u001b[39m.\u001b[39mint64]]:\n\u001b[1;32m    197\u001b[0m     \u001b[39m\"\"\"\u001b[39;00m\n\u001b[1;32m    198\u001b[0m \u001b[39m    Group_index is offsets into cartesian product of all possible labels. This\u001b[39;00m\n\u001b[1;32m    199\u001b[0m \u001b[39m    space can be huge, so this function compresses it, by computing offsets\u001b[39;00m\n\u001b[0;32m   (...)\u001b[0m\n\u001b[1;32m    212\u001b[0m \u001b[39m        obs_group_ids\u001b[39;00m\n\u001b[1;32m    213\u001b[0m \u001b[39m    \"\"\"\u001b[39;00m\n\u001b[0;32m--> 214\u001b[0m     ids \u001b[39m=\u001b[39m get_group_index(labels, sizes, sort\u001b[39m=\u001b[39;49m\u001b[39mTrue\u001b[39;49;00m, xnull\u001b[39m=\u001b[39;49m\u001b[39mFalse\u001b[39;49;00m)\n\u001b[1;32m    215\u001b[0m     \u001b[39mreturn\u001b[39;00m compress_group_index(ids, sort\u001b[39m=\u001b[39m\u001b[39mTrue\u001b[39;00m)\n",
      "File \u001b[0;32m~/miniconda3/envs/thesis3.10/lib/python3.10/site-packages/pandas/core/sorting.py:148\u001b[0m, in \u001b[0;36mget_group_index\u001b[0;34m(labels, shape, sort, xnull)\u001b[0m\n\u001b[1;32m    143\u001b[0m \u001b[39mdef\u001b[39;00m \u001b[39mmaybe_lift\u001b[39m(lab, size) \u001b[39m-\u001b[39m\u001b[39m>\u001b[39m \u001b[39mtuple\u001b[39m[np\u001b[39m.\u001b[39mndarray, \u001b[39mint\u001b[39m]:\n\u001b[1;32m    144\u001b[0m     \u001b[39m# promote nan values (assigned -1 label in lab array)\u001b[39;00m\n\u001b[1;32m    145\u001b[0m     \u001b[39m# so that all output values are non-negative\u001b[39;00m\n\u001b[1;32m    146\u001b[0m     \u001b[39mreturn\u001b[39;00m (lab \u001b[39m+\u001b[39m \u001b[39m1\u001b[39m, size \u001b[39m+\u001b[39m \u001b[39m1\u001b[39m) \u001b[39mif\u001b[39;00m (lab \u001b[39m==\u001b[39m \u001b[39m-\u001b[39m\u001b[39m1\u001b[39m)\u001b[39m.\u001b[39many() \u001b[39melse\u001b[39;00m (lab, size)\n\u001b[0;32m--> 148\u001b[0m labels \u001b[39m=\u001b[39m [ensure_int64(x) \u001b[39mfor\u001b[39;00m x \u001b[39min\u001b[39;00m labels]\n\u001b[1;32m    149\u001b[0m lshape \u001b[39m=\u001b[39m \u001b[39mlist\u001b[39m(shape)\n\u001b[1;32m    150\u001b[0m \u001b[39mif\u001b[39;00m \u001b[39mnot\u001b[39;00m xnull:\n",
      "File \u001b[0;32m~/miniconda3/envs/thesis3.10/lib/python3.10/site-packages/pandas/core/sorting.py:148\u001b[0m, in \u001b[0;36m<listcomp>\u001b[0;34m(.0)\u001b[0m\n\u001b[1;32m    143\u001b[0m \u001b[39mdef\u001b[39;00m \u001b[39mmaybe_lift\u001b[39m(lab, size) \u001b[39m-\u001b[39m\u001b[39m>\u001b[39m \u001b[39mtuple\u001b[39m[np\u001b[39m.\u001b[39mndarray, \u001b[39mint\u001b[39m]:\n\u001b[1;32m    144\u001b[0m     \u001b[39m# promote nan values (assigned -1 label in lab array)\u001b[39;00m\n\u001b[1;32m    145\u001b[0m     \u001b[39m# so that all output values are non-negative\u001b[39;00m\n\u001b[1;32m    146\u001b[0m     \u001b[39mreturn\u001b[39;00m (lab \u001b[39m+\u001b[39m \u001b[39m1\u001b[39m, size \u001b[39m+\u001b[39m \u001b[39m1\u001b[39m) \u001b[39mif\u001b[39;00m (lab \u001b[39m==\u001b[39m \u001b[39m-\u001b[39m\u001b[39m1\u001b[39m)\u001b[39m.\u001b[39many() \u001b[39melse\u001b[39;00m (lab, size)\n\u001b[0;32m--> 148\u001b[0m labels \u001b[39m=\u001b[39m [ensure_int64(x) \u001b[39mfor\u001b[39;00m x \u001b[39min\u001b[39;00m labels]\n\u001b[1;32m    149\u001b[0m lshape \u001b[39m=\u001b[39m \u001b[39mlist\u001b[39m(shape)\n\u001b[1;32m    150\u001b[0m \u001b[39mif\u001b[39;00m \u001b[39mnot\u001b[39;00m xnull:\n",
      "\u001b[0;31mKeyboardInterrupt\u001b[0m: "
     ]
    }
   ],
   "source": [
    "# AUGMENTED\n",
    "# Haven't Run\n",
    "import warnings\n",
    "warnings.filterwarnings(\"ignore\")\n",
    "\n",
    "from time_series_augmentation.utils.augmentation import magnitude_warp\n",
    "\n",
    "variation = 'minirocket'\n",
    "classifer = {'name':variation, 'function': RocketClassifier(rocket_transform=variation)}\n",
    "datasets = read_UCR_dataset_name()\n",
    "augment = {'name':'magnitude_warpyyy', 'function': magnitude_warp, 'params': {'sigma':[0.2, 0.4, 0.6, 0.8, 1], \"knot\":[4, 6, 8, 10]}}\n",
    "experiment_set = ExperimentSet(classifer, datasets, augment)\n",
    "experiment_set.run_all()"
   ]
  },
  {
   "cell_type": "code",
   "execution_count": 3,
   "metadata": {},
   "outputs": [
    {
     "name": "stdout",
     "output_type": "stream",
     "text": [
      "minirocket, ScreenType, (time_warp, {'sigma': 0.2, 'knot': 2}) DONE\n",
      "minirocket, ECG5000, (time_warp, {'sigma': 0.2, 'knot': 2}) DONE\n",
      "minirocket, BeetleFly, (time_warp, {'sigma': 0.2, 'knot': 2}) DONE\n",
      "minirocket, PhalangesOutlinesCorrect, (time_warp, {'sigma': 0.2, 'knot': 2}) DONE\n",
      "minirocket, FiftyWords, (time_warp, {'sigma': 0.2, 'knot': 2}) DONE\n",
      "minirocket, ShapesAll, (time_warp, {'sigma': 0.2, 'knot': 2}) DONE\n",
      "minirocket, MoteStrain, (time_warp, {'sigma': 0.2, 'knot': 2}) DONE\n",
      "minirocket, CinCECGTorso, (time_warp, {'sigma': 0.2, 'knot': 2}) DONE\n",
      "minirocket, Ham, (time_warp, {'sigma': 0.2, 'knot': 2}) DONE\n",
      "minirocket, OliveOil, (time_warp, {'sigma': 0.2, 'knot': 2}) DONE\n",
      "minirocket, ScreenType, (time_warp, {'sigma': 0.2, 'knot': 4}) DONE\n",
      "minirocket, ECG5000, (time_warp, {'sigma': 0.2, 'knot': 4}) DONE\n",
      "minirocket, BeetleFly, (time_warp, {'sigma': 0.2, 'knot': 4}) DONE\n",
      "minirocket, PhalangesOutlinesCorrect, (time_warp, {'sigma': 0.2, 'knot': 4}) DONE\n",
      "minirocket, FiftyWords, (time_warp, {'sigma': 0.2, 'knot': 4}) DONE\n",
      "minirocket, ShapesAll, (time_warp, {'sigma': 0.2, 'knot': 4}) DONE\n",
      "minirocket, MoteStrain, (time_warp, {'sigma': 0.2, 'knot': 4}) DONE\n",
      "minirocket, CinCECGTorso, (time_warp, {'sigma': 0.2, 'knot': 4}) DONE\n",
      "minirocket, Ham, (time_warp, {'sigma': 0.2, 'knot': 4}) DONE\n",
      "minirocket, OliveOil, (time_warp, {'sigma': 0.2, 'knot': 4}) DONE\n",
      "minirocket, ScreenType, (time_warp, {'sigma': 0.2, 'knot': 6}) DONE\n",
      "minirocket, ECG5000, (time_warp, {'sigma': 0.2, 'knot': 6}) DONE\n",
      "minirocket, BeetleFly, (time_warp, {'sigma': 0.2, 'knot': 6}) DONE\n",
      "minirocket, PhalangesOutlinesCorrect, (time_warp, {'sigma': 0.2, 'knot': 6}) DONE\n",
      "minirocket, FiftyWords, (time_warp, {'sigma': 0.2, 'knot': 6}) DONE\n",
      "minirocket, ShapesAll, (time_warp, {'sigma': 0.2, 'knot': 6}) DONE\n",
      "minirocket, MoteStrain, (time_warp, {'sigma': 0.2, 'knot': 6}) DONE\n",
      "minirocket, CinCECGTorso, (time_warp, {'sigma': 0.2, 'knot': 6}) DONE\n",
      "minirocket, Ham, (time_warp, {'sigma': 0.2, 'knot': 6}) DONE\n",
      "minirocket, OliveOil, (time_warp, {'sigma': 0.2, 'knot': 6}) DONE\n",
      "minirocket, ScreenType, (time_warp, {'sigma': 0.2, 'knot': 8}) DONE\n",
      "minirocket, ECG5000, (time_warp, {'sigma': 0.2, 'knot': 8}) DONE\n",
      "minirocket, BeetleFly, (time_warp, {'sigma': 0.2, 'knot': 8}) DONE\n",
      "minirocket, PhalangesOutlinesCorrect, (time_warp, {'sigma': 0.2, 'knot': 8}) DONE\n",
      "minirocket, FiftyWords, (time_warp, {'sigma': 0.2, 'knot': 8}) DONE\n",
      "minirocket, ShapesAll, (time_warp, {'sigma': 0.2, 'knot': 8}) DONE\n",
      "minirocket, MoteStrain, (time_warp, {'sigma': 0.2, 'knot': 8}) DONE\n",
      "minirocket, CinCECGTorso, (time_warp, {'sigma': 0.2, 'knot': 8}) DONE\n",
      "minirocket, Ham, (time_warp, {'sigma': 0.2, 'knot': 8}) DONE\n",
      "minirocket, OliveOil, (time_warp, {'sigma': 0.2, 'knot': 8}) DONE\n",
      "minirocket, ScreenType, (time_warp, {'sigma': 0.2, 'knot': 10}) DONE\n",
      "minirocket, ECG5000, (time_warp, {'sigma': 0.2, 'knot': 10}) DONE\n",
      "minirocket, BeetleFly, (time_warp, {'sigma': 0.2, 'knot': 10}) DONE\n",
      "minirocket, PhalangesOutlinesCorrect, (time_warp, {'sigma': 0.2, 'knot': 10}) DONE\n",
      "minirocket, FiftyWords, (time_warp, {'sigma': 0.2, 'knot': 10}) DONE\n",
      "minirocket, ShapesAll, (time_warp, {'sigma': 0.2, 'knot': 10}) DONE\n",
      "minirocket, MoteStrain, (time_warp, {'sigma': 0.2, 'knot': 10}) DONE\n",
      "minirocket, CinCECGTorso, (time_warp, {'sigma': 0.2, 'knot': 10}) DONE\n",
      "minirocket, Ham, (time_warp, {'sigma': 0.2, 'knot': 10}) DONE\n",
      "minirocket, OliveOil, (time_warp, {'sigma': 0.2, 'knot': 10}) DONE\n",
      "minirocket, ScreenType, (time_warp, {'sigma': 0.4, 'knot': 2}) DONE\n",
      "minirocket, ECG5000, (time_warp, {'sigma': 0.4, 'knot': 2}) DONE\n",
      "minirocket, BeetleFly, (time_warp, {'sigma': 0.4, 'knot': 2}) DONE\n",
      "minirocket, PhalangesOutlinesCorrect, (time_warp, {'sigma': 0.4, 'knot': 2}) DONE\n",
      "minirocket, FiftyWords, (time_warp, {'sigma': 0.4, 'knot': 2}) DONE\n",
      "minirocket, ShapesAll, (time_warp, {'sigma': 0.4, 'knot': 2}) DONE\n",
      "minirocket, MoteStrain, (time_warp, {'sigma': 0.4, 'knot': 2}) DONE\n",
      "minirocket, CinCECGTorso, (time_warp, {'sigma': 0.4, 'knot': 2}) DONE\n",
      "minirocket, Ham, (time_warp, {'sigma': 0.4, 'knot': 2}) DONE\n",
      "minirocket, OliveOil, (time_warp, {'sigma': 0.4, 'knot': 2}) DONE\n",
      "minirocket, ScreenType, (time_warp, {'sigma': 0.4, 'knot': 4}) DONE\n",
      "minirocket, ECG5000, (time_warp, {'sigma': 0.4, 'knot': 4}) DONE\n",
      "minirocket, BeetleFly, (time_warp, {'sigma': 0.4, 'knot': 4}) DONE\n",
      "minirocket, PhalangesOutlinesCorrect, (time_warp, {'sigma': 0.4, 'knot': 4}) DONE\n",
      "minirocket, FiftyWords, (time_warp, {'sigma': 0.4, 'knot': 4}) DONE\n",
      "minirocket, ShapesAll, (time_warp, {'sigma': 0.4, 'knot': 4}) DONE\n",
      "minirocket, MoteStrain, (time_warp, {'sigma': 0.4, 'knot': 4}) DONE\n",
      "minirocket, CinCECGTorso, (time_warp, {'sigma': 0.4, 'knot': 4}) DONE\n",
      "minirocket, Ham, (time_warp, {'sigma': 0.4, 'knot': 4}) DONE\n",
      "minirocket, OliveOil, (time_warp, {'sigma': 0.4, 'knot': 4}) DONE\n",
      "minirocket, ScreenType, (time_warp, {'sigma': 0.4, 'knot': 6}) DONE\n",
      "minirocket, ECG5000, (time_warp, {'sigma': 0.4, 'knot': 6}) DONE\n",
      "minirocket, BeetleFly, (time_warp, {'sigma': 0.4, 'knot': 6}) DONE\n",
      "minirocket, PhalangesOutlinesCorrect, (time_warp, {'sigma': 0.4, 'knot': 6}) DONE\n",
      "minirocket, FiftyWords, (time_warp, {'sigma': 0.4, 'knot': 6}) DONE\n",
      "minirocket, ShapesAll, (time_warp, {'sigma': 0.4, 'knot': 6}) DONE\n",
      "minirocket, MoteStrain, (time_warp, {'sigma': 0.4, 'knot': 6}) DONE\n",
      "minirocket, CinCECGTorso, (time_warp, {'sigma': 0.4, 'knot': 6}) DONE\n",
      "minirocket, Ham, (time_warp, {'sigma': 0.4, 'knot': 6}) DONE\n",
      "minirocket, OliveOil, (time_warp, {'sigma': 0.4, 'knot': 6}) DONE\n",
      "minirocket, ScreenType, (time_warp, {'sigma': 0.4, 'knot': 8}) DONE\n",
      "minirocket, ECG5000, (time_warp, {'sigma': 0.4, 'knot': 8}) DONE\n",
      "minirocket, BeetleFly, (time_warp, {'sigma': 0.4, 'knot': 8}) DONE\n",
      "minirocket, PhalangesOutlinesCorrect, (time_warp, {'sigma': 0.4, 'knot': 8}) DONE\n",
      "minirocket, FiftyWords, (time_warp, {'sigma': 0.4, 'knot': 8}) DONE\n",
      "minirocket, ShapesAll, (time_warp, {'sigma': 0.4, 'knot': 8}) DONE\n",
      "minirocket, MoteStrain, (time_warp, {'sigma': 0.4, 'knot': 8}) DONE\n",
      "minirocket, CinCECGTorso, (time_warp, {'sigma': 0.4, 'knot': 8}) DONE\n",
      "minirocket, Ham, (time_warp, {'sigma': 0.4, 'knot': 8}) DONE\n",
      "minirocket, OliveOil, (time_warp, {'sigma': 0.4, 'knot': 8}) DONE\n",
      "minirocket, ScreenType, (time_warp, {'sigma': 0.4, 'knot': 10}) DONE\n",
      "minirocket, ECG5000, (time_warp, {'sigma': 0.4, 'knot': 10}) DONE\n",
      "minirocket, BeetleFly, (time_warp, {'sigma': 0.4, 'knot': 10}) DONE\n",
      "minirocket, PhalangesOutlinesCorrect, (time_warp, {'sigma': 0.4, 'knot': 10}) DONE\n",
      "minirocket, FiftyWords, (time_warp, {'sigma': 0.4, 'knot': 10}) DONE\n",
      "minirocket, ShapesAll, (time_warp, {'sigma': 0.4, 'knot': 10}) DONE\n",
      "minirocket, MoteStrain, (time_warp, {'sigma': 0.4, 'knot': 10}) DONE\n",
      "minirocket, CinCECGTorso, (time_warp, {'sigma': 0.4, 'knot': 10}) DONE\n",
      "minirocket, Ham, (time_warp, {'sigma': 0.4, 'knot': 10}) DONE\n",
      "minirocket, OliveOil, (time_warp, {'sigma': 0.4, 'knot': 10}) DONE\n",
      "minirocket, ScreenType, (time_warp, {'sigma': 0.6, 'knot': 2}) DONE\n",
      "minirocket, ECG5000, (time_warp, {'sigma': 0.6, 'knot': 2}) DONE\n",
      "minirocket, BeetleFly, (time_warp, {'sigma': 0.6, 'knot': 2}) DONE\n",
      "minirocket, PhalangesOutlinesCorrect, (time_warp, {'sigma': 0.6, 'knot': 2}) DONE\n",
      "minirocket, FiftyWords, (time_warp, {'sigma': 0.6, 'knot': 2}) DONE\n",
      "minirocket, ShapesAll, (time_warp, {'sigma': 0.6, 'knot': 2}) DONE\n",
      "minirocket, MoteStrain, (time_warp, {'sigma': 0.6, 'knot': 2}) DONE\n",
      "minirocket, CinCECGTorso, (time_warp, {'sigma': 0.6, 'knot': 2}) DONE\n",
      "minirocket, Ham, (time_warp, {'sigma': 0.6, 'knot': 2}) DONE\n",
      "minirocket, OliveOil, (time_warp, {'sigma': 0.6, 'knot': 2}) DONE\n",
      "minirocket, ScreenType, (time_warp, {'sigma': 0.6, 'knot': 4}) DONE\n",
      "minirocket, ECG5000, (time_warp, {'sigma': 0.6, 'knot': 4}) DONE\n",
      "minirocket, BeetleFly, (time_warp, {'sigma': 0.6, 'knot': 4}) DONE\n",
      "minirocket, PhalangesOutlinesCorrect, (time_warp, {'sigma': 0.6, 'knot': 4}) DONE\n",
      "minirocket, FiftyWords, (time_warp, {'sigma': 0.6, 'knot': 4}) DONE\n",
      "minirocket, ShapesAll, (time_warp, {'sigma': 0.6, 'knot': 4}) DONE\n",
      "minirocket, MoteStrain, (time_warp, {'sigma': 0.6, 'knot': 4}) DONE\n",
      "minirocket, CinCECGTorso, (time_warp, {'sigma': 0.6, 'knot': 4}) DONE\n",
      "minirocket, Ham, (time_warp, {'sigma': 0.6, 'knot': 4}) DONE\n",
      "minirocket, OliveOil, (time_warp, {'sigma': 0.6, 'knot': 4}) DONE\n",
      "minirocket, ScreenType, (time_warp, {'sigma': 0.6, 'knot': 6}) DONE\n",
      "minirocket, ECG5000, (time_warp, {'sigma': 0.6, 'knot': 6}) DONE\n",
      "minirocket, BeetleFly, (time_warp, {'sigma': 0.6, 'knot': 6}) DONE\n",
      "minirocket, PhalangesOutlinesCorrect, (time_warp, {'sigma': 0.6, 'knot': 6}) DONE\n",
      "minirocket, FiftyWords, (time_warp, {'sigma': 0.6, 'knot': 6}) DONE\n",
      "minirocket, ShapesAll, (time_warp, {'sigma': 0.6, 'knot': 6}) DONE\n",
      "minirocket, MoteStrain, (time_warp, {'sigma': 0.6, 'knot': 6}) DONE\n",
      "minirocket, CinCECGTorso, (time_warp, {'sigma': 0.6, 'knot': 6}) DONE\n",
      "minirocket, Ham, (time_warp, {'sigma': 0.6, 'knot': 6}) DONE\n",
      "minirocket, OliveOil, (time_warp, {'sigma': 0.6, 'knot': 6}) DONE\n",
      "minirocket, ScreenType, (time_warp, {'sigma': 0.6, 'knot': 8}) DONE\n",
      "minirocket, ECG5000, (time_warp, {'sigma': 0.6, 'knot': 8}) DONE\n",
      "minirocket, BeetleFly, (time_warp, {'sigma': 0.6, 'knot': 8}) DONE\n",
      "minirocket, PhalangesOutlinesCorrect, (time_warp, {'sigma': 0.6, 'knot': 8}) DONE\n",
      "minirocket, FiftyWords, (time_warp, {'sigma': 0.6, 'knot': 8}) DONE\n",
      "minirocket, ShapesAll, (time_warp, {'sigma': 0.6, 'knot': 8}) DONE\n",
      "minirocket, MoteStrain, (time_warp, {'sigma': 0.6, 'knot': 8}) DONE\n",
      "minirocket, CinCECGTorso, (time_warp, {'sigma': 0.6, 'knot': 8}) DONE\n",
      "minirocket, Ham, (time_warp, {'sigma': 0.6, 'knot': 8}) DONE\n",
      "minirocket, OliveOil, (time_warp, {'sigma': 0.6, 'knot': 8}) DONE\n",
      "minirocket, ScreenType, (time_warp, {'sigma': 0.6, 'knot': 10}) DONE\n",
      "minirocket, ECG5000, (time_warp, {'sigma': 0.6, 'knot': 10}) DONE\n",
      "minirocket, BeetleFly, (time_warp, {'sigma': 0.6, 'knot': 10}) DONE\n",
      "minirocket, PhalangesOutlinesCorrect, (time_warp, {'sigma': 0.6, 'knot': 10}) DONE\n",
      "minirocket, FiftyWords, (time_warp, {'sigma': 0.6, 'knot': 10}) DONE\n",
      "minirocket, ShapesAll, (time_warp, {'sigma': 0.6, 'knot': 10}) DONE\n",
      "minirocket, MoteStrain, (time_warp, {'sigma': 0.6, 'knot': 10}) DONE\n",
      "minirocket, CinCECGTorso, (time_warp, {'sigma': 0.6, 'knot': 10}) DONE\n",
      "minirocket, Ham, (time_warp, {'sigma': 0.6, 'knot': 10}) DONE\n",
      "minirocket, OliveOil, (time_warp, {'sigma': 0.6, 'knot': 10}) DONE\n",
      "minirocket, ScreenType, (time_warp, {'sigma': 0.8, 'knot': 2}) DONE\n",
      "minirocket, ECG5000, (time_warp, {'sigma': 0.8, 'knot': 2}) DONE\n",
      "minirocket, BeetleFly, (time_warp, {'sigma': 0.8, 'knot': 2}) DONE\n",
      "minirocket, PhalangesOutlinesCorrect, (time_warp, {'sigma': 0.8, 'knot': 2}) DONE\n",
      "minirocket, FiftyWords, (time_warp, {'sigma': 0.8, 'knot': 2}) DONE\n",
      "minirocket, ShapesAll, (time_warp, {'sigma': 0.8, 'knot': 2}) DONE\n",
      "minirocket, MoteStrain, (time_warp, {'sigma': 0.8, 'knot': 2}) DONE\n",
      "minirocket, CinCECGTorso, (time_warp, {'sigma': 0.8, 'knot': 2}) DONE\n",
      "minirocket, Ham, (time_warp, {'sigma': 0.8, 'knot': 2}) DONE\n",
      "minirocket, OliveOil, (time_warp, {'sigma': 0.8, 'knot': 2}) DONE\n",
      "minirocket, ScreenType, (time_warp, {'sigma': 0.8, 'knot': 4}) DONE\n",
      "minirocket, ECG5000, (time_warp, {'sigma': 0.8, 'knot': 4}) DONE\n",
      "minirocket, BeetleFly, (time_warp, {'sigma': 0.8, 'knot': 4}) DONE\n",
      "minirocket, PhalangesOutlinesCorrect, (time_warp, {'sigma': 0.8, 'knot': 4}) DONE\n",
      "minirocket, FiftyWords, (time_warp, {'sigma': 0.8, 'knot': 4}) DONE\n",
      "minirocket, ShapesAll, (time_warp, {'sigma': 0.8, 'knot': 4}) DONE\n",
      "minirocket, MoteStrain, (time_warp, {'sigma': 0.8, 'knot': 4}) DONE\n",
      "minirocket, CinCECGTorso, (time_warp, {'sigma': 0.8, 'knot': 4}) DONE\n",
      "minirocket, Ham, (time_warp, {'sigma': 0.8, 'knot': 4}) DONE\n",
      "minirocket, OliveOil, (time_warp, {'sigma': 0.8, 'knot': 4}) DONE\n",
      "minirocket, ScreenType, (time_warp, {'sigma': 0.8, 'knot': 6}) DONE\n",
      "minirocket, ECG5000, (time_warp, {'sigma': 0.8, 'knot': 6}) DONE\n",
      "minirocket, BeetleFly, (time_warp, {'sigma': 0.8, 'knot': 6}) DONE\n",
      "minirocket, PhalangesOutlinesCorrect, (time_warp, {'sigma': 0.8, 'knot': 6}) DONE\n",
      "minirocket, FiftyWords, (time_warp, {'sigma': 0.8, 'knot': 6}) DONE\n",
      "minirocket, ShapesAll, (time_warp, {'sigma': 0.8, 'knot': 6}) DONE\n",
      "minirocket, MoteStrain, (time_warp, {'sigma': 0.8, 'knot': 6}) DONE\n",
      "minirocket, CinCECGTorso, (time_warp, {'sigma': 0.8, 'knot': 6}) DONE\n",
      "minirocket, Ham, (time_warp, {'sigma': 0.8, 'knot': 6}) DONE\n",
      "minirocket, OliveOil, (time_warp, {'sigma': 0.8, 'knot': 6}) DONE\n",
      "minirocket, ScreenType, (time_warp, {'sigma': 0.8, 'knot': 8}) DONE\n",
      "minirocket, ECG5000, (time_warp, {'sigma': 0.8, 'knot': 8}) DONE\n",
      "minirocket, BeetleFly, (time_warp, {'sigma': 0.8, 'knot': 8}) DONE\n",
      "minirocket, PhalangesOutlinesCorrect, (time_warp, {'sigma': 0.8, 'knot': 8}) DONE\n",
      "minirocket, FiftyWords, (time_warp, {'sigma': 0.8, 'knot': 8}) DONE\n",
      "minirocket, ShapesAll, (time_warp, {'sigma': 0.8, 'knot': 8}) DONE\n",
      "minirocket, MoteStrain, (time_warp, {'sigma': 0.8, 'knot': 8}) DONE\n",
      "minirocket, CinCECGTorso, (time_warp, {'sigma': 0.8, 'knot': 8}) DONE\n",
      "minirocket, Ham, (time_warp, {'sigma': 0.8, 'knot': 8}) DONE\n",
      "minirocket, OliveOil, (time_warp, {'sigma': 0.8, 'knot': 8}) DONE\n",
      "minirocket, ScreenType, (time_warp, {'sigma': 0.8, 'knot': 10}) DONE\n",
      "minirocket, ECG5000, (time_warp, {'sigma': 0.8, 'knot': 10}) DONE\n",
      "minirocket, BeetleFly, (time_warp, {'sigma': 0.8, 'knot': 10}) DONE\n",
      "minirocket, PhalangesOutlinesCorrect, (time_warp, {'sigma': 0.8, 'knot': 10}) DONE\n",
      "minirocket, FiftyWords, (time_warp, {'sigma': 0.8, 'knot': 10}) DONE\n",
      "minirocket, ShapesAll, (time_warp, {'sigma': 0.8, 'knot': 10}) DONE\n",
      "minirocket, MoteStrain, (time_warp, {'sigma': 0.8, 'knot': 10}) DONE\n",
      "minirocket, CinCECGTorso, (time_warp, {'sigma': 0.8, 'knot': 10}) DONE\n",
      "minirocket, Ham, (time_warp, {'sigma': 0.8, 'knot': 10}) DONE\n",
      "minirocket, OliveOil, (time_warp, {'sigma': 0.8, 'knot': 10}) DONE\n",
      "minirocket, ScreenType, (time_warp, {'sigma': 1, 'knot': 2}) DONE\n",
      "minirocket, ECG5000, (time_warp, {'sigma': 1, 'knot': 2}) DONE\n",
      "minirocket, BeetleFly, (time_warp, {'sigma': 1, 'knot': 2}) DONE\n",
      "minirocket, PhalangesOutlinesCorrect, (time_warp, {'sigma': 1, 'knot': 2}) DONE\n",
      "minirocket, FiftyWords, (time_warp, {'sigma': 1, 'knot': 2}) DONE\n",
      "minirocket, ShapesAll, (time_warp, {'sigma': 1, 'knot': 2}) DONE\n",
      "minirocket, MoteStrain, (time_warp, {'sigma': 1, 'knot': 2}) DONE\n",
      "minirocket, CinCECGTorso, (time_warp, {'sigma': 1, 'knot': 2}) DONE\n",
      "minirocket, Ham, (time_warp, {'sigma': 1, 'knot': 2}) DONE\n",
      "minirocket, OliveOil, (time_warp, {'sigma': 1, 'knot': 2}) DONE\n",
      "minirocket, ScreenType, (time_warp, {'sigma': 1, 'knot': 4}) DONE\n",
      "minirocket, ECG5000, (time_warp, {'sigma': 1, 'knot': 4}) DONE\n",
      "minirocket, BeetleFly, (time_warp, {'sigma': 1, 'knot': 4}) DONE\n",
      "minirocket, PhalangesOutlinesCorrect, (time_warp, {'sigma': 1, 'knot': 4}) DONE\n",
      "minirocket, FiftyWords, (time_warp, {'sigma': 1, 'knot': 4}) DONE\n",
      "minirocket, ShapesAll, (time_warp, {'sigma': 1, 'knot': 4}) DONE\n",
      "minirocket, MoteStrain, (time_warp, {'sigma': 1, 'knot': 4}) DONE\n",
      "minirocket, CinCECGTorso, (time_warp, {'sigma': 1, 'knot': 4}) DONE\n",
      "minirocket, Ham, (time_warp, {'sigma': 1, 'knot': 4}) DONE\n",
      "minirocket, OliveOil, (time_warp, {'sigma': 1, 'knot': 4}) DONE\n",
      "minirocket, ScreenType, (time_warp, {'sigma': 1, 'knot': 6}) DONE\n",
      "minirocket, ECG5000, (time_warp, {'sigma': 1, 'knot': 6}) DONE\n",
      "minirocket, BeetleFly, (time_warp, {'sigma': 1, 'knot': 6}) DONE\n",
      "minirocket, PhalangesOutlinesCorrect, (time_warp, {'sigma': 1, 'knot': 6}) DONE\n",
      "minirocket, FiftyWords, (time_warp, {'sigma': 1, 'knot': 6}) DONE\n",
      "minirocket, ShapesAll, (time_warp, {'sigma': 1, 'knot': 6}) DONE\n",
      "minirocket, MoteStrain, (time_warp, {'sigma': 1, 'knot': 6}) DONE\n",
      "minirocket, CinCECGTorso, (time_warp, {'sigma': 1, 'knot': 6}) DONE\n",
      "minirocket, Ham, (time_warp, {'sigma': 1, 'knot': 6}) DONE\n",
      "minirocket, OliveOil, (time_warp, {'sigma': 1, 'knot': 6}) DONE\n",
      "minirocket, ScreenType, (time_warp, {'sigma': 1, 'knot': 8}) DONE\n",
      "minirocket, ECG5000, (time_warp, {'sigma': 1, 'knot': 8}) DONE\n",
      "minirocket, BeetleFly, (time_warp, {'sigma': 1, 'knot': 8}) DONE\n",
      "minirocket, PhalangesOutlinesCorrect, (time_warp, {'sigma': 1, 'knot': 8}) DONE\n",
      "minirocket, FiftyWords, (time_warp, {'sigma': 1, 'knot': 8}) DONE\n",
      "minirocket, ShapesAll, (time_warp, {'sigma': 1, 'knot': 8}) DONE\n",
      "minirocket, MoteStrain, (time_warp, {'sigma': 1, 'knot': 8}) DONE\n",
      "minirocket, CinCECGTorso, (time_warp, {'sigma': 1, 'knot': 8}) DONE\n",
      "minirocket, Ham, (time_warp, {'sigma': 1, 'knot': 8}) DONE\n",
      "minirocket, OliveOil, (time_warp, {'sigma': 1, 'knot': 8}) DONE\n",
      "minirocket, ScreenType, (time_warp, {'sigma': 1, 'knot': 10}) DONE\n",
      "minirocket, ECG5000, (time_warp, {'sigma': 1, 'knot': 10}) DONE\n",
      "minirocket, BeetleFly, (time_warp, {'sigma': 1, 'knot': 10}) DONE\n",
      "minirocket, PhalangesOutlinesCorrect, (time_warp, {'sigma': 1, 'knot': 10}) DONE\n",
      "minirocket, FiftyWords, (time_warp, {'sigma': 1, 'knot': 10}) DONE\n",
      "minirocket, ShapesAll, (time_warp, {'sigma': 1, 'knot': 10}) DONE\n",
      "minirocket, MoteStrain, (time_warp, {'sigma': 1, 'knot': 10}) DONE\n",
      "minirocket, CinCECGTorso, (time_warp, {'sigma': 1, 'knot': 10}) DONE\n",
      "minirocket, Ham, (time_warp, {'sigma': 1, 'knot': 10}) DONE\n",
      "minirocket, OliveOil, (time_warp, {'sigma': 1, 'knot': 10}) DONE\n"
     ]
    }
   ],
   "source": [
    "# AUGMENTED\n",
    "import warnings\n",
    "warnings.filterwarnings(\"ignore\")\n",
    "\n",
    "from time_series_augmentation.utils.augmentation import time_warp\n",
    "\n",
    "variation = 'minirocket'\n",
    "classifer = {'name':variation, 'function': RocketClassifier(rocket_transform=variation)}\n",
    "datasets = read_UCR_dataset_name()\n",
    "augment = {'name':'time_warp', 'function': time_warp, 'params': {'sigma':[0.2, 0.4, 0.6, 0.8, 1], \"knot\":[2, 4, 6, 8, 10]}}\n",
    "experiment_set = ExperimentSet(classifer, datasets, augment)\n",
    "experiment_set.run_all()"
   ]
  },
  {
   "cell_type": "code",
   "execution_count": 5,
   "metadata": {},
   "outputs": [
    {
     "ename": "TypeError",
     "evalue": "'float' object is not subscriptable",
     "output_type": "error",
     "traceback": [
      "\u001b[0;31m---------------------------------------------------------------------------\u001b[0m",
      "\u001b[0;31mTypeError\u001b[0m                                 Traceback (most recent call last)",
      "\u001b[1;32m/Users/Pongpanod.Sa/Desktop/cu/thesis/coding/pun_master_thesis/test_Training_interface.ipynb Cell 27\u001b[0m in \u001b[0;36m<cell line: 12>\u001b[0;34m()\u001b[0m\n\u001b[1;32m     <a href='vscode-notebook-cell:/Users/Pongpanod.Sa/Desktop/cu/thesis/coding/pun_master_thesis/test_Training_interface.ipynb#X35sZmlsZQ%3D%3D?line=9'>10</a>\u001b[0m augment \u001b[39m=\u001b[39m {\u001b[39m'\u001b[39m\u001b[39mname\u001b[39m\u001b[39m'\u001b[39m:\u001b[39m'\u001b[39m\u001b[39mwindow_slice\u001b[39m\u001b[39m'\u001b[39m, \u001b[39m'\u001b[39m\u001b[39mfunction\u001b[39m\u001b[39m'\u001b[39m: window_slice, \u001b[39m'\u001b[39m\u001b[39mparams\u001b[39m\u001b[39m'\u001b[39m: {\u001b[39m'\u001b[39m\u001b[39mreduce_ratio\u001b[39m\u001b[39m'\u001b[39m:[\u001b[39m0.1\u001b[39m, \u001b[39m0.2\u001b[39m, \u001b[39m0.3\u001b[39m, \u001b[39m0.4\u001b[39m, \u001b[39m0.5\u001b[39m, \u001b[39m0.6\u001b[39m, \u001b[39m0.7\u001b[39m, \u001b[39m0.8\u001b[39m, \u001b[39m0.9\u001b[39m, \u001b[39m1.0\u001b[39m, \u001b[39m1.1\u001b[39m, \u001b[39m1.2\u001b[39m, \u001b[39m1.3\u001b[39m, \u001b[39m1.4\u001b[39m, \u001b[39m1.5\u001b[39m, \u001b[39m1.6\u001b[39m, \u001b[39m1.7\u001b[39m, \u001b[39m1.8\u001b[39m, \u001b[39m1.9\u001b[39m, \u001b[39m2.0\u001b[39m]}}\n\u001b[1;32m     <a href='vscode-notebook-cell:/Users/Pongpanod.Sa/Desktop/cu/thesis/coding/pun_master_thesis/test_Training_interface.ipynb#X35sZmlsZQ%3D%3D?line=10'>11</a>\u001b[0m experiment_set \u001b[39m=\u001b[39m ExperimentSet(classifer, datasets, augment)\n\u001b[0;32m---> <a href='vscode-notebook-cell:/Users/Pongpanod.Sa/Desktop/cu/thesis/coding/pun_master_thesis/test_Training_interface.ipynb#X35sZmlsZQ%3D%3D?line=11'>12</a>\u001b[0m experiment_set\u001b[39m.\u001b[39;49mrun_all()\n",
      "File \u001b[0;32m~/Desktop/cu/thesis/coding/pun_master_thesis/experiment/ExperimentSet.py:11\u001b[0m, in \u001b[0;36mExperimentSet.run_all\u001b[0;34m(self)\u001b[0m\n\u001b[1;32m     10\u001b[0m \u001b[39mdef\u001b[39;00m \u001b[39mrun_all\u001b[39m(\u001b[39mself\u001b[39m):\n\u001b[0;32m---> 11\u001b[0m     params_grid \u001b[39m=\u001b[39m get_successors(\u001b[39mself\u001b[39;49m\u001b[39m.\u001b[39;49maugments[\u001b[39m'\u001b[39;49m\u001b[39mparams\u001b[39;49m\u001b[39m'\u001b[39;49m])\n\u001b[1;32m     12\u001b[0m     \u001b[39mfor\u001b[39;00m param \u001b[39min\u001b[39;00m params_grid:\n\u001b[1;32m     13\u001b[0m         result \u001b[39m=\u001b[39m {}\n",
      "File \u001b[0;32m~/Desktop/cu/thesis/coding/pun_master_thesis/utils/hyperparameter.py:37\u001b[0m, in \u001b[0;36mget_successors\u001b[0;34m(all_state)\u001b[0m\n\u001b[1;32m     34\u001b[0m \u001b[39mfor\u001b[39;00m key \u001b[39min\u001b[39;00m all_state:\n\u001b[1;32m     35\u001b[0m     possible_state\u001b[39m.\u001b[39mappend(all_state[key])\n\u001b[0;32m---> 37\u001b[0m \u001b[39mreturn\u001b[39;00m generate_all_combination(possible_state, \u001b[39mlist\u001b[39;49m(all_state\u001b[39m.\u001b[39;49mkeys()))\n",
      "File \u001b[0;32m~/Desktop/cu/thesis/coding/pun_master_thesis/utils/hyperparameter.py:20\u001b[0m, in \u001b[0;36mgenerate_all_combination\u001b[0;34m(item, key)\u001b[0m\n\u001b[1;32m     18\u001b[0m result \u001b[39m=\u001b[39m []\n\u001b[1;32m     19\u001b[0m \u001b[39mfor\u001b[39;00m i \u001b[39min\u001b[39;00m current:\n\u001b[0;32m---> 20\u001b[0m     result\u001b[39m.\u001b[39mappend(flatten(i))\n\u001b[1;32m     22\u001b[0m final_result \u001b[39m=\u001b[39m []\n\u001b[1;32m     23\u001b[0m \u001b[39mfor\u001b[39;00m item \u001b[39min\u001b[39;00m result:\n",
      "File \u001b[0;32m~/Desktop/cu/thesis/coding/pun_master_thesis/utils/hyperparameter.py:9\u001b[0m, in \u001b[0;36mgenerate_all_combination.<locals>.flatten\u001b[0;34m(nestedList)\u001b[0m\n\u001b[1;32m      7\u001b[0m \u001b[39mif\u001b[39;00m \u001b[39mnot\u001b[39;00m (\u001b[39mbool\u001b[39m(nestedList)):\n\u001b[1;32m      8\u001b[0m     \u001b[39mreturn\u001b[39;00m nestedList\n\u001b[0;32m----> 9\u001b[0m \u001b[39mif\u001b[39;00m \u001b[39misinstance\u001b[39m(nestedList[\u001b[39m0\u001b[39;49m], \u001b[39mtuple\u001b[39m):\n\u001b[1;32m     10\u001b[0m     \u001b[39mreturn\u001b[39;00m flatten(\u001b[39m*\u001b[39mnestedList[:\u001b[39m1\u001b[39m]) \u001b[39m+\u001b[39m flatten(nestedList[\u001b[39m1\u001b[39m:])\n\u001b[1;32m     12\u001b[0m \u001b[39mreturn\u001b[39;00m nestedList[:\u001b[39m1\u001b[39m] \u001b[39m+\u001b[39m flatten(nestedList[\u001b[39m1\u001b[39m:])\n",
      "\u001b[0;31mTypeError\u001b[0m: 'float' object is not subscriptable"
     ]
    }
   ],
   "source": [
    "# AUGMENTED\n",
    "import warnings\n",
    "warnings.filterwarnings(\"ignore\")\n",
    "\n",
    "from time_series_augmentation.utils.augmentation import window_slice\n",
    "\n",
    "variation = 'minirocket'\n",
    "classifer = {'name':variation, 'function': RocketClassifier(rocket_transform=variation)}\n",
    "datasets = read_UCR_dataset_name()\n",
    "augment = {'name':'window_slice', 'function': window_slice, 'params': {'reduce_ratio':[0.1, 0.2, 0.3, 0.4, 0.5, 0.6, 0.7, 0.8, 0.9, 1.0, 1.1, 1.2, 1.3, 1.4, 1.5, 1.6, 1.7, 1.8, 1.9, 2.0]}}\n",
    "experiment_set = ExperimentSet(classifer, datasets, augment)\n",
    "experiment_set.run_all()"
   ]
  },
  {
   "cell_type": "code",
   "execution_count": 13,
   "metadata": {},
   "outputs": [],
   "source": [
    "from experiment.Experiment import Experiment\n",
    "from utils.hyperparameter import get_successors\n",
    "\n",
    "class ExperimentSet:\n",
    "    def __init__(self, classier, datasets=None, augments=None, verbose=0):\n",
    "        self.classier = classier\n",
    "        self.datasets = datasets\n",
    "        self.augments = augments\n",
    "\n",
    "    def run_all(self):\n",
    "        if len(list(self.augments['params'])) == 1:\n",
    "            key = list(self.augments['params'])[0]\n",
    "            params = self.augments['params'][key]\n",
    "            params_grid = []\n",
    "            for i in params:\n",
    "                for dataset in self.datasets:\n",
    "                    augment = {'name': self.augments['name'], 'function': self.augments['function'], 'params': {key: i}}\n",
    "                    experiments = Experiment(self.classier, dataset, augment)\n",
    "                    experiments.run_all()\n",
    "        else:\n",
    "            params_grid = get_successors(self.augments['params'])\n",
    "            for param in params_grid:\n",
    "                result = {}\n",
    "                for d in param:\n",
    "                    result.update(d)\n",
    "\n",
    "                for dataset in self.datasets:\n",
    "                    augment = {'name': self.augments['name'], 'function': self.augments['function'], 'params': result}\n",
    "                    experiments = Experiment(self.classier, dataset, augment)\n",
    "                    experiments.run_all()\n"
   ]
  },
  {
   "cell_type": "code",
   "execution_count": 14,
   "metadata": {},
   "outputs": [
    {
     "name": "stdout",
     "output_type": "stream",
     "text": [
      "[{'reduce_ratio': 0.1}, {'reduce_ratio': 0.2}, {'reduce_ratio': 0.3}, {'reduce_ratio': 0.4}, {'reduce_ratio': 0.5}, {'reduce_ratio': 0.6}, {'reduce_ratio': 0.7}, {'reduce_ratio': 0.8}, {'reduce_ratio': 0.9}, {'reduce_ratio': 1.0}, {'reduce_ratio': 1.1}, {'reduce_ratio': 1.2}, {'reduce_ratio': 1.3}, {'reduce_ratio': 1.4}, {'reduce_ratio': 1.5}, {'reduce_ratio': 1.6}, {'reduce_ratio': 1.7}, {'reduce_ratio': 1.8}, {'reduce_ratio': 1.9}, {'reduce_ratio': 2.0}]\n"
     ]
    }
   ],
   "source": [
    "# AUGMENTED\n",
    "import warnings\n",
    "warnings.filterwarnings(\"ignore\")\n",
    "\n",
    "from time_series_augmentation.utils.augmentation import window_slice\n",
    "\n",
    "variation = 'minirocket'\n",
    "classifer = {'name':variation, 'function': RocketClassifier(rocket_transform=variation)}\n",
    "datasets = read_UCR_dataset_name()\n",
    "augment = {'name':'window_slice', 'function': window_slice, 'params': {'reduce_ratio':[0.1, 0.2, 0.3, 0.4, 0.5, 0.6, 0.7, 0.8, 0.9, 1.0, 1.1, 1.2, 1.3, 1.4, 1.5, 1.6, 1.7, 1.8, 1.9, 2.0]}}\n",
    "experiment_set = ExperimentSet(classifer, datasets, augment)\n",
    "experiment_set.run_all()"
   ]
  },
  {
   "cell_type": "code",
   "execution_count": null,
   "metadata": {},
   "outputs": [],
   "source": []
  }
 ],
 "metadata": {
  "kernelspec": {
   "display_name": "thesis3.10",
   "language": "python",
   "name": "python3"
  },
  "language_info": {
   "codemirror_mode": {
    "name": "ipython",
    "version": 3
   },
   "file_extension": ".py",
   "mimetype": "text/x-python",
   "name": "python",
   "nbconvert_exporter": "python",
   "pygments_lexer": "ipython3",
   "version": "3.10.4"
  },
  "orig_nbformat": 4,
  "vscode": {
   "interpreter": {
    "hash": "ffd4f62c38baa1ece4ec6c2534f3f788090e745d10d9094b86edc39a20217e26"
   }
  }
 },
 "nbformat": 4,
 "nbformat_minor": 2
}
