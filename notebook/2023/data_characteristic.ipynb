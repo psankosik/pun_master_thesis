{
 "cells": [
  {
   "cell_type": "code",
   "execution_count": 8,
   "metadata": {},
   "outputs": [],
   "source": [
    "import matplotlib.pyplot as plt"
   ]
  },
  {
   "cell_type": "code",
   "execution_count": 14,
   "metadata": {},
   "outputs": [],
   "source": [
    "from statsmodels.tsa.stattools import adfuller\n",
    "from sktime.datasets import load_UCR_UEA_dataset\n",
    "\n",
    "def load_UCR_dataset(dataset: str = None):\n",
    "    x_train, y_train = load_UCR_UEA_dataset(\n",
    "        dataset, split=\"train\", return_X_y=True, return_type=\"numpy2D\"\n",
    "    )\n",
    "    x_test, y_test = load_UCR_UEA_dataset(\n",
    "        dataset, split=\"test\", return_X_y=True, return_type=\"numpy2D\"\n",
    "    )\n",
    "    # TODO: Data Inconsistency with interface\n",
    "    return {\n",
    "        \"name\": dataset,\n",
    "        \"x_train\": x_train,\n",
    "        \"y_train\": y_train,\n",
    "        \"x_test\": x_test,\n",
    "        \"y_test\": y_test,\n",
    "    }\n",
    "\n",
    "def adf_test(series):\n",
    "    result = adfuller(series)\n",
    "    return {\n",
    "        \"is_stationary\": True if result[1] <= 0.5 else False, \n",
    "        \"adf\": result[0],\n",
    "        \"p-value\": result[1]\n",
    "    }\n",
    "\n",
    "# X = adiac['x_train'][0]\n",
    "# result = adfuller(X)\n",
    "# print('ADF Statistic: %f' % result[0])\n",
    "# print('p-value: %f' % result[1])\n",
    "# print('Critical Values:')\n",
    "# for key, value in result[4].items():\n",
    "#  print('\\t%s: %.3f' % (key, value))"
   ]
  },
  {
   "cell_type": "code",
   "execution_count": 34,
   "metadata": {},
   "outputs": [],
   "source": [
    "from utils.read import read_UCR_dataset_name\n",
    "\n",
    "# All BakeOff\n",
    "datasets_name = read_UCR_dataset_name(mySelection=0)"
   ]
  },
  {
   "cell_type": "code",
   "execution_count": 37,
   "metadata": {},
   "outputs": [
    {
     "name": "stderr",
     "output_type": "stream",
     "text": [
      "/Users/pongpanod.san.adm/miniconda3/envs/thesis3.10/lib/python3.10/site-packages/statsmodels/regression/linear_model.py:940: RuntimeWarning: divide by zero encountered in log\n",
      "  llf = -nobs2*np.log(2*np.pi) - nobs2*np.log(ssr / nobs) - nobs2\n",
      "/Users/pongpanod.san.adm/miniconda3/envs/thesis3.10/lib/python3.10/site-packages/statsmodels/regression/linear_model.py:940: RuntimeWarning: divide by zero encountered in log\n",
      "  llf = -nobs2*np.log(2*np.pi) - nobs2*np.log(ssr / nobs) - nobs2\n",
      "/Users/pongpanod.san.adm/miniconda3/envs/thesis3.10/lib/python3.10/site-packages/statsmodels/regression/linear_model.py:940: RuntimeWarning: divide by zero encountered in log\n",
      "  llf = -nobs2*np.log(2*np.pi) - nobs2*np.log(ssr / nobs) - nobs2\n",
      "/Users/pongpanod.san.adm/miniconda3/envs/thesis3.10/lib/python3.10/site-packages/statsmodels/regression/linear_model.py:940: RuntimeWarning: divide by zero encountered in log\n",
      "  llf = -nobs2*np.log(2*np.pi) - nobs2*np.log(ssr / nobs) - nobs2\n",
      "/Users/pongpanod.san.adm/miniconda3/envs/thesis3.10/lib/python3.10/site-packages/statsmodels/regression/linear_model.py:940: RuntimeWarning: divide by zero encountered in log\n",
      "  llf = -nobs2*np.log(2*np.pi) - nobs2*np.log(ssr / nobs) - nobs2\n",
      "/Users/pongpanod.san.adm/miniconda3/envs/thesis3.10/lib/python3.10/site-packages/statsmodels/regression/linear_model.py:940: RuntimeWarning: divide by zero encountered in log\n",
      "  llf = -nobs2*np.log(2*np.pi) - nobs2*np.log(ssr / nobs) - nobs2\n",
      "/Users/pongpanod.san.adm/miniconda3/envs/thesis3.10/lib/python3.10/site-packages/statsmodels/regression/linear_model.py:940: RuntimeWarning: divide by zero encountered in log\n",
      "  llf = -nobs2*np.log(2*np.pi) - nobs2*np.log(ssr / nobs) - nobs2\n",
      "/Users/pongpanod.san.adm/miniconda3/envs/thesis3.10/lib/python3.10/site-packages/statsmodels/regression/linear_model.py:940: RuntimeWarning: divide by zero encountered in log\n",
      "  llf = -nobs2*np.log(2*np.pi) - nobs2*np.log(ssr / nobs) - nobs2\n",
      "/Users/pongpanod.san.adm/miniconda3/envs/thesis3.10/lib/python3.10/site-packages/statsmodels/regression/linear_model.py:940: RuntimeWarning: divide by zero encountered in log\n",
      "  llf = -nobs2*np.log(2*np.pi) - nobs2*np.log(ssr / nobs) - nobs2\n",
      "/Users/pongpanod.san.adm/miniconda3/envs/thesis3.10/lib/python3.10/site-packages/statsmodels/regression/linear_model.py:940: RuntimeWarning: divide by zero encountered in log\n",
      "  llf = -nobs2*np.log(2*np.pi) - nobs2*np.log(ssr / nobs) - nobs2\n",
      "/Users/pongpanod.san.adm/miniconda3/envs/thesis3.10/lib/python3.10/site-packages/statsmodels/regression/linear_model.py:940: RuntimeWarning: divide by zero encountered in log\n",
      "  llf = -nobs2*np.log(2*np.pi) - nobs2*np.log(ssr / nobs) - nobs2\n",
      "/Users/pongpanod.san.adm/miniconda3/envs/thesis3.10/lib/python3.10/site-packages/statsmodels/regression/linear_model.py:940: RuntimeWarning: divide by zero encountered in log\n",
      "  llf = -nobs2*np.log(2*np.pi) - nobs2*np.log(ssr / nobs) - nobs2\n",
      "/Users/pongpanod.san.adm/miniconda3/envs/thesis3.10/lib/python3.10/site-packages/statsmodels/regression/linear_model.py:940: RuntimeWarning: divide by zero encountered in log\n",
      "  llf = -nobs2*np.log(2*np.pi) - nobs2*np.log(ssr / nobs) - nobs2\n",
      "/Users/pongpanod.san.adm/miniconda3/envs/thesis3.10/lib/python3.10/site-packages/statsmodels/regression/linear_model.py:940: RuntimeWarning: divide by zero encountered in log\n",
      "  llf = -nobs2*np.log(2*np.pi) - nobs2*np.log(ssr / nobs) - nobs2\n",
      "/Users/pongpanod.san.adm/miniconda3/envs/thesis3.10/lib/python3.10/site-packages/statsmodels/regression/linear_model.py:940: RuntimeWarning: divide by zero encountered in log\n",
      "  llf = -nobs2*np.log(2*np.pi) - nobs2*np.log(ssr / nobs) - nobs2\n",
      "/Users/pongpanod.san.adm/miniconda3/envs/thesis3.10/lib/python3.10/site-packages/statsmodels/regression/linear_model.py:940: RuntimeWarning: divide by zero encountered in log\n",
      "  llf = -nobs2*np.log(2*np.pi) - nobs2*np.log(ssr / nobs) - nobs2\n",
      "/Users/pongpanod.san.adm/miniconda3/envs/thesis3.10/lib/python3.10/site-packages/statsmodels/regression/linear_model.py:940: RuntimeWarning: divide by zero encountered in log\n",
      "  llf = -nobs2*np.log(2*np.pi) - nobs2*np.log(ssr / nobs) - nobs2\n",
      "/Users/pongpanod.san.adm/miniconda3/envs/thesis3.10/lib/python3.10/site-packages/statsmodels/regression/linear_model.py:940: RuntimeWarning: divide by zero encountered in log\n",
      "  llf = -nobs2*np.log(2*np.pi) - nobs2*np.log(ssr / nobs) - nobs2\n",
      "/Users/pongpanod.san.adm/miniconda3/envs/thesis3.10/lib/python3.10/site-packages/statsmodels/regression/linear_model.py:940: RuntimeWarning: divide by zero encountered in log\n",
      "  llf = -nobs2*np.log(2*np.pi) - nobs2*np.log(ssr / nobs) - nobs2\n"
     ]
    }
   ],
   "source": [
    "import csv\n",
    "\n",
    "with open('results.csv', 'w', newline='') as csvfile:\n",
    "    writer = csv.writer(csvfile)\n",
    "    \n",
    "    # Write the header to the CSV file\n",
    "    writer.writerow(['Dataset', 'True', 'False'])\n",
    "    \n",
    "    for dataset in datasets_name:\n",
    "        data = load_UCR_dataset(dataset)\n",
    "        \n",
    "        true = 0\n",
    "        false = 0\n",
    "\n",
    "        for i in data['x_train']:\n",
    "            result = adf_test(i)['is_stationary']\n",
    "\n",
    "            if result == True:\n",
    "                true += 1\n",
    "            else:\n",
    "                false += 1\n",
    "        \n",
    "        # Write the results to the CSV file\n",
    "        writer.writerow([dataset, true, false])"
   ]
  },
  {
   "cell_type": "code",
   "execution_count": 19,
   "metadata": {},
   "outputs": [],
   "source": [
    "true = 0\n",
    "false = 0\n",
    "\n",
    "for i in adiac['x_train']:\n",
    "    result = adf_test(i)['is_stationary']\n",
    "\n",
    "    if result == True:\n",
    "        true += 1\n",
    "    else:\n",
    "        false += 1"
   ]
  },
  {
   "cell_type": "code",
   "execution_count": 20,
   "metadata": {},
   "outputs": [
    {
     "name": "stdout",
     "output_type": "stream",
     "text": [
      "390\n",
      "0\n"
     ]
    }
   ],
   "source": [
    "print(true)\n",
    "print(false)"
   ]
  },
  {
   "cell_type": "code",
   "execution_count": 38,
   "metadata": {},
   "outputs": [],
   "source": [
    "def check_condition(true_no: int, false_no: int):\n",
    "    total = true_no + false_no\n",
    "    upper_bound = total/2 + total*0.05\n",
    "    lower_bound = total/2 - total*0.05\n",
    "\n",
    "    if false_no==0:\n",
    "        return 5 # Stationary\n",
    "    elif true_no > upper_bound:\n",
    "        return 4 # Most stationary\n",
    "    elif upper_bound > true_no and true_no > lower_bound:\n",
    "        return 3 # Half Half\n",
    "    elif true_no < lower_bound and true_no != 0:\n",
    "        return 2 # Most non-stationary\n",
    "    else:\n",
    "        return 1 # Non-stationary"
   ]
  },
  {
   "cell_type": "code",
   "execution_count": 59,
   "metadata": {},
   "outputs": [],
   "source": [
    "# writing to file\n",
    "file1 = open('result_test.csv', 'w')\n",
    " \n",
    "\n",
    "file = open('results.csv', 'r')\n",
    "Lines = file.readlines()\n",
    " \n",
    "count = 0\n",
    "line_to_write = []\n",
    "# Strips the newline character\n",
    "for line in Lines[1:]:\n",
    "    data = line.split(',')\n",
    "    dataset_name = data[0]\n",
    "    true_no = int(data[1])\n",
    "    false_no = int(data[2].replace('\\n',''))\n",
    "    result = check_condition(true_no, false_no)\n",
    "\n",
    "    file1.write(f'{dataset_name}, {true_no}, {false_no}, {result}')\n",
    "    file1.write('\\n')\n",
    "    # count += 1\n",
    "    # print(\"Line{}: {}\".format(count, line.strip()))\n"
   ]
  },
  {
   "cell_type": "code",
   "execution_count": null,
   "metadata": {},
   "outputs": [],
   "source": []
  }
 ],
 "metadata": {
  "kernelspec": {
   "display_name": "thesis3.10",
   "language": "python",
   "name": "python3"
  },
  "language_info": {
   "codemirror_mode": {
    "name": "ipython",
    "version": 3
   },
   "file_extension": ".py",
   "mimetype": "text/x-python",
   "name": "python",
   "nbconvert_exporter": "python",
   "pygments_lexer": "ipython3",
   "version": "3.10.10"
  },
  "orig_nbformat": 4
 },
 "nbformat": 4,
 "nbformat_minor": 2
}
