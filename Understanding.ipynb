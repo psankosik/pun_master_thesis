{
 "cells": [
  {
   "cell_type": "code",
   "execution_count": 1,
   "metadata": {},
   "outputs": [
    {
     "name": "stderr",
     "output_type": "stream",
     "text": [
      "OMP: Info #276: omp_set_nested routine deprecated, please use omp_set_max_active_levels instead.\n"
     ]
    }
   ],
   "source": [
    "from experiment.Experiment import Experiment\n",
    "from experiment.ExperimentSet import ExperimentSet\n",
    "from utils.read import read_UCR_dataset_name\n",
    "\n",
    "from sktime.classification.kernel_based import RocketClassifier"
   ]
  },
  {
   "cell_type": "code",
   "execution_count": 49,
   "metadata": {},
   "outputs": [],
   "source": [
    "from sktime.datasets import load_UCR_UEA_dataset\n",
    "from sklearn.metrics import accuracy_score, precision_recall_fscore_support\n",
    "\n",
    "from utils.mlflow_saving import mlflow_save_result\n",
    "from utils.read import reshape_new_to_old_format, reshape_old_to_new_format\n",
    "\n",
    "\n",
    "# TODO: Verbose\n",
    "# TODO: Feature unit-test:\n",
    "# TODO: Describe Function: Get Experiment class information\n",
    "class Experiment:\n",
    "    def __init__(\n",
    "        self,\n",
    "        clasifier=None,\n",
    "        dataset=None,\n",
    "        augment={\"name\": str(None), \"params\": str(None)},\n",
    "        verbose=0,\n",
    "    ):\n",
    "        self.clasifier = clasifier\n",
    "        self.dataset = dataset\n",
    "        self.augment = augment\n",
    "        self.y_pred = None\n",
    "        self.evaluation_metric = {}\n",
    "        self.verbose = verbose\n",
    "\n",
    "    def load_UCR_dataset(self, dataset: str = None):\n",
    "        dataset_name = self.dataset if self.dataset else dataset\n",
    "        x_train, y_train = load_UCR_UEA_dataset(\n",
    "            dataset_name, split=\"train\", return_X_y=True, return_type=\"numpy2D\"\n",
    "        )\n",
    "        x_test, y_test = load_UCR_UEA_dataset(\n",
    "            dataset_name, split=\"test\", return_X_y=True, return_type=\"numpy2D\"\n",
    "        )\n",
    "        # TODO: Data Inconsistency with interface\n",
    "        self.dataset = {\n",
    "            \"name\": dataset_name,\n",
    "            \"x_train\": x_train,\n",
    "            \"y_train\": y_train,\n",
    "            \"x_test\": x_test,\n",
    "            \"y_test\": y_test,\n",
    "        }\n",
    "\n",
    "    def augmentation(self):\n",
    "        if self.augment[\"name\"] == \"None\":\n",
    "            return\n",
    "        x_train = reshape_new_to_old_format(self.dataset[\"x_train\"])\n",
    "        x_test = reshape_new_to_old_format(self.dataset[\"x_test\"])\n",
    "\n",
    "        if self.augment['enter_label']:\n",
    "            x_train_aug = self.augment[\"function\"](x_train, self.dataset[\"y_train\"], **self.augment[\"params\"])\n",
    "            x_test_aug = self.augment[\"function\"](x_test, self.dataset[\"y_test\"], **self.augment[\"params\"])\n",
    "\n",
    "        else:\n",
    "            x_train_aug = self.augment[\"function\"](x_train, **self.augment[\"params\"])\n",
    "            x_test_aug = self.augment[\"function\"](x_test, **self.augment[\"params\"])\n",
    "\n",
    "        self.dataset[\"x_train_aug\"] = reshape_old_to_new_format(x_train_aug)\n",
    "        self.dataset[\"x_test\"] = reshape_old_to_new_format(x_test_aug)\n",
    "\n",
    "    def train_classier(self):\n",
    "        self.clasifier[\"function\"].fit(self.dataset[\"x_train\"], self.dataset[\"y_train\"])\n",
    "\n",
    "    def predict(self):\n",
    "        self.y_pred = self.clasifier[\"function\"].predict(self.dataset[\"x_test\"])\n",
    "\n",
    "    def evaluate(self):\n",
    "        self.evaluation_metric[\"accuracy\"] = accuracy_score(\n",
    "            self.dataset[\"y_test\"], self.y_pred\n",
    "        )\n",
    "        (\n",
    "            self.evaluation_metric[\"precision\"],\n",
    "            self.evaluation_metric[\"recall\"],\n",
    "            self.evaluation_metric[\"fbeta\"],\n",
    "            self.evaluation_metric[\"support\"],\n",
    "        ) = precision_recall_fscore_support(self.dataset[\"y_test\"], self.y_pred)\n",
    "\n",
    "    def save_result(self):\n",
    "        mlflow_save_result(\n",
    "            {\"accuracy\": self.evaluation_metric[\"accuracy\"]},\n",
    "            {\"model\": self.clasifier[\"name\"]},\n",
    "            {\n",
    "                \"dataset\": self.dataset[\"name\"],\n",
    "                \"datapoint_shape\": str(self.dataset[\"x_train\"].shape)\n",
    "                + \"x\"\n",
    "                + str(self.dataset[\"x_test\"].shape),\n",
    "                \"number_of_class\": len(set(list(self.dataset[\"y_test\"]))),\n",
    "            },\n",
    "            {\n",
    "                \"augmentation\": {\n",
    "                    \"name\": self.augment[\"name\"],\n",
    "                    \"params\": self.augment[\"params\"],\n",
    "                },\n",
    "            },\n",
    "            # [{\"data\": self.augment[\"params\"], \"file_name\": \"dict/augmentation.json\"}],\n",
    "        )\n",
    "        print(f'{self.clasifier[\"name\"]}, {self.dataset[\"name\"]}, ({self.augment[\"name\"]}, {self.augment[\"params\"]}) DONE')\n",
    "\n",
    "    def run_all(self):\n",
    "        self.load_UCR_dataset()\n",
    "        self.augmentation()\n",
    "        self.train_classier()\n",
    "        self.predict()\n",
    "        self.evaluate()\n",
    "        # self.save_result()"
   ]
  },
  {
   "attachments": {},
   "cell_type": "markdown",
   "metadata": {},
   "source": [
    "#### Window Slice"
   ]
  },
  {
   "cell_type": "code",
   "execution_count": 70,
   "metadata": {},
   "outputs": [],
   "source": [
    "from time_series_augmentation.utils.pun_augmentation import window_slice\n",
    "\n",
    "# AUGMENTED\n",
    "variation = 'minirocket'\n",
    "classifer = {'name':variation, 'function': RocketClassifier(rocket_transform=variation)}\n",
    "dataset = 'ECG5000'\n",
    "augment = {'name':window_slice.__name__, 'function': window_slice, 'params': {'reduce_ratio': 0.5}, 'enter_label': False}"
   ]
  },
  {
   "cell_type": "code",
   "execution_count": 71,
   "metadata": {},
   "outputs": [],
   "source": [
    "training = Experiment(classifer, dataset, augment)\n",
    "training.load_UCR_dataset()\n",
    "training.augmentation()"
   ]
  },
  {
   "cell_type": "code",
   "execution_count": 72,
   "metadata": {},
   "outputs": [
    {
     "data": {
      "text/plain": [
       "[<matplotlib.lines.Line2D at 0x291054730>]"
      ]
     },
     "execution_count": 72,
     "metadata": {},
     "output_type": "execute_result"
    },
    {
     "data": {
      "image/png": "[encoded data removed]",
      "text/plain": [
       "<Figure size 432x288 with 1 Axes>"
      ]
     },
     "metadata": {
      "needs_background": "light"
     },
     "output_type": "display_data"
    }
   ],
   "source": [
    "import matplotlib.pyplot as plt\n",
    "plt.plot(training.dataset[\"x_train\"][10])\n",
    "plt.plot(training.dataset[\"x_train_aug\"][10][0])"
   ]
  },
  {
   "attachments": {},
   "cell_type": "markdown",
   "metadata": {},
   "source": [
    "#### Window Warp"
   ]
  },
  {
   "cell_type": "code",
   "execution_count": 92,
   "metadata": {},
   "outputs": [],
   "source": [
    "from time_series_augmentation.utils.pun_augmentation import window_warp\n",
    "\n",
    "# AUGMENTED\n",
    "variation = 'minirocket'\n",
    "classifer = {'name':variation, 'function': RocketClassifier(rocket_transform=variation)}\n",
    "dataset = 'ECG5000'\n",
    "augment = {'name':window_warp.__name__, 'function': window_warp, 'params': {'window_ratio': 0.5}, 'enter_label': False}"
   ]
  },
  {
   "cell_type": "code",
   "execution_count": 93,
   "metadata": {},
   "outputs": [],
   "source": [
    "training = Experiment(classifer, dataset, augment)\n",
    "training.load_UCR_dataset()\n",
    "training.augmentation()"
   ]
  },
  {
   "cell_type": "code",
   "execution_count": 94,
   "metadata": {},
   "outputs": [
    {
     "data": {
      "text/plain": [
       "[<matplotlib.lines.Line2D at 0x292fb5060>]"
      ]
     },
     "execution_count": 94,
     "metadata": {},
     "output_type": "execute_result"
    },
    {
     "data": {
      "image/png": "[encoded data removed]",
      "text/plain": [
       "<Figure size 432x288 with 1 Axes>"
      ]
     },
     "metadata": {
      "needs_background": "light"
     },
     "output_type": "display_data"
    }
   ],
   "source": [
    "import matplotlib.pyplot as plt\n",
    "plt.plot(training.dataset[\"x_train\"][10])\n",
    "plt.plot(training.dataset[\"x_train_aug\"][10][0])"
   ]
  }
 ],
 "metadata": {
  "kernelspec": {
   "display_name": "thesis3.10",
   "language": "python",
   "name": "python3"
  },
  "language_info": {
   "codemirror_mode": {
    "name": "ipython",
    "version": 3
   },
   "file_extension": ".py",
   "mimetype": "text/x-python",
   "name": "python",
   "nbconvert_exporter": "python",
   "pygments_lexer": "ipython3",
   "version": "3.10.4"
  },
  "orig_nbformat": 4,
  "vscode": {
   "interpreter": {
    "hash": "ffd4f62c38baa1ece4ec6c2534f3f788090e745d10d9094b86edc39a20217e26"
   }
  }
 },
 "nbformat": 4,
 "nbformat_minor": 2
}
