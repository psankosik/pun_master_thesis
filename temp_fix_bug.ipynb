{
 "cells": [
  {
   "attachments": {},
   "cell_type": "markdown",
   "metadata": {},
   "source": [
    "# Training Interface"
   ]
  },
  {
   "attachments": {},
   "cell_type": "markdown",
   "metadata": {},
   "source": [
    "## Example"
   ]
  },
  {
   "cell_type": "code",
   "execution_count": 2,
   "metadata": {},
   "outputs": [],
   "source": [
    "from experiment.Experiment import Experiment\n",
    "from experiment.ExperimentSet import ExperimentSet\n",
    "from utils.read import read_UCR_dataset_name\n",
    "\n",
    "from sktime.classification.kernel_based import RocketClassifier"
   ]
  },
  {
   "attachments": {},
   "cell_type": "markdown",
   "metadata": {},
   "source": [
    "### Experiment Class"
   ]
  },
  {
   "cell_type": "code",
   "execution_count": 3,
   "metadata": {},
   "outputs": [
    {
     "name": "stderr",
     "output_type": "stream",
     "text": [
      "OMP: Info #276: omp_set_nested routine deprecated, please use omp_set_max_active_levels instead.\n"
     ]
    },
    {
     "ename": "KeyboardInterrupt",
     "evalue": "",
     "output_type": "error",
     "traceback": [
      "\u001b[0;31m---------------------------------------------------------------------------\u001b[0m",
      "\u001b[0;31mKeyboardInterrupt\u001b[0m                         Traceback (most recent call last)",
      "\u001b[1;32m/Users/pongpanod.san.adm/Desktop/Pongpanod.san/chula/pun_master_thesis/temp_fix_bug.ipynb Cell 5\u001b[0m line \u001b[0;36m6\n\u001b[1;32m      <a href='vscode-notebook-cell:/Users/pongpanod.san.adm/Desktop/Pongpanod.san/chula/pun_master_thesis/temp_fix_bug.ipynb#W4sZmlsZQ%3D%3D?line=3'>4</a>\u001b[0m dataset \u001b[39m=\u001b[39m \u001b[39m'\u001b[39m\u001b[39mAdiac\u001b[39m\u001b[39m'\u001b[39m\n\u001b[1;32m      <a href='vscode-notebook-cell:/Users/pongpanod.san.adm/Desktop/Pongpanod.san/chula/pun_master_thesis/temp_fix_bug.ipynb#W4sZmlsZQ%3D%3D?line=4'>5</a>\u001b[0m training_one \u001b[39m=\u001b[39m Experiment(clasifier\u001b[39m=\u001b[39mclasifier, dataset\u001b[39m=\u001b[39mdataset, save_result\u001b[39m=\u001b[39m\u001b[39mFalse\u001b[39;00m)\n\u001b[0;32m----> <a href='vscode-notebook-cell:/Users/pongpanod.san.adm/Desktop/Pongpanod.san/chula/pun_master_thesis/temp_fix_bug.ipynb#W4sZmlsZQ%3D%3D?line=5'>6</a>\u001b[0m training_one\u001b[39m.\u001b[39;49mrun_all()\n",
      "File \u001b[0;32m~/Desktop/Pongpanod.san/chula/pun_master_thesis/experiment/Experiment.py:316\u001b[0m, in \u001b[0;36mExperiment.run_all\u001b[0;34m(self)\u001b[0m\n\u001b[1;32m    314\u001b[0m \u001b[39m# self.compile_preprocess()\u001b[39;00m\n\u001b[1;32m    315\u001b[0m \u001b[39mself\u001b[39m\u001b[39m.\u001b[39mapply_augmentation()\n\u001b[0;32m--> 316\u001b[0m \u001b[39mself\u001b[39;49m\u001b[39m.\u001b[39;49mtrain_classier()\n\u001b[1;32m    317\u001b[0m \u001b[39mself\u001b[39m\u001b[39m.\u001b[39mpredict()\n\u001b[1;32m    318\u001b[0m \u001b[39mself\u001b[39m\u001b[39m.\u001b[39mevaluate()\n",
      "File \u001b[0;32m~/Desktop/Pongpanod.san/chula/pun_master_thesis/experiment/Experiment.py:215\u001b[0m, in \u001b[0;36mExperiment.train_classier\u001b[0;34m(self)\u001b[0m\n\u001b[1;32m    211\u001b[0m     \u001b[39mself\u001b[39m\u001b[39m.\u001b[39mclasifier[\u001b[39m\"\u001b[39m\u001b[39mfunction\u001b[39m\u001b[39m\"\u001b[39m]\u001b[39m.\u001b[39mfit(\n\u001b[1;32m    212\u001b[0m         \u001b[39mself\u001b[39m\u001b[39m.\u001b[39mdataset[\u001b[39m\"\u001b[39m\u001b[39mx_train\u001b[39m\u001b[39m\"\u001b[39m], \u001b[39mself\u001b[39m\u001b[39m.\u001b[39mdataset[\u001b[39m\"\u001b[39m\u001b[39my_train\u001b[39m\u001b[39m\"\u001b[39m]\n\u001b[1;32m    213\u001b[0m     )\n\u001b[1;32m    214\u001b[0m \u001b[39melse\u001b[39;00m:\n\u001b[0;32m--> 215\u001b[0m     \u001b[39mself\u001b[39;49m\u001b[39m.\u001b[39;49mclasifier[\u001b[39m\"\u001b[39;49m\u001b[39mfunction\u001b[39;49m\u001b[39m\"\u001b[39;49m]\u001b[39m.\u001b[39;49mfit(\n\u001b[1;32m    216\u001b[0m         \u001b[39mself\u001b[39;49m\u001b[39m.\u001b[39;49mdataset[\u001b[39m\"\u001b[39;49m\u001b[39mx_train_aug\u001b[39;49m\u001b[39m\"\u001b[39;49m], \u001b[39mself\u001b[39;49m\u001b[39m.\u001b[39;49mdataset[\u001b[39m\"\u001b[39;49m\u001b[39my_train\u001b[39;49m\u001b[39m\"\u001b[39;49m]\n\u001b[1;32m    217\u001b[0m     )\n\u001b[1;32m    219\u001b[0m \u001b[39mself\u001b[39m\u001b[39m.\u001b[39mtime_classification[\u001b[39m\"\u001b[39m\u001b[39mcpu\u001b[39m\u001b[39m\"\u001b[39m] \u001b[39m=\u001b[39m \u001b[39mround\u001b[39m(process_time() \u001b[39m-\u001b[39m cpu_start, \u001b[39m4\u001b[39m)\n\u001b[1;32m    220\u001b[0m \u001b[39mself\u001b[39m\u001b[39m.\u001b[39mtime_classification[\u001b[39m\"\u001b[39m\u001b[39mwall\u001b[39m\u001b[39m\"\u001b[39m] \u001b[39m=\u001b[39m \u001b[39mround\u001b[39m(time\u001b[39m.\u001b[39mtime() \u001b[39m-\u001b[39m wall_start, \u001b[39m4\u001b[39m)\n",
      "File \u001b[0;32m~/miniconda3/envs/thesis3.10/lib/python3.10/site-packages/sktime/classification/base.py:204\u001b[0m, in \u001b[0;36mBaseClassifier.fit\u001b[0;34m(self, X, y)\u001b[0m\n\u001b[1;32m    199\u001b[0m         \u001b[39mraise\u001b[39;00m \u001b[39mAttributeError\u001b[39;00m(\n\u001b[1;32m    200\u001b[0m             \u001b[39m\"\u001b[39m\u001b[39mself.n_jobs must be set if capability:multithreading is True\u001b[39m\u001b[39m\"\u001b[39m\n\u001b[1;32m    201\u001b[0m         )\n\u001b[1;32m    203\u001b[0m \u001b[39m# pass coerced and checked data to inner _fit\u001b[39;00m\n\u001b[0;32m--> 204\u001b[0m \u001b[39mself\u001b[39;49m\u001b[39m.\u001b[39;49m_fit(X, y)\n\u001b[1;32m    205\u001b[0m \u001b[39mself\u001b[39m\u001b[39m.\u001b[39mfit_time_ \u001b[39m=\u001b[39m \u001b[39mint\u001b[39m(\u001b[39mround\u001b[39m(time\u001b[39m.\u001b[39mtime() \u001b[39m*\u001b[39m \u001b[39m1000\u001b[39m)) \u001b[39m-\u001b[39m start\n\u001b[1;32m    207\u001b[0m \u001b[39m# this should happen last\u001b[39;00m\n",
      "File \u001b[0;32m~/miniconda3/envs/thesis3.10/lib/python3.10/site-packages/sktime/classification/_delegate.py:66\u001b[0m, in \u001b[0;36m_DelegatedClassifier._fit\u001b[0;34m(self, X, y)\u001b[0m\n\u001b[1;32m     42\u001b[0m \u001b[39m\"\"\"Fit time series classifier to training data.\u001b[39;00m\n\u001b[1;32m     43\u001b[0m \n\u001b[1;32m     44\u001b[0m \u001b[39mprivate _fit containing the core logic, called from fit\u001b[39;00m\n\u001b[0;32m   (...)\u001b[0m\n\u001b[1;32m     63\u001b[0m \u001b[39mself : Reference to self.\u001b[39;00m\n\u001b[1;32m     64\u001b[0m \u001b[39m\"\"\"\u001b[39;00m\n\u001b[1;32m     65\u001b[0m estimator \u001b[39m=\u001b[39m \u001b[39mself\u001b[39m\u001b[39m.\u001b[39m_get_delegate()\n\u001b[0;32m---> 66\u001b[0m estimator\u001b[39m.\u001b[39;49mfit(X\u001b[39m=\u001b[39;49mX, y\u001b[39m=\u001b[39;49my)\n\u001b[1;32m     67\u001b[0m \u001b[39mreturn\u001b[39;00m \u001b[39mself\u001b[39m\n",
      "File \u001b[0;32m~/miniconda3/envs/thesis3.10/lib/python3.10/site-packages/sktime/classification/base.py:204\u001b[0m, in \u001b[0;36mBaseClassifier.fit\u001b[0;34m(self, X, y)\u001b[0m\n\u001b[1;32m    199\u001b[0m         \u001b[39mraise\u001b[39;00m \u001b[39mAttributeError\u001b[39;00m(\n\u001b[1;32m    200\u001b[0m             \u001b[39m\"\u001b[39m\u001b[39mself.n_jobs must be set if capability:multithreading is True\u001b[39m\u001b[39m\"\u001b[39m\n\u001b[1;32m    201\u001b[0m         )\n\u001b[1;32m    203\u001b[0m \u001b[39m# pass coerced and checked data to inner _fit\u001b[39;00m\n\u001b[0;32m--> 204\u001b[0m \u001b[39mself\u001b[39;49m\u001b[39m.\u001b[39;49m_fit(X, y)\n\u001b[1;32m    205\u001b[0m \u001b[39mself\u001b[39m\u001b[39m.\u001b[39mfit_time_ \u001b[39m=\u001b[39m \u001b[39mint\u001b[39m(\u001b[39mround\u001b[39m(time\u001b[39m.\u001b[39mtime() \u001b[39m*\u001b[39m \u001b[39m1000\u001b[39m)) \u001b[39m-\u001b[39m start\n\u001b[1;32m    207\u001b[0m \u001b[39m# this should happen last\u001b[39;00m\n",
      "File \u001b[0;32m~/miniconda3/envs/thesis3.10/lib/python3.10/site-packages/sktime/classification/compose/_pipeline.py:525\u001b[0m, in \u001b[0;36mSklearnClassifierPipeline._fit\u001b[0;34m(self, X, y)\u001b[0m\n\u001b[1;32m    507\u001b[0m \u001b[39mdef\u001b[39;00m \u001b[39m_fit\u001b[39m(\u001b[39mself\u001b[39m, X, y):\n\u001b[1;32m    508\u001b[0m     \u001b[39m\"\"\"Fit time series classifier to training data.\u001b[39;00m\n\u001b[1;32m    509\u001b[0m \n\u001b[1;32m    510\u001b[0m \u001b[39m    core logic\u001b[39;00m\n\u001b[0;32m   (...)\u001b[0m\n\u001b[1;32m    523\u001b[0m \u001b[39m    creates fitted model (attributes ending in \"_\")\u001b[39;00m\n\u001b[1;32m    524\u001b[0m \u001b[39m    \"\"\"\u001b[39;00m\n\u001b[0;32m--> 525\u001b[0m     Xt \u001b[39m=\u001b[39m \u001b[39mself\u001b[39;49m\u001b[39m.\u001b[39;49mtransformers_\u001b[39m.\u001b[39;49mfit_transform(X\u001b[39m=\u001b[39;49mX, y\u001b[39m=\u001b[39;49my)\n\u001b[1;32m    526\u001b[0m     Xt_sklearn \u001b[39m=\u001b[39m \u001b[39mself\u001b[39m\u001b[39m.\u001b[39m_convert_X_to_sklearn(Xt)\n\u001b[1;32m    527\u001b[0m     \u001b[39mself\u001b[39m\u001b[39m.\u001b[39mclassifier_\u001b[39m.\u001b[39mfit(Xt_sklearn, y)\n",
      "File \u001b[0;32m~/miniconda3/envs/thesis3.10/lib/python3.10/site-packages/sktime/transformations/base.py:620\u001b[0m, in \u001b[0;36mBaseTransformer.fit_transform\u001b[0;34m(self, X, y)\u001b[0m\n\u001b[1;32m    555\u001b[0m \u001b[39m\"\"\"Fit to data, then transform it.\u001b[39;00m\n\u001b[1;32m    556\u001b[0m \n\u001b[1;32m    557\u001b[0m \u001b[39mFits the transformer to X and y and returns a transformed version of X.\u001b[39;00m\n\u001b[0;32m   (...)\u001b[0m\n\u001b[1;32m    616\u001b[0m \u001b[39m        Example: i-th instance of the output is the i-th window running over `X`\u001b[39;00m\n\u001b[1;32m    617\u001b[0m \u001b[39m\"\"\"\u001b[39;00m\n\u001b[1;32m    618\u001b[0m \u001b[39m# Non-optimized default implementation; override when a better\u001b[39;00m\n\u001b[1;32m    619\u001b[0m \u001b[39m# method is possible for a given algorithm.\u001b[39;00m\n\u001b[0;32m--> 620\u001b[0m \u001b[39mreturn\u001b[39;00m \u001b[39mself\u001b[39;49m\u001b[39m.\u001b[39;49mfit(X, y)\u001b[39m.\u001b[39mtransform(X, y)\n",
      "File \u001b[0;32m~/miniconda3/envs/thesis3.10/lib/python3.10/site-packages/sktime/transformations/base.py:439\u001b[0m, in \u001b[0;36mBaseTransformer.fit\u001b[0;34m(self, X, y)\u001b[0m\n\u001b[1;32m    437\u001b[0m \u001b[39m# we call the ordinary _fit if no looping/vectorization needed\u001b[39;00m\n\u001b[1;32m    438\u001b[0m \u001b[39mif\u001b[39;00m \u001b[39mnot\u001b[39;00m vectorization_needed:\n\u001b[0;32m--> 439\u001b[0m     \u001b[39mself\u001b[39;49m\u001b[39m.\u001b[39;49m_fit(X\u001b[39m=\u001b[39;49mX_inner, y\u001b[39m=\u001b[39;49my_inner)\n\u001b[1;32m    440\u001b[0m \u001b[39melse\u001b[39;00m:\n\u001b[1;32m    441\u001b[0m     \u001b[39m# otherwise we call the vectorized version of fit\u001b[39;00m\n\u001b[1;32m    442\u001b[0m     \u001b[39mself\u001b[39m\u001b[39m.\u001b[39m_vectorize(\u001b[39m\"\u001b[39m\u001b[39mfit\u001b[39m\u001b[39m\"\u001b[39m, X\u001b[39m=\u001b[39mX_inner, y\u001b[39m=\u001b[39my_inner)\n",
      "File \u001b[0;32m~/miniconda3/envs/thesis3.10/lib/python3.10/site-packages/sktime/transformations/compose/_pipeline.py:280\u001b[0m, in \u001b[0;36mTransformerPipeline._fit\u001b[0;34m(self, X, y)\u001b[0m\n\u001b[1;32m    278\u001b[0m Xt \u001b[39m=\u001b[39m X\n\u001b[1;32m    279\u001b[0m \u001b[39mfor\u001b[39;00m _, transformer \u001b[39min\u001b[39;00m \u001b[39mself\u001b[39m\u001b[39m.\u001b[39msteps_:\n\u001b[0;32m--> 280\u001b[0m     Xt \u001b[39m=\u001b[39m transformer\u001b[39m.\u001b[39;49mfit_transform(X\u001b[39m=\u001b[39;49mXt, y\u001b[39m=\u001b[39;49my)\n\u001b[1;32m    282\u001b[0m \u001b[39mreturn\u001b[39;00m \u001b[39mself\u001b[39m\n",
      "File \u001b[0;32m~/miniconda3/envs/thesis3.10/lib/python3.10/site-packages/sktime/transformations/base.py:620\u001b[0m, in \u001b[0;36mBaseTransformer.fit_transform\u001b[0;34m(self, X, y)\u001b[0m\n\u001b[1;32m    555\u001b[0m \u001b[39m\"\"\"Fit to data, then transform it.\u001b[39;00m\n\u001b[1;32m    556\u001b[0m \n\u001b[1;32m    557\u001b[0m \u001b[39mFits the transformer to X and y and returns a transformed version of X.\u001b[39;00m\n\u001b[0;32m   (...)\u001b[0m\n\u001b[1;32m    616\u001b[0m \u001b[39m        Example: i-th instance of the output is the i-th window running over `X`\u001b[39;00m\n\u001b[1;32m    617\u001b[0m \u001b[39m\"\"\"\u001b[39;00m\n\u001b[1;32m    618\u001b[0m \u001b[39m# Non-optimized default implementation; override when a better\u001b[39;00m\n\u001b[1;32m    619\u001b[0m \u001b[39m# method is possible for a given algorithm.\u001b[39;00m\n\u001b[0;32m--> 620\u001b[0m \u001b[39mreturn\u001b[39;00m \u001b[39mself\u001b[39;49m\u001b[39m.\u001b[39;49mfit(X, y)\u001b[39m.\u001b[39;49mtransform(X, y)\n",
      "File \u001b[0;32m~/miniconda3/envs/thesis3.10/lib/python3.10/site-packages/sktime/transformations/base.py:533\u001b[0m, in \u001b[0;36mBaseTransformer.transform\u001b[0;34m(self, X, y)\u001b[0m\n\u001b[1;32m    530\u001b[0m \u001b[39mself\u001b[39m\u001b[39m.\u001b[39mcheck_is_fitted()\n\u001b[1;32m    532\u001b[0m \u001b[39m# input check and conversion for X/y\u001b[39;00m\n\u001b[0;32m--> 533\u001b[0m X_inner, y_inner, metadata \u001b[39m=\u001b[39m \u001b[39mself\u001b[39;49m\u001b[39m.\u001b[39;49m_check_X_y(X\u001b[39m=\u001b[39;49mX, y\u001b[39m=\u001b[39;49my, return_metadata\u001b[39m=\u001b[39;49m\u001b[39mTrue\u001b[39;49;00m)\n\u001b[1;32m    535\u001b[0m \u001b[39mif\u001b[39;00m \u001b[39mnot\u001b[39;00m \u001b[39misinstance\u001b[39m(X_inner, VectorizedDF):\n\u001b[1;32m    536\u001b[0m     Xt \u001b[39m=\u001b[39m \u001b[39mself\u001b[39m\u001b[39m.\u001b[39m_transform(X\u001b[39m=\u001b[39mX_inner, y\u001b[39m=\u001b[39my_inner)\n",
      "File \u001b[0;32m~/miniconda3/envs/thesis3.10/lib/python3.10/site-packages/sktime/transformations/base.py:1026\u001b[0m, in \u001b[0;36mBaseTransformer._check_X_y\u001b[0;34m(self, X, y, return_metadata)\u001b[0m\n\u001b[1;32m   1019\u001b[0m     \u001b[39m# then pass to case 1, which we've reduced to, X now has inner scitype\u001b[39;00m\n\u001b[1;32m   1020\u001b[0m \n\u001b[1;32m   1021\u001b[0m \u001b[39m# case 1. scitype of X is supported internally\u001b[39;00m\n\u001b[1;32m   1022\u001b[0m \u001b[39m# case in [\"case 1: scitype supported\", \"case 2: higher scitype supported\"]\u001b[39;00m\n\u001b[1;32m   1023\u001b[0m \u001b[39m#   and does not require vectorization because of cols (multivariate)\u001b[39;00m\n\u001b[1;32m   1024\u001b[0m \u001b[39mif\u001b[39;00m \u001b[39mnot\u001b[39;00m requires_vectorization:\n\u001b[1;32m   1025\u001b[0m     \u001b[39m# converts X\u001b[39;00m\n\u001b[0;32m-> 1026\u001b[0m     X_inner \u001b[39m=\u001b[39m convert_to(\n\u001b[1;32m   1027\u001b[0m         X,\n\u001b[1;32m   1028\u001b[0m         to_type\u001b[39m=\u001b[39;49mX_inner_mtype,\n\u001b[1;32m   1029\u001b[0m         store\u001b[39m=\u001b[39;49mmetadata[\u001b[39m\"\u001b[39;49m\u001b[39m_converter_store_X\u001b[39;49m\u001b[39m\"\u001b[39;49m],\n\u001b[1;32m   1030\u001b[0m         store_behaviour\u001b[39m=\u001b[39;49m\u001b[39m\"\u001b[39;49m\u001b[39mreset\u001b[39;49m\u001b[39m\"\u001b[39;49m,\n\u001b[1;32m   1031\u001b[0m     )\n\u001b[1;32m   1033\u001b[0m     \u001b[39m# converts y, returns None if y is None\u001b[39;00m\n\u001b[1;32m   1034\u001b[0m     \u001b[39mif\u001b[39;00m y_inner_mtype \u001b[39m!=\u001b[39m [\u001b[39m\"\u001b[39m\u001b[39mNone\u001b[39m\u001b[39m\"\u001b[39m] \u001b[39mand\u001b[39;00m y \u001b[39mis\u001b[39;00m \u001b[39mnot\u001b[39;00m \u001b[39mNone\u001b[39;00m:\n",
      "File \u001b[0;32m~/miniconda3/envs/thesis3.10/lib/python3.10/site-packages/sktime/datatypes/_convert.py:263\u001b[0m, in \u001b[0;36mconvert_to\u001b[0;34m(obj, to_type, as_scitype, store, store_behaviour)\u001b[0m\n\u001b[1;32m    257\u001b[0m             \u001b[39mraise\u001b[39;00m \u001b[39mTypeError\u001b[39;00m(\n\u001b[1;32m    258\u001b[0m                 \u001b[39m\"\u001b[39m\u001b[39mto_type contains no mtype compatible with the scitype of obj,\u001b[39m\u001b[39m\"\u001b[39m\n\u001b[1;32m    259\u001b[0m                 \u001b[39mf\u001b[39m\u001b[39m\"\u001b[39m\u001b[39mwhich is \u001b[39m\u001b[39m{\u001b[39;00mas_scitype\u001b[39m}\u001b[39;00m\u001b[39m\"\u001b[39m\n\u001b[1;32m    260\u001b[0m             )\n\u001b[1;32m    261\u001b[0m         to_type \u001b[39m=\u001b[39m same_scitype_mtypes[\u001b[39m0\u001b[39m]\n\u001b[0;32m--> 263\u001b[0m converted_obj \u001b[39m=\u001b[39m convert(\n\u001b[1;32m    264\u001b[0m     obj\u001b[39m=\u001b[39;49mobj,\n\u001b[1;32m    265\u001b[0m     from_type\u001b[39m=\u001b[39;49mfrom_type,\n\u001b[1;32m    266\u001b[0m     to_type\u001b[39m=\u001b[39;49mto_type,\n\u001b[1;32m    267\u001b[0m     as_scitype\u001b[39m=\u001b[39;49mas_scitype,\n\u001b[1;32m    268\u001b[0m     store\u001b[39m=\u001b[39;49mstore,\n\u001b[1;32m    269\u001b[0m     store_behaviour\u001b[39m=\u001b[39;49mstore_behaviour,\n\u001b[1;32m    270\u001b[0m )\n\u001b[1;32m    272\u001b[0m \u001b[39mreturn\u001b[39;00m converted_obj\n",
      "File \u001b[0;32m~/miniconda3/envs/thesis3.10/lib/python3.10/site-packages/sktime/datatypes/_convert.py:172\u001b[0m, in \u001b[0;36mconvert\u001b[0;34m(obj, from_type, to_type, as_scitype, store, store_behaviour)\u001b[0m\n\u001b[1;32m    167\u001b[0m \u001b[39melse\u001b[39;00m:\n\u001b[1;32m    168\u001b[0m     \u001b[39mraise\u001b[39;00m \u001b[39mRuntimeError\u001b[39;00m(\n\u001b[1;32m    169\u001b[0m         \u001b[39m\"\u001b[39m\u001b[39mbug: unrechable condition error, store_behaviour has unexpected value\u001b[39m\u001b[39m\"\u001b[39m\n\u001b[1;32m    170\u001b[0m     )\n\u001b[0;32m--> 172\u001b[0m converted_obj \u001b[39m=\u001b[39m convert_dict[key](obj, store\u001b[39m=\u001b[39;49mstore)\n\u001b[1;32m    174\u001b[0m \u001b[39mreturn\u001b[39;00m converted_obj\n",
      "File \u001b[0;32m~/miniconda3/envs/thesis3.10/lib/python3.10/site-packages/sktime/datatypes/_series/_convert.py:115\u001b[0m, in \u001b[0;36mconvert_MvS_to_np_as_Series\u001b[0;34m(obj, store)\u001b[0m\n\u001b[1;32m    112\u001b[0m \u001b[39mif\u001b[39;00m \u001b[39mnot\u001b[39;00m \u001b[39misinstance\u001b[39m(obj, pd\u001b[39m.\u001b[39mDataFrame):\n\u001b[1;32m    113\u001b[0m     \u001b[39mraise\u001b[39;00m \u001b[39mTypeError\u001b[39;00m(\u001b[39m\"\u001b[39m\u001b[39minput must be a pd.DataFrame\u001b[39m\u001b[39m\"\u001b[39m)\n\u001b[0;32m--> 115\u001b[0m obj \u001b[39m=\u001b[39m _coerce_df_dtypes(obj)\n\u001b[1;32m    117\u001b[0m \u001b[39mif\u001b[39;00m \u001b[39misinstance\u001b[39m(store, \u001b[39mdict\u001b[39m):\n\u001b[1;32m    118\u001b[0m     store[\u001b[39m\"\u001b[39m\u001b[39mcolumns\u001b[39m\u001b[39m\"\u001b[39m] \u001b[39m=\u001b[39m obj\u001b[39m.\u001b[39mcolumns\n",
      "File \u001b[0;32m~/miniconda3/envs/thesis3.10/lib/python3.10/site-packages/sktime/datatypes/_convert_utils/_coerce.py:35\u001b[0m, in \u001b[0;36m_coerce_df_dtypes\u001b[0;34m(obj)\u001b[0m\n\u001b[1;32m     32\u001b[0m     \u001b[39mreturn\u001b[39;00m obj\n\u001b[1;32m     34\u001b[0m \u001b[39mif\u001b[39;00m \u001b[39misinstance\u001b[39m(obj, pd\u001b[39m.\u001b[39mDataFrame):\n\u001b[0;32m---> 35\u001b[0m     nullable_cols \u001b[39m=\u001b[39m [\n\u001b[1;32m     36\u001b[0m         col \u001b[39mfor\u001b[39;00m col \u001b[39min\u001b[39;00m obj\u001b[39m.\u001b[39mcolumns \u001b[39mif\u001b[39;00m _is_nullable_numeric(obj\u001b[39m.\u001b[39mdtypes[col])\n\u001b[1;32m     37\u001b[0m     ]\n\u001b[1;32m     38\u001b[0m     \u001b[39mif\u001b[39;00m \u001b[39mlen\u001b[39m(nullable_cols) \u001b[39m>\u001b[39m \u001b[39m0\u001b[39m:\n\u001b[1;32m     39\u001b[0m         obj \u001b[39m=\u001b[39m obj\u001b[39m.\u001b[39mastype({col: \u001b[39m\"\u001b[39m\u001b[39mfloat\u001b[39m\u001b[39m\"\u001b[39m \u001b[39mfor\u001b[39;00m col \u001b[39min\u001b[39;00m nullable_cols})\n",
      "File \u001b[0;32m~/miniconda3/envs/thesis3.10/lib/python3.10/site-packages/sktime/datatypes/_convert_utils/_coerce.py:36\u001b[0m, in \u001b[0;36m<listcomp>\u001b[0;34m(.0)\u001b[0m\n\u001b[1;32m     32\u001b[0m     \u001b[39mreturn\u001b[39;00m obj\n\u001b[1;32m     34\u001b[0m \u001b[39mif\u001b[39;00m \u001b[39misinstance\u001b[39m(obj, pd\u001b[39m.\u001b[39mDataFrame):\n\u001b[1;32m     35\u001b[0m     nullable_cols \u001b[39m=\u001b[39m [\n\u001b[0;32m---> 36\u001b[0m         col \u001b[39mfor\u001b[39;00m col \u001b[39min\u001b[39;00m obj\u001b[39m.\u001b[39mcolumns \u001b[39mif\u001b[39;00m _is_nullable_numeric(obj\u001b[39m.\u001b[39;49mdtypes[col])\n\u001b[1;32m     37\u001b[0m     ]\n\u001b[1;32m     38\u001b[0m     \u001b[39mif\u001b[39;00m \u001b[39mlen\u001b[39m(nullable_cols) \u001b[39m>\u001b[39m \u001b[39m0\u001b[39m:\n\u001b[1;32m     39\u001b[0m         obj \u001b[39m=\u001b[39m obj\u001b[39m.\u001b[39mastype({col: \u001b[39m\"\u001b[39m\u001b[39mfloat\u001b[39m\u001b[39m\"\u001b[39m \u001b[39mfor\u001b[39;00m col \u001b[39min\u001b[39;00m nullable_cols})\n",
      "File \u001b[0;32m~/miniconda3/envs/thesis3.10/lib/python3.10/site-packages/sktime/datatypes/_convert_utils/_coerce.py:9\u001b[0m, in \u001b[0;36m_is_nullable_numeric\u001b[0;34m(dtype)\u001b[0m\n\u001b[1;32m      4\u001b[0m __author__ \u001b[39m=\u001b[39m [\u001b[39m\"\u001b[39m\u001b[39mfkiraly\u001b[39m\u001b[39m\"\u001b[39m]\n\u001b[1;32m      6\u001b[0m \u001b[39mimport\u001b[39;00m \u001b[39mpandas\u001b[39;00m \u001b[39mas\u001b[39;00m \u001b[39mpd\u001b[39;00m\n\u001b[0;32m----> 9\u001b[0m \u001b[39mdef\u001b[39;00m \u001b[39m_is_nullable_numeric\u001b[39m(dtype):\n\u001b[1;32m     11\u001b[0m     \u001b[39mreturn\u001b[39;00m dtype \u001b[39min\u001b[39;00m [\u001b[39m\"\u001b[39m\u001b[39mInt64\u001b[39m\u001b[39m\"\u001b[39m, \u001b[39m\"\u001b[39m\u001b[39mFloat64\u001b[39m\u001b[39m\"\u001b[39m, \u001b[39m\"\u001b[39m\u001b[39mboolean\u001b[39m\u001b[39m\"\u001b[39m]\n\u001b[1;32m     14\u001b[0m \u001b[39mdef\u001b[39;00m \u001b[39m_coerce_df_dtypes\u001b[39m(obj):\n",
      "\u001b[0;31mKeyboardInterrupt\u001b[0m: "
     ]
    }
   ],
   "source": [
    "# BASELINE\n",
    "variation = 'minirocket'\n",
    "clasifier = {'name':variation, 'function': RocketClassifier(rocket_transform=variation)}\n",
    "dataset = 'Adiac'\n",
    "training_one = Experiment(clasifier=clasifier, dataset=dataset, save_result=False)\n",
    "training_one.run_all()"
   ]
  },
  {
   "cell_type": "code",
   "execution_count": 3,
   "metadata": {},
   "outputs": [
    {
     "name": "stdout",
     "output_type": "stream",
     "text": [
      "minirocket, Adiac, (jitter, {'sigma': 0.05}) DONE\n"
     ]
    }
   ],
   "source": [
    "# AUGMENTED\n",
    "from time_series_augmentation.utils.augmentation import jitter\n",
    "\n",
    "variation = 'minirocket'\n",
    "classifer = {'name':variation, 'function': RocketClassifier(rocket_transform=variation)}\n",
    "dataset = 'Adiac'\n",
    "augment = {'name':jitter.__name__, 'function': jitter, 'params': {'sigma': 0.05}}\n",
    "training_two = Experiment(clasifier=clasifier, dataset=dataset, augment=augment, save_result=False)\n",
    "training_two.run_all()"
   ]
  },
  {
   "attachments": {},
   "cell_type": "markdown",
   "metadata": {},
   "source": [
    "### Experiment Set"
   ]
  },
  {
   "cell_type": "code",
   "execution_count": 2,
   "metadata": {},
   "outputs": [],
   "source": [
    "# BASELINE\n",
    "variation = 'minirocket'\n",
    "classifier = {'name':variation, 'function': RocketClassifier(rocket_transform=variation)}\n",
    "datasets = read_UCR_dataset_name()\n",
    "experiment_set = ExperimentSet(classifier=classifier, datasets=datasets, save_result=False)"
   ]
  },
  {
   "cell_type": "code",
   "execution_count": 3,
   "metadata": {},
   "outputs": [
    {
     "ename": "TypeError",
     "evalue": "'NoneType' object is not subscriptable",
     "output_type": "error",
     "traceback": [
      "\u001b[0;31m---------------------------------------------------------------------------\u001b[0m",
      "\u001b[0;31mTypeError\u001b[0m                                 Traceback (most recent call last)",
      "Cell \u001b[0;32mIn[3], line 1\u001b[0m\n\u001b[0;32m----> 1\u001b[0m experiment_set\u001b[39m.\u001b[39;49mrun_all()\n",
      "File \u001b[0;32m~/Desktop/Pongpanod.san/chula/pun_master_thesis/experiment/ExperimentSet.py:14\u001b[0m, in \u001b[0;36mExperimentSet.run_all\u001b[0;34m(self)\u001b[0m\n\u001b[1;32m     12\u001b[0m \u001b[39mdef\u001b[39;00m \u001b[39mrun_all\u001b[39m(\u001b[39mself\u001b[39m):\n\u001b[1;32m     13\u001b[0m     \u001b[39m# TODO: Refactor the if else\u001b[39;00m\n\u001b[0;32m---> 14\u001b[0m     \u001b[39mif\u001b[39;00m \u001b[39mlen\u001b[39m(\u001b[39mlist\u001b[39m(\u001b[39mself\u001b[39;49m\u001b[39m.\u001b[39;49maugments[\u001b[39m\"\u001b[39;49m\u001b[39mparams\u001b[39;49m\u001b[39m\"\u001b[39;49m])) \u001b[39m==\u001b[39m \u001b[39m1\u001b[39m:\n\u001b[1;32m     15\u001b[0m         key \u001b[39m=\u001b[39m \u001b[39mlist\u001b[39m(\u001b[39mself\u001b[39m\u001b[39m.\u001b[39maugments[\u001b[39m\"\u001b[39m\u001b[39mparams\u001b[39m\u001b[39m\"\u001b[39m])[\u001b[39m0\u001b[39m]\n\u001b[1;32m     16\u001b[0m         params \u001b[39m=\u001b[39m \u001b[39mself\u001b[39m\u001b[39m.\u001b[39maugments[\u001b[39m\"\u001b[39m\u001b[39mparams\u001b[39m\u001b[39m\"\u001b[39m][key]\n",
      "\u001b[0;31mTypeError\u001b[0m: 'NoneType' object is not subscriptable"
     ]
    }
   ],
   "source": [
    "experiment_set.run_all()"
   ]
  },
  {
   "cell_type": "code",
   "execution_count": 7,
   "metadata": {},
   "outputs": [],
   "source": [
    "# AUGMENTED\n",
    "from time_series_augmentation.utils.augmentation import jitter\n",
    "\n",
    "variation = 'minirocket'\n",
    "classifier = {'name':variation, 'function': RocketClassifier(rocket_transform=variation)}\n",
    "datasets = read_UCR_dataset_name()\n",
    "augments = {'name':jitter.__name__, 'function': jitter, 'params': {'sigma': 0.05}}\n",
    "experiment_set = ExperimentSet(classifier=classifier, datasets=datasets, augments=augments, save_result=False)"
   ]
  },
  {
   "cell_type": "code",
   "execution_count": 8,
   "metadata": {},
   "outputs": [
    {
     "ename": "TypeError",
     "evalue": "'float' object is not iterable",
     "output_type": "error",
     "traceback": [
      "\u001b[0;31m---------------------------------------------------------------------------\u001b[0m",
      "\u001b[0;31mTypeError\u001b[0m                                 Traceback (most recent call last)",
      "Cell \u001b[0;32mIn[8], line 1\u001b[0m\n\u001b[0;32m----> 1\u001b[0m experiment_set\u001b[39m.\u001b[39;49mrun_all()\n",
      "File \u001b[0;32m~/Desktop/Pongpanod.san/chula/pun_master_thesis/experiment/ExperimentSet.py:18\u001b[0m, in \u001b[0;36mExperimentSet.run_all\u001b[0;34m(self)\u001b[0m\n\u001b[1;32m     16\u001b[0m params \u001b[39m=\u001b[39m \u001b[39mself\u001b[39m\u001b[39m.\u001b[39maugments[\u001b[39m\"\u001b[39m\u001b[39mparams\u001b[39m\u001b[39m\"\u001b[39m][key]\n\u001b[1;32m     17\u001b[0m params_grid \u001b[39m=\u001b[39m []\n\u001b[0;32m---> 18\u001b[0m \u001b[39mfor\u001b[39;00m i \u001b[39min\u001b[39;00m params:\n\u001b[1;32m     19\u001b[0m     \u001b[39mfor\u001b[39;00m dataset \u001b[39min\u001b[39;00m \u001b[39mself\u001b[39m\u001b[39m.\u001b[39mdatasets:\n\u001b[1;32m     20\u001b[0m         augment \u001b[39m=\u001b[39m {\n\u001b[1;32m     21\u001b[0m             \u001b[39m\"\u001b[39m\u001b[39mname\u001b[39m\u001b[39m\"\u001b[39m: \u001b[39mself\u001b[39m\u001b[39m.\u001b[39maugments[\u001b[39m\"\u001b[39m\u001b[39mname\u001b[39m\u001b[39m\"\u001b[39m],\n\u001b[1;32m     22\u001b[0m             \u001b[39m\"\u001b[39m\u001b[39mfunction\u001b[39m\u001b[39m\"\u001b[39m: \u001b[39mself\u001b[39m\u001b[39m.\u001b[39maugments[\u001b[39m\"\u001b[39m\u001b[39mfunction\u001b[39m\u001b[39m\"\u001b[39m],\n\u001b[0;32m   (...)\u001b[0m\n\u001b[1;32m     25\u001b[0m             \u001b[39m\"\u001b[39m\u001b[39mparams\u001b[39m\u001b[39m\"\u001b[39m: {key: i},\n\u001b[1;32m     26\u001b[0m         }\n",
      "\u001b[0;31mTypeError\u001b[0m: 'float' object is not iterable"
     ]
    }
   ],
   "source": [
    "experiment_set.run_all()"
   ]
  },
  {
   "attachments": {},
   "cell_type": "markdown",
   "metadata": {},
   "source": [
    "## Experiment"
   ]
  },
  {
   "cell_type": "code",
   "execution_count": 1,
   "metadata": {},
   "outputs": [],
   "source": [
    "import warnings\n",
    "warnings.filterwarnings(\"ignore\")\n",
    "\n",
    "from experiment.Experiment import Experiment\n",
    "from experiment.ExperimentSet import ExperimentSet\n",
    "from utils.read import read_UCR_dataset_name\n",
    "\n",
    "from sktime.classification.kernel_based import RocketClassifier\n",
    "from time_series_augmentation.utils import augmentation as aug"
   ]
  },
  {
   "cell_type": "code",
   "execution_count": 2,
   "metadata": {},
   "outputs": [
    {
     "name": "stdout",
     "output_type": "stream",
     "text": [
      "(67, 24, 1) 19\n",
      "correct 5\n",
      "wrong 3\n",
      "[3 2 4 4 2 1 2 3 1 2 2 3 4 1 2 2 3 1 3 1 3 3 4 3 2 4 4 4 3 3 2 4 1 2 4 2 2\n",
      " 4 1 3 2 4 3 3 4 2 3 2 4 2 1 1 4 4 4 4 2 3 4 1 3 2 4 1 2 3 2]\n",
      "(1029, 24, 1) 19\n",
      "correct 5\n",
      "wrong 3\n",
      "[1 4 4 ... 3 4 3]\n"
     ]
    },
    {
     "name": "stderr",
     "output_type": "stream",
     "text": [
      "OMP: Info #276: omp_set_nested routine deprecated, please use omp_set_max_active_levels instead.\n"
     ]
    },
    {
     "name": "stdout",
     "output_type": "stream",
     "text": [
      "minirocket, ItalyPowerDemand, (None, None), (window_warp, {'window_ratio': 0.8}), 0.9310009718172984 DONE\n"
     ]
    }
   ],
   "source": [
    "variation = 'minirocket'\n",
    "classifer = {'name':variation, 'function': RocketClassifier(rocket_transform=variation)}\n",
    "dataset = 'ItalyPowerDemand'\n",
    "preprocess = {\"name\":None}\n",
    "augment = {'name':aug.window_warp.__name__, 'function': aug.window_warp, 'params': {'window_ratio': 0.8}}\n",
    "training_two = Experiment(clasifier=classifer, dataset=dataset, preprocess=preprocess, augment=augment, save_result=False, save_data=False)\n",
    "training_two.run_all()"
   ]
  },
  {
   "cell_type": "code",
   "execution_count": null,
   "metadata": {},
   "outputs": [],
   "source": [
    "variation = 'minirocket'\n",
    "classifer = {'name':variation, 'function': RocketClassifier(rocket_transform=variation)}\n",
    "dataset = 'ItalyPowerDemand'\n",
    "preprocess = {\"name\":None}\n",
    "augment = {'name':aug.window_warp_breakdown.__name__, 'function': aug.window_warp_breakdown, 'params': {'window_ratio': 0.8}}\n",
    "training_two = Experiment(clasifier=classifer, dataset=dataset, preprocess=preprocess, augment=augment, save_result=False, save_data=False)\n",
    "training_two.run_all()"
   ]
  }
 ],
 "metadata": {
  "kernelspec": {
   "display_name": "thesis3.10",
   "language": "python",
   "name": "python3"
  },
  "language_info": {
   "codemirror_mode": {
    "name": "ipython",
    "version": 3
   },
   "file_extension": ".py",
   "mimetype": "text/x-python",
   "name": "python",
   "nbconvert_exporter": "python",
   "pygments_lexer": "ipython3",
   "version": "3.10.10"
  },
  "orig_nbformat": 4,
  "vscode": {
   "interpreter": {
    "hash": "ffd4f62c38baa1ece4ec6c2534f3f788090e745d10d9094b86edc39a20217e26"
   }
  }
 },
 "nbformat": 4,
 "nbformat_minor": 2
}
