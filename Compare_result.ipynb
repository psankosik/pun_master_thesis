{
 "cells": [
  {
   "cell_type": "code",
   "execution_count": null,
   "metadata": {},
   "outputs": [],
   "source": [
    "print('test')"
   ]
  },
  {
   "cell_type": "code",
   "execution_count": null,
   "metadata": {},
   "outputs": [],
   "source": [
    "print('test')"
   ]
  },
  {
   "cell_type": "code",
   "execution_count": null,
   "metadata": {},
   "outputs": [],
   "source": [
    "import mlflow\n",
    "from utils.evaluate import compare_result, calculate_diff\n",
    "mlflow.set_tracking_uri(\"/Users/Pongpanod.Sa/Desktop/cu/thesis/coding/pun_master_thesis/mlruns\")"
   ]
  },
  {
   "cell_type": "code",
   "execution_count": null,
   "metadata": {},
   "outputs": [],
   "source": [
    "# query_list.append({\"augment_name\":\"window_warp\", \"augment_params\":{\"window_ratio\": 0.9}})\n",
    "# query_list.append({\"augment_name\":\"wdba\", \"augment_params\":{\"batch_size\": 2}})\n",
    "# query_list = [\n",
    "#     {\"augment_name\":\"window_warp_wdba\", \"augment_params\":{'window_ratio': 0.1, 'batch_size': 6}},\n",
    "#     {\"augment_name\":\"window_warp\", \"augment_params\":{\"window_ratio\": 0.1}},\n",
    "#     {\"augment_name\":\"wdba\", \"augment_params\":{\"batch_size\": 6}},\n",
    "# ]\n",
    "\n",
    "query_list = []\n",
    "query_list.append({\"augment_name\":\"wdba\", \"augment_params\":{\"batch_size\": 9}})\n",
    "\n",
    "\n",
    "df_hc = compare_result(query_list, ['state'], 0.0)\n",
    "df_hc"
   ]
  },
  {
   "cell_type": "code",
   "execution_count": null,
   "metadata": {},
   "outputs": [],
   "source": [
    "df_hc_result = calculate_diff(df_hc.data)\n",
    "df_hc_result"
   ]
  },
  {
   "cell_type": "code",
   "execution_count": null,
   "metadata": {},
   "outputs": [],
   "source": [
    "df_hc_result.to_csv('xx.csv')"
   ]
  },
  {
   "cell_type": "code",
   "execution_count": null,
   "metadata": {},
   "outputs": [],
   "source": [
    "query_list = []\n",
    "query_list.append({\"augment_name\":\"wdba\", \"augment_params\":{\"batch_size\": 9}})\n",
    "\n",
    "\n",
    "df_bl = compare_result(query_list, ['baseline'], 0.0)\n",
    "df_bl"
   ]
  },
  {
   "cell_type": "code",
   "execution_count": null,
   "metadata": {},
   "outputs": [],
   "source": [
    "df_bl_result = calculate_diff(df_bl.data)\n",
    "df_bl_result"
   ]
  },
  {
   "cell_type": "markdown",
   "metadata": {},
   "source": [
    "--------"
   ]
  },
  {
   "attachments": {},
   "cell_type": "markdown",
   "metadata": {},
   "source": [
    "--------"
   ]
  },
  {
   "cell_type": "code",
   "execution_count": null,
   "metadata": {},
   "outputs": [],
   "source": [
    "df_data_no_0 = df_data_no_0.T\n",
    "df_data_no_0.rename(columns = {3:'Percentage Diff', 4:'Result'}, inplace=True)\n",
    "\n",
    "df_data_no_0"
   ]
  },
  {
   "cell_type": "code",
   "execution_count": null,
   "metadata": {},
   "outputs": [],
   "source": [
    "df_win = df_data_no_0.query(\"Result == 'Win'\")\n",
    "df_lose = df_data_no_0.query(\"Result == 'Lose'\")\n",
    "\n",
    "df_win[['Percentage Diff']] = df_win[['Percentage Diff']].astype(float)\n",
    "df_lose[['Percentage Diff']] = df_lose[['Percentage Diff']].astype(float)"
   ]
  },
  {
   "cell_type": "code",
   "execution_count": null,
   "metadata": {},
   "outputs": [],
   "source": [
    "df_lose.describe()"
   ]
  },
  {
   "cell_type": "code",
   "execution_count": null,
   "metadata": {},
   "outputs": [],
   "source": [
    "df_data_no_0.to_csv('xx.csv')"
   ]
  },
  {
   "cell_type": "code",
   "execution_count": null,
   "metadata": {},
   "outputs": [],
   "source": []
  },
  {
   "cell_type": "code",
   "execution_count": null,
   "metadata": {},
   "outputs": [],
   "source": [
    "df_data_no_0.T.describe()"
   ]
  },
  {
   "cell_type": "code",
   "execution_count": null,
   "metadata": {},
   "outputs": [],
   "source": [
    "query_list = []\n",
    "\n",
    "for i in range(1, 6):\n",
    "    query_list.append({\"augment_name\":\"discriminative_guided_warp\", \"augment_params\":{\"batch_size\": i}})\n",
    "\n",
    "df = compare_result(query_list)\n",
    "df\n"
   ]
  },
  {
   "cell_type": "code",
   "execution_count": null,
   "metadata": {},
   "outputs": [],
   "source": [
    "len(['Symbols', 'WormsTwoClass', 'UWaveGestureLibraryZ', 'UWaveGestureLibraryAll', 'Wine', 'UWaveGestureLibraryX', 'Mallat', 'SwedishLeaf', 'Strawberry', 'CinCECGTorso', 'HandOutlines', 'SyntheticControl', 'UWaveGestureLibraryY', 'Wafer', 'StarLightCurves', 'ElectricDevices'])"
   ]
  },
  {
   "cell_type": "code",
   "execution_count": null,
   "metadata": {},
   "outputs": [],
   "source": [
    "\n",
    "\n"
   ]
  }
 ],
 "metadata": {
  "kernelspec": {
   "display_name": "thesis3.10",
   "language": "python",
   "name": "python3"
  },
  "language_info": {
   "codemirror_mode": {
    "name": "ipython",
    "version": 3
   },
   "file_extension": ".py",
   "mimetype": "text/x-python",
   "name": "python",
   "nbconvert_exporter": "python",
   "pygments_lexer": "ipython3",
   "version": "3.10.9"
  },
  "orig_nbformat": 4,
  "vscode": {
   "interpreter": {
    "hash": "ffd4f62c38baa1ece4ec6c2534f3f788090e745d10d9094b86edc39a20217e26"
   }
  }
 },
 "nbformat": 4,
 "nbformat_minor": 2
}
