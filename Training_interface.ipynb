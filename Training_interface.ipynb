{
 "cells": [
  {
   "attachments": {},
   "cell_type": "markdown",
   "metadata": {},
   "source": [
    "# Training Interface"
   ]
  },
  {
   "attachments": {},
   "cell_type": "markdown",
   "metadata": {},
   "source": [
    "## Example"
   ]
  },
  {
   "cell_type": "code",
   "execution_count": 1,
   "metadata": {},
   "outputs": [],
   "source": [
    "from experiment.Experiment import Experiment\n",
    "from experiment.ExperimentSet import ExperimentSet\n",
    "from utils.read import read_UCR_dataset_name\n",
    "\n",
    "from sktime.classification.kernel_based import RocketClassifier"
   ]
  },
  {
   "attachments": {},
   "cell_type": "markdown",
   "metadata": {},
   "source": [
    "### Experiment Class"
   ]
  },
  {
   "cell_type": "code",
   "execution_count": 2,
   "metadata": {},
   "outputs": [
    {
     "name": "stderr",
     "output_type": "stream",
     "text": [
      "OMP: Info #276: omp_set_nested routine deprecated, please use omp_set_max_active_levels instead.\n"
     ]
    },
    {
     "name": "stdout",
     "output_type": "stream",
     "text": [
      "minirocket, Adiac, (None, None), (None, None), 0.8158567774936062 DONE\n"
     ]
    }
   ],
   "source": [
    "# BASELINE\n",
    "variation = 'minirocket'\n",
    "clasifier = {'name':variation, 'function': RocketClassifier(rocket_transform=variation)}\n",
    "dataset = 'Adiac'\n",
    "training_one = Experiment(clasifier=clasifier, dataset=dataset, save_result=False)\n",
    "training_one.run_all()"
   ]
  },
  {
   "cell_type": "code",
   "execution_count": 3,
   "metadata": {},
   "outputs": [
    {
     "name": "stdout",
     "output_type": "stream",
     "text": [
      "minirocket, Adiac, (None, None), (jitter, {'sigma': 0.05}), 0.5421994884910486 DONE\n"
     ]
    },
    {
     "name": "stderr",
     "output_type": "stream",
     "text": [
      "/Users/pongpanod.san.adm/miniconda3/envs/thesis3.10/lib/python3.10/site-packages/sklearn/metrics/_classification.py:1344: UndefinedMetricWarning: Precision and F-score are ill-defined and being set to 0.0 in labels with no predicted samples. Use `zero_division` parameter to control this behavior.\n",
      "  _warn_prf(average, modifier, msg_start, len(result))\n"
     ]
    }
   ],
   "source": [
    "# AUGMENTED\n",
    "from time_series_augmentation.utils.augmentation import jitter\n",
    "\n",
    "variation = 'minirocket'\n",
    "classifer = {'name':variation, 'function': RocketClassifier(rocket_transform=variation)}\n",
    "dataset = 'Adiac'\n",
    "augment = {'name':jitter.__name__, 'function': jitter, 'params': {'sigma': 0.05}}\n",
    "training_two = Experiment(clasifier=clasifier, dataset=dataset, augment=augment, save_result=False)\n",
    "training_two.run_all()"
   ]
  },
  {
   "attachments": {},
   "cell_type": "markdown",
   "metadata": {},
   "source": [
    "### Experiment Set"
   ]
  },
  {
   "cell_type": "code",
   "execution_count": 5,
   "metadata": {},
   "outputs": [
    {
     "ename": "TypeError",
     "evalue": "string indices must be integers",
     "output_type": "error",
     "traceback": [
      "\u001b[0;31m---------------------------------------------------------------------------\u001b[0m",
      "\u001b[0;31mTypeError\u001b[0m                                 Traceback (most recent call last)",
      "\u001b[1;32m/Users/pongpanod.san.adm/Desktop/Pongpanod.san/chula/pun_master_thesis/Training_interface.ipynb Cell 8\u001b[0m line \u001b[0;36m6\n\u001b[1;32m      <a href='vscode-notebook-cell:/Users/pongpanod.san.adm/Desktop/Pongpanod.san/chula/pun_master_thesis/Training_interface.ipynb#X10sZmlsZQ%3D%3D?line=3'>4</a>\u001b[0m datasets \u001b[39m=\u001b[39m read_UCR_dataset_name()\n\u001b[1;32m      <a href='vscode-notebook-cell:/Users/pongpanod.san.adm/Desktop/Pongpanod.san/chula/pun_master_thesis/Training_interface.ipynb#X10sZmlsZQ%3D%3D?line=4'>5</a>\u001b[0m experiment_set \u001b[39m=\u001b[39m ExperimentSet(classifier\u001b[39m=\u001b[39mclassifier, datasets\u001b[39m=\u001b[39mdatasets, save_result\u001b[39m=\u001b[39m\u001b[39mFalse\u001b[39;00m)\n\u001b[0;32m----> <a href='vscode-notebook-cell:/Users/pongpanod.san.adm/Desktop/Pongpanod.san/chula/pun_master_thesis/Training_interface.ipynb#X10sZmlsZQ%3D%3D?line=5'>6</a>\u001b[0m experiment_set\u001b[39m.\u001b[39;49mrun_all()\n",
      "File \u001b[0;32m~/Desktop/Pongpanod.san/chula/pun_master_thesis/experiment/ExperimentSet.py:48\u001b[0m, in \u001b[0;36mExperimentSet.run_all\u001b[0;34m(self)\u001b[0m\n\u001b[1;32m     46\u001b[0m             experiments\u001b[39m.\u001b[39mrun_all()\n\u001b[1;32m     47\u001b[0m \u001b[39melse\u001b[39;00m:\n\u001b[0;32m---> 48\u001b[0m     params_grid \u001b[39m=\u001b[39m get_successors(\u001b[39mself\u001b[39;49m\u001b[39m.\u001b[39;49maugments[\u001b[39m\"\u001b[39;49m\u001b[39mparams\u001b[39;49m\u001b[39m\"\u001b[39;49m])\n\u001b[1;32m     49\u001b[0m     \u001b[39mfor\u001b[39;00m param \u001b[39min\u001b[39;00m params_grid:\n\u001b[1;32m     50\u001b[0m         result \u001b[39m=\u001b[39m {}\n",
      "File \u001b[0;32m~/Desktop/Pongpanod.san/chula/pun_master_thesis/utils/hyperparameter.py:35\u001b[0m, in \u001b[0;36mget_successors\u001b[0;34m(all_state)\u001b[0m\n\u001b[1;32m     33\u001b[0m possible_state \u001b[39m=\u001b[39m []\n\u001b[1;32m     34\u001b[0m \u001b[39mfor\u001b[39;00m key \u001b[39min\u001b[39;00m all_state:\n\u001b[0;32m---> 35\u001b[0m     possible_state\u001b[39m.\u001b[39mappend(all_state[key])\n\u001b[1;32m     37\u001b[0m \u001b[39mreturn\u001b[39;00m generate_all_combination(possible_state, \u001b[39mlist\u001b[39m(all_state\u001b[39m.\u001b[39mkeys()))\n",
      "\u001b[0;31mTypeError\u001b[0m: string indices must be integers"
     ]
    }
   ],
   "source": [
    "# BASELINE\n",
    "variation = 'minirocket'\n",
    "classifier = {'name':variation, 'function': RocketClassifier(rocket_transform=variation)}\n",
    "datasets = read_UCR_dataset_name()\n",
    "experiment_set = ExperimentSet(classifier=classifier, datasets=datasets, save_result=False)\n",
    "experiment_set.run_all()"
   ]
  },
  {
   "cell_type": "code",
   "execution_count": 9,
   "metadata": {},
   "outputs": [
    {
     "name": "stdout",
     "output_type": "stream",
     "text": [
      "minirocket, BeetleFly, (None, None), (jitter, {'sigma': 0.9}), 0.85 DONE\n",
      "minirocket, CinCECGTorso, (None, None), (jitter, {'sigma': 0.9}), 0.731159420289855 DONE\n"
     ]
    }
   ],
   "source": [
    "# AUGMENTED\n",
    "from time_series_augmentation.utils.augmentation import jitter\n",
    "\n",
    "variation = 'minirocket'\n",
    "classifier = {'name':variation, 'function': RocketClassifier(rocket_transform=variation)}\n",
    "datasets = read_UCR_dataset_name()[:2]\n",
    "# augments = {'name':jitter.__name__, 'function': jitter, 'params': {'sigma': 0.05}}\n",
    "augments = {\n",
    "    \"name\": jitter.__name__,\n",
    "    \"function\": jitter,\n",
    "    \"concat_original\": True,\n",
    "    \"enter_label\": False,\n",
    "    \"params\": {\"sigma\": [0.9]},\n",
    "}\n",
    "experiment_set = ExperimentSet(classifier=classifier, datasets=datasets, augments=augments, save_result=False)\n",
    "experiment_set.run_all()"
   ]
  },
  {
   "attachments": {},
   "cell_type": "markdown",
   "metadata": {},
   "source": [
    "## Experiment"
   ]
  },
  {
   "cell_type": "code",
   "execution_count": 1,
   "metadata": {},
   "outputs": [],
   "source": [
    "import warnings\n",
    "warnings.filterwarnings(\"ignore\")\n",
    "\n",
    "from experiment.Experiment import Experiment\n",
    "from experiment.ExperimentSet import ExperimentSet\n",
    "from utils.read import read_UCR_dataset_name\n",
    "\n",
    "from sktime.classification.kernel_based import RocketClassifier"
   ]
  },
  {
   "cell_type": "code",
   "execution_count": 2,
   "metadata": {},
   "outputs": [
    {
     "name": "stderr",
     "output_type": "stream",
     "text": [
      "100%|██████████| 390/390 [00:17<00:00, 22.18it/s]\n",
      "100%|██████████| 391/391 [00:17<00:00, 22.24it/s]\n",
      "OMP: Info #276: omp_set_nested routine deprecated, please use omp_set_max_active_levels instead.\n"
     ]
    },
    {
     "name": "stdout",
     "output_type": "stream",
     "text": [
      "minirocket, Adiac, (None, None), (discriminative_guided_warp, {'batch_size': 5}), 0.4936061381074169 DONE\n"
     ]
    },
    {
     "name": "stderr",
     "output_type": "stream",
     "text": [
      "100%|██████████| 36/36 [00:03<00:00, 11.52it/s]\n",
      "100%|██████████| 175/175 [00:14<00:00, 11.73it/s]\n"
     ]
    },
    {
     "name": "stdout",
     "output_type": "stream",
     "text": [
      "minirocket, ArrowHead, (None, None), (discriminative_guided_warp, {'batch_size': 5}), 0.7542857142857143 DONE\n"
     ]
    },
    {
     "name": "stderr",
     "output_type": "stream",
     "text": [
      "100%|██████████| 30/30 [00:08<00:00,  3.61it/s]\n",
      "100%|██████████| 30/30 [00:08<00:00,  3.60it/s]\n"
     ]
    },
    {
     "name": "stdout",
     "output_type": "stream",
     "text": [
      "minirocket, Beef, (None, None), (discriminative_guided_warp, {'batch_size': 5}), 0.7 DONE\n"
     ]
    },
    {
     "name": "stderr",
     "output_type": "stream",
     "text": [
      "100%|██████████| 20/20 [00:06<00:00,  3.00it/s]\n",
      "100%|██████████| 20/20 [00:06<00:00,  3.01it/s]\n"
     ]
    },
    {
     "name": "stdout",
     "output_type": "stream",
     "text": [
      "minirocket, BeetleFly, (None, None), (discriminative_guided_warp, {'batch_size': 5}), 1.0 DONE\n"
     ]
    },
    {
     "name": "stderr",
     "output_type": "stream",
     "text": [
      "100%|██████████| 20/20 [00:06<00:00,  2.99it/s]\n",
      "100%|██████████| 20/20 [00:06<00:00,  3.00it/s]\n"
     ]
    },
    {
     "name": "stdout",
     "output_type": "stream",
     "text": [
      "minirocket, BirdChicken, (None, None), (discriminative_guided_warp, {'batch_size': 5}), 0.85 DONE\n"
     ]
    },
    {
     "name": "stderr",
     "output_type": "stream",
     "text": [
      "100%|██████████| 60/60 [00:25<00:00,  2.38it/s]\n",
      "100%|██████████| 60/60 [00:25<00:00,  2.37it/s]\n"
     ]
    },
    {
     "name": "stdout",
     "output_type": "stream",
     "text": [
      "minirocket, Car, (None, None), (discriminative_guided_warp, {'batch_size': 5}), 0.7333333333333333 DONE\n"
     ]
    },
    {
     "name": "stderr",
     "output_type": "stream",
     "text": [
      "100%|██████████| 30/30 [00:00<00:00, 38.21it/s]\n",
      "100%|██████████| 900/900 [00:23<00:00, 38.48it/s]\n"
     ]
    },
    {
     "name": "stdout",
     "output_type": "stream",
     "text": [
      "minirocket, CBF, (None, None), (discriminative_guided_warp, {'batch_size': 5}), 0.9655555555555555 DONE\n"
     ]
    },
    {
     "name": "stderr",
     "output_type": "stream",
     "text": [
      "100%|██████████| 467/467 [00:19<00:00, 24.08it/s]\n",
      "100%|██████████| 3840/3840 [02:39<00:00, 24.13it/s]\n"
     ]
    },
    {
     "name": "stdout",
     "output_type": "stream",
     "text": [
      "minirocket, ChlorineConcentration, (None, None), (discriminative_guided_warp, {'batch_size': 5}), 0.528125 DONE\n"
     ]
    },
    {
     "name": "stderr",
     "output_type": "stream",
     "text": [
      "100%|██████████| 40/40 [02:10<00:00,  3.27s/it]\n",
      "100%|██████████| 1380/1380 [1:14:58<00:00,  3.26s/it]\n"
     ]
    },
    {
     "name": "stdout",
     "output_type": "stream",
     "text": [
      "minirocket, CinCECGTorso, (None, None), (discriminative_guided_warp, {'batch_size': 5}), 0.7065217391304348 DONE\n"
     ]
    },
    {
     "name": "stderr",
     "output_type": "stream",
     "text": [
      "100%|██████████| 28/28 [00:03<00:00,  9.14it/s]\n",
      "100%|██████████| 28/28 [00:03<00:00,  9.15it/s]\n"
     ]
    },
    {
     "name": "stdout",
     "output_type": "stream",
     "text": [
      "minirocket, Coffee, (None, None), (discriminative_guided_warp, {'batch_size': 5}), 1.0 DONE\n"
     ]
    },
    {
     "name": "stderr",
     "output_type": "stream",
     "text": [
      "100%|██████████| 250/250 [02:40<00:00,  1.55it/s]\n",
      "100%|██████████| 250/250 [02:41<00:00,  1.55it/s]\n"
     ]
    },
    {
     "name": "stdout",
     "output_type": "stream",
     "text": [
      "minirocket, Computers, (None, None), (discriminative_guided_warp, {'batch_size': 5}), 0.732 DONE\n"
     ]
    },
    {
     "name": "stderr",
     "output_type": "stream",
     "text": [
      "100%|██████████| 390/390 [00:46<00:00,  8.43it/s]\n",
      "100%|██████████| 390/390 [00:46<00:00,  8.43it/s]\n"
     ]
    },
    {
     "name": "stdout",
     "output_type": "stream",
     "text": [
      "minirocket, CricketX, (None, None), (discriminative_guided_warp, {'batch_size': 5}), 0.7307692307692307 DONE\n"
     ]
    },
    {
     "name": "stderr",
     "output_type": "stream",
     "text": [
      "100%|██████████| 390/390 [00:45<00:00,  8.51it/s]\n",
      "100%|██████████| 390/390 [00:45<00:00,  8.53it/s]\n"
     ]
    },
    {
     "name": "stdout",
     "output_type": "stream",
     "text": [
      "minirocket, CricketY, (None, None), (discriminative_guided_warp, {'batch_size': 5}), 0.7051282051282052 DONE\n"
     ]
    },
    {
     "name": "stderr",
     "output_type": "stream",
     "text": [
      "100%|██████████| 390/390 [00:45<00:00,  8.53it/s]\n",
      "100%|██████████| 390/390 [00:45<00:00,  8.54it/s]\n"
     ]
    },
    {
     "name": "stdout",
     "output_type": "stream",
     "text": [
      "minirocket, CricketZ, (None, None), (discriminative_guided_warp, {'batch_size': 5}), 0.7333333333333333 DONE\n"
     ]
    },
    {
     "name": "stderr",
     "output_type": "stream",
     "text": [
      "100%|██████████| 16/16 [00:02<00:00,  6.91it/s]\n",
      "100%|██████████| 306/306 [00:47<00:00,  6.43it/s]\n"
     ]
    },
    {
     "name": "stdout",
     "output_type": "stream",
     "text": [
      "minirocket, DiatomSizeReduction, (None, None), (discriminative_guided_warp, {'batch_size': 5}), 0.7973856209150327 DONE\n"
     ]
    },
    {
     "name": "stderr",
     "output_type": "stream",
     "text": [
      "100%|██████████| 400/400 [00:04<00:00, 84.21it/s]\n",
      "100%|██████████| 139/139 [00:01<00:00, 84.49it/s]\n"
     ]
    },
    {
     "name": "stdout",
     "output_type": "stream",
     "text": [
      "minirocket, DistalPhalanxOutlineAgeGroup, (None, None), (discriminative_guided_warp, {'batch_size': 5}), 0.9064748201438849 DONE\n"
     ]
    },
    {
     "name": "stderr",
     "output_type": "stream",
     "text": [
      "100%|██████████| 600/600 [00:07<00:00, 83.17it/s]\n",
      "100%|██████████| 276/276 [00:03<00:00, 84.06it/s]\n"
     ]
    },
    {
     "name": "stdout",
     "output_type": "stream",
     "text": [
      "minirocket, DistalPhalanxOutlineCorrect, (None, None), (discriminative_guided_warp, {'batch_size': 5}), 0.7391304347826086 DONE\n"
     ]
    },
    {
     "name": "stderr",
     "output_type": "stream",
     "text": [
      "100%|██████████| 400/400 [00:04<00:00, 82.56it/s]\n",
      "100%|██████████| 139/139 [00:01<00:00, 83.23it/s]\n"
     ]
    },
    {
     "name": "stdout",
     "output_type": "stream",
     "text": [
      "minirocket, DistalPhalanxTW, (None, None), (discriminative_guided_warp, {'batch_size': 5}), 0.6762589928057554 DONE\n"
     ]
    },
    {
     "name": "stderr",
     "output_type": "stream",
     "text": [
      "100%|██████████| 322/322 [01:46<00:00,  3.01it/s]\n",
      "100%|██████████| 139/139 [00:46<00:00,  3.02it/s]\n"
     ]
    },
    {
     "name": "stdout",
     "output_type": "stream",
     "text": [
      "minirocket, Earthquakes, (None, None), (discriminative_guided_warp, {'batch_size': 5}), 0.7482014388489209 DONE\n"
     ]
    },
    {
     "name": "stderr",
     "output_type": "stream",
     "text": [
      "100%|██████████| 100/100 [00:01<00:00, 60.75it/s]\n",
      "100%|██████████| 100/100 [00:01<00:00, 61.26it/s]\n"
     ]
    },
    {
     "name": "stdout",
     "output_type": "stream",
     "text": [
      "minirocket, ECG200, (None, None), (discriminative_guided_warp, {'batch_size': 5}), 0.86 DONE\n"
     ]
    },
    {
     "name": "stderr",
     "output_type": "stream",
     "text": [
      "100%|██████████| 500/500 [00:14<00:00, 33.43it/s]\n",
      "100%|██████████| 4500/4500 [02:14<00:00, 33.41it/s]\n"
     ]
    },
    {
     "name": "stdout",
     "output_type": "stream",
     "text": [
      "minirocket, ECG5000, (None, None), (discriminative_guided_warp, {'batch_size': 5}), 0.9435555555555556 DONE\n"
     ]
    },
    {
     "name": "stderr",
     "output_type": "stream",
     "text": [
      "100%|██████████| 23/23 [00:00<00:00, 34.42it/s]\n",
      "100%|██████████| 861/861 [00:24<00:00, 34.76it/s]\n"
     ]
    },
    {
     "name": "stdout",
     "output_type": "stream",
     "text": [
      "minirocket, ECGFiveDays, (None, None), (discriminative_guided_warp, {'batch_size': 5}), 0.8420441347270615 DONE\n"
     ]
    },
    {
     "name": "stderr",
     "output_type": "stream",
     "text": [
      "100%|██████████| 8926/8926 [02:25<00:00, 61.48it/s]\n",
      "100%|██████████| 7711/7711 [02:05<00:00, 61.61it/s]\n"
     ]
    },
    {
     "name": "stdout",
     "output_type": "stream",
     "text": [
      "minirocket, ElectricDevices, (None, None), (discriminative_guided_warp, {'batch_size': 5}), 0.6670989495525872 DONE\n"
     ]
    },
    {
     "name": "stderr",
     "output_type": "stream",
     "text": [
      "100%|██████████| 560/560 [00:15<00:00, 35.68it/s]\n",
      "100%|██████████| 1690/1690 [00:47<00:00, 35.70it/s]\n"
     ]
    },
    {
     "name": "stdout",
     "output_type": "stream",
     "text": [
      "minirocket, FaceAll, (None, None), (discriminative_guided_warp, {'batch_size': 5}), 0.8218934911242604 DONE\n"
     ]
    },
    {
     "name": "stderr",
     "output_type": "stream",
     "text": [
      "100%|██████████| 24/24 [00:03<00:00,  6.75it/s]\n",
      "100%|██████████| 88/88 [00:13<00:00,  6.35it/s]\n"
     ]
    },
    {
     "name": "stdout",
     "output_type": "stream",
     "text": [
      "minirocket, FaceFour, (None, None), (discriminative_guided_warp, {'batch_size': 5}), 0.8636363636363636 DONE\n"
     ]
    },
    {
     "name": "stderr",
     "output_type": "stream",
     "text": [
      "100%|██████████| 200/200 [00:05<00:00, 35.60it/s]\n",
      "100%|██████████| 2050/2050 [00:57<00:00, 35.68it/s]\n"
     ]
    },
    {
     "name": "stdout",
     "output_type": "stream",
     "text": [
      "minirocket, FacesUCR, (None, None), (discriminative_guided_warp, {'batch_size': 5}), 0.8492682926829268 DONE\n"
     ]
    },
    {
     "name": "stderr",
     "output_type": "stream",
     "text": [
      "100%|██████████| 450/450 [00:42<00:00, 10.63it/s]\n",
      "100%|██████████| 455/455 [00:42<00:00, 10.83it/s]\n"
     ]
    },
    {
     "name": "stdout",
     "output_type": "stream",
     "text": [
      "minirocket, FiftyWords, (None, None), (discriminative_guided_warp, {'batch_size': 5}), 0.7098901098901099 DONE\n"
     ]
    },
    {
     "name": "stderr",
     "output_type": "stream",
     "text": [
      "100%|██████████| 175/175 [00:47<00:00,  3.66it/s]\n",
      "100%|██████████| 175/175 [00:47<00:00,  3.65it/s]\n"
     ]
    },
    {
     "name": "stdout",
     "output_type": "stream",
     "text": [
      "minirocket, Fish, (None, None), (discriminative_guided_warp, {'batch_size': 5}), 0.8 DONE\n"
     ]
    },
    {
     "name": "stderr",
     "output_type": "stream",
     "text": [
      "100%|██████████| 3601/3601 [19:01<00:00,  3.16it/s]\n",
      "100%|██████████| 1320/1320 [06:57<00:00,  3.16it/s]\n"
     ]
    },
    {
     "name": "stdout",
     "output_type": "stream",
     "text": [
      "minirocket, FordA, (None, None), (discriminative_guided_warp, {'batch_size': 5}), 0.8295454545454546 DONE\n"
     ]
    },
    {
     "name": "stderr",
     "output_type": "stream",
     "text": [
      "100%|██████████| 3636/3636 [19:36<00:00,  3.09it/s]\n",
      "100%|██████████| 810/810 [04:23<00:00,  3.07it/s]\n"
     ]
    },
    {
     "name": "stdout",
     "output_type": "stream",
     "text": [
      "minirocket, FordB, (None, None), (discriminative_guided_warp, {'batch_size': 5}), 0.7135802469135802 DONE\n"
     ]
    },
    {
     "name": "stderr",
     "output_type": "stream",
     "text": [
      "100%|██████████| 50/50 [00:01<00:00, 29.40it/s]\n",
      "100%|██████████| 150/150 [00:06<00:00, 24.80it/s]\n"
     ]
    },
    {
     "name": "stdout",
     "output_type": "stream",
     "text": [
      "minirocket, GunPoint, (None, None), (discriminative_guided_warp, {'batch_size': 5}), 0.92 DONE\n"
     ]
    },
    {
     "name": "stderr",
     "output_type": "stream",
     "text": [
      "100%|██████████| 109/109 [00:27<00:00,  3.95it/s]\n",
      "100%|██████████| 105/105 [00:28<00:00,  3.73it/s]\n"
     ]
    },
    {
     "name": "stdout",
     "output_type": "stream",
     "text": [
      "minirocket, Ham, (None, None), (discriminative_guided_warp, {'batch_size': 5}), 0.8380952380952381 DONE\n"
     ]
    },
    {
     "name": "stderr",
     "output_type": "stream",
     "text": [
      "100%|██████████| 1000/1000 [2:26:47<00:00,  8.81s/it] \n",
      "100%|██████████| 370/370 [54:11<00:00,  8.79s/it]\n"
     ]
    },
    {
     "name": "stdout",
     "output_type": "stream",
     "text": [
      "minirocket, HandOutlines, (None, None), (discriminative_guided_warp, {'batch_size': 5}), 0.8756756756756757 DONE\n"
     ]
    },
    {
     "name": "stderr",
     "output_type": "stream",
     "text": [
      "100%|██████████| 155/155 [03:43<00:00,  1.44s/it]\n",
      "100%|██████████| 308/308 [07:26<00:00,  1.45s/it]\n"
     ]
    },
    {
     "name": "stdout",
     "output_type": "stream",
     "text": [
      "minirocket, Haptics, (None, None), (discriminative_guided_warp, {'batch_size': 5}), 0.39935064935064934 DONE\n"
     ]
    },
    {
     "name": "stderr",
     "output_type": "stream",
     "text": [
      "100%|██████████| 64/64 [00:21<00:00,  3.02it/s]\n",
      "100%|██████████| 64/64 [00:21<00:00,  3.02it/s]\n"
     ]
    },
    {
     "name": "stdout",
     "output_type": "stream",
     "text": [
      "minirocket, Herring, (None, None), (discriminative_guided_warp, {'batch_size': 5}), 0.6875 DONE\n"
     ]
    },
    {
     "name": "stderr",
     "output_type": "stream",
     "text": [
      "100%|██████████| 100/100 [07:10<00:00,  4.30s/it]\n",
      "100%|██████████| 550/550 [39:27<00:00,  4.30s/it]\n"
     ]
    },
    {
     "name": "stdout",
     "output_type": "stream",
     "text": [
      "minirocket, InlineSkate, (None, None), (discriminative_guided_warp, {'batch_size': 5}), 0.34 DONE\n"
     ]
    },
    {
     "name": "stderr",
     "output_type": "stream",
     "text": [
      "100%|██████████| 220/220 [00:19<00:00, 11.49it/s]\n",
      "100%|██████████| 1980/1980 [02:52<00:00, 11.48it/s]\n"
     ]
    },
    {
     "name": "stdout",
     "output_type": "stream",
     "text": [
      "minirocket, InsectWingbeatSound, (None, None), (discriminative_guided_warp, {'batch_size': 5}), 0.554040404040404 DONE\n"
     ]
    },
    {
     "name": "stderr",
     "output_type": "stream",
     "text": [
      "100%|██████████| 67/67 [00:00<00:00, 407.25it/s]\n",
      "100%|██████████| 1029/1029 [00:02<00:00, 445.05it/s]\n"
     ]
    },
    {
     "name": "stdout",
     "output_type": "stream",
     "text": [
      "minirocket, ItalyPowerDemand, (None, None), (discriminative_guided_warp, {'batch_size': 5}), 0.9358600583090378 DONE\n"
     ]
    },
    {
     "name": "stderr",
     "output_type": "stream",
     "text": [
      "100%|██████████| 375/375 [03:58<00:00,  1.57it/s]\n",
      "100%|██████████| 375/375 [03:58<00:00,  1.57it/s]\n"
     ]
    },
    {
     "name": "stdout",
     "output_type": "stream",
     "text": [
      "minirocket, LargeKitchenAppliances, (None, None), (discriminative_guided_warp, {'batch_size': 5}), 0.88 DONE\n"
     ]
    },
    {
     "name": "stderr",
     "output_type": "stream",
     "text": [
      "100%|██████████| 60/60 [00:30<00:00,  1.98it/s]\n",
      "100%|██████████| 61/61 [00:30<00:00,  1.98it/s]\n"
     ]
    },
    {
     "name": "stdout",
     "output_type": "stream",
     "text": [
      "minirocket, Lightning2, (None, None), (discriminative_guided_warp, {'batch_size': 5}), 0.6557377049180327 DONE\n"
     ]
    },
    {
     "name": "stderr",
     "output_type": "stream",
     "text": [
      "100%|██████████| 70/70 [00:09<00:00,  7.55it/s]\n",
      "100%|██████████| 73/73 [00:09<00:00,  7.54it/s]\n"
     ]
    },
    {
     "name": "stdout",
     "output_type": "stream",
     "text": [
      "minirocket, Lightning7, (None, None), (discriminative_guided_warp, {'batch_size': 5}), 0.7534246575342466 DONE\n"
     ]
    },
    {
     "name": "stderr",
     "output_type": "stream",
     "text": [
      "100%|██████████| 55/55 [01:08<00:00,  1.24s/it]\n",
      "100%|██████████| 2345/2345 [49:49<00:00,  1.27s/it]\n"
     ]
    },
    {
     "name": "stdout",
     "output_type": "stream",
     "text": [
      "minirocket, Mallat, (None, None), (discriminative_guided_warp, {'batch_size': 5}), 0.7718550106609808 DONE\n"
     ]
    },
    {
     "name": "stderr",
     "output_type": "stream",
     "text": [
      "100%|██████████| 60/60 [00:15<00:00,  3.94it/s]\n",
      "100%|██████████| 60/60 [00:15<00:00,  3.93it/s]\n"
     ]
    },
    {
     "name": "stdout",
     "output_type": "stream",
     "text": [
      "minirocket, Meat, (None, None), (discriminative_guided_warp, {'batch_size': 5}), 0.9833333333333333 DONE\n"
     ]
    },
    {
     "name": "stderr",
     "output_type": "stream",
     "text": [
      "100%|██████████| 381/381 [00:06<00:00, 60.04it/s]\n",
      "100%|██████████| 760/760 [00:12<00:00, 59.68it/s]\n"
     ]
    },
    {
     "name": "stdout",
     "output_type": "stream",
     "text": [
      "minirocket, MedicalImages, (None, None), (discriminative_guided_warp, {'batch_size': 5}), 0.7276315789473684 DONE\n"
     ]
    },
    {
     "name": "stderr",
     "output_type": "stream",
     "text": [
      "100%|██████████| 400/400 [00:04<00:00, 84.57it/s]\n",
      "100%|██████████| 154/154 [00:01<00:00, 84.30it/s]\n"
     ]
    },
    {
     "name": "stdout",
     "output_type": "stream",
     "text": [
      "minirocket, MiddlePhalanxOutlineAgeGroup, (None, None), (discriminative_guided_warp, {'batch_size': 5}), 0.6818181818181818 DONE\n"
     ]
    },
    {
     "name": "stderr",
     "output_type": "stream",
     "text": [
      "100%|██████████| 600/600 [00:07<00:00, 85.01it/s]\n",
      "100%|██████████| 291/291 [00:03<00:00, 84.40it/s]\n"
     ]
    },
    {
     "name": "stdout",
     "output_type": "stream",
     "text": [
      "minirocket, MiddlePhalanxOutlineCorrect, (None, None), (discriminative_guided_warp, {'batch_size': 5}), 0.7594501718213058 DONE\n"
     ]
    },
    {
     "name": "stderr",
     "output_type": "stream",
     "text": [
      "100%|██████████| 399/399 [00:04<00:00, 85.05it/s]\n",
      "100%|██████████| 154/154 [00:01<00:00, 84.11it/s]\n"
     ]
    },
    {
     "name": "stdout",
     "output_type": "stream",
     "text": [
      "minirocket, MiddlePhalanxTW, (None, None), (discriminative_guided_warp, {'batch_size': 5}), 0.6298701298701299 DONE\n"
     ]
    },
    {
     "name": "stderr",
     "output_type": "stream",
     "text": [
      "100%|██████████| 20/20 [00:00<00:00, 63.73it/s]\n",
      "100%|██████████| 1252/1252 [00:16<00:00, 75.09it/s]\n"
     ]
    },
    {
     "name": "stdout",
     "output_type": "stream",
     "text": [
      "minirocket, MoteStrain, (None, None), (discriminative_guided_warp, {'batch_size': 5}), 0.9033546325878594 DONE\n"
     ]
    },
    {
     "name": "stderr",
     "output_type": "stream",
     "text": [
      "100%|██████████| 1800/1800 [20:52<00:00,  1.44it/s]\n",
      "100%|██████████| 1965/1965 [22:47<00:00,  1.44it/s]\n"
     ]
    },
    {
     "name": "stdout",
     "output_type": "stream",
     "text": [
      "minirocket, NonInvasiveFetalECGThorax1, (None, None), (discriminative_guided_warp, {'batch_size': 5}), 0.7190839694656489 DONE\n"
     ]
    },
    {
     "name": "stderr",
     "output_type": "stream",
     "text": [
      "100%|██████████| 1800/1800 [20:58<00:00,  1.43it/s]\n",
      "100%|██████████| 1965/1965 [22:56<00:00,  1.43it/s]\n"
     ]
    },
    {
     "name": "stdout",
     "output_type": "stream",
     "text": [
      "minirocket, NonInvasiveFetalECGThorax2, (None, None), (discriminative_guided_warp, {'batch_size': 5}), 0.7862595419847328 DONE\n"
     ]
    },
    {
     "name": "stderr",
     "output_type": "stream",
     "text": [
      "100%|██████████| 30/30 [00:12<00:00,  2.47it/s]\n",
      "100%|██████████| 30/30 [00:12<00:00,  2.46it/s]\n"
     ]
    },
    {
     "name": "stdout",
     "output_type": "stream",
     "text": [
      "minirocket, OliveOil, (None, None), (discriminative_guided_warp, {'batch_size': 5}), 0.7666666666666667 DONE\n"
     ]
    },
    {
     "name": "stderr",
     "output_type": "stream",
     "text": [
      "100%|██████████| 200/200 [00:46<00:00,  4.32it/s]\n",
      "100%|██████████| 242/242 [00:56<00:00,  4.32it/s]\n"
     ]
    },
    {
     "name": "stdout",
     "output_type": "stream",
     "text": [
      "minirocket, OSULeaf, (None, None), (discriminative_guided_warp, {'batch_size': 5}), 0.8553719008264463 DONE\n"
     ]
    },
    {
     "name": "stderr",
     "output_type": "stream",
     "text": [
      "100%|██████████| 1800/1800 [00:21<00:00, 82.69it/s]\n",
      "100%|██████████| 858/858 [00:10<00:00, 82.89it/s]\n"
     ]
    },
    {
     "name": "stdout",
     "output_type": "stream",
     "text": [
      "minirocket, PhalangesOutlinesCorrect, (None, None), (discriminative_guided_warp, {'batch_size': 5}), 0.7365967365967366 DONE\n"
     ]
    },
    {
     "name": "stderr",
     "output_type": "stream",
     "text": [
      "100%|██████████| 214/214 [04:02<00:00,  1.13s/it]\n",
      "100%|██████████| 1896/1896 [40:26<00:00,  1.28s/it]\n"
     ]
    },
    {
     "name": "stdout",
     "output_type": "stream",
     "text": [
      "minirocket, Phoneme, (None, None), (discriminative_guided_warp, {'batch_size': 5}), 0.28639240506329117 DONE\n"
     ]
    },
    {
     "name": "stderr",
     "output_type": "stream",
     "text": [
      "100%|██████████| 105/105 [00:03<00:00, 30.88it/s]\n",
      "100%|██████████| 105/105 [00:03<00:00, 30.85it/s]\n"
     ]
    },
    {
     "name": "stdout",
     "output_type": "stream",
     "text": [
      "minirocket, Plane, (None, None), (discriminative_guided_warp, {'batch_size': 5}), 0.9619047619047619 DONE\n"
     ]
    },
    {
     "name": "stderr",
     "output_type": "stream",
     "text": [
      "100%|██████████| 400/400 [00:04<00:00, 84.16it/s]\n",
      "100%|██████████| 205/205 [00:02<00:00, 84.21it/s]\n"
     ]
    },
    {
     "name": "stdout",
     "output_type": "stream",
     "text": [
      "minirocket, ProximalPhalanxOutlineAgeGroup, (None, None), (discriminative_guided_warp, {'batch_size': 5}), 0.9463414634146341 DONE\n"
     ]
    },
    {
     "name": "stderr",
     "output_type": "stream",
     "text": [
      "100%|██████████| 600/600 [00:07<00:00, 81.98it/s]\n",
      "100%|██████████| 291/291 [00:03<00:00, 82.23it/s]\n"
     ]
    },
    {
     "name": "stdout",
     "output_type": "stream",
     "text": [
      "minirocket, ProximalPhalanxOutlineCorrect, (None, None), (discriminative_guided_warp, {'batch_size': 5}), 0.9175257731958762 DONE\n"
     ]
    },
    {
     "name": "stderr",
     "output_type": "stream",
     "text": [
      "100%|██████████| 400/400 [00:04<00:00, 84.39it/s]\n",
      "100%|██████████| 205/205 [00:02<00:00, 84.60it/s]\n"
     ]
    },
    {
     "name": "stdout",
     "output_type": "stream",
     "text": [
      "minirocket, ProximalPhalanxTW, (None, None), (discriminative_guided_warp, {'batch_size': 5}), 0.7609756097560976 DONE\n"
     ]
    },
    {
     "name": "stderr",
     "output_type": "stream",
     "text": [
      "100%|██████████| 375/375 [04:00<00:00,  1.56it/s]\n",
      "100%|██████████| 375/375 [04:00<00:00,  1.56it/s]\n"
     ]
    },
    {
     "name": "stdout",
     "output_type": "stream",
     "text": [
      "minirocket, RefrigerationDevices, (None, None), (discriminative_guided_warp, {'batch_size': 5}), 0.4746666666666667 DONE\n"
     ]
    },
    {
     "name": "stderr",
     "output_type": "stream",
     "text": [
      "100%|██████████| 375/375 [04:00<00:00,  1.56it/s]\n",
      "100%|██████████| 375/375 [04:00<00:00,  1.56it/s]\n"
     ]
    },
    {
     "name": "stdout",
     "output_type": "stream",
     "text": [
      "minirocket, ScreenType, (None, None), (discriminative_guided_warp, {'batch_size': 5}), 0.5013333333333333 DONE\n"
     ]
    },
    {
     "name": "stderr",
     "output_type": "stream",
     "text": [
      "100%|██████████| 20/20 [00:06<00:00,  3.14it/s]\n",
      "100%|██████████| 180/180 [00:57<00:00,  3.15it/s]\n"
     ]
    },
    {
     "name": "stdout",
     "output_type": "stream",
     "text": [
      "minirocket, ShapeletSim, (None, None), (discriminative_guided_warp, {'batch_size': 5}), 0.9777777777777777 DONE\n"
     ]
    },
    {
     "name": "stderr",
     "output_type": "stream",
     "text": [
      "100%|██████████| 600/600 [03:19<00:00,  3.00it/s]\n",
      "100%|██████████| 600/600 [03:19<00:00,  3.01it/s]\n"
     ]
    },
    {
     "name": "stdout",
     "output_type": "stream",
     "text": [
      "minirocket, ShapesAll, (None, None), (discriminative_guided_warp, {'batch_size': 5}), 0.8683333333333333 DONE\n"
     ]
    },
    {
     "name": "stderr",
     "output_type": "stream",
     "text": [
      "100%|██████████| 375/375 [03:59<00:00,  1.56it/s]\n",
      "100%|██████████| 375/375 [03:59<00:00,  1.56it/s]\n"
     ]
    },
    {
     "name": "stdout",
     "output_type": "stream",
     "text": [
      "minirocket, SmallKitchenAppliances, (None, None), (discriminative_guided_warp, {'batch_size': 5}), 0.88 DONE\n"
     ]
    },
    {
     "name": "stderr",
     "output_type": "stream",
     "text": [
      "100%|██████████| 20/20 [00:00<00:00, 100.95it/s]\n",
      "100%|██████████| 601/601 [00:05<00:00, 103.17it/s]\n"
     ]
    },
    {
     "name": "stdout",
     "output_type": "stream",
     "text": [
      "minirocket, SonyAIBORobotSurface1, (None, None), (discriminative_guided_warp, {'batch_size': 5}), 0.7221297836938436 DONE\n"
     ]
    },
    {
     "name": "stderr",
     "output_type": "stream",
     "text": [
      "100%|██████████| 27/27 [00:00<00:00, 111.53it/s]\n",
      "100%|██████████| 953/953 [00:08<00:00, 112.62it/s]\n"
     ]
    },
    {
     "name": "stdout",
     "output_type": "stream",
     "text": [
      "minirocket, SonyAIBORobotSurface2, (None, None), (discriminative_guided_warp, {'batch_size': 5}), 0.8614900314795383 DONE\n"
     ]
    },
    {
     "name": "stderr",
     "output_type": "stream",
     "text": [
      "100%|██████████| 1000/1000 [21:19<00:00,  1.28s/it]\n",
      "100%|██████████| 8236/8236 [2:55:04<00:00,  1.28s/it]  \n"
     ]
    },
    {
     "name": "stdout",
     "output_type": "stream",
     "text": [
      "minirocket, StarLightCurves, (None, None), (discriminative_guided_warp, {'batch_size': 5}), 0.978630403108305 DONE\n"
     ]
    },
    {
     "name": "stderr",
     "output_type": "stream",
     "text": [
      "100%|██████████| 613/613 [00:46<00:00, 13.14it/s]\n",
      "100%|██████████| 370/370 [00:28<00:00, 13.17it/s]\n"
     ]
    },
    {
     "name": "stdout",
     "output_type": "stream",
     "text": [
      "minirocket, Strawberry, (None, None), (discriminative_guided_warp, {'batch_size': 5}), 0.972972972972973 DONE\n"
     ]
    },
    {
     "name": "stderr",
     "output_type": "stream",
     "text": [
      "100%|██████████| 500/500 [00:12<00:00, 38.67it/s]\n",
      "100%|██████████| 625/625 [00:16<00:00, 38.71it/s]\n"
     ]
    },
    {
     "name": "stdout",
     "output_type": "stream",
     "text": [
      "minirocket, SwedishLeaf, (None, None), (discriminative_guided_warp, {'batch_size': 5}), 0.8256 DONE\n"
     ]
    },
    {
     "name": "stderr",
     "output_type": "stream",
     "text": [
      "100%|██████████| 25/25 [00:03<00:00,  6.36it/s]\n",
      "100%|██████████| 995/995 [03:20<00:00,  4.97it/s]\n"
     ]
    },
    {
     "name": "stdout",
     "output_type": "stream",
     "text": [
      "minirocket, Symbols, (None, None), (discriminative_guided_warp, {'batch_size': 5}), 0.9587939698492463 DONE\n"
     ]
    },
    {
     "name": "stderr",
     "output_type": "stream",
     "text": [
      "100%|██████████| 300/300 [00:02<00:00, 129.89it/s]\n",
      "100%|██████████| 300/300 [00:02<00:00, 130.64it/s]\n"
     ]
    },
    {
     "name": "stdout",
     "output_type": "stream",
     "text": [
      "minirocket, SyntheticControl, (None, None), (discriminative_guided_warp, {'batch_size': 5}), 0.9866666666666667 DONE\n"
     ]
    },
    {
     "name": "stderr",
     "output_type": "stream",
     "text": [
      "100%|██████████| 40/40 [00:04<00:00,  9.74it/s]\n",
      "100%|██████████| 228/228 [00:23<00:00,  9.73it/s]\n"
     ]
    },
    {
     "name": "stdout",
     "output_type": "stream",
     "text": [
      "minirocket, ToeSegmentation1, (None, None), (discriminative_guided_warp, {'batch_size': 5}), 0.9298245614035088 DONE\n"
     ]
    },
    {
     "name": "stderr",
     "output_type": "stream",
     "text": [
      "100%|██████████| 36/36 [00:05<00:00,  6.49it/s]\n",
      "100%|██████████| 130/130 [00:20<00:00,  6.48it/s]\n"
     ]
    },
    {
     "name": "stdout",
     "output_type": "stream",
     "text": [
      "minirocket, ToeSegmentation2, (None, None), (discriminative_guided_warp, {'batch_size': 5}), 0.9 DONE\n"
     ]
    },
    {
     "name": "stderr",
     "output_type": "stream",
     "text": [
      "100%|██████████| 100/100 [00:10<00:00,  9.84it/s]\n",
      "100%|██████████| 100/100 [00:10<00:00,  9.84it/s]\n"
     ]
    },
    {
     "name": "stdout",
     "output_type": "stream",
     "text": [
      "minirocket, Trace, (None, None), (discriminative_guided_warp, {'batch_size': 5}), 1.0 DONE\n"
     ]
    },
    {
     "name": "stderr",
     "output_type": "stream",
     "text": [
      "100%|██████████| 23/23 [00:00<00:00, 74.31it/s]\n",
      "100%|██████████| 1139/1139 [00:14<00:00, 77.35it/s]\n"
     ]
    },
    {
     "name": "stdout",
     "output_type": "stream",
     "text": [
      "minirocket, TwoLeadECG, (None, None), (discriminative_guided_warp, {'batch_size': 5}), 0.9675153643546971 DONE\n"
     ]
    },
    {
     "name": "stderr",
     "output_type": "stream",
     "text": [
      "100%|██████████| 1000/1000 [00:25<00:00, 38.86it/s]\n",
      "100%|██████████| 4000/4000 [01:42<00:00, 38.85it/s]\n"
     ]
    },
    {
     "name": "stdout",
     "output_type": "stream",
     "text": [
      "minirocket, TwoPatterns, (None, None), (discriminative_guided_warp, {'batch_size': 5}), 0.9655 DONE\n"
     ]
    },
    {
     "name": "stderr",
     "output_type": "stream",
     "text": [
      "100%|██████████| 896/896 [16:28<00:00,  1.10s/it]\n",
      " 19%|█▊        | 669/3582 [12:31<56:05,  1.16s/it]  "
     ]
    }
   ],
   "source": [
    "from time_series_augmentation.utils import augmentation as aug\n",
    "\n",
    "variation = \"minirocket\"\n",
    "classifier = {\n",
    "    \"name\": variation,\n",
    "    \"function\": RocketClassifier(rocket_transform=variation),\n",
    "}\n",
    "datasets = read_UCR_dataset_name(mySelection=0.0, bakeoff=True)\n",
    "preprocess = {\"name\":None}\n",
    "augments = {\n",
    "    \"name\": aug.discriminative_guided_warp.__name__,\n",
    "    \"function\": aug.discriminative_guided_warp,\n",
    "    \"concat_original\": False,\n",
    "    \"enter_label\": True,\n",
    "    \"params\": {\"batch_size\": [5, 6]},\n",
    "}\n",
    "\n",
    "experiment_set = ExperimentSet(\n",
    "    classifier=classifier, datasets=datasets, preprocess=preprocess, augments=augments, save_result=True, save_data=True\n",
    ")\n",
    "experiment_set.run_all()"
   ]
  },
  {
   "cell_type": "code",
   "execution_count": 2,
   "metadata": {},
   "outputs": [
    {
     "name": "stderr",
     "output_type": "stream",
     "text": [
      "100%|██████████| 390/390 [00:33<00:00, 11.54it/s]\n",
      "100%|██████████| 391/391 [00:34<00:00, 11.20it/s]\n",
      "OMP: Info #276: omp_set_nested routine deprecated, please use omp_set_max_active_levels instead.\n"
     ]
    },
    {
     "name": "stdout",
     "output_type": "stream",
     "text": [
      "minirocket, Adiac, (None, None), (discriminative_guided_warp, {'batch_size': 7}), 0.47570332480818417 DONE\n"
     ]
    },
    {
     "name": "stderr",
     "output_type": "stream",
     "text": [
      "100%|██████████| 36/36 [00:06<00:00,  5.91it/s]\n",
      "100%|██████████| 175/175 [00:29<00:00,  5.85it/s]\n"
     ]
    },
    {
     "name": "stdout",
     "output_type": "stream",
     "text": [
      "minirocket, ArrowHead, (None, None), (discriminative_guided_warp, {'batch_size': 7}), 0.7314285714285714 DONE\n"
     ]
    },
    {
     "name": "stderr",
     "output_type": "stream",
     "text": [
      "100%|██████████| 30/30 [00:16<00:00,  1.79it/s]\n",
      "100%|██████████| 30/30 [00:16<00:00,  1.79it/s]\n"
     ]
    },
    {
     "name": "stdout",
     "output_type": "stream",
     "text": [
      "minirocket, Beef, (None, None), (discriminative_guided_warp, {'batch_size': 7}), 0.7333333333333333 DONE\n"
     ]
    },
    {
     "name": "stderr",
     "output_type": "stream",
     "text": [
      "100%|██████████| 20/20 [00:13<00:00,  1.49it/s]\n",
      "100%|██████████| 20/20 [00:13<00:00,  1.46it/s]\n"
     ]
    },
    {
     "name": "stdout",
     "output_type": "stream",
     "text": [
      "minirocket, BeetleFly, (None, None), (discriminative_guided_warp, {'batch_size': 7}), 0.8 DONE\n"
     ]
    },
    {
     "name": "stderr",
     "output_type": "stream",
     "text": [
      "100%|██████████| 20/20 [00:13<00:00,  1.43it/s]\n",
      "100%|██████████| 20/20 [00:13<00:00,  1.49it/s]\n"
     ]
    },
    {
     "name": "stdout",
     "output_type": "stream",
     "text": [
      "minirocket, BirdChicken, (None, None), (discriminative_guided_warp, {'batch_size': 7}), 0.95 DONE\n"
     ]
    },
    {
     "name": "stderr",
     "output_type": "stream",
     "text": [
      "100%|██████████| 60/60 [00:49<00:00,  1.21it/s]\n",
      "100%|██████████| 60/60 [00:49<00:00,  1.22it/s]\n"
     ]
    },
    {
     "name": "stdout",
     "output_type": "stream",
     "text": [
      "minirocket, Car, (None, None), (discriminative_guided_warp, {'batch_size': 7}), 0.75 DONE\n"
     ]
    },
    {
     "name": "stderr",
     "output_type": "stream",
     "text": [
      "100%|██████████| 30/30 [00:01<00:00, 20.11it/s]\n",
      "100%|██████████| 900/900 [00:44<00:00, 20.18it/s]\n"
     ]
    },
    {
     "name": "stdout",
     "output_type": "stream",
     "text": [
      "minirocket, CBF, (None, None), (discriminative_guided_warp, {'batch_size': 7}), 0.9733333333333334 DONE\n"
     ]
    },
    {
     "name": "stderr",
     "output_type": "stream",
     "text": [
      "100%|██████████| 467/467 [00:36<00:00, 12.68it/s]\n",
      "100%|██████████| 3840/3840 [05:03<00:00, 12.67it/s]\n"
     ]
    },
    {
     "name": "stdout",
     "output_type": "stream",
     "text": [
      "minirocket, ChlorineConcentration, (None, None), (discriminative_guided_warp, {'batch_size': 7}), 0.5278645833333333 DONE\n"
     ]
    },
    {
     "name": "stderr",
     "output_type": "stream",
     "text": [
      "100%|██████████| 40/40 [04:15<00:00,  6.40s/it]\n",
      "100%|██████████| 1380/1380 [2:25:57<00:00,  6.35s/it] \n"
     ]
    },
    {
     "name": "stdout",
     "output_type": "stream",
     "text": [
      "minirocket, CinCECGTorso, (None, None), (discriminative_guided_warp, {'batch_size': 7}), 0.7079710144927536 DONE\n"
     ]
    },
    {
     "name": "stderr",
     "output_type": "stream",
     "text": [
      "100%|██████████| 28/28 [00:05<00:00,  4.80it/s]\n",
      "100%|██████████| 28/28 [00:05<00:00,  4.80it/s]\n"
     ]
    },
    {
     "name": "stdout",
     "output_type": "stream",
     "text": [
      "minirocket, Coffee, (None, None), (discriminative_guided_warp, {'batch_size': 7}), 1.0 DONE\n"
     ]
    },
    {
     "name": "stderr",
     "output_type": "stream",
     "text": [
      "100%|██████████| 250/250 [05:10<00:00,  1.24s/it]\n",
      "100%|██████████| 250/250 [05:10<00:00,  1.24s/it]\n"
     ]
    },
    {
     "name": "stdout",
     "output_type": "stream",
     "text": [
      "minirocket, Computers, (None, None), (discriminative_guided_warp, {'batch_size': 7}), 0.764 DONE\n"
     ]
    },
    {
     "name": "stderr",
     "output_type": "stream",
     "text": [
      "100%|██████████| 390/390 [01:27<00:00,  4.44it/s]\n",
      "100%|██████████| 390/390 [01:30<00:00,  4.29it/s]\n"
     ]
    },
    {
     "name": "stdout",
     "output_type": "stream",
     "text": [
      "minirocket, CricketX, (None, None), (discriminative_guided_warp, {'batch_size': 7}), 0.7102564102564103 DONE\n"
     ]
    },
    {
     "name": "stderr",
     "output_type": "stream",
     "text": [
      "100%|██████████| 390/390 [01:30<00:00,  4.30it/s]\n",
      "100%|██████████| 390/390 [01:30<00:00,  4.33it/s]\n"
     ]
    },
    {
     "name": "stdout",
     "output_type": "stream",
     "text": [
      "minirocket, CricketY, (None, None), (discriminative_guided_warp, {'batch_size': 7}), 0.7051282051282052 DONE\n"
     ]
    },
    {
     "name": "stderr",
     "output_type": "stream",
     "text": [
      "100%|██████████| 390/390 [01:31<00:00,  4.26it/s]\n",
      "100%|██████████| 390/390 [01:35<00:00,  4.08it/s]\n"
     ]
    },
    {
     "name": "stdout",
     "output_type": "stream",
     "text": [
      "minirocket, CricketZ, (None, None), (discriminative_guided_warp, {'batch_size': 7}), 0.7333333333333333 DONE\n"
     ]
    },
    {
     "name": "stderr",
     "output_type": "stream",
     "text": [
      "100%|██████████| 16/16 [00:04<00:00,  3.74it/s]\n",
      "100%|██████████| 306/306 [01:33<00:00,  3.26it/s]\n"
     ]
    },
    {
     "name": "stdout",
     "output_type": "stream",
     "text": [
      "minirocket, DiatomSizeReduction, (None, None), (discriminative_guided_warp, {'batch_size': 7}), 0.7320261437908496 DONE\n"
     ]
    },
    {
     "name": "stderr",
     "output_type": "stream",
     "text": [
      "100%|██████████| 400/400 [00:09<00:00, 41.04it/s]\n",
      "100%|██████████| 139/139 [00:03<00:00, 41.65it/s]\n"
     ]
    },
    {
     "name": "stdout",
     "output_type": "stream",
     "text": [
      "minirocket, DistalPhalanxOutlineAgeGroup, (None, None), (discriminative_guided_warp, {'batch_size': 7}), 0.920863309352518 DONE\n"
     ]
    },
    {
     "name": "stderr",
     "output_type": "stream",
     "text": [
      "100%|██████████| 600/600 [00:14<00:00, 42.25it/s]\n",
      "100%|██████████| 276/276 [00:06<00:00, 41.55it/s]\n"
     ]
    },
    {
     "name": "stdout",
     "output_type": "stream",
     "text": [
      "minirocket, DistalPhalanxOutlineCorrect, (None, None), (discriminative_guided_warp, {'batch_size': 7}), 0.7717391304347826 DONE\n"
     ]
    },
    {
     "name": "stderr",
     "output_type": "stream",
     "text": [
      "100%|██████████| 400/400 [00:09<00:00, 40.92it/s]\n",
      "100%|██████████| 139/139 [00:03<00:00, 42.68it/s]\n"
     ]
    },
    {
     "name": "stdout",
     "output_type": "stream",
     "text": [
      "minirocket, DistalPhalanxTW, (None, None), (discriminative_guided_warp, {'batch_size': 7}), 0.6906474820143885 DONE\n"
     ]
    },
    {
     "name": "stderr",
     "output_type": "stream",
     "text": [
      "100%|██████████| 322/322 [03:36<00:00,  1.49it/s]\n",
      "100%|██████████| 139/139 [01:33<00:00,  1.48it/s]\n"
     ]
    },
    {
     "name": "stdout",
     "output_type": "stream",
     "text": [
      "minirocket, Earthquakes, (None, None), (discriminative_guided_warp, {'batch_size': 7}), 0.7266187050359713 DONE\n"
     ]
    },
    {
     "name": "stderr",
     "output_type": "stream",
     "text": [
      "100%|██████████| 100/100 [00:03<00:00, 31.42it/s]\n",
      "100%|██████████| 100/100 [00:03<00:00, 31.38it/s]\n"
     ]
    },
    {
     "name": "stdout",
     "output_type": "stream",
     "text": [
      "minirocket, ECG200, (None, None), (discriminative_guided_warp, {'batch_size': 7}), 0.89 DONE\n"
     ]
    },
    {
     "name": "stderr",
     "output_type": "stream",
     "text": [
      "100%|██████████| 500/500 [00:30<00:00, 16.41it/s]\n",
      "100%|██████████| 4500/4500 [04:24<00:00, 16.99it/s]\n"
     ]
    },
    {
     "name": "stdout",
     "output_type": "stream",
     "text": [
      "minirocket, ECG5000, (None, None), (discriminative_guided_warp, {'batch_size': 7}), 0.9408888888888889 DONE\n"
     ]
    },
    {
     "name": "stderr",
     "output_type": "stream",
     "text": [
      "100%|██████████| 23/23 [00:01<00:00, 17.73it/s]\n",
      "100%|██████████| 861/861 [00:48<00:00, 17.65it/s]\n"
     ]
    },
    {
     "name": "stdout",
     "output_type": "stream",
     "text": [
      "minirocket, ECGFiveDays, (None, None), (discriminative_guided_warp, {'batch_size': 7}), 0.867595818815331 DONE\n"
     ]
    },
    {
     "name": "stderr",
     "output_type": "stream",
     "text": [
      "100%|██████████| 8926/8926 [04:43<00:00, 31.52it/s]\n",
      " 80%|███████▉  | 6145/7711 [03:19<00:51, 30.67it/s]"
     ]
    }
   ],
   "source": [
    "from time_series_augmentation.utils import augmentation as aug\n",
    "\n",
    "variation = \"minirocket\"\n",
    "classifier = {\n",
    "    \"name\": variation,\n",
    "    \"function\": RocketClassifier(rocket_transform=variation),\n",
    "}\n",
    "datasets = read_UCR_dataset_name(mySelection=0.0, bakeoff=True)\n",
    "preprocess = {\"name\":None}\n",
    "augments = {\n",
    "    \"name\": aug.discriminative_guided_warp.__name__,\n",
    "    \"function\": aug.discriminative_guided_warp,\n",
    "    \"concat_original\": False,\n",
    "    \"enter_label\": True,\n",
    "    \"params\": {\"batch_size\": [7]},\n",
    "}\n",
    "\n",
    "experiment_set = ExperimentSet(\n",
    "    classifier=classifier, datasets=datasets, preprocess=preprocess, augments=augments, save_result=True, save_data=True\n",
    ")\n",
    "experiment_set.run_all()"
   ]
  },
  {
   "cell_type": "markdown",
   "metadata": {},
   "source": [
    "----------"
   ]
  },
  {
   "cell_type": "code",
   "execution_count": 3,
   "metadata": {},
   "outputs": [
    {
     "data": {
      "image/png": "[encoded data removed]",
      "text/plain": [
       "<Figure size 1000x400 with 1 Axes>"
      ]
     },
     "metadata": {},
     "output_type": "display_data"
    }
   ],
   "source": [
    "import numpy as np\n",
    "import matplotlib.pyplot as plt\n",
    "\n",
    "# Set a random seed for reproducibility\n",
    "np.random.seed(42)\n",
    "\n",
    "# Number of time points\n",
    "num_time_points = 100\n",
    "\n",
    "# Create a synthetic 1D time series\n",
    "time_series_values = np.random.randn(num_time_points)\n",
    "\n",
    "# Set a threshold to determine binary labels\n",
    "threshold = 0.5\n",
    "\n",
    "# Create labels (binary classification) based on the threshold\n",
    "time_series_labels = (time_series_values > threshold).astype(int)\n",
    "\n",
    "# Display the time series and labels\n",
    "plt.figure(figsize=(10, 4))\n",
    "plt.plot(time_series_values, label='Time Series Values')\n",
    "# plt.plot(time_series_labels - 0.5, label='Labels', linestyle='--', marker='o', markersize=8)\n",
    "plt.axhline(y=0, color='black', linestyle='--', linewidth=1, alpha=0.5, label='Threshold')\n",
    "plt.title('1D Time Series Data with Binary Labels')\n",
    "plt.xlabel('Time Points')\n",
    "plt.ylabel('Values / Labels')\n",
    "plt.legend()\n",
    "plt.show()\n"
   ]
  },
  {
   "cell_type": "code",
   "execution_count": 5,
   "metadata": {},
   "outputs": [
    {
     "data": {
      "text/plain": [
       "array([ 0.49671415, -0.1382643 ,  0.64768854,  1.52302986, -0.23415337,\n",
       "       -0.23413696,  1.57921282,  0.76743473, -0.46947439,  0.54256004,\n",
       "       -0.46341769, -0.46572975,  0.24196227, -1.91328024, -1.72491783,\n",
       "       -0.56228753, -1.01283112,  0.31424733, -0.90802408, -1.4123037 ,\n",
       "        1.46564877, -0.2257763 ,  0.0675282 , -1.42474819, -0.54438272,\n",
       "        0.11092259, -1.15099358,  0.37569802, -0.60063869, -0.29169375,\n",
       "       -0.60170661,  1.85227818, -0.01349722, -1.05771093,  0.82254491,\n",
       "       -1.22084365,  0.2088636 , -1.95967012, -1.32818605,  0.19686124,\n",
       "        0.73846658,  0.17136828, -0.11564828, -0.3011037 , -1.47852199,\n",
       "       -0.71984421, -0.46063877,  1.05712223,  0.34361829, -1.76304016,\n",
       "        0.32408397, -0.38508228, -0.676922  ,  0.61167629,  1.03099952,\n",
       "        0.93128012, -0.83921752, -0.30921238,  0.33126343,  0.97554513,\n",
       "       -0.47917424, -0.18565898, -1.10633497, -1.19620662,  0.81252582,\n",
       "        1.35624003, -0.07201012,  1.0035329 ,  0.36163603, -0.64511975,\n",
       "        0.36139561,  1.53803657, -0.03582604,  1.56464366, -2.6197451 ,\n",
       "        0.8219025 ,  0.08704707, -0.29900735,  0.09176078, -1.98756891,\n",
       "       -0.21967189,  0.35711257,  1.47789404, -0.51827022, -0.8084936 ,\n",
       "       -0.50175704,  0.91540212,  0.32875111, -0.5297602 ,  0.51326743,\n",
       "        0.09707755,  0.96864499, -0.70205309, -0.32766215, -0.39210815,\n",
       "       -1.46351495,  0.29612028,  0.26105527,  0.00511346, -0.23458713])"
      ]
     },
     "execution_count": 5,
     "metadata": {},
     "output_type": "execute_result"
    }
   ],
   "source": [
    "time_series_values"
   ]
  },
  {
   "cell_type": "code",
   "execution_count": 14,
   "metadata": {},
   "outputs": [],
   "source": [
    "time_series_values = time_series_values.reshape(1, -1)\n",
    "time_series_labels = time_series_labels.reshape(1, -1)"
   ]
  },
  {
   "cell_type": "code",
   "execution_count": 15,
   "metadata": {},
   "outputs": [
    {
     "data": {
      "text/plain": [
       "(1, 100)"
      ]
     },
     "execution_count": 15,
     "metadata": {},
     "output_type": "execute_result"
    }
   ],
   "source": [
    "time_series_labels.shape"
   ]
  },
  {
   "cell_type": "code",
   "execution_count": 2,
   "metadata": {},
   "outputs": [
    {
     "name": "stdout",
     "output_type": "stream",
     "text": [
      "Collecting imblearn\n",
      "  Downloading imblearn-0.0-py2.py3-none-any.whl (1.9 kB)\n",
      "Collecting imbalanced-learn\n",
      "  Downloading imbalanced_learn-0.11.0-py3-none-any.whl (235 kB)\n",
      "\u001b[2K     \u001b[90m━━━━━━━━━━━━━━━━━━━━━━━━━━━━━━━━━━━━━━━\u001b[0m \u001b[32m235.6/235.6 kB\u001b[0m \u001b[31m5.3 MB/s\u001b[0m eta \u001b[36m0:00:00\u001b[0m00:01\u001b[0m\n",
      "\u001b[?25hRequirement already satisfied: threadpoolctl>=2.0.0 in /Users/pongpanod.san.adm/miniconda3/envs/thesis3.10/lib/python3.10/site-packages (from imbalanced-learn->imblearn) (2.2.0)\n",
      "Requirement already satisfied: scipy>=1.5.0 in /Users/pongpanod.san.adm/miniconda3/envs/thesis3.10/lib/python3.10/site-packages (from imbalanced-learn->imblearn) (1.10.0)\n",
      "Requirement already satisfied: scikit-learn>=1.0.2 in /Users/pongpanod.san.adm/miniconda3/envs/thesis3.10/lib/python3.10/site-packages (from imbalanced-learn->imblearn) (1.2.2)\n",
      "Requirement already satisfied: numpy>=1.17.3 in /Users/pongpanod.san.adm/miniconda3/envs/thesis3.10/lib/python3.10/site-packages (from imbalanced-learn->imblearn) (1.23.5)\n",
      "Requirement already satisfied: joblib>=1.1.1 in /Users/pongpanod.san.adm/miniconda3/envs/thesis3.10/lib/python3.10/site-packages (from imbalanced-learn->imblearn) (1.1.1)\n",
      "Installing collected packages: imbalanced-learn, imblearn\n",
      "Successfully installed imbalanced-learn-0.11.0 imblearn-0.0\n"
     ]
    }
   ],
   "source": [
    "!pip install imblearn"
   ]
  },
  {
   "cell_type": "code",
   "execution_count": null,
   "metadata": {},
   "outputs": [],
   "source": []
  }
 ],
 "metadata": {
  "kernelspec": {
   "display_name": "thesis3.10",
   "language": "python",
   "name": "python3"
  },
  "language_info": {
   "codemirror_mode": {
    "name": "ipython",
    "version": 3
   },
   "file_extension": ".py",
   "mimetype": "text/x-python",
   "name": "python",
   "nbconvert_exporter": "python",
   "pygments_lexer": "ipython3",
   "version": "3.10.10"
  },
  "orig_nbformat": 4,
  "vscode": {
   "interpreter": {
    "hash": "ffd4f62c38baa1ece4ec6c2534f3f788090e745d10d9094b86edc39a20217e26"
   }
  }
 },
 "nbformat": 4,
 "nbformat_minor": 2
}
