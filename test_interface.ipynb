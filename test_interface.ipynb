{
 "cells": [
  {
   "cell_type": "code",
   "execution_count": 1,
   "metadata": {},
   "outputs": [],
   "source": [
    "import matplotlib.pyplot as plt\n",
    "import pandas as pd\n",
    "\n",
    "import time_series_augmentation.utils.augmentation as aug\n",
    "import time_series_augmentation.utils.helper as hlp\n",
    "from utils.logging import saving_result\n",
    "from utils.read import read_UCRArchive, reshape_new_to_old_format, reshape_old_to_new_format"
   ]
  },
  {
   "cell_type": "code",
   "execution_count": 2,
   "metadata": {},
   "outputs": [],
   "source": [
    "file_path = '../Data/UCRArchive_2018'\n",
    "x_train, y_train, x_test, y_test = read_UCRArchive(file_path, 'Adiac')"
   ]
  },
  {
   "cell_type": "code",
   "execution_count": 3,
   "metadata": {},
   "outputs": [],
   "source": [
    "augmentation_funcs = [aug.jitter, aug.scaling, aug.rotation, aug.permutation, aug.magnitude_warp ]\n",
    "\n",
    "def augmentation_loop(augmentation_list, x_train, x_test):\n",
    "    x_train_aug = list()\n",
    "    x_test_aug = list()\n",
    "    for method in augmentation_list:\n",
    "        x_train_aug.append(method(x_train))\n",
    "        x_test_aug.append(method(x_test))\n",
    "    return x_train_aug, x_test_aug"
   ]
  },
  {
   "cell_type": "code",
   "execution_count": 4,
   "metadata": {},
   "outputs": [
    {
     "name": "stderr",
     "output_type": "stream",
     "text": [
      "/Users/Pongpanod.Sa/Desktop/cu/thesis/coding/pun_master_thesis/time_series_augmentation/utils/augmentation.py:33: VisibleDeprecationWarning: Creating an ndarray from ragged nested sequences (which is a list-or-tuple of lists-or-tuples-or ndarrays with different lengths or shapes) is deprecated. If you meant to do this, you must specify 'dtype=object' when creating the ndarray.\n",
      "  warp = np.concatenate(np.random.permutation(splits)).ravel()\n",
      "<__array_function__ internals>:180: VisibleDeprecationWarning: Creating an ndarray from ragged nested sequences (which is a list-or-tuple of lists-or-tuples-or ndarrays with different lengths or shapes) is deprecated. If you meant to do this, you must specify 'dtype=object' when creating the ndarray.\n"
     ]
    }
   ],
   "source": [
    "x_train_aug, x_test_aug = augmentation_loop(augmentation_funcs, x_train, x_test)"
   ]
  },
  {
   "attachments": {},
   "cell_type": "markdown",
   "metadata": {},
   "source": [
    "### Baseline"
   ]
  },
  {
   "cell_type": "code",
   "execution_count": 7,
   "metadata": {},
   "outputs": [
    {
     "name": "stderr",
     "output_type": "stream",
     "text": [
      "OMP: Info #276: omp_set_nested routine deprecated, please use omp_set_max_active_levels instead.\n"
     ]
    }
   ],
   "source": [
    "from sktime.datasets import load_UCR_UEA_dataset\n",
    "from sktime.classification.kernel_based import RocketClassifier\n",
    "from sklearn.metrics import accuracy_score"
   ]
  },
  {
   "cell_type": "code",
   "execution_count": 229,
   "metadata": {},
   "outputs": [
    {
     "name": "stdout",
     "output_type": "stream",
     "text": [
      "(2, 3, 1)\n",
      "[[[1]\n",
      "  [2]\n",
      "  [3]]\n",
      "\n",
      " [[7]\n",
      "  [8]\n",
      "  [9]]]\n",
      "(2, 1, 3)\n",
      "[[[1 2 3]]\n",
      "\n",
      " [[7 8 9]]]\n"
     ]
    }
   ],
   "source": [
    "# Used to (num of sample, sample length, dim)\n",
    "arr1 = np.array(\n",
    "    [\n",
    "        [\n",
    "            [1,2,3],\n",
    "        ], \n",
    "        [\n",
    "            [7,8,9],\n",
    "        ]\n",
    "    ])\n",
    "arr1 = arr1.reshape(2, 3, 1)\n",
    "print(arr1.shape)\n",
    "print(arr1)\n",
    "\n",
    "# New (num of sample, dim, sample length)\n",
    "arr1 = np.array(\n",
    "    [\n",
    "        [\n",
    "            [1,2,3],\n",
    "        ], \n",
    "        [\n",
    "            [7,8,9],\n",
    "        ]\n",
    "    ])\n",
    "print(arr1.shape)\n",
    "print(arr1)\n"
   ]
  },
  {
   "cell_type": "code",
   "execution_count": 231,
   "metadata": {},
   "outputs": [
    {
     "name": "stdout",
     "output_type": "stream",
     "text": [
      "(390, 176)\n"
     ]
    }
   ],
   "source": [
    "x_train, y_train = load_UCR_UEA_dataset('Adiac', split=\"train\", return_X_y=True, return_type='numpy2D')\n",
    "shape = x_train.shape\n",
    "x_train = x_train.reshape((shape[0], shape[1], 1))\n",
    "\n",
    "print(x_train.shape)"
   ]
  },
  {
   "cell_type": "code",
   "execution_count": 169,
   "metadata": {},
   "outputs": [],
   "source": [
    "UCR_DATASET_KEY = ['Adiac', 'ArrowHead', 'Beef', 'BeetleFly', 'BirdChicken', 'Car', 'CBF', 'ChlorineConcentration', 'CinCECGTorso', 'Coffee']"
   ]
  },
  {
   "attachments": {},
   "cell_type": "markdown",
   "metadata": {},
   "source": [
    "---------------\n",
    "## Experiment"
   ]
  },
  {
   "cell_type": "code",
   "execution_count": 5,
   "metadata": {},
   "outputs": [
    {
     "name": "stderr",
     "output_type": "stream",
     "text": [
      "OMP: Info #276: omp_set_nested routine deprecated, please use omp_set_max_active_levels instead.\n"
     ]
    }
   ],
   "source": [
    "from sktime.datasets import load_UCR_UEA_dataset\n",
    "from sktime.classification.kernel_based import RocketClassifier\n",
    "from sklearn.metrics import accuracy_score, precision_recall_fscore_support"
   ]
  },
  {
   "attachments": {},
   "cell_type": "markdown",
   "metadata": {},
   "source": [
    "### Baseline"
   ]
  },
  {
   "cell_type": "code",
   "execution_count": 7,
   "metadata": {},
   "outputs": [
    {
     "name": "stdout",
     "output_type": "stream",
     "text": [
      "Adiac ==> 0.7749360613810742\n"
     ]
    }
   ],
   "source": [
    "x_train, y_train = load_UCR_UEA_dataset('Adiac', split=\"train\", return_X_y=True, return_type='numpy2D')\n",
    "x_test, y_test= load_UCR_UEA_dataset('Adiac', split=\"test\", return_X_y=True, return_type='numpy2D')\n",
    "\n",
    "x_train = reshape_new_to_old_format(x_train)\n",
    "x_train = reshape_old_to_new_format(x_train)\n",
    "\n",
    "x_test = reshape_new_to_old_format(x_test)\n",
    "x_test = reshape_old_to_new_format(x_test)\n",
    "\n",
    "rocket = RocketClassifier()\n",
    "rocket.fit(x_train, y_train)\n",
    "y_pred = rocket.predict(x_test)\n",
    "acc = accuracy_score(y_test, y_pred)\n",
    "print('Adiac', '==>', acc)"
   ]
  },
  {
   "cell_type": "code",
   "execution_count": 9,
   "metadata": {},
   "outputs": [],
   "source": [
    "pricision, recall, fbeta, support = precision_recall_fscore_support(y_test, y_pred)"
   ]
  },
  {
   "cell_type": "code",
   "execution_count": null,
   "metadata": {},
   "outputs": [],
   "source": [
    "saving_result(\n",
    "    {'accuracy_score': acc}, \n",
    "    {'model_name': 'Rocket'},\n",
    "    {'dataset_name': dataset_name, \"datapoint_shape\": dataset.shape, \"number_of_class\":len(set(list(y_pred)))},\n",
    "    {'augmentation_name', augmentation, **aug_params},\n",
    "    )"
   ]
  },
  {
   "attachments": {},
   "cell_type": "markdown",
   "metadata": {},
   "source": [
    "### Augmentation"
   ]
  },
  {
   "attachments": {},
   "cell_type": "markdown",
   "metadata": {},
   "source": [
    "#### Jitter"
   ]
  },
  {
   "cell_type": "code",
   "execution_count": null,
   "metadata": {},
   "outputs": [],
   "source": [
    "x_train, y_train = load_UCR_UEA_dataset('Adiac', split=\"train\", return_X_y=True, return_type='numpy2D')\n",
    "x_train = reshape_new_to_old_format(x_train)\n",
    "\n",
    "plt.plot(x_train[0])\n",
    "plt.plot(aug.jitter(x_train, sigma=0.5)[0])"
   ]
  },
  {
   "cell_type": "code",
   "execution_count": 20,
   "metadata": {},
   "outputs": [
    {
     "name": "stdout",
     "output_type": "stream",
     "text": [
      "Adiac JITTER(sigma=0.02) ==> 0.7033248081841432\n",
      "Adiac JITTER(sigma=0.04) ==> 0.5856777493606138\n",
      "Adiac JITTER(sigma=0.06) ==> 0.5447570332480819\n",
      "Adiac JITTER(sigma=0.08) ==> 0.45012787723785164\n",
      "Adiac JITTER(sigma=0.1) ==> 0.3452685421994885\n",
      "Adiac JITTER(sigma=0.12) ==> 0.3171355498721228\n",
      "Adiac JITTER(sigma=0.14) ==> 0.29923273657289\n",
      "Adiac JITTER(sigma=0.16) ==> 0.3145780051150895\n",
      "Adiac JITTER(sigma=0.18) ==> 0.2813299232736573\n",
      "Adiac JITTER(sigma=0.2) ==> 0.23017902813299232\n"
     ]
    }
   ],
   "source": [
    "x_train, y_train = load_UCR_UEA_dataset('Adiac', split=\"train\", return_X_y=True, return_type='numpy2D')\n",
    "x_test, y_test= load_UCR_UEA_dataset('Adiac', split=\"test\", return_X_y=True, return_type='numpy2D')\n",
    "\n",
    "for i in range(2, 22, 2):\n",
    "    sigma = (i/100)\n",
    "    x_train = reshape_new_to_old_format(x_train)\n",
    "    x_train_jitter = aug.jitter(x_train, sigma=sigma)\n",
    "    x_train_jitter = reshape_old_to_new_format(x_train_jitter)\n",
    "\n",
    "    x_test = reshape_new_to_old_format(x_test)\n",
    "    x_test_jitter = aug.jitter(x_test, sigma=sigma)\n",
    "    x_test_jitter = reshape_old_to_new_format(x_test_jitter)\n",
    "\n",
    "    rocket = RocketClassifier()\n",
    "    rocket.fit(x_train_jitter, y_train)\n",
    "    y_pred = rocket.predict(x_test_jitter)\n",
    "    acc = accuracy_score(y_test, y_pred)\n",
    "    print(f'Adiac JITTER(sigma={sigma})', '==>', acc)"
   ]
  },
  {
   "attachments": {},
   "cell_type": "markdown",
   "metadata": {},
   "source": [
    "#### Scaling"
   ]
  },
  {
   "cell_type": "code",
   "execution_count": 32,
   "metadata": {},
   "outputs": [
    {
     "name": "stdout",
     "output_type": "stream",
     "text": [
      "\n"
     ]
    },
    {
     "data": {
      "text/plain": [
       "[<matplotlib.lines.Line2D at 0x161f7d5a0>]"
      ]
     },
     "execution_count": 32,
     "metadata": {},
     "output_type": "execute_result"
    },
    {
     "data": {
      "image/png": "[encoded data removed]",
      "text/plain": [
       "<Figure size 432x288 with 1 Axes>"
      ]
     },
     "metadata": {
      "needs_background": "light"
     },
     "output_type": "display_data"
    }
   ],
   "source": [
    "x_train, y_train = load_UCR_UEA_dataset('Adiac', split=\"train\", return_X_y=True, return_type='numpy2D')\n",
    "x_train = reshape_new_to_old_format(x_train)\n",
    "\n",
    "plt.plot(x_train[0])\n",
    "plt.plot(aug.scaling(x_train, sigma=1)[0])"
   ]
  },
  {
   "cell_type": "code",
   "execution_count": 38,
   "metadata": {},
   "outputs": [
    {
     "name": "stdout",
     "output_type": "stream",
     "text": [
      "Adiac Scaling(sigma=0.1) ==> 0.7774936061381074\n",
      "Adiac Scaling(sigma=0.2) ==> 0.7877237851662404\n",
      "Adiac Scaling(sigma=0.3) ==> 0.7877237851662404\n",
      "Adiac Scaling(sigma=0.4) ==> 0.7877237851662404\n",
      "Adiac Scaling(sigma=0.5) ==> 0.7877237851662404\n",
      "Adiac Scaling(sigma=0.6) ==> 0.7391304347826086\n",
      "Adiac Scaling(sigma=0.7) ==> 0.7595907928388747\n",
      "Adiac Scaling(sigma=0.8) ==> 0.7391304347826086\n",
      "Adiac Scaling(sigma=0.9) ==> 0.7237851662404092\n",
      "Adiac Scaling(sigma=1.0) ==> 0.7416879795396419\n",
      "Adiac Scaling(sigma=1.1) ==> 0.6982097186700768\n",
      "Adiac Scaling(sigma=1.2) ==> 0.7468030690537084\n",
      "Adiac Scaling(sigma=1.3) ==> 0.7263427109974424\n",
      "Adiac Scaling(sigma=1.4) ==> 0.7263427109974424\n",
      "Adiac Scaling(sigma=1.5) ==> 0.7391304347826086\n",
      "Adiac Scaling(sigma=1.6) ==> 0.7033248081841432\n",
      "Adiac Scaling(sigma=1.7) ==> 0.6777493606138107\n",
      "Adiac Scaling(sigma=1.8) ==> 0.7007672634271099\n",
      "Adiac Scaling(sigma=1.9) ==> 0.7263427109974424\n"
     ]
    }
   ],
   "source": [
    "x_train, y_train = load_UCR_UEA_dataset('Adiac', split=\"train\", return_X_y=True, return_type='numpy2D')\n",
    "x_test, y_test= load_UCR_UEA_dataset('Adiac', split=\"test\", return_X_y=True, return_type='numpy2D')\n",
    "\n",
    "for i in range(1, 20, 1):\n",
    "    sigma = (i/10)\n",
    "    x_train = reshape_new_to_old_format(x_train)\n",
    "    x_train_jitter = aug.scaling(x_train, sigma=sigma)\n",
    "    x_train_jitter = reshape_old_to_new_format(x_train_jitter)\n",
    "\n",
    "    x_test = reshape_new_to_old_format(x_test)\n",
    "    x_test_jitter = aug.scaling(x_test, sigma=sigma)\n",
    "    x_test_jitter = reshape_old_to_new_format(x_test_jitter)\n",
    "\n",
    "    rocket = RocketClassifier()\n",
    "    rocket.fit(x_train_jitter, y_train)\n",
    "    y_pred = rocket.predict(x_test_jitter)\n",
    "    acc = accuracy_score(y_test, y_pred)\n",
    "    print(f'Adiac Scaling(sigma={sigma})', '==>', acc)"
   ]
  },
  {
   "attachments": {},
   "cell_type": "markdown",
   "metadata": {},
   "source": [
    "#### Permutation"
   ]
  },
  {
   "cell_type": "code",
   "execution_count": 40,
   "metadata": {},
   "outputs": [
    {
     "name": "stderr",
     "output_type": "stream",
     "text": [
      "/Users/Pongpanod.Sa/Desktop/cu/thesis/coding/pun_master_thesis/time_series_augmentation/utils/augmentation.py:33: VisibleDeprecationWarning: Creating an ndarray from ragged nested sequences (which is a list-or-tuple of lists-or-tuples-or ndarrays with different lengths or shapes) is deprecated. If you meant to do this, you must specify 'dtype=object' when creating the ndarray.\n",
      "  warp = np.concatenate(np.random.permutation(splits)).ravel()\n",
      "<__array_function__ internals>:180: VisibleDeprecationWarning: Creating an ndarray from ragged nested sequences (which is a list-or-tuple of lists-or-tuples-or ndarrays with different lengths or shapes) is deprecated. If you meant to do this, you must specify 'dtype=object' when creating the ndarray.\n"
     ]
    },
    {
     "data": {
      "text/plain": [
       "[<matplotlib.lines.Line2D at 0x2877309a0>]"
      ]
     },
     "execution_count": 40,
     "metadata": {},
     "output_type": "execute_result"
    },
    {
     "data": {
      "image/png": "[encoded data removed]",
      "text/plain": [
       "<Figure size 432x288 with 1 Axes>"
      ]
     },
     "metadata": {
      "needs_background": "light"
     },
     "output_type": "display_data"
    }
   ],
   "source": [
    "x_train, y_train = load_UCR_UEA_dataset('Adiac', split=\"train\", return_X_y=True, return_type='numpy2D')\n",
    "x_train = reshape_new_to_old_format(x_train)\n",
    "\n",
    "plt.plot(x_train[0])\n",
    "plt.plot(aug.permutation(x_train,)[0])"
   ]
  },
  {
   "cell_type": "code",
   "execution_count": 43,
   "metadata": {},
   "outputs": [
    {
     "name": "stdout",
     "output_type": "stream",
     "text": [
      "Adiac permutation(segment=2) ==> 0.7851662404092071\n",
      "Adiac permutation(segment=3) ==> 0.7570332480818415\n"
     ]
    },
    {
     "name": "stderr",
     "output_type": "stream",
     "text": [
      "/Users/Pongpanod.Sa/Desktop/cu/thesis/coding/pun_master_thesis/time_series_augmentation/utils/augmentation.py:33: VisibleDeprecationWarning: Creating an ndarray from ragged nested sequences (which is a list-or-tuple of lists-or-tuples-or ndarrays with different lengths or shapes) is deprecated. If you meant to do this, you must specify 'dtype=object' when creating the ndarray.\n",
      "  warp = np.concatenate(np.random.permutation(splits)).ravel()\n",
      "<__array_function__ internals>:180: VisibleDeprecationWarning: Creating an ndarray from ragged nested sequences (which is a list-or-tuple of lists-or-tuples-or ndarrays with different lengths or shapes) is deprecated. If you meant to do this, you must specify 'dtype=object' when creating the ndarray.\n"
     ]
    },
    {
     "name": "stdout",
     "output_type": "stream",
     "text": [
      "Adiac permutation(segment=4) ==> 0.7033248081841432\n"
     ]
    },
    {
     "name": "stderr",
     "output_type": "stream",
     "text": [
      "/Users/Pongpanod.Sa/Desktop/cu/thesis/coding/pun_master_thesis/time_series_augmentation/utils/augmentation.py:33: VisibleDeprecationWarning: Creating an ndarray from ragged nested sequences (which is a list-or-tuple of lists-or-tuples-or ndarrays with different lengths or shapes) is deprecated. If you meant to do this, you must specify 'dtype=object' when creating the ndarray.\n",
      "  warp = np.concatenate(np.random.permutation(splits)).ravel()\n",
      "<__array_function__ internals>:180: VisibleDeprecationWarning: Creating an ndarray from ragged nested sequences (which is a list-or-tuple of lists-or-tuples-or ndarrays with different lengths or shapes) is deprecated. If you meant to do this, you must specify 'dtype=object' when creating the ndarray.\n"
     ]
    },
    {
     "name": "stdout",
     "output_type": "stream",
     "text": [
      "Adiac permutation(segment=5) ==> 0.6521739130434783\n"
     ]
    },
    {
     "name": "stderr",
     "output_type": "stream",
     "text": [
      "/Users/Pongpanod.Sa/Desktop/cu/thesis/coding/pun_master_thesis/time_series_augmentation/utils/augmentation.py:33: VisibleDeprecationWarning: Creating an ndarray from ragged nested sequences (which is a list-or-tuple of lists-or-tuples-or ndarrays with different lengths or shapes) is deprecated. If you meant to do this, you must specify 'dtype=object' when creating the ndarray.\n",
      "  warp = np.concatenate(np.random.permutation(splits)).ravel()\n",
      "<__array_function__ internals>:180: VisibleDeprecationWarning: Creating an ndarray from ragged nested sequences (which is a list-or-tuple of lists-or-tuples-or ndarrays with different lengths or shapes) is deprecated. If you meant to do this, you must specify 'dtype=object' when creating the ndarray.\n"
     ]
    },
    {
     "name": "stdout",
     "output_type": "stream",
     "text": [
      "Adiac permutation(segment=6) ==> 0.5601023017902813\n"
     ]
    },
    {
     "name": "stderr",
     "output_type": "stream",
     "text": [
      "/Users/Pongpanod.Sa/Desktop/cu/thesis/coding/pun_master_thesis/time_series_augmentation/utils/augmentation.py:33: VisibleDeprecationWarning: Creating an ndarray from ragged nested sequences (which is a list-or-tuple of lists-or-tuples-or ndarrays with different lengths or shapes) is deprecated. If you meant to do this, you must specify 'dtype=object' when creating the ndarray.\n",
      "  warp = np.concatenate(np.random.permutation(splits)).ravel()\n",
      "<__array_function__ internals>:180: VisibleDeprecationWarning: Creating an ndarray from ragged nested sequences (which is a list-or-tuple of lists-or-tuples-or ndarrays with different lengths or shapes) is deprecated. If you meant to do this, you must specify 'dtype=object' when creating the ndarray.\n"
     ]
    },
    {
     "name": "stdout",
     "output_type": "stream",
     "text": [
      "Adiac permutation(segment=7) ==> 0.4117647058823529\n"
     ]
    },
    {
     "name": "stderr",
     "output_type": "stream",
     "text": [
      "/Users/Pongpanod.Sa/Desktop/cu/thesis/coding/pun_master_thesis/time_series_augmentation/utils/augmentation.py:33: VisibleDeprecationWarning: Creating an ndarray from ragged nested sequences (which is a list-or-tuple of lists-or-tuples-or ndarrays with different lengths or shapes) is deprecated. If you meant to do this, you must specify 'dtype=object' when creating the ndarray.\n",
      "  warp = np.concatenate(np.random.permutation(splits)).ravel()\n",
      "<__array_function__ internals>:180: VisibleDeprecationWarning: Creating an ndarray from ragged nested sequences (which is a list-or-tuple of lists-or-tuples-or ndarrays with different lengths or shapes) is deprecated. If you meant to do this, you must specify 'dtype=object' when creating the ndarray.\n"
     ]
    },
    {
     "name": "stdout",
     "output_type": "stream",
     "text": [
      "Adiac permutation(segment=8) ==> 0.4219948849104859\n"
     ]
    },
    {
     "name": "stderr",
     "output_type": "stream",
     "text": [
      "/Users/Pongpanod.Sa/Desktop/cu/thesis/coding/pun_master_thesis/time_series_augmentation/utils/augmentation.py:33: VisibleDeprecationWarning: Creating an ndarray from ragged nested sequences (which is a list-or-tuple of lists-or-tuples-or ndarrays with different lengths or shapes) is deprecated. If you meant to do this, you must specify 'dtype=object' when creating the ndarray.\n",
      "  warp = np.concatenate(np.random.permutation(splits)).ravel()\n",
      "<__array_function__ internals>:180: VisibleDeprecationWarning: Creating an ndarray from ragged nested sequences (which is a list-or-tuple of lists-or-tuples-or ndarrays with different lengths or shapes) is deprecated. If you meant to do this, you must specify 'dtype=object' when creating the ndarray.\n"
     ]
    },
    {
     "name": "stdout",
     "output_type": "stream",
     "text": [
      "Adiac permutation(segment=9) ==> 0.4219948849104859\n"
     ]
    },
    {
     "name": "stderr",
     "output_type": "stream",
     "text": [
      "/Users/Pongpanod.Sa/Desktop/cu/thesis/coding/pun_master_thesis/time_series_augmentation/utils/augmentation.py:33: VisibleDeprecationWarning: Creating an ndarray from ragged nested sequences (which is a list-or-tuple of lists-or-tuples-or ndarrays with different lengths or shapes) is deprecated. If you meant to do this, you must specify 'dtype=object' when creating the ndarray.\n",
      "  warp = np.concatenate(np.random.permutation(splits)).ravel()\n",
      "<__array_function__ internals>:180: VisibleDeprecationWarning: Creating an ndarray from ragged nested sequences (which is a list-or-tuple of lists-or-tuples-or ndarrays with different lengths or shapes) is deprecated. If you meant to do this, you must specify 'dtype=object' when creating the ndarray.\n"
     ]
    },
    {
     "name": "stdout",
     "output_type": "stream",
     "text": [
      "Adiac permutation(segment=10) ==> 0.3171355498721228\n"
     ]
    },
    {
     "name": "stderr",
     "output_type": "stream",
     "text": [
      "/Users/Pongpanod.Sa/Desktop/cu/thesis/coding/pun_master_thesis/time_series_augmentation/utils/augmentation.py:33: VisibleDeprecationWarning: Creating an ndarray from ragged nested sequences (which is a list-or-tuple of lists-or-tuples-or ndarrays with different lengths or shapes) is deprecated. If you meant to do this, you must specify 'dtype=object' when creating the ndarray.\n",
      "  warp = np.concatenate(np.random.permutation(splits)).ravel()\n",
      "<__array_function__ internals>:180: VisibleDeprecationWarning: Creating an ndarray from ragged nested sequences (which is a list-or-tuple of lists-or-tuples-or ndarrays with different lengths or shapes) is deprecated. If you meant to do this, you must specify 'dtype=object' when creating the ndarray.\n"
     ]
    },
    {
     "name": "stdout",
     "output_type": "stream",
     "text": [
      "Adiac permutation(segment=11) ==> 0.2659846547314578\n"
     ]
    },
    {
     "name": "stderr",
     "output_type": "stream",
     "text": [
      "/Users/Pongpanod.Sa/Desktop/cu/thesis/coding/pun_master_thesis/time_series_augmentation/utils/augmentation.py:33: VisibleDeprecationWarning: Creating an ndarray from ragged nested sequences (which is a list-or-tuple of lists-or-tuples-or ndarrays with different lengths or shapes) is deprecated. If you meant to do this, you must specify 'dtype=object' when creating the ndarray.\n",
      "  warp = np.concatenate(np.random.permutation(splits)).ravel()\n",
      "<__array_function__ internals>:180: VisibleDeprecationWarning: Creating an ndarray from ragged nested sequences (which is a list-or-tuple of lists-or-tuples-or ndarrays with different lengths or shapes) is deprecated. If you meant to do this, you must specify 'dtype=object' when creating the ndarray.\n"
     ]
    },
    {
     "name": "stdout",
     "output_type": "stream",
     "text": [
      "Adiac permutation(segment=12) ==> 0.2659846547314578\n"
     ]
    },
    {
     "name": "stderr",
     "output_type": "stream",
     "text": [
      "/Users/Pongpanod.Sa/Desktop/cu/thesis/coding/pun_master_thesis/time_series_augmentation/utils/augmentation.py:33: VisibleDeprecationWarning: Creating an ndarray from ragged nested sequences (which is a list-or-tuple of lists-or-tuples-or ndarrays with different lengths or shapes) is deprecated. If you meant to do this, you must specify 'dtype=object' when creating the ndarray.\n",
      "  warp = np.concatenate(np.random.permutation(splits)).ravel()\n",
      "<__array_function__ internals>:180: VisibleDeprecationWarning: Creating an ndarray from ragged nested sequences (which is a list-or-tuple of lists-or-tuples-or ndarrays with different lengths or shapes) is deprecated. If you meant to do this, you must specify 'dtype=object' when creating the ndarray.\n"
     ]
    },
    {
     "name": "stdout",
     "output_type": "stream",
     "text": [
      "Adiac permutation(segment=13) ==> 0.2506393861892583\n"
     ]
    },
    {
     "name": "stderr",
     "output_type": "stream",
     "text": [
      "/Users/Pongpanod.Sa/Desktop/cu/thesis/coding/pun_master_thesis/time_series_augmentation/utils/augmentation.py:33: VisibleDeprecationWarning: Creating an ndarray from ragged nested sequences (which is a list-or-tuple of lists-or-tuples-or ndarrays with different lengths or shapes) is deprecated. If you meant to do this, you must specify 'dtype=object' when creating the ndarray.\n",
      "  warp = np.concatenate(np.random.permutation(splits)).ravel()\n",
      "<__array_function__ internals>:180: VisibleDeprecationWarning: Creating an ndarray from ragged nested sequences (which is a list-or-tuple of lists-or-tuples-or ndarrays with different lengths or shapes) is deprecated. If you meant to do this, you must specify 'dtype=object' when creating the ndarray.\n"
     ]
    },
    {
     "name": "stdout",
     "output_type": "stream",
     "text": [
      "Adiac permutation(segment=14) ==> 0.27365728900255754\n"
     ]
    },
    {
     "name": "stderr",
     "output_type": "stream",
     "text": [
      "/Users/Pongpanod.Sa/Desktop/cu/thesis/coding/pun_master_thesis/time_series_augmentation/utils/augmentation.py:33: VisibleDeprecationWarning: Creating an ndarray from ragged nested sequences (which is a list-or-tuple of lists-or-tuples-or ndarrays with different lengths or shapes) is deprecated. If you meant to do this, you must specify 'dtype=object' when creating the ndarray.\n",
      "  warp = np.concatenate(np.random.permutation(splits)).ravel()\n",
      "<__array_function__ internals>:180: VisibleDeprecationWarning: Creating an ndarray from ragged nested sequences (which is a list-or-tuple of lists-or-tuples-or ndarrays with different lengths or shapes) is deprecated. If you meant to do this, you must specify 'dtype=object' when creating the ndarray.\n"
     ]
    },
    {
     "name": "stdout",
     "output_type": "stream",
     "text": [
      "Adiac permutation(segment=15) ==> 0.21227621483375958\n"
     ]
    },
    {
     "name": "stderr",
     "output_type": "stream",
     "text": [
      "/Users/Pongpanod.Sa/Desktop/cu/thesis/coding/pun_master_thesis/time_series_augmentation/utils/augmentation.py:33: VisibleDeprecationWarning: Creating an ndarray from ragged nested sequences (which is a list-or-tuple of lists-or-tuples-or ndarrays with different lengths or shapes) is deprecated. If you meant to do this, you must specify 'dtype=object' when creating the ndarray.\n",
      "  warp = np.concatenate(np.random.permutation(splits)).ravel()\n",
      "<__array_function__ internals>:180: VisibleDeprecationWarning: Creating an ndarray from ragged nested sequences (which is a list-or-tuple of lists-or-tuples-or ndarrays with different lengths or shapes) is deprecated. If you meant to do this, you must specify 'dtype=object' when creating the ndarray.\n"
     ]
    },
    {
     "name": "stdout",
     "output_type": "stream",
     "text": [
      "Adiac permutation(segment=16) ==> 0.20971867007672634\n"
     ]
    },
    {
     "name": "stderr",
     "output_type": "stream",
     "text": [
      "/Users/Pongpanod.Sa/Desktop/cu/thesis/coding/pun_master_thesis/time_series_augmentation/utils/augmentation.py:33: VisibleDeprecationWarning: Creating an ndarray from ragged nested sequences (which is a list-or-tuple of lists-or-tuples-or ndarrays with different lengths or shapes) is deprecated. If you meant to do this, you must specify 'dtype=object' when creating the ndarray.\n",
      "  warp = np.concatenate(np.random.permutation(splits)).ravel()\n",
      "<__array_function__ internals>:180: VisibleDeprecationWarning: Creating an ndarray from ragged nested sequences (which is a list-or-tuple of lists-or-tuples-or ndarrays with different lengths or shapes) is deprecated. If you meant to do this, you must specify 'dtype=object' when creating the ndarray.\n"
     ]
    },
    {
     "name": "stdout",
     "output_type": "stream",
     "text": [
      "Adiac permutation(segment=17) ==> 0.24552429667519182\n"
     ]
    },
    {
     "name": "stderr",
     "output_type": "stream",
     "text": [
      "/Users/Pongpanod.Sa/Desktop/cu/thesis/coding/pun_master_thesis/time_series_augmentation/utils/augmentation.py:33: VisibleDeprecationWarning: Creating an ndarray from ragged nested sequences (which is a list-or-tuple of lists-or-tuples-or ndarrays with different lengths or shapes) is deprecated. If you meant to do this, you must specify 'dtype=object' when creating the ndarray.\n",
      "  warp = np.concatenate(np.random.permutation(splits)).ravel()\n",
      "<__array_function__ internals>:180: VisibleDeprecationWarning: Creating an ndarray from ragged nested sequences (which is a list-or-tuple of lists-or-tuples-or ndarrays with different lengths or shapes) is deprecated. If you meant to do this, you must specify 'dtype=object' when creating the ndarray.\n"
     ]
    },
    {
     "name": "stdout",
     "output_type": "stream",
     "text": [
      "Adiac permutation(segment=18) ==> 0.17391304347826086\n"
     ]
    },
    {
     "name": "stderr",
     "output_type": "stream",
     "text": [
      "/Users/Pongpanod.Sa/Desktop/cu/thesis/coding/pun_master_thesis/time_series_augmentation/utils/augmentation.py:33: VisibleDeprecationWarning: Creating an ndarray from ragged nested sequences (which is a list-or-tuple of lists-or-tuples-or ndarrays with different lengths or shapes) is deprecated. If you meant to do this, you must specify 'dtype=object' when creating the ndarray.\n",
      "  warp = np.concatenate(np.random.permutation(splits)).ravel()\n",
      "<__array_function__ internals>:180: VisibleDeprecationWarning: Creating an ndarray from ragged nested sequences (which is a list-or-tuple of lists-or-tuples-or ndarrays with different lengths or shapes) is deprecated. If you meant to do this, you must specify 'dtype=object' when creating the ndarray.\n"
     ]
    },
    {
     "name": "stdout",
     "output_type": "stream",
     "text": [
      "Adiac permutation(segment=19) ==> 0.19948849104859334\n"
     ]
    }
   ],
   "source": [
    "x_train, y_train = load_UCR_UEA_dataset('Adiac', split=\"train\", return_X_y=True, return_type='numpy2D')\n",
    "x_test, y_test= load_UCR_UEA_dataset('Adiac', split=\"test\", return_X_y=True, return_type='numpy2D')\n",
    "\n",
    "for i in range(2, 20, 1):\n",
    "    segment = i\n",
    "    x_train = reshape_new_to_old_format(x_train)\n",
    "    x_train_jitter = aug.permutation(x_train, max_segments=segment)\n",
    "    x_train_jitter = reshape_old_to_new_format(x_train_jitter)\n",
    "\n",
    "    x_test = reshape_new_to_old_format(x_test)\n",
    "    x_test_jitter = aug.permutation(x_test, max_segments=segment)\n",
    "    x_test_jitter = reshape_old_to_new_format(x_test_jitter)\n",
    "\n",
    "    rocket = RocketClassifier()\n",
    "    rocket.fit(x_train_jitter, y_train)\n",
    "    y_pred = rocket.predict(x_test_jitter)\n",
    "    acc = accuracy_score(y_test, y_pred)\n",
    "    print(f'Adiac permutation(segment={segment})', '==>', acc)"
   ]
  },
  {
   "attachments": {},
   "cell_type": "markdown",
   "metadata": {},
   "source": [
    "#### Magnitude Warping"
   ]
  },
  {
   "cell_type": "code",
   "execution_count": 44,
   "metadata": {},
   "outputs": [
    {
     "data": {
      "text/plain": [
       "[<matplotlib.lines.Line2D at 0x16bd91000>]"
      ]
     },
     "execution_count": 44,
     "metadata": {},
     "output_type": "execute_result"
    },
    {
     "data": {
      "image/png": "[encoded data removed]",
      "text/plain": [
       "<Figure size 432x288 with 1 Axes>"
      ]
     },
     "metadata": {
      "needs_background": "light"
     },
     "output_type": "display_data"
    }
   ],
   "source": [
    "x_train, y_train = load_UCR_UEA_dataset('Adiac', split=\"train\", return_X_y=True, return_type='numpy2D')\n",
    "x_train = reshape_new_to_old_format(x_train)\n",
    "\n",
    "plt.plot(x_train[0])\n",
    "plt.plot(aug.magnitude_warp(x_train,)[0])"
   ]
  },
  {
   "cell_type": "code",
   "execution_count": 53,
   "metadata": {},
   "outputs": [
    {
     "name": "stdout",
     "output_type": "stream",
     "text": [
      "Adiac magnitude_warp(sigma=0.1, knot=1) ==> 0.7263427109974424\n",
      "Adiac magnitude_warp(sigma=0.1, knot=2) ==> 0.6547314578005116\n",
      "Adiac magnitude_warp(sigma=0.1, knot=3) ==> 0.6086956521739131\n",
      "Adiac magnitude_warp(sigma=0.1, knot=4) ==> 0.6214833759590793\n",
      "Adiac magnitude_warp(sigma=0.1, knot=5) ==> 0.5728900255754475\n",
      "Adiac magnitude_warp(sigma=0.2, knot=1) ==> 0.6035805626598465\n",
      "Adiac magnitude_warp(sigma=0.2, knot=2) ==> 0.5396419437340153\n",
      "Adiac magnitude_warp(sigma=0.2, knot=3) ==> 0.4936061381074169\n",
      "Adiac magnitude_warp(sigma=0.2, knot=4) ==> 0.4578005115089514\n",
      "Adiac magnitude_warp(sigma=0.2, knot=5) ==> 0.4117647058823529\n",
      "Adiac magnitude_warp(sigma=0.3, knot=1) ==> 0.5856777493606138\n",
      "Adiac magnitude_warp(sigma=0.3, knot=2) ==> 0.4961636828644501\n",
      "Adiac magnitude_warp(sigma=0.3, knot=3) ==> 0.3631713554987212\n",
      "Adiac magnitude_warp(sigma=0.3, knot=4) ==> 0.38107416879795397\n",
      "Adiac magnitude_warp(sigma=0.3, knot=5) ==> 0.32225063938618925\n",
      "Adiac magnitude_warp(sigma=0.4, knot=1) ==> 0.5268542199488491\n",
      "Adiac magnitude_warp(sigma=0.4, knot=2) ==> 0.3938618925831202\n",
      "Adiac magnitude_warp(sigma=0.4, knot=3) ==> 0.32225063938618925\n",
      "Adiac magnitude_warp(sigma=0.4, knot=4) ==> 0.2813299232736573\n",
      "Adiac magnitude_warp(sigma=0.4, knot=5) ==> 0.26854219948849106\n",
      "Adiac magnitude_warp(sigma=0.5, knot=1) ==> 0.4424552429667519\n",
      "Adiac magnitude_warp(sigma=0.5, knot=2) ==> 0.3554987212276215\n",
      "Adiac magnitude_warp(sigma=0.5, knot=3) ==> 0.27365728900255754\n",
      "Adiac magnitude_warp(sigma=0.5, knot=4) ==> 0.24552429667519182\n",
      "Adiac magnitude_warp(sigma=0.5, knot=5) ==> 0.23529411764705882\n",
      "Adiac magnitude_warp(sigma=0.6, knot=1) ==> 0.36828644501278773\n",
      "Adiac magnitude_warp(sigma=0.6, knot=2) ==> 0.2966751918158568\n",
      "Adiac magnitude_warp(sigma=0.6, knot=3) ==> 0.25831202046035806\n",
      "Adiac magnitude_warp(sigma=0.6, knot=4) ==> 0.24040920716112532\n",
      "Adiac magnitude_warp(sigma=0.6, knot=5) ==> 0.1918158567774936\n",
      "Adiac magnitude_warp(sigma=0.7, knot=1) ==> 0.3554987212276215\n",
      "Adiac magnitude_warp(sigma=0.7, knot=2) ==> 0.27365728900255754\n",
      "Adiac magnitude_warp(sigma=0.7, knot=3) ==> 0.2020460358056266\n",
      "Adiac magnitude_warp(sigma=0.7, knot=4) ==> 0.21994884910485935\n",
      "Adiac magnitude_warp(sigma=0.7, knot=5) ==> 0.18925831202046037\n",
      "Adiac magnitude_warp(sigma=0.8, knot=1) ==> 0.3375959079283887\n",
      "Adiac magnitude_warp(sigma=0.8, knot=2) ==> 0.2506393861892583\n",
      "Adiac magnitude_warp(sigma=0.8, knot=3) ==> 0.18414322250639387\n",
      "Adiac magnitude_warp(sigma=0.8, knot=4) ==> 0.1815856777493606\n",
      "Adiac magnitude_warp(sigma=0.8, knot=5) ==> 0.1483375959079284\n",
      "Adiac magnitude_warp(sigma=0.9, knot=1) ==> 0.29923273657289\n",
      "Adiac magnitude_warp(sigma=0.9, knot=2) ==> 0.27877237851662406\n",
      "Adiac magnitude_warp(sigma=0.9, knot=3) ==> 0.17391304347826086\n",
      "Adiac magnitude_warp(sigma=0.9, knot=4) ==> 0.1918158567774936\n",
      "Adiac magnitude_warp(sigma=0.9, knot=5) ==> 0.1585677749360614\n",
      "Adiac magnitude_warp(sigma=1.0, knot=1) ==> 0.2813299232736573\n",
      "Adiac magnitude_warp(sigma=1.0, knot=2) ==> 0.21739130434782608\n",
      "Adiac magnitude_warp(sigma=1.0, knot=3) ==> 0.17391304347826086\n",
      "Adiac magnitude_warp(sigma=1.0, knot=4) ==> 0.13554987212276215\n",
      "Adiac magnitude_warp(sigma=1.0, knot=5) ==> 0.13043478260869565\n"
     ]
    }
   ],
   "source": [
    "x_train, y_train = load_UCR_UEA_dataset('Adiac', split=\"train\", return_X_y=True, return_type='numpy2D')\n",
    "x_test, y_test= load_UCR_UEA_dataset('Adiac', split=\"test\", return_X_y=True, return_type='numpy2D')\n",
    "\n",
    "for sigma in range(1, 11, 1):\n",
    "    sigma=sigma/10\n",
    "    for knot in range(1, 6, 1):\n",
    "        x_train = reshape_new_to_old_format(x_train)\n",
    "        x_train_jitter = aug.magnitude_warp(x_train, sigma=sigma, knot=knot)\n",
    "        x_train_jitter = reshape_old_to_new_format(x_train_jitter)\n",
    "\n",
    "        x_test = reshape_new_to_old_format(x_test)\n",
    "        x_test_jitter = aug.magnitude_warp(x_test, sigma=sigma, knot=knot)\n",
    "        x_test_jitter = reshape_old_to_new_format(x_test_jitter)\n",
    "\n",
    "        rocket = RocketClassifier()\n",
    "        rocket.fit(x_train_jitter, y_train)\n",
    "        y_pred = rocket.predict(x_test_jitter)\n",
    "        acc = accuracy_score(y_test, y_pred)\n",
    "        print(f'Adiac magnitude_warp(sigma={sigma}, knot={knot})', '==>', acc)\n"
   ]
  },
  {
   "cell_type": "code",
   "execution_count": 54,
   "metadata": {},
   "outputs": [
    {
     "name": "stdout",
     "output_type": "stream",
     "text": [
      "Adiac magnitude_warp(sigma=0.1, knot=6) ==> 0.5473145780051151\n",
      "Adiac magnitude_warp(sigma=0.1, knot=7) ==> 0.5370843989769821\n",
      "Adiac magnitude_warp(sigma=0.1, knot=8) ==> 0.5294117647058824\n",
      "Adiac magnitude_warp(sigma=0.1, knot=9) ==> 0.46035805626598464\n",
      "Adiac magnitude_warp(sigma=0.1, knot=10) ==> 0.48081841432225064\n",
      "Adiac magnitude_warp(sigma=0.2, knot=6) ==> 0.4219948849104859\n",
      "Adiac magnitude_warp(sigma=0.2, knot=7) ==> 0.36061381074168797\n",
      "Adiac magnitude_warp(sigma=0.2, knot=8) ==> 0.36061381074168797\n",
      "Adiac magnitude_warp(sigma=0.2, knot=9) ==> 0.34782608695652173\n",
      "Adiac magnitude_warp(sigma=0.2, knot=10) ==> 0.3350383631713555\n",
      "Adiac magnitude_warp(sigma=0.3, knot=6) ==> 0.31202046035805625\n",
      "Adiac magnitude_warp(sigma=0.3, knot=7) ==> 0.3145780051150895\n",
      "Adiac magnitude_warp(sigma=0.3, knot=8) ==> 0.2813299232736573\n",
      "Adiac magnitude_warp(sigma=0.3, knot=9) ==> 0.21739130434782608\n",
      "Adiac magnitude_warp(sigma=0.3, knot=10) ==> 0.22250639386189258\n",
      "Adiac magnitude_warp(sigma=0.4, knot=6) ==> 0.2659846547314578\n",
      "Adiac magnitude_warp(sigma=0.4, knot=7) ==> 0.24808184143222506\n",
      "Adiac magnitude_warp(sigma=0.4, knot=8) ==> 0.23529411764705882\n",
      "Adiac magnitude_warp(sigma=0.4, knot=9) ==> 0.23017902813299232\n",
      "Adiac magnitude_warp(sigma=0.4, knot=10) ==> 0.16112531969309463\n",
      "Adiac magnitude_warp(sigma=0.5, knot=6) ==> 0.21994884910485935\n",
      "Adiac magnitude_warp(sigma=0.5, knot=7) ==> 0.23017902813299232\n",
      "Adiac magnitude_warp(sigma=0.5, knot=8) ==> 0.15601023017902813\n",
      "Adiac magnitude_warp(sigma=0.5, knot=9) ==> 0.16879795396419436\n",
      "Adiac magnitude_warp(sigma=0.5, knot=10) ==> 0.16879795396419436\n",
      "Adiac magnitude_warp(sigma=0.6, knot=6) ==> 0.19437340153452684\n",
      "Adiac magnitude_warp(sigma=0.6, knot=7) ==> 0.1534526854219949\n",
      "Adiac magnitude_warp(sigma=0.6, knot=8) ==> 0.17391304347826086\n",
      "Adiac magnitude_warp(sigma=0.6, knot=9) ==> 0.14066496163682865\n",
      "Adiac magnitude_warp(sigma=0.6, knot=10) ==> 0.12276214833759591\n",
      "Adiac magnitude_warp(sigma=0.7, knot=6) ==> 0.16624040920716113\n",
      "Adiac magnitude_warp(sigma=0.7, knot=7) ==> 0.15601023017902813\n",
      "Adiac magnitude_warp(sigma=0.7, knot=8) ==> 0.1329923273657289\n",
      "Adiac magnitude_warp(sigma=0.7, knot=9) ==> 0.15601023017902813\n",
      "Adiac magnitude_warp(sigma=0.7, knot=10) ==> 0.12276214833759591\n",
      "Adiac magnitude_warp(sigma=0.8, knot=6) ==> 0.14578005115089515\n",
      "Adiac magnitude_warp(sigma=0.8, knot=7) ==> 0.12276214833759591\n",
      "Adiac magnitude_warp(sigma=0.8, knot=8) ==> 0.11253196930946291\n",
      "Adiac magnitude_warp(sigma=0.8, knot=9) ==> 0.12020460358056266\n",
      "Adiac magnitude_warp(sigma=0.8, knot=10) ==> 0.10230179028132992\n",
      "Adiac magnitude_warp(sigma=0.9, knot=6) ==> 0.13810741687979539\n",
      "Adiac magnitude_warp(sigma=0.9, knot=7) ==> 0.12276214833759591\n",
      "Adiac magnitude_warp(sigma=0.9, knot=8) ==> 0.12020460358056266\n",
      "Adiac magnitude_warp(sigma=0.9, knot=9) ==> 0.11253196930946291\n",
      "Adiac magnitude_warp(sigma=0.9, knot=10) ==> 0.09718670076726342\n",
      "Adiac magnitude_warp(sigma=1.0, knot=6) ==> 0.1534526854219949\n",
      "Adiac magnitude_warp(sigma=1.0, knot=7) ==> 0.11508951406649616\n",
      "Adiac magnitude_warp(sigma=1.0, knot=8) ==> 0.09974424552429667\n",
      "Adiac magnitude_warp(sigma=1.0, knot=9) ==> 0.10997442455242967\n",
      "Adiac magnitude_warp(sigma=1.0, knot=10) ==> 0.10230179028132992\n"
     ]
    }
   ],
   "source": [
    "x_train, y_train = load_UCR_UEA_dataset('Adiac', split=\"train\", return_X_y=True, return_type='numpy2D')\n",
    "x_test, y_test= load_UCR_UEA_dataset('Adiac', split=\"test\", return_X_y=True, return_type='numpy2D')\n",
    "\n",
    "for sigma in range(1, 11, 1):\n",
    "    sigma=sigma/10\n",
    "    for knot in range(6, 11, 1):\n",
    "        x_train = reshape_new_to_old_format(x_train)\n",
    "        x_train_jitter = aug.magnitude_warp(x_train, sigma=sigma, knot=knot)\n",
    "        x_train_jitter = reshape_old_to_new_format(x_train_jitter)\n",
    "\n",
    "        x_test = reshape_new_to_old_format(x_test)\n",
    "        x_test_jitter = aug.magnitude_warp(x_test, sigma=sigma, knot=knot)\n",
    "        x_test_jitter = reshape_old_to_new_format(x_test_jitter)\n",
    "\n",
    "        rocket = RocketClassifier()\n",
    "        rocket.fit(x_train_jitter, y_train)\n",
    "        y_pred = rocket.predict(x_test_jitter)\n",
    "        acc = accuracy_score(y_test, y_pred)\n",
    "        print(f'Adiac magnitude_warp(sigma={sigma}, knot={knot})', '==>', acc)"
   ]
  },
  {
   "cell_type": "code",
   "execution_count": null,
   "metadata": {},
   "outputs": [],
   "source": []
  }
 ],
 "metadata": {
  "kernelspec": {
   "display_name": "thesis3.10",
   "language": "python",
   "name": "python3"
  },
  "language_info": {
   "codemirror_mode": {
    "name": "ipython",
    "version": 3
   },
   "file_extension": ".py",
   "mimetype": "text/x-python",
   "name": "python",
   "nbconvert_exporter": "python",
   "pygments_lexer": "ipython3",
   "version": "3.10.4"
  },
  "orig_nbformat": 4,
  "vscode": {
   "interpreter": {
    "hash": "ffd4f62c38baa1ece4ec6c2534f3f788090e745d10d9094b86edc39a20217e26"
   }
  }
 },
 "nbformat": 4,
 "nbformat_minor": 2
}
