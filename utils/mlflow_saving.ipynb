{
 "cells": [
  {
   "cell_type": "code",
   "execution_count": 6,
   "metadata": {},
   "outputs": [
    {
     "name": "stdout",
     "output_type": "stream",
     "text": [
      "Active run_id: df67e99282c74981b745f4745fe3de92\n"
     ]
    }
   ],
   "source": [
    "mlflow_save_result(\n",
    "    {'accuracy': 1}, \n",
    "    {'model': 'model'},\n",
    "    {'dataset': \"self.dataset['name']\"},\n",
    "    {'augmentation': 'model'},\n",
    "    )"
   ]
  },
  {
   "cell_type": "code",
   "execution_count": 3,
   "metadata": {},
   "outputs": [],
   "source": [
    "import mlflow\n",
    "import shortuuid\n",
    "import traceback\n",
    "\n",
    "from datetime import datetime\n",
    "\n",
    "def mlflow_save_result(\n",
    "    metrics: dict[any, str],\n",
    "    model_param: dict[any, str],\n",
    "    data_param: dict[any, str],\n",
    "    aug_param: dict[any, str],\n",
    "    jsons: list[dict]=list(),\n",
    "):\n",
    "\n",
    "    run_name = datetime.now().strftime(\"%d/%m/%Y_%H:%M:%S\") + \"_\" + shortuuid.uuid()\n",
    "    mlflow.start_run(run_name=run_name)\n",
    "    run = mlflow.active_run()\n",
    "\n",
    "    print(\"Active run_id: {}\".format(run.info.run_id))\n",
    "    try:\n",
    "        mlflow.log_metrics(metrics)\n",
    "        mlflow.log_params(model_param)\n",
    "        mlflow.log_params(data_param)\n",
    "        mlflow.log_params(aug_param)\n",
    "        for i in range(0, len(jsons)):\n",
    "            mlflow.log_dict(i[\"data\"], i[\"file_name\"])\n",
    "        mlflow.end_run()\n",
    "    except Exception as e:\n",
    "        mlflow.end_run()\n",
    "        print(e)\n",
    "        traceback.print_exc()"
   ]
  },
  {
   "cell_type": "code",
   "execution_count": null,
   "metadata": {},
   "outputs": [],
   "source": []
  }
 ],
 "metadata": {
  "kernelspec": {
   "display_name": "thesis3.10",
   "language": "python",
   "name": "python3"
  },
  "language_info": {
   "codemirror_mode": {
    "name": "ipython",
    "version": 3
   },
   "file_extension": ".py",
   "mimetype": "text/x-python",
   "name": "python",
   "nbconvert_exporter": "python",
   "pygments_lexer": "ipython3",
   "version": "3.10.4 | packaged by conda-forge | (main, Mar 24 2022, 17:42:03) [Clang 12.0.1 ]"
  },
  "orig_nbformat": 4,
  "vscode": {
   "interpreter": {
    "hash": "ffd4f62c38baa1ece4ec6c2534f3f788090e745d10d9094b86edc39a20217e26"
   }
  }
 },
 "nbformat": 4,
 "nbformat_minor": 2
}
